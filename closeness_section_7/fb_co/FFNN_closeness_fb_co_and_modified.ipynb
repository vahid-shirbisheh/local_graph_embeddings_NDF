{
 "cells": [
  {
   "cell_type": "markdown",
   "id": "9d2fa88e",
   "metadata": {},
   "source": [
    "# Learning closeness centrality using deep learning model and features extracted via the RCDF matrix rep. of nodes\n",
    "\n",
    "This notebook is completes the discussion in Example 7.3 in the article."
   ]
  },
  {
   "cell_type": "code",
   "execution_count": 1,
   "id": "0f52305e",
   "metadata": {},
   "outputs": [],
   "source": [
    "from mygraph import MyGraph\n",
    "from helpers import *\n",
    "import time\n",
    "import torch\n",
    "import torch.nn as nn\n",
    "import torch.optim as optim\n",
    "import torch.nn.functional as F"
   ]
  },
  {
   "cell_type": "markdown",
   "id": "11899144",
   "metadata": {},
   "source": [
    "## Loading the dataset from numpy files"
   ]
  },
  {
   "cell_type": "code",
   "execution_count": 2,
   "id": "40115369",
   "metadata": {},
   "outputs": [
    {
     "data": {
      "text/plain": [
       "array([0.20703618])"
      ]
     },
     "execution_count": 2,
     "metadata": {},
     "output_type": "execute_result"
    }
   ],
   "source": [
    "# closeness centrality as the target or label data\n",
    "target_closeness = np.load(\"fb_co_pages_closeness.npy\", mmap_mode=None, allow_pickle=False, fix_imports=True, encoding='ASCII')\n",
    "target_closeness[0]"
   ]
  },
  {
   "cell_type": "code",
   "execution_count": 3,
   "id": "5e44f57a",
   "metadata": {},
   "outputs": [],
   "source": [
    "# the RCDF matrix as the feature set\n",
    "\"\"\"\n",
    "ratio = 1.5\n",
    "starting_length = 1\n",
    "maximum_length = 35\n",
    "radius (order) = 4\n",
    "\"\"\"\n",
    "matrix = np.load(\"fb_co_pages_RDFC_matrix_r1-5_sta1_max35_rad4.npy\", mmap_mode=None, allow_pickle=False, fix_imports=True, encoding='ASCII')"
   ]
  },
  {
   "cell_type": "code",
   "execution_count": 4,
   "id": "8797e768",
   "metadata": {},
   "outputs": [
    {
     "data": {
      "text/plain": [
       "((14113, 1), (14113, 4, 14))"
      ]
     },
     "execution_count": 4,
     "metadata": {},
     "output_type": "execute_result"
    }
   ],
   "source": [
    "target_closeness.shape, matrix.shape"
   ]
  },
  {
   "cell_type": "code",
   "execution_count": 5,
   "id": "31a63416",
   "metadata": {},
   "outputs": [
    {
     "data": {
      "text/plain": [
       "array([[  0.,   0.,   0.,   1.,   1.,   1.,   1.,   0.,   0.,   0.,   0.,\n",
       "          0.,   0.,   0.],\n",
       "       [  2.,   0.,   5.,   8.,   8.,  10.,   8.,   3.,   8.,   1.,   0.,\n",
       "          0.,   0.,   0.],\n",
       "       [ 16.,  19.,  67.,  93., 136., 121.,  80.,  35.,  19.,   6.,   1.,\n",
       "          1.,   1.,   0.],\n",
       "       [141., 212., 416., 582., 605., 434., 263., 135.,  55.,  21.,   5.,\n",
       "          4.,   4.,   1.]])"
      ]
     },
     "execution_count": 5,
     "metadata": {},
     "output_type": "execute_result"
    }
   ],
   "source": [
    "matrix[11]"
   ]
  },
  {
   "cell_type": "markdown",
   "id": "98da472d",
   "metadata": {},
   "source": [
    "# The p-aggregation of the RCDF matrix\n",
    "\n",
    "To apply this aggregation we just need to multiply the following row matrix from left to the RCDF matrix:\n",
    "### $$\n",
    "\\left[ 1, p, p^2, \\cdots, p^{(r -1 )} \\right],\n",
    "$$\n",
    "where $r$ is the order of the RCDF matrix representation (the number of rows)."
   ]
  },
  {
   "cell_type": "code",
   "execution_count": 6,
   "id": "7180c06a",
   "metadata": {},
   "outputs": [
    {
     "data": {
      "text/plain": [
       "array([1.   , 0.3  , 0.09 , 0.027])"
      ]
     },
     "execution_count": 6,
     "metadata": {},
     "output_type": "execute_result"
    }
   ],
   "source": [
    "p = 0.3\n",
    "order = matrix.shape[1]\n",
    "parameter_vector = np.zeros(order)\n",
    "for i in range(order):\n",
    "    parameter_vector[i] += p**i\n",
    "parameter_vector"
   ]
  },
  {
   "cell_type": "code",
   "execution_count": 7,
   "id": "a81fd4cb",
   "metadata": {},
   "outputs": [
    {
     "data": {
      "text/plain": [
       "(14113, 14)"
      ]
     },
     "execution_count": 7,
     "metadata": {},
     "output_type": "execute_result"
    }
   ],
   "source": [
    "feature_vectors = np.matmul(parameter_vector, matrix)\n",
    "feature_vectors.shape"
   ]
  },
  {
   "cell_type": "markdown",
   "id": "4fbf33bb",
   "metadata": {},
   "source": [
    "# Converting the dataset into pytorch tensors"
   ]
  },
  {
   "cell_type": "code",
   "execution_count": 8,
   "id": "b112c2d3",
   "metadata": {},
   "outputs": [
    {
     "data": {
      "text/plain": [
       "(torch.Size([14113, 14]), torch.Size([14113, 1]))"
      ]
     },
     "execution_count": 8,
     "metadata": {},
     "output_type": "execute_result"
    }
   ],
   "source": [
    "features = torch.from_numpy(feature_vectors)\n",
    "targets = torch.from_numpy(target_closeness)\n",
    "features.shape, targets.shape"
   ]
  },
  {
   "cell_type": "code",
   "execution_count": 9,
   "id": "8f45f034",
   "metadata": {},
   "outputs": [
    {
     "data": {
      "text/plain": [
       "tensor([[0.2070],\n",
       "        [0.2044],\n",
       "        [0.2153],\n",
       "        ...,\n",
       "        [0.1421],\n",
       "        [0.1829],\n",
       "        [0.1871]], dtype=torch.float64, requires_grad=True)"
      ]
     },
     "execution_count": 9,
     "metadata": {},
     "output_type": "execute_result"
    }
   ],
   "source": [
    "# Activating the automatic gradient \n",
    "features.requires_grad_(True)\n",
    "targets.requires_grad_(True)"
   ]
  },
  {
   "cell_type": "markdown",
   "id": "5bab54f2",
   "metadata": {},
   "source": [
    "# Dividing dataset into train and test data"
   ]
  },
  {
   "cell_type": "code",
   "execution_count": 10,
   "id": "b68b3e42",
   "metadata": {},
   "outputs": [
    {
     "data": {
      "text/plain": [
       "(torch.Size([10000, 14]),\n",
       " torch.Size([4113, 14]),\n",
       " torch.Size([10000, 1]),\n",
       " torch.Size([4113, 1]))"
      ]
     },
     "execution_count": 10,
     "metadata": {},
     "output_type": "execute_result"
    }
   ],
   "source": [
    "# Shuffling and dividing the indecies\n",
    "n_samples = features.shape[0]\n",
    "# n_test = int(0.4331 * n_samples)\n",
    "n_test = 4113\n",
    "shuffled_ind = torch.randperm(n_samples)\n",
    "train_ind = shuffled_ind[:-n_test]\n",
    "test_ind = shuffled_ind[-n_test:]\n",
    "# Dividing features and targets into tain and test sets\n",
    "train_features = features[train_ind]\n",
    "test_features = features[test_ind]\n",
    "train_targets = targets[train_ind]\n",
    "test_targets = targets[test_ind]\n",
    "train_features.shape, test_features.shape, train_targets.shape, test_targets.shape"
   ]
  },
  {
   "cell_type": "markdown",
   "id": "643b1796",
   "metadata": {},
   "source": [
    "## A function for dividing train data into batches"
   ]
  },
  {
   "cell_type": "code",
   "execution_count": 11,
   "id": "628bf1ec",
   "metadata": {},
   "outputs": [],
   "source": [
    "# dividing train_features and train_targets into batches\n",
    "def next_batch(train_features, train_targets, batch_size=100):\n",
    "    num_features = train_features.shape[0]\n",
    "    # Shuffling\n",
    "    shuffled_ind = torch.randperm(num_features)\n",
    "    shuffled_train_features = train_features[shuffled_ind]\n",
    "    shuffled_train_targets = train_targets[shuffled_ind]\n",
    "    # Dividing\n",
    "    i = 0\n",
    "    while i < num_features:\n",
    "        i += batch_size\n",
    "        yield (shuffled_train_features[i-batch_size:i], shuffled_train_targets[i-batch_size:i])\n",
    "    return"
   ]
  },
  {
   "cell_type": "markdown",
   "id": "82c88603",
   "metadata": {},
   "source": [
    "## The feedforward neural network model"
   ]
  },
  {
   "cell_type": "code",
   "execution_count": 12,
   "id": "af923c28",
   "metadata": {},
   "outputs": [],
   "source": [
    "# The Feedforward Neural Network \n",
    "class FFNN_model(nn.Module):\n",
    "    def __init__(self):\n",
    "        super().__init__()\n",
    "        num_features = features.shape[1]\n",
    "        self.fc1 = nn.Linear(num_features, 64)\n",
    "        self.fc2 = nn.Linear(64, 8)\n",
    "        self.fc3 = nn.Linear(8, 1)\n",
    "        self.dropout1 = nn.Dropout(0.3)\n",
    "        \n",
    "    def forward(self, X):\n",
    "        X = torch.tanh(self.fc1(X))\n",
    "        X = self.dropout1(X)\n",
    "        X = torch.relu(self.fc2(X))\n",
    "        return self.fc3(X)"
   ]
  },
  {
   "cell_type": "code",
   "execution_count": 13,
   "id": "3199f544",
   "metadata": {},
   "outputs": [
    {
     "data": {
      "text/plain": [
       "FFNN_model(\n",
       "  (fc1): Linear(in_features=14, out_features=64, bias=True)\n",
       "  (fc2): Linear(in_features=64, out_features=8, bias=True)\n",
       "  (fc3): Linear(in_features=8, out_features=1, bias=True)\n",
       "  (dropout1): Dropout(p=0.3, inplace=False)\n",
       ")"
      ]
     },
     "execution_count": 13,
     "metadata": {},
     "output_type": "execute_result"
    }
   ],
   "source": [
    "# Instantiation of the model\n",
    "torch.manual_seed(42)\n",
    "model = FFNN_model()\n",
    "model"
   ]
  },
  {
   "cell_type": "code",
   "execution_count": 14,
   "id": "3ac6a0a2",
   "metadata": {},
   "outputs": [
    {
     "name": "stdout",
     "output_type": "stream",
     "text": [
      "896\n",
      "64\n",
      "512\n",
      "8\n",
      "8\n",
      "1\n",
      "Number of all parameters: 1489\n"
     ]
    }
   ],
   "source": [
    "num_para = 0\n",
    "for param in model.parameters():\n",
    "    print(param.numel())\n",
    "    num_para += param.numel()\n",
    "print(f'Number of all parameters: {num_para}')"
   ]
  },
  {
   "cell_type": "code",
   "execution_count": 15,
   "id": "20769e13",
   "metadata": {},
   "outputs": [],
   "source": [
    "# Objective function and optimizer\n",
    "criterion = nn.MSELoss()\n",
    "optimizer = optim.Adam(model.parameters(), lr=1e-3)\n",
    "# optimizer = optim.SGD(model.parameters(), lr=0.01, momentum=0.9)"
   ]
  },
  {
   "cell_type": "markdown",
   "id": "49aaa75b",
   "metadata": {},
   "source": [
    "## Defining the training loop"
   ]
  },
  {
   "cell_type": "code",
   "execution_count": 16,
   "id": "827b7d4c",
   "metadata": {},
   "outputs": [],
   "source": [
    "def training_loop(n_epochs=1000,\n",
    "                  batch_size=100,\n",
    "                  optimizer=optimizer, \n",
    "                  model=model, \n",
    "                  loss_fn=criterion, \n",
    "                  train_features=train_features, \n",
    "                  test_features=test_features, \n",
    "                  train_targets=train_targets, \n",
    "                  test_targets=test_targets):\n",
    "    num_features = train_features.shape[0]\n",
    "    start_time = time.time()\n",
    "    all_train_loss, all_test_loss = np.zeros(n_epochs), np.zeros(n_epochs)\n",
    "    for epoch in range(1, n_epochs +1):\n",
    "        # Training: \n",
    "        epoch_losses = []\n",
    "        # looping through batches\n",
    "        for train_features, train_targets in next_batch(train_features=train_features, \n",
    "                                                        train_targets=train_targets, batch_size=batch_size): \n",
    "            train_preds = model(train_features.float())\n",
    "            train_loss = loss_fn(train_targets.float(), train_preds.float())\n",
    "            optimizer.zero_grad()\n",
    "            train_loss.backward(retain_graph=True)\n",
    "            optimizer.step()\n",
    "            \n",
    "            epoch_losses.append(train_loss.item())\n",
    "        average_epoch_loss = sum(epoch_losses)/len(epoch_losses)\n",
    "        \n",
    "        # Test:\n",
    "        with torch.no_grad():\n",
    "            test_preds = model(test_features.float())\n",
    "            test_loss = loss_fn(test_targets.float(), test_preds.float())\n",
    "        \n",
    "        all_train_loss[epoch - 1] = average_epoch_loss\n",
    "        all_test_loss[epoch - 1] = test_loss.item()\n",
    "        # Printing the result: \n",
    "        if epoch == 1 or epoch % 100 == 0:\n",
    "            print(f\"EPOCH: {epoch:{7}}\")\n",
    "            print(f\"MEAN TRAIN LOSS:   {average_epoch_loss:.11f},    TEST LOSS:   {test_loss.item():.11f}\")\n",
    "            print(\"-----------------------------------------\")\n",
    "    print(\"The total time = \", np.round(time.time() - start_time, 3), \" seconds!\")\n",
    "    return all_train_loss, all_test_loss"
   ]
  },
  {
   "cell_type": "markdown",
   "id": "1b091380",
   "metadata": {},
   "source": [
    "# Training the model"
   ]
  },
  {
   "cell_type": "code",
   "execution_count": 17,
   "id": "2e755479",
   "metadata": {
    "scrolled": false
   },
   "outputs": [
    {
     "name": "stdout",
     "output_type": "stream",
     "text": [
      "EPOCH:       1\n",
      "MEAN TRAIN LOSS:   0.03411948673,    TEST LOSS:   0.01795048639\n",
      "-----------------------------------------\n",
      "EPOCH:     100\n",
      "MEAN TRAIN LOSS:   0.00431470387,    TEST LOSS:   0.00393803185\n",
      "-----------------------------------------\n",
      "EPOCH:     200\n",
      "MEAN TRAIN LOSS:   0.00211415370,    TEST LOSS:   0.00224594935\n",
      "-----------------------------------------\n",
      "EPOCH:     300\n",
      "MEAN TRAIN LOSS:   0.00098659063,    TEST LOSS:   0.00109597086\n",
      "-----------------------------------------\n",
      "EPOCH:     400\n",
      "MEAN TRAIN LOSS:   0.00050469639,    TEST LOSS:   0.00058703177\n",
      "-----------------------------------------\n",
      "EPOCH:     500\n",
      "MEAN TRAIN LOSS:   0.00042445681,    TEST LOSS:   0.00040228470\n",
      "-----------------------------------------\n",
      "EPOCH:     600\n",
      "MEAN TRAIN LOSS:   0.00034332447,    TEST LOSS:   0.00032935367\n",
      "-----------------------------------------\n",
      "EPOCH:     700\n",
      "MEAN TRAIN LOSS:   0.00024077919,    TEST LOSS:   0.00023643581\n",
      "-----------------------------------------\n",
      "EPOCH:     800\n",
      "MEAN TRAIN LOSS:   0.00020925149,    TEST LOSS:   0.00019883596\n",
      "-----------------------------------------\n",
      "EPOCH:     900\n",
      "MEAN TRAIN LOSS:   0.00018446367,    TEST LOSS:   0.00015847207\n",
      "-----------------------------------------\n",
      "EPOCH:    1000\n",
      "MEAN TRAIN LOSS:   0.00013886443,    TEST LOSS:   0.00014218928\n",
      "-----------------------------------------\n",
      "EPOCH:    1100\n",
      "MEAN TRAIN LOSS:   0.00012137823,    TEST LOSS:   0.00011704920\n",
      "-----------------------------------------\n",
      "EPOCH:    1200\n",
      "MEAN TRAIN LOSS:   0.00009190418,    TEST LOSS:   0.00010527857\n",
      "-----------------------------------------\n",
      "EPOCH:    1300\n",
      "MEAN TRAIN LOSS:   0.00010785467,    TEST LOSS:   0.00010922207\n",
      "-----------------------------------------\n",
      "EPOCH:    1400\n",
      "MEAN TRAIN LOSS:   0.00009444189,    TEST LOSS:   0.00009827590\n",
      "-----------------------------------------\n",
      "EPOCH:    1500\n",
      "MEAN TRAIN LOSS:   0.00009835592,    TEST LOSS:   0.00009592209\n",
      "-----------------------------------------\n",
      "EPOCH:    1600\n",
      "MEAN TRAIN LOSS:   0.00008914118,    TEST LOSS:   0.00009054501\n",
      "-----------------------------------------\n",
      "EPOCH:    1700\n",
      "MEAN TRAIN LOSS:   0.00007872287,    TEST LOSS:   0.00008179794\n",
      "-----------------------------------------\n",
      "EPOCH:    1800\n",
      "MEAN TRAIN LOSS:   0.00006780371,    TEST LOSS:   0.00008166379\n",
      "-----------------------------------------\n",
      "EPOCH:    1900\n",
      "MEAN TRAIN LOSS:   0.00006606308,    TEST LOSS:   0.00008729273\n",
      "-----------------------------------------\n",
      "EPOCH:    2000\n",
      "MEAN TRAIN LOSS:   0.00006739287,    TEST LOSS:   0.00008532760\n",
      "-----------------------------------------\n",
      "The total time =  123.943  seconds!\n"
     ]
    }
   ],
   "source": [
    "losses = training_loop(n_epochs=2000,\n",
    "                  batch_size=400,\n",
    "                  optimizer=optimizer, \n",
    "                  model=model, \n",
    "                  loss_fn=criterion, \n",
    "                  train_features=train_features, \n",
    "                  test_features=test_features, \n",
    "                  train_targets=train_targets, \n",
    "                  test_targets=test_targets)"
   ]
  },
  {
   "cell_type": "code",
   "execution_count": 18,
   "id": "86fc2275",
   "metadata": {},
   "outputs": [],
   "source": [
    "# Saving the losses as numpy files\n",
    "np.save(\"fb_co_pages_train_losses_closeness.npy\", losses[0], allow_pickle=False, fix_imports=True)\n",
    "np.save(\"fb_co_pages_test_losses_closeness.npy\", losses[1], allow_pickle=False, fix_imports=True)"
   ]
  },
  {
   "cell_type": "code",
   "execution_count": 19,
   "id": "2a8b4ccf",
   "metadata": {
    "scrolled": false
   },
   "outputs": [
    {
     "name": "stdout",
     "output_type": "stream",
     "text": [
      "target 0.1919738811046116,    prediction: 0.19004003703594208\n",
      "index 0:       inaccuracy: 1.007%\n",
      "-----------------------------------\n",
      "target 0.16215470882934227,    prediction: 0.1618574857711792\n",
      "index 100:       inaccuracy: 0.183%\n",
      "-----------------------------------\n",
      "target 0.18277898663350947,    prediction: 0.18470200896263123\n",
      "index 200:       inaccuracy: 1.052%\n",
      "-----------------------------------\n",
      "target 0.1730939063879894,    prediction: 0.17585161328315735\n",
      "index 300:       inaccuracy: 1.593%\n",
      "-----------------------------------\n",
      "target 0.22196008115887322,    prediction: 0.2249683439731598\n",
      "index 400:       inaccuracy: 1.355%\n",
      "-----------------------------------\n",
      "target 0.24038019316265521,    prediction: 0.24164657294750214\n",
      "index 500:       inaccuracy: 0.527%\n",
      "-----------------------------------\n",
      "target 0.19727406164814426,    prediction: 0.19582994282245636\n",
      "index 600:       inaccuracy: 0.732%\n",
      "-----------------------------------\n",
      "target 0.1726027397260274,    prediction: 0.17821118235588074\n",
      "index 700:       inaccuracy: 3.249%\n",
      "-----------------------------------\n",
      "target 0.25111213922203635,    prediction: 0.24546319246292114\n",
      "index 800:       inaccuracy: 2.25%\n",
      "-----------------------------------\n",
      "target 0.18247646632874728,    prediction: 0.1825350821018219\n",
      "index 900:       inaccuracy: 0.032%\n",
      "-----------------------------------\n",
      "target 0.25869844179651696,    prediction: 0.24516624212265015\n",
      "index 1000:       inaccuracy: 5.231%\n",
      "-----------------------------------\n",
      "target 0.1723687264110613,    prediction: 0.1732691377401352\n",
      "index 1100:       inaccuracy: 0.522%\n",
      "-----------------------------------\n",
      "target 0.19908583037074656,    prediction: 0.199574813246727\n",
      "index 1200:       inaccuracy: 0.246%\n",
      "-----------------------------------\n",
      "target 0.15362006466150682,    prediction: 0.15365873277187347\n",
      "index 1300:       inaccuracy: 0.025%\n",
      "-----------------------------------\n",
      "target 0.21561826765878775,    prediction: 0.2153010070323944\n",
      "index 1400:       inaccuracy: 0.147%\n",
      "-----------------------------------\n",
      "target 0.19290547467705557,    prediction: 0.19672541320323944\n",
      "index 1500:       inaccuracy: 1.98%\n",
      "-----------------------------------\n",
      "target 0.2256439775507267,    prediction: 0.22992290556430817\n",
      "index 1600:       inaccuracy: 1.896%\n",
      "-----------------------------------\n",
      "target 0.16447360753371174,    prediction: 0.17232654988765717\n",
      "index 1700:       inaccuracy: 4.775%\n",
      "-----------------------------------\n",
      "target 0.18602934391436746,    prediction: 0.18290461599826813\n",
      "index 1800:       inaccuracy: 1.68%\n",
      "-----------------------------------\n",
      "target 0.1874950176706614,    prediction: 0.1880861520767212\n",
      "index 1900:       inaccuracy: 0.315%\n",
      "-----------------------------------\n",
      "target 0.17355371900826447,    prediction: 0.17329786717891693\n",
      "index 2000:       inaccuracy: 0.147%\n",
      "-----------------------------------\n",
      "target 0.15827192893913394,    prediction: 0.15531711280345917\n",
      "index 2100:       inaccuracy: 1.867%\n",
      "-----------------------------------\n",
      "target 0.1740889689373566,    prediction: 0.1773604452610016\n",
      "index 2200:       inaccuracy: 1.879%\n",
      "-----------------------------------\n",
      "target 0.237731844140092,    prediction: 0.23686270415782928\n",
      "index 2300:       inaccuracy: 0.366%\n",
      "-----------------------------------\n",
      "target 0.2623975009761812,    prediction: 0.24899214506149292\n",
      "index 2400:       inaccuracy: 5.109%\n",
      "-----------------------------------\n",
      "target 0.17935031264297696,    prediction: 0.18164168298244476\n",
      "index 2500:       inaccuracy: 1.278%\n",
      "-----------------------------------\n",
      "target 0.24679094820048267,    prediction: 0.24313825368881226\n",
      "index 2600:       inaccuracy: 1.48%\n",
      "-----------------------------------\n",
      "target 0.15471648467306934,    prediction: 0.15244345366954803\n",
      "index 2700:       inaccuracy: 1.469%\n",
      "-----------------------------------\n",
      "target 0.2110805312911332,    prediction: 0.21395912766456604\n",
      "index 2800:       inaccuracy: 1.364%\n",
      "-----------------------------------\n",
      "target 0.17286914765906364,    prediction: 0.1744716912508011\n",
      "index 2900:       inaccuracy: 0.927%\n",
      "-----------------------------------\n",
      "target 0.21888232283281372,    prediction: 0.22319073975086212\n",
      "index 3000:       inaccuracy: 1.968%\n",
      "-----------------------------------\n",
      "target 0.1659356811100006,    prediction: 0.1692277193069458\n",
      "index 3100:       inaccuracy: 1.984%\n",
      "-----------------------------------\n",
      "target 0.14057317036727132,    prediction: 0.1469620019197464\n",
      "index 3200:       inaccuracy: 4.545%\n",
      "-----------------------------------\n",
      "target 0.17613139961558624,    prediction: 0.18132895231246948\n",
      "index 3300:       inaccuracy: 2.951%\n",
      "-----------------------------------\n",
      "target 0.221918195971128,    prediction: 0.22284503281116486\n",
      "index 3400:       inaccuracy: 0.418%\n",
      "-----------------------------------\n",
      "target 0.25133575550331266,    prediction: 0.24358239769935608\n",
      "index 3500:       inaccuracy: 3.085%\n",
      "-----------------------------------\n",
      "target 0.17813008848440479,    prediction: 0.18199476599693298\n",
      "index 3600:       inaccuracy: 2.17%\n",
      "-----------------------------------\n",
      "target 0.15432564548407204,    prediction: 0.15147453546524048\n",
      "index 3700:       inaccuracy: 1.847%\n",
      "-----------------------------------\n",
      "target 0.20396895370517582,    prediction: 0.20022404193878174\n",
      "index 3800:       inaccuracy: 1.836%\n",
      "-----------------------------------\n",
      "target 0.22058616647127785,    prediction: 0.22312918305397034\n",
      "index 3900:       inaccuracy: 1.153%\n",
      "-----------------------------------\n",
      "target 0.1909969412337926,    prediction: 0.19621820747852325\n",
      "index 4000:       inaccuracy: 2.734%\n",
      "-----------------------------------\n",
      "target 0.16928576569660037,    prediction: 0.1673889458179474\n",
      "index 4100:       inaccuracy: 1.12%\n",
      "-----------------------------------\n"
     ]
    }
   ],
   "source": [
    "model.eval()\n",
    "errors = []\n",
    "for i in range(n_test):\n",
    "    targ = test_targets[i].item()\n",
    "    feat = test_features[i].float().view(1,1,14)\n",
    "    pred = model(feat).item()\n",
    "    inaccuracy = abs(1 - pred/targ) * 100\n",
    "    errors.append(inaccuracy)\n",
    "    if i%100 == 0:\n",
    "        print(f\"target {targ},    prediction: {pred}\\nindex {i}:       inaccuracy: {np.round(inaccuracy, 3)}%\")\n",
    "        print(\"-----------------------------------\")"
   ]
  },
  {
   "cell_type": "code",
   "execution_count": 20,
   "id": "11c08874",
   "metadata": {},
   "outputs": [
    {
     "name": "stdout",
     "output_type": "stream",
     "text": [
      "Average inaccuracy:  1.86\n"
     ]
    }
   ],
   "source": [
    "print(\"Average inaccuracy: \", np.round(sum(errors)/len(errors), 3))"
   ]
  },
  {
   "cell_type": "code",
   "execution_count": 21,
   "id": "0de52ed4",
   "metadata": {},
   "outputs": [],
   "source": [
    "torch.save(model, \"trained_model_fb_co_closeness.pt\")"
   ]
  },
  {
   "cell_type": "markdown",
   "id": "8d23049b",
   "metadata": {},
   "source": [
    "# Testing the model on the modified graph"
   ]
  },
  {
   "cell_type": "code",
   "execution_count": 22,
   "id": "64e33bc7",
   "metadata": {},
   "outputs": [
    {
     "data": {
      "text/plain": [
       "array([0.20703618])"
      ]
     },
     "execution_count": 22,
     "metadata": {},
     "output_type": "execute_result"
    }
   ],
   "source": [
    "# Loading closeness centrality for modified graph as the target set\n",
    "target_closeness_modified = np.load(\"fb_co_pages_modified_closeness.npy\", mmap_mode=None, allow_pickle=False, fix_imports=True, encoding='ASCII')\n",
    "target_closeness_modified[0]"
   ]
  },
  {
   "cell_type": "code",
   "execution_count": 23,
   "id": "7160bd2c",
   "metadata": {},
   "outputs": [
    {
     "data": {
      "text/plain": [
       "(14113, 4, 14)"
      ]
     },
     "execution_count": 23,
     "metadata": {},
     "output_type": "execute_result"
    }
   ],
   "source": [
    "# Loading the RCDF matrix for modified graph as the feature set\n",
    "matrix_modified = np.load(\"fb_co_pages_modified_RDFC_matrix_r1-5_sta1_max35_rad4.npy\", mmap_mode=None, allow_pickle=False, fix_imports=True, encoding='ASCII')\n",
    "matrix_modified.shape"
   ]
  },
  {
   "cell_type": "code",
   "execution_count": 24,
   "id": "8da6be8e",
   "metadata": {},
   "outputs": [
    {
     "data": {
      "text/plain": [
       "(14113, 14)"
      ]
     },
     "execution_count": 24,
     "metadata": {},
     "output_type": "execute_result"
    }
   ],
   "source": [
    "feature_vectors_modified = np.matmul(parameter_vector, matrix_modified)\n",
    "feature_vectors_modified.shape"
   ]
  },
  {
   "cell_type": "markdown",
   "id": "745ee823",
   "metadata": {},
   "source": [
    "# Converting the dataset into pytorch tensors"
   ]
  },
  {
   "cell_type": "code",
   "execution_count": 25,
   "id": "918b74bf",
   "metadata": {},
   "outputs": [
    {
     "data": {
      "text/plain": [
       "(torch.Size([14113, 14]), torch.Size([14113, 1]))"
      ]
     },
     "execution_count": 25,
     "metadata": {},
     "output_type": "execute_result"
    }
   ],
   "source": [
    "features_modified = torch.from_numpy(feature_vectors_modified)\n",
    "targets_modified = torch.from_numpy(target_closeness_modified)\n",
    "features_modified.shape, targets_modified.shape"
   ]
  },
  {
   "cell_type": "code",
   "execution_count": 26,
   "id": "4b17f1c2",
   "metadata": {},
   "outputs": [
    {
     "name": "stdout",
     "output_type": "stream",
     "text": [
      "target 0.20703617851588862,    prediction: 0.21225489675998688\n",
      "index 0:       inaccuracy: 2.521%\n",
      "-----------------------------------\n",
      "target 0.14359997150794215,    prediction: 0.15926894545555115\n",
      "index 500:       inaccuracy: 10.912%\n",
      "-----------------------------------\n",
      "target 0.20568730049993442,    prediction: 0.20209208130836487\n",
      "index 1000:       inaccuracy: 1.748%\n",
      "-----------------------------------\n",
      "target 0.18397517795218105,    prediction: 0.18510966002941132\n",
      "index 1500:       inaccuracy: 0.617%\n",
      "-----------------------------------\n",
      "target 0.18901687650683097,    prediction: 0.1868850290775299\n",
      "index 2000:       inaccuracy: 1.128%\n",
      "-----------------------------------\n",
      "target 0.14950102760768694,    prediction: 0.1511806696653366\n",
      "index 2500:       inaccuracy: 1.123%\n",
      "-----------------------------------\n",
      "target 0.1795351322468608,    prediction: 0.1767638474702835\n",
      "index 3000:       inaccuracy: 1.544%\n",
      "-----------------------------------\n",
      "target 0.21860767729342875,    prediction: 0.22202052175998688\n",
      "index 3500:       inaccuracy: 1.561%\n",
      "-----------------------------------\n",
      "target 0.155457880300076,    prediction: 0.15343809127807617\n",
      "index 4000:       inaccuracy: 1.299%\n",
      "-----------------------------------\n",
      "target 0.15854042151620007,    prediction: 0.15396670997142792\n",
      "index 4500:       inaccuracy: 2.885%\n",
      "-----------------------------------\n",
      "target 0.18225493994575745,    prediction: 0.1812635064125061\n",
      "index 5000:       inaccuracy: 0.544%\n",
      "-----------------------------------\n",
      "target 0.22043455849044816,    prediction: 0.21229706704616547\n",
      "index 5500:       inaccuracy: 3.692%\n",
      "-----------------------------------\n",
      "target 0.21165671776104628,    prediction: 0.21044987440109253\n",
      "index 6000:       inaccuracy: 0.57%\n",
      "-----------------------------------\n",
      "target 0.22057927067539898,    prediction: 0.2233511358499527\n",
      "index 6500:       inaccuracy: 1.257%\n",
      "-----------------------------------\n",
      "target 0.23997143197238424,    prediction: 0.2356736660003662\n",
      "index 7000:       inaccuracy: 1.791%\n",
      "-----------------------------------\n",
      "target 0.22190423775454046,    prediction: 0.2212582379579544\n",
      "index 7500:       inaccuracy: 0.291%\n",
      "-----------------------------------\n",
      "target 0.20100559773241986,    prediction: 0.1921410709619522\n",
      "index 8000:       inaccuracy: 4.41%\n",
      "-----------------------------------\n",
      "target 0.191038310545553,    prediction: 0.18881811201572418\n",
      "index 8500:       inaccuracy: 1.162%\n",
      "-----------------------------------\n",
      "target 0.23030599755201958,    prediction: 0.2329038679599762\n",
      "index 9000:       inaccuracy: 1.128%\n",
      "-----------------------------------\n",
      "target 0.21797961075069508,    prediction: 0.21984323859214783\n",
      "index 9500:       inaccuracy: 0.855%\n",
      "-----------------------------------\n",
      "target 0.15593025568495725,    prediction: 0.15681786835193634\n",
      "index 10000:       inaccuracy: 0.569%\n",
      "-----------------------------------\n",
      "target 0.18032200357781752,    prediction: 0.18174128234386444\n",
      "index 10500:       inaccuracy: 0.787%\n",
      "-----------------------------------\n",
      "target 0.21285067873303168,    prediction: 0.21092133224010468\n",
      "index 11000:       inaccuracy: 0.906%\n",
      "-----------------------------------\n",
      "target 0.2201560062402496,    prediction: 0.22129864990711212\n",
      "index 11500:       inaccuracy: 0.519%\n",
      "-----------------------------------\n",
      "target 0.13304296178974462,    prediction: 0.14246299862861633\n",
      "index 12000:       inaccuracy: 7.08%\n",
      "-----------------------------------\n",
      "target 0.19159075172760226,    prediction: 0.1921202689409256\n",
      "index 12500:       inaccuracy: 0.276%\n",
      "-----------------------------------\n",
      "target 0.20639424342586363,    prediction: 0.20848195254802704\n",
      "index 13000:       inaccuracy: 1.012%\n",
      "-----------------------------------\n",
      "target 0.19397404882340005,    prediction: 0.19623443484306335\n",
      "index 13500:       inaccuracy: 1.165%\n",
      "-----------------------------------\n",
      "target 0.24650642817216323,    prediction: 0.24046599864959717\n",
      "index 14000:       inaccuracy: 2.45%\n",
      "-----------------------------------\n"
     ]
    }
   ],
   "source": [
    "errors_modified = []\n",
    "for i in range(targets_modified.shape[0]):\n",
    "    targ = targets_modified[i].item()\n",
    "    feat = features_modified[i].float().view(1,1,14)\n",
    "    pred = model(feat).item()\n",
    "    inaccuracy = abs(1 - pred/targ) * 100\n",
    "    errors_modified.append(inaccuracy)\n",
    "    if i%500 == 0:\n",
    "        print(f\"target {targ},    prediction: {pred}\\nindex {i}:       inaccuracy: {np.round(inaccuracy, 3)}%\")\n",
    "        print(\"-----------------------------------\")"
   ]
  },
  {
   "cell_type": "code",
   "execution_count": 27,
   "id": "239e9d40",
   "metadata": {},
   "outputs": [
    {
     "name": "stdout",
     "output_type": "stream",
     "text": [
      "Average inaccuracy on the modified graph:  2.195\n"
     ]
    }
   ],
   "source": [
    "print(\"Average inaccuracy on the modified graph: \", np.round(sum(errors_modified)/len(errors_modified), 3))"
   ]
  },
  {
   "cell_type": "code",
   "execution_count": null,
   "id": "f254819f",
   "metadata": {},
   "outputs": [],
   "source": []
  }
 ],
 "metadata": {
  "kernelspec": {
   "display_name": "Python 3 (ipykernel)",
   "language": "python",
   "name": "python3"
  },
  "language_info": {
   "codemirror_mode": {
    "name": "ipython",
    "version": 3
   },
   "file_extension": ".py",
   "mimetype": "text/x-python",
   "name": "python",
   "nbconvert_exporter": "python",
   "pygments_lexer": "ipython3",
   "version": "3.8.3"
  }
 },
 "nbformat": 4,
 "nbformat_minor": 5
}
