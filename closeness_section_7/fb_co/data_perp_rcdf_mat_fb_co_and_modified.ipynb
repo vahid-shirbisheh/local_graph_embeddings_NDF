{
 "cells": [
  {
   "cell_type": "code",
   "execution_count": 1,
   "id": "5c84b949",
   "metadata": {},
   "outputs": [],
   "source": [
    "from mygraph import MyGraph\n",
    "from helpers import *\n",
    "import pandas as pd"
   ]
  },
  {
   "cell_type": "markdown",
   "id": "5914cd27",
   "metadata": {},
   "source": [
    "# Importing Graph Data from CSV File"
   ]
  },
  {
   "cell_type": "code",
   "execution_count": 2,
   "id": "3ce28bb7",
   "metadata": {},
   "outputs": [
    {
     "data": {
      "text/html": [
       "<div>\n",
       "<style scoped>\n",
       "    .dataframe tbody tr th:only-of-type {\n",
       "        vertical-align: middle;\n",
       "    }\n",
       "\n",
       "    .dataframe tbody tr th {\n",
       "        vertical-align: top;\n",
       "    }\n",
       "\n",
       "    .dataframe thead th {\n",
       "        text-align: right;\n",
       "    }\n",
       "</style>\n",
       "<table border=\"1\" class=\"dataframe\">\n",
       "  <thead>\n",
       "    <tr style=\"text-align: right;\">\n",
       "      <th></th>\n",
       "      <th>node_1</th>\n",
       "      <th>node_2</th>\n",
       "    </tr>\n",
       "  </thead>\n",
       "  <tbody>\n",
       "    <tr>\n",
       "      <th>0</th>\n",
       "      <td>0</td>\n",
       "      <td>2243</td>\n",
       "    </tr>\n",
       "    <tr>\n",
       "      <th>1</th>\n",
       "      <td>0</td>\n",
       "      <td>12084</td>\n",
       "    </tr>\n",
       "    <tr>\n",
       "      <th>2</th>\n",
       "      <td>0</td>\n",
       "      <td>6169</td>\n",
       "    </tr>\n",
       "  </tbody>\n",
       "</table>\n",
       "</div>"
      ],
      "text/plain": [
       "   node_1  node_2\n",
       "0       0    2243\n",
       "1       0   12084\n",
       "2       0    6169"
      ]
     },
     "execution_count": 2,
     "metadata": {},
     "output_type": "execute_result"
    }
   ],
   "source": [
    "d = pd.read_csv(\"fb-pages-company-edges.csv\")\n",
    "d.head(3)"
   ]
  },
  {
   "cell_type": "code",
   "execution_count": 3,
   "id": "82d5f76d",
   "metadata": {},
   "outputs": [],
   "source": [
    "edge_list = [(x,y) for [x,y] in d.values]\n",
    "myg = MyGraph()\n",
    "for i in range(14113): # Creating 14113 nodes in the ordinary order\n",
    "    myg.add_vertex(i)\n",
    "myg.from_edge_list(edge_list) # Constructing the graph using the list of its edges"
   ]
  },
  {
   "cell_type": "markdown",
   "id": "d38e0385",
   "metadata": {},
   "source": [
    "# Order 4 RCDF matrix representation"
   ]
  },
  {
   "cell_type": "code",
   "execution_count": 4,
   "id": "72409dfc",
   "metadata": {},
   "outputs": [
    {
     "data": {
      "text/plain": [
       "[1, 2, 3, 5, 8, 13, 20, 31, 48, 73, 108, 143, 178, 213]"
      ]
     },
     "execution_count": 4,
     "metadata": {},
     "output_type": "execute_result"
    }
   ],
   "source": [
    "# Starting points\n",
    "sp = myg.starting_points(ratio= 1.5, max_length=35, starting_length=1)\n",
    "sp"
   ]
  },
  {
   "cell_type": "code",
   "execution_count": 5,
   "id": "2b997384",
   "metadata": {},
   "outputs": [
    {
     "name": "stdout",
     "output_type": "stream",
     "text": [
      "Wall time: 4min 44s\n"
     ]
    }
   ],
   "source": [
    "%%time\n",
    "# producing the order 4 RCDF matrix rep. of nodes of the garph w.r.t. the above parameters:\n",
    "RCDF_matrix = CDF_matrix_rep(myg,  starting_points=sp, raw=True, radius=4)"
   ]
  },
  {
   "cell_type": "code",
   "execution_count": 6,
   "id": "e94982a0",
   "metadata": {},
   "outputs": [
    {
     "data": {
      "text/plain": [
       "array([[0.000e+00, 0.000e+00, 0.000e+00, 0.000e+00, 2.000e+00, 1.000e+00,\n",
       "        0.000e+00, 3.000e+00, 1.000e+00, 0.000e+00, 1.000e+00, 0.000e+00,\n",
       "        1.000e+00, 0.000e+00],\n",
       "       [1.300e+01, 2.600e+01, 4.300e+01, 7.100e+01, 8.700e+01, 6.900e+01,\n",
       "        6.800e+01, 3.800e+01, 1.700e+01, 1.100e+01, 1.000e+00, 3.000e+00,\n",
       "        1.000e+00, 1.000e+00],\n",
       "       [1.430e+02, 2.080e+02, 4.740e+02, 6.580e+02, 6.890e+02, 5.520e+02,\n",
       "        3.600e+02, 1.660e+02, 6.300e+01, 1.900e+01, 4.000e+00, 2.000e+00,\n",
       "        3.000e+00, 0.000e+00],\n",
       "       [7.490e+02, 8.430e+02, 1.385e+03, 1.321e+03, 9.830e+02, 4.340e+02,\n",
       "        1.400e+02, 4.500e+01, 1.000e+01, 2.000e+00, 0.000e+00, 0.000e+00,\n",
       "        0.000e+00, 0.000e+00]])"
      ]
     },
     "execution_count": 6,
     "metadata": {},
     "output_type": "execute_result"
    }
   ],
   "source": [
    "RCDF_matrix[21]"
   ]
  },
  {
   "cell_type": "code",
   "execution_count": 7,
   "id": "7fb03e38",
   "metadata": {},
   "outputs": [
    {
     "data": {
      "text/plain": [
       "(14113, 4, 14)"
      ]
     },
     "execution_count": 7,
     "metadata": {},
     "output_type": "execute_result"
    }
   ],
   "source": [
    "RCDF_matrix.shape"
   ]
  },
  {
   "cell_type": "code",
   "execution_count": 8,
   "id": "a1b38652",
   "metadata": {},
   "outputs": [],
   "source": [
    "np.save(\"fb_co_pages_RDFC_matrix_r1-5_sta1_max35_rad4.npy\", RCDF_matrix, allow_pickle=False, fix_imports=True)"
   ]
  },
  {
   "cell_type": "markdown",
   "id": "9f1768e8",
   "metadata": {},
   "source": [
    "# The modified graph"
   ]
  },
  {
   "cell_type": "code",
   "execution_count": 9,
   "id": "c6a1843d",
   "metadata": {},
   "outputs": [
    {
     "name": "stdout",
     "output_type": "stream",
     "text": [
      "Wall time: 2min 32s\n"
     ]
    }
   ],
   "source": [
    "%%time\n",
    "# Modifying the graph of the facebook pages of companies\n",
    "myg_modified = remove_add_random_edges(myg, num_remove=500, num_add=500,  seed=1)"
   ]
  },
  {
   "cell_type": "code",
   "execution_count": 10,
   "id": "1b6ee9dd",
   "metadata": {},
   "outputs": [
    {
     "name": "stdout",
     "output_type": "stream",
     "text": [
      "Wall time: 4min 37s\n"
     ]
    },
    {
     "data": {
      "text/plain": [
       "(14113, 4, 14)"
      ]
     },
     "execution_count": 10,
     "metadata": {},
     "output_type": "execute_result"
    }
   ],
   "source": [
    "%%time\n",
    "# producing the order 4 RCDF matrix rep. of nodes of the garph w.r.t. the above parameters:\n",
    "RCDF_matrix_modified = CDF_matrix_rep(myg_modified,  starting_points=sp, raw=True, radius=4)\n",
    "RCDF_matrix_modified.shape"
   ]
  },
  {
   "cell_type": "code",
   "execution_count": 11,
   "id": "086ab666",
   "metadata": {},
   "outputs": [],
   "source": [
    "np.save(\"fb_co_pages_modified_RDFC_matrix_r1-5_sta1_max35_rad4.npy\", RCDF_matrix_modified, allow_pickle=False, fix_imports=True)"
   ]
  },
  {
   "cell_type": "markdown",
   "id": "6a88f2ce",
   "metadata": {},
   "source": [
    "### Just to test whether this modified graph is equal to the modified graph generated before with the same seed!"
   ]
  },
  {
   "cell_type": "code",
   "execution_count": 12,
   "id": "ae3bf39f",
   "metadata": {},
   "outputs": [
    {
     "data": {
      "text/html": [
       "<div>\n",
       "<style scoped>\n",
       "    .dataframe tbody tr th:only-of-type {\n",
       "        vertical-align: middle;\n",
       "    }\n",
       "\n",
       "    .dataframe tbody tr th {\n",
       "        vertical-align: top;\n",
       "    }\n",
       "\n",
       "    .dataframe thead th {\n",
       "        text-align: right;\n",
       "    }\n",
       "</style>\n",
       "<table border=\"1\" class=\"dataframe\">\n",
       "  <thead>\n",
       "    <tr style=\"text-align: right;\">\n",
       "      <th></th>\n",
       "      <th>0</th>\n",
       "      <th>1</th>\n",
       "    </tr>\n",
       "  </thead>\n",
       "  <tbody>\n",
       "    <tr>\n",
       "      <th>0</th>\n",
       "      <td>0</td>\n",
       "      <td>6977</td>\n",
       "    </tr>\n",
       "    <tr>\n",
       "      <th>1</th>\n",
       "      <td>0</td>\n",
       "      <td>2243</td>\n",
       "    </tr>\n",
       "    <tr>\n",
       "      <th>2</th>\n",
       "      <td>0</td>\n",
       "      <td>3694</td>\n",
       "    </tr>\n",
       "  </tbody>\n",
       "</table>\n",
       "</div>"
      ],
      "text/plain": [
       "   0     1\n",
       "0  0  6977\n",
       "1  0  2243\n",
       "2  0  3694"
      ]
     },
     "execution_count": 12,
     "metadata": {},
     "output_type": "execute_result"
    }
   ],
   "source": [
    "d_1 = pd.read_csv(\"fb_co_pages_modified.csv\") # The modified graph generated before (for pagerank computation) with the same seed \n",
    "d_1.head(3)"
   ]
  },
  {
   "cell_type": "code",
   "execution_count": 13,
   "id": "4b9203e4",
   "metadata": {},
   "outputs": [],
   "source": [
    "edge_list_1 = [(x,y) for [x,y] in d_1.values]\n",
    "myg_1 = MyGraph()\n",
    "for i in range(14113): # Creating 14113 nodes in the ordinary order\n",
    "    myg_1.add_vertex(i)\n",
    "myg_1.from_edge_list(edge_list_1) # Constructing the graph using the list of its edges"
   ]
  },
  {
   "cell_type": "code",
   "execution_count": 14,
   "id": "5036fde2",
   "metadata": {},
   "outputs": [
    {
     "data": {
      "text/plain": [
       "True"
      ]
     },
     "execution_count": 14,
     "metadata": {},
     "output_type": "execute_result"
    }
   ],
   "source": [
    "myg_modified == myg_1"
   ]
  },
  {
   "cell_type": "code",
   "execution_count": null,
   "id": "26d50aad",
   "metadata": {},
   "outputs": [],
   "source": []
  }
 ],
 "metadata": {
  "kernelspec": {
   "display_name": "Python 3 (ipykernel)",
   "language": "python",
   "name": "python3"
  },
  "language_info": {
   "codemirror_mode": {
    "name": "ipython",
    "version": 3
   },
   "file_extension": ".py",
   "mimetype": "text/x-python",
   "name": "python",
   "nbconvert_exporter": "python",
   "pygments_lexer": "ipython3",
   "version": "3.8.3"
  }
 },
 "nbformat": 4,
 "nbformat_minor": 5
}
