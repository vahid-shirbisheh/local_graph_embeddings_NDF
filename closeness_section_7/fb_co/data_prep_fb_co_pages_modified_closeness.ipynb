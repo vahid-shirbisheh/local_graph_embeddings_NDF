{
 "cells": [
  {
   "cell_type": "code",
   "execution_count": 1,
   "id": "5c84b949",
   "metadata": {},
   "outputs": [],
   "source": [
    "from mygraph import MyGraph\n",
    "from helpers import *\n",
    "import pandas as pd"
   ]
  },
  {
   "cell_type": "markdown",
   "id": "b2a696bd",
   "metadata": {},
   "source": [
    "# Dataset\n",
    "The edge list of the following graph is available at this URL: https://networkrepository.com/fb-pages-company.php"
   ]
  },
  {
   "cell_type": "markdown",
   "id": "5914cd27",
   "metadata": {},
   "source": [
    "# Importing Graph Data from CSV File"
   ]
  },
  {
   "cell_type": "code",
   "execution_count": 2,
   "id": "3ce28bb7",
   "metadata": {},
   "outputs": [
    {
     "data": {
      "text/html": [
       "<div>\n",
       "<style scoped>\n",
       "    .dataframe tbody tr th:only-of-type {\n",
       "        vertical-align: middle;\n",
       "    }\n",
       "\n",
       "    .dataframe tbody tr th {\n",
       "        vertical-align: top;\n",
       "    }\n",
       "\n",
       "    .dataframe thead th {\n",
       "        text-align: right;\n",
       "    }\n",
       "</style>\n",
       "<table border=\"1\" class=\"dataframe\">\n",
       "  <thead>\n",
       "    <tr style=\"text-align: right;\">\n",
       "      <th></th>\n",
       "      <th>node_1</th>\n",
       "      <th>node_2</th>\n",
       "    </tr>\n",
       "  </thead>\n",
       "  <tbody>\n",
       "    <tr>\n",
       "      <th>0</th>\n",
       "      <td>0</td>\n",
       "      <td>2243</td>\n",
       "    </tr>\n",
       "    <tr>\n",
       "      <th>1</th>\n",
       "      <td>0</td>\n",
       "      <td>12084</td>\n",
       "    </tr>\n",
       "    <tr>\n",
       "      <th>2</th>\n",
       "      <td>0</td>\n",
       "      <td>6169</td>\n",
       "    </tr>\n",
       "  </tbody>\n",
       "</table>\n",
       "</div>"
      ],
      "text/plain": [
       "   node_1  node_2\n",
       "0       0    2243\n",
       "1       0   12084\n",
       "2       0    6169"
      ]
     },
     "execution_count": 2,
     "metadata": {},
     "output_type": "execute_result"
    }
   ],
   "source": [
    "d = pd.read_csv(\"fb-pages-company-edges.csv\")\n",
    "d.head(3)"
   ]
  },
  {
   "cell_type": "code",
   "execution_count": 3,
   "id": "82d5f76d",
   "metadata": {},
   "outputs": [],
   "source": [
    "edge_list = [(x,y) for [x,y] in d.values]\n",
    "myg = MyGraph()\n",
    "for i in range(14113): # Creating 14113 nodes in the ordinary order\n",
    "    myg.add_vertex(i)\n",
    "myg.from_edge_list(edge_list) # Constructing the graph using the list of its edges"
   ]
  },
  {
   "cell_type": "code",
   "execution_count": 4,
   "id": "f4ae97f9",
   "metadata": {},
   "outputs": [],
   "source": [
    "nxg = copy_my_graph(myg)"
   ]
  },
  {
   "cell_type": "markdown",
   "id": "9beada2b",
   "metadata": {},
   "source": [
    "# Closeness Centrality"
   ]
  },
  {
   "cell_type": "code",
   "execution_count": 5,
   "id": "b895aa63",
   "metadata": {},
   "outputs": [
    {
     "name": "stdout",
     "output_type": "stream",
     "text": [
      "Wall time: 8min 32s\n"
     ]
    },
    {
     "data": {
      "text/plain": [
       "array([[0.20703618],\n",
       "       [0.20435293],\n",
       "       [0.21533532],\n",
       "       ...,\n",
       "       [0.14208619],\n",
       "       [0.18290454],\n",
       "       [0.18711465]])"
      ]
     },
     "execution_count": 5,
     "metadata": {},
     "output_type": "execute_result"
    }
   ],
   "source": [
    "%%time\n",
    "# The array of closeness centrality of vertices of the graph\n",
    "np_target_close = np.array(list(nx.closeness_centrality(nxg).values())).reshape(-1,1)\n",
    "np_target_close"
   ]
  },
  {
   "cell_type": "code",
   "execution_count": 6,
   "id": "d72f8b42",
   "metadata": {},
   "outputs": [],
   "source": [
    "np.save(\"fb_co_pages_closeness.npy\", np_target_close, allow_pickle=False, fix_imports=True)"
   ]
  },
  {
   "cell_type": "markdown",
   "id": "4ff0b9b1",
   "metadata": {},
   "source": [
    "# The modified graph"
   ]
  },
  {
   "cell_type": "code",
   "execution_count": 7,
   "id": "7958fc76",
   "metadata": {},
   "outputs": [
    {
     "name": "stdout",
     "output_type": "stream",
     "text": [
      "Wall time: 2min 31s\n"
     ]
    }
   ],
   "source": [
    "%%time\n",
    "# Modifying the graph of the facebook pages of companies\n",
    "myg_modified = remove_add_random_edges(myg, num_remove=500, num_add=500,  seed=1)"
   ]
  },
  {
   "cell_type": "code",
   "execution_count": 8,
   "id": "af70f18c",
   "metadata": {},
   "outputs": [
    {
     "name": "stdout",
     "output_type": "stream",
     "text": [
      "Wall time: 1min 14s\n"
     ]
    }
   ],
   "source": [
    "%%time\n",
    "nxg_modified = copy_my_graph(myg_modified)"
   ]
  },
  {
   "cell_type": "code",
   "execution_count": 9,
   "id": "4352f880",
   "metadata": {},
   "outputs": [
    {
     "name": "stdout",
     "output_type": "stream",
     "text": [
      "Wall time: 8min 32s\n"
     ]
    },
    {
     "data": {
      "text/plain": [
       "array([[0.20695724],\n",
       "       [0.2045336 ],\n",
       "       [0.21503017],\n",
       "       ...,\n",
       "       [0.14194755],\n",
       "       [0.183597  ],\n",
       "       [0.18701547]])"
      ]
     },
     "execution_count": 9,
     "metadata": {},
     "output_type": "execute_result"
    }
   ],
   "source": [
    "%%time\n",
    "# The array of closeness centrality of vertices of the graph\n",
    "np_target_close_modified = np.array(list(nx.closeness_centrality(nxg_modified).values())).reshape(-1,1)\n",
    "np_target_close_modified"
   ]
  },
  {
   "cell_type": "code",
   "execution_count": 10,
   "id": "22ee07aa",
   "metadata": {},
   "outputs": [],
   "source": [
    "np.save(\"fb_co_pages_modified_closeness.npy\", np_target_close, allow_pickle=False, fix_imports=True)"
   ]
  },
  {
   "cell_type": "code",
   "execution_count": null,
   "id": "26c1fb95",
   "metadata": {},
   "outputs": [],
   "source": []
  },
  {
   "cell_type": "markdown",
   "id": "77324b2b",
   "metadata": {},
   "source": [
    "### Just to test whether this modified graph is equal to the modified graph generated before with the same seed!"
   ]
  },
  {
   "cell_type": "code",
   "execution_count": 11,
   "id": "b9aa4f4c",
   "metadata": {},
   "outputs": [
    {
     "data": {
      "text/html": [
       "<div>\n",
       "<style scoped>\n",
       "    .dataframe tbody tr th:only-of-type {\n",
       "        vertical-align: middle;\n",
       "    }\n",
       "\n",
       "    .dataframe tbody tr th {\n",
       "        vertical-align: top;\n",
       "    }\n",
       "\n",
       "    .dataframe thead th {\n",
       "        text-align: right;\n",
       "    }\n",
       "</style>\n",
       "<table border=\"1\" class=\"dataframe\">\n",
       "  <thead>\n",
       "    <tr style=\"text-align: right;\">\n",
       "      <th></th>\n",
       "      <th>0</th>\n",
       "      <th>1</th>\n",
       "    </tr>\n",
       "  </thead>\n",
       "  <tbody>\n",
       "    <tr>\n",
       "      <th>0</th>\n",
       "      <td>0</td>\n",
       "      <td>6977</td>\n",
       "    </tr>\n",
       "    <tr>\n",
       "      <th>1</th>\n",
       "      <td>0</td>\n",
       "      <td>2243</td>\n",
       "    </tr>\n",
       "    <tr>\n",
       "      <th>2</th>\n",
       "      <td>0</td>\n",
       "      <td>3694</td>\n",
       "    </tr>\n",
       "  </tbody>\n",
       "</table>\n",
       "</div>"
      ],
      "text/plain": [
       "   0     1\n",
       "0  0  6977\n",
       "1  0  2243\n",
       "2  0  3694"
      ]
     },
     "execution_count": 11,
     "metadata": {},
     "output_type": "execute_result"
    }
   ],
   "source": [
    "d_1 = pd.read_csv(\"fb_co_pages_modified.csv\") # The modified graph generated before (for pagerank computation) with the same seed \n",
    "d_1.head(3)"
   ]
  },
  {
   "cell_type": "code",
   "execution_count": 12,
   "id": "fcd24d2b",
   "metadata": {},
   "outputs": [],
   "source": [
    "edge_list_1 = [(x,y) for [x,y] in d_1.values]\n",
    "myg_1 = MyGraph()\n",
    "for i in range(14113): # Creating 14113 nodes in the ordinary order\n",
    "    myg_1.add_vertex(i)\n",
    "myg_1.from_edge_list(edge_list_1) # Constructing the graph using the list of its edges"
   ]
  },
  {
   "cell_type": "code",
   "execution_count": 13,
   "id": "7cb0f183",
   "metadata": {},
   "outputs": [
    {
     "data": {
      "text/plain": [
       "True"
      ]
     },
     "execution_count": 13,
     "metadata": {},
     "output_type": "execute_result"
    }
   ],
   "source": [
    "myg_modified == myg_1"
   ]
  },
  {
   "cell_type": "code",
   "execution_count": null,
   "id": "f290f589",
   "metadata": {},
   "outputs": [],
   "source": []
  }
 ],
 "metadata": {
  "kernelspec": {
   "display_name": "Python 3 (ipykernel)",
   "language": "python",
   "name": "python3"
  },
  "language_info": {
   "codemirror_mode": {
    "name": "ipython",
    "version": 3
   },
   "file_extension": ".py",
   "mimetype": "text/x-python",
   "name": "python",
   "nbconvert_exporter": "python",
   "pygments_lexer": "ipython3",
   "version": "3.8.3"
  }
 },
 "nbformat": 4,
 "nbformat_minor": 5
}
