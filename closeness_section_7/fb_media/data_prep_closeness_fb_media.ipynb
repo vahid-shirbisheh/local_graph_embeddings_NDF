{
 "cells": [
  {
   "cell_type": "code",
   "execution_count": 1,
   "id": "5c84b949",
   "metadata": {},
   "outputs": [],
   "source": [
    "from mygraph import MyGraph\n",
    "from helpers import *\n",
    "import pandas as pd"
   ]
  },
  {
   "cell_type": "markdown",
   "id": "5914cd27",
   "metadata": {},
   "source": [
    "# Importing Graph Data from CSV File"
   ]
  },
  {
   "cell_type": "code",
   "execution_count": 2,
   "id": "3ce28bb7",
   "metadata": {},
   "outputs": [
    {
     "data": {
      "text/html": [
       "<div>\n",
       "<style scoped>\n",
       "    .dataframe tbody tr th:only-of-type {\n",
       "        vertical-align: middle;\n",
       "    }\n",
       "\n",
       "    .dataframe tbody tr th {\n",
       "        vertical-align: top;\n",
       "    }\n",
       "\n",
       "    .dataframe thead th {\n",
       "        text-align: right;\n",
       "    }\n",
       "</style>\n",
       "<table border=\"1\" class=\"dataframe\">\n",
       "  <thead>\n",
       "    <tr style=\"text-align: right;\">\n",
       "      <th></th>\n",
       "      <th>0</th>\n",
       "      <th>9461</th>\n",
       "    </tr>\n",
       "  </thead>\n",
       "  <tbody>\n",
       "    <tr>\n",
       "      <th>0</th>\n",
       "      <td>0</td>\n",
       "      <td>13035</td>\n",
       "    </tr>\n",
       "    <tr>\n",
       "      <th>1</th>\n",
       "      <td>0</td>\n",
       "      <td>12979</td>\n",
       "    </tr>\n",
       "    <tr>\n",
       "      <th>2</th>\n",
       "      <td>0</td>\n",
       "      <td>24089</td>\n",
       "    </tr>\n",
       "  </tbody>\n",
       "</table>\n",
       "</div>"
      ],
      "text/plain": [
       "   0   9461\n",
       "0  0  13035\n",
       "1  0  12979\n",
       "2  0  24089"
      ]
     },
     "execution_count": 2,
     "metadata": {},
     "output_type": "execute_result"
    }
   ],
   "source": [
    "d = pd.read_csv(\"fb-pages-media.csv\")\n",
    "d.head(3)"
   ]
  },
  {
   "cell_type": "code",
   "execution_count": 3,
   "id": "82d5f76d",
   "metadata": {},
   "outputs": [],
   "source": [
    "edge_list = [(x,y) for [x,y] in d.values]\n",
    "myg = MyGraph()\n",
    "for i in range(27917): # Creating 27917 nodes in the ordinary order\n",
    "    myg.add_vertex(i)\n",
    "myg.from_edge_list(edge_list) # Constructing the graph using the list of its edges"
   ]
  },
  {
   "cell_type": "code",
   "execution_count": 4,
   "id": "f343216a",
   "metadata": {},
   "outputs": [
    {
     "data": {
      "text/plain": [
       "2"
      ]
     },
     "execution_count": 4,
     "metadata": {},
     "output_type": "execute_result"
    }
   ],
   "source": [
    "comps = myg.connected_components()\n",
    "len(comps)"
   ]
  },
  {
   "cell_type": "code",
   "execution_count": 5,
   "id": "f4ae97f9",
   "metadata": {},
   "outputs": [
    {
     "name": "stdout",
     "output_type": "stream",
     "text": [
      "Wall time: 10min 14s\n"
     ]
    }
   ],
   "source": [
    "%%time\n",
    "nxg = copy_my_graph(myg)"
   ]
  },
  {
   "cell_type": "markdown",
   "id": "9beada2b",
   "metadata": {},
   "source": [
    "# Closeness Centrality"
   ]
  },
  {
   "cell_type": "code",
   "execution_count": 6,
   "id": "b895aa63",
   "metadata": {},
   "outputs": [
    {
     "name": "stdout",
     "output_type": "stream",
     "text": [
      "Wall time: 51min 39s\n"
     ]
    },
    {
     "data": {
      "text/plain": [
       "array([[0.23340831],\n",
       "       [0.22314955],\n",
       "       [0.21799297],\n",
       "       ...,\n",
       "       [0.23193247],\n",
       "       [0.25202239],\n",
       "       [0.17606913]])"
      ]
     },
     "execution_count": 6,
     "metadata": {},
     "output_type": "execute_result"
    }
   ],
   "source": [
    "%%time\n",
    "# The array of closeness centrality of vertices of the graph\n",
    "np_target_close = np.array(list(nx.closeness_centrality(nxg).values())).reshape(-1,1)\n",
    "np_target_close"
   ]
  },
  {
   "cell_type": "code",
   "execution_count": 7,
   "id": "d72f8b42",
   "metadata": {},
   "outputs": [],
   "source": [
    "np.save(\"fb_media_pages_closeness.npy\", np_target_close, allow_pickle=False, fix_imports=True)"
   ]
  },
  {
   "cell_type": "code",
   "execution_count": null,
   "id": "5c3b86ed",
   "metadata": {},
   "outputs": [],
   "source": []
  }
 ],
 "metadata": {
  "kernelspec": {
   "display_name": "Python 3 (ipykernel)",
   "language": "python",
   "name": "python3"
  },
  "language_info": {
   "codemirror_mode": {
    "name": "ipython",
    "version": 3
   },
   "file_extension": ".py",
   "mimetype": "text/x-python",
   "name": "python",
   "nbconvert_exporter": "python",
   "pygments_lexer": "ipython3",
   "version": "3.8.3"
  }
 },
 "nbformat": 4,
 "nbformat_minor": 5
}
