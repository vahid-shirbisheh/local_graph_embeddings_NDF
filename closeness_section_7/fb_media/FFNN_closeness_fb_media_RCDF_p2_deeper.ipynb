{
 "cells": [
  {
   "cell_type": "markdown",
   "id": "9d2fa88e",
   "metadata": {},
   "source": [
    "# Learning closeness centrality using deep learning model and features extracted via the RCDF matrix rep. of nodes\n",
    "\n",
    "This notebook is completes the discussion in Example 7.4 in the article."
   ]
  },
  {
   "cell_type": "code",
   "execution_count": 1,
   "id": "0f52305e",
   "metadata": {},
   "outputs": [],
   "source": [
    "from mygraph import MyGraph\n",
    "from helpers import *\n",
    "import time\n",
    "import torch\n",
    "import torch.nn as nn\n",
    "import torch.optim as optim\n",
    "import torch.nn.functional as F"
   ]
  },
  {
   "cell_type": "markdown",
   "id": "11899144",
   "metadata": {},
   "source": [
    "## Loading the dataset from numpy files"
   ]
  },
  {
   "cell_type": "code",
   "execution_count": 2,
   "id": "40115369",
   "metadata": {},
   "outputs": [
    {
     "data": {
      "text/plain": [
       "array([0.23340831])"
      ]
     },
     "execution_count": 2,
     "metadata": {},
     "output_type": "execute_result"
    }
   ],
   "source": [
    "# closeness centrality as the target or label data\n",
    "target_closeness = np.load(\"fb_media_pages_closeness.npy\", mmap_mode=None, allow_pickle=False, fix_imports=True, encoding='ASCII')\n",
    "target_closeness[0]"
   ]
  },
  {
   "cell_type": "code",
   "execution_count": 3,
   "id": "5e44f57a",
   "metadata": {},
   "outputs": [],
   "source": [
    "# the RCDF matrix as the feature set\n",
    "\"\"\"\n",
    "ratio = 1.5\n",
    "starting_length = 1\n",
    "maximum_length = 35\n",
    "radius (order) = 3\n",
    "\"\"\"\n",
    "matrix = np.load(\"fb_media_pages_RCDF_matrix_r1_3_sta1_max70_rad3.npy\", mmap_mode=None, allow_pickle=False, fix_imports=True, encoding='ASCII')"
   ]
  },
  {
   "cell_type": "code",
   "execution_count": 4,
   "id": "8797e768",
   "metadata": {},
   "outputs": [
    {
     "data": {
      "text/plain": [
       "((27917, 1), (27917, 3, 23))"
      ]
     },
     "execution_count": 4,
     "metadata": {},
     "output_type": "execute_result"
    }
   ],
   "source": [
    "target_closeness.shape, matrix.shape"
   ]
  },
  {
   "cell_type": "code",
   "execution_count": 5,
   "id": "31a63416",
   "metadata": {},
   "outputs": [
    {
     "data": {
      "text/plain": [
       "array([[0., 1., 0., 0., 0., 0., 0., 0., 0., 0., 0., 0., 0., 0., 0., 0.,\n",
       "        0., 0., 0., 0., 0., 0., 0.],\n",
       "       [0., 0., 0., 0., 0., 0., 0., 0., 1., 0., 0., 0., 0., 0., 0., 0.,\n",
       "        0., 0., 0., 0., 0., 0., 0.],\n",
       "       [1., 3., 2., 4., 2., 1., 1., 3., 2., 1., 3., 0., 0., 0., 0., 0.,\n",
       "        0., 0., 0., 0., 0., 0., 0.]])"
      ]
     },
     "execution_count": 5,
     "metadata": {},
     "output_type": "execute_result"
    }
   ],
   "source": [
    "matrix[11]"
   ]
  },
  {
   "cell_type": "markdown",
   "id": "98da472d",
   "metadata": {},
   "source": [
    "# The p-aggregation of the RCDF matrix\n",
    "\n",
    "To apply this aggregation we just need to multiply the following row matrix from left to the RCDF matrix:\n",
    "### $$\n",
    "\\left[ 1, p, p^2, \\cdots, p^{(r -1 )} \\right],\n",
    "$$\n",
    "where $r$ is the order of the RCDF matrix representation (the number of rows)."
   ]
  },
  {
   "cell_type": "code",
   "execution_count": 6,
   "id": "7180c06a",
   "metadata": {},
   "outputs": [
    {
     "data": {
      "text/plain": [
       "array([1.  , 0.2 , 0.04])"
      ]
     },
     "execution_count": 6,
     "metadata": {},
     "output_type": "execute_result"
    }
   ],
   "source": [
    "p = 0.2\n",
    "order = matrix.shape[1]\n",
    "parameter_vector = np.zeros(order)\n",
    "for i in range(order):\n",
    "    parameter_vector[i] += p**i\n",
    "parameter_vector"
   ]
  },
  {
   "cell_type": "code",
   "execution_count": 7,
   "id": "a81fd4cb",
   "metadata": {},
   "outputs": [
    {
     "data": {
      "text/plain": [
       "(27917, 23)"
      ]
     },
     "execution_count": 7,
     "metadata": {},
     "output_type": "execute_result"
    }
   ],
   "source": [
    "feature_vectors = np.matmul(parameter_vector, matrix)\n",
    "feature_vectors.shape"
   ]
  },
  {
   "cell_type": "markdown",
   "id": "4fbf33bb",
   "metadata": {},
   "source": [
    "# Converting the dataset into pytorch tensors"
   ]
  },
  {
   "cell_type": "code",
   "execution_count": 8,
   "id": "b112c2d3",
   "metadata": {},
   "outputs": [
    {
     "data": {
      "text/plain": [
       "(torch.Size([27917, 23]), torch.Size([27917, 1]))"
      ]
     },
     "execution_count": 8,
     "metadata": {},
     "output_type": "execute_result"
    }
   ],
   "source": [
    "features = torch.from_numpy(feature_vectors)\n",
    "targets = torch.from_numpy(target_closeness)\n",
    "features.shape, targets.shape"
   ]
  },
  {
   "cell_type": "code",
   "execution_count": 9,
   "id": "8f45f034",
   "metadata": {},
   "outputs": [
    {
     "data": {
      "text/plain": [
       "tensor([[0.2334],\n",
       "        [0.2231],\n",
       "        [0.2180],\n",
       "        ...,\n",
       "        [0.2319],\n",
       "        [0.2520],\n",
       "        [0.1761]], dtype=torch.float64, requires_grad=True)"
      ]
     },
     "execution_count": 9,
     "metadata": {},
     "output_type": "execute_result"
    }
   ],
   "source": [
    "# Activating the automatic gradient \n",
    "features.requires_grad_(True)\n",
    "targets.requires_grad_(True)"
   ]
  },
  {
   "cell_type": "markdown",
   "id": "5bab54f2",
   "metadata": {},
   "source": [
    "# Dividing dataset into train and test data"
   ]
  },
  {
   "cell_type": "code",
   "execution_count": 10,
   "id": "b68b3e42",
   "metadata": {},
   "outputs": [
    {
     "data": {
      "text/plain": [
       "(torch.Size([10000, 23]),\n",
       " torch.Size([17917, 23]),\n",
       " torch.Size([10000, 1]),\n",
       " torch.Size([17917, 1]))"
      ]
     },
     "execution_count": 10,
     "metadata": {},
     "output_type": "execute_result"
    }
   ],
   "source": [
    "# Shuffling and dividing the indecies\n",
    "n_samples = features.shape[0]\n",
    "n_test = 17917\n",
    "shuffled_ind = torch.randperm(n_samples)\n",
    "train_ind = shuffled_ind[:-n_test]\n",
    "test_ind = shuffled_ind[-n_test:]\n",
    "# Dividing features and targets into tain and test sets\n",
    "train_features = features[train_ind]\n",
    "test_features = features[test_ind]\n",
    "train_targets = targets[train_ind]\n",
    "test_targets = targets[test_ind]\n",
    "train_features.shape, test_features.shape, train_targets.shape, test_targets.shape"
   ]
  },
  {
   "cell_type": "markdown",
   "id": "643b1796",
   "metadata": {},
   "source": [
    "## A function for dividing train data into batches"
   ]
  },
  {
   "cell_type": "code",
   "execution_count": 11,
   "id": "628bf1ec",
   "metadata": {},
   "outputs": [],
   "source": [
    "# dividing train_features and train_targets into batches\n",
    "def next_batch(train_features, train_targets, batch_size=100):\n",
    "    num_features = train_features.shape[0]\n",
    "    # Shuffling\n",
    "    shuffled_ind = torch.randperm(num_features)\n",
    "    shuffled_train_features = train_features[shuffled_ind]\n",
    "    shuffled_train_targets = train_targets[shuffled_ind]\n",
    "    # Dividing\n",
    "    i = 0\n",
    "    while i < num_features:\n",
    "        i += batch_size\n",
    "        yield (shuffled_train_features[i-batch_size:i], shuffled_train_targets[i-batch_size:i])\n",
    "    return"
   ]
  },
  {
   "cell_type": "markdown",
   "id": "82c88603",
   "metadata": {},
   "source": [
    "## The feedforward neural network model"
   ]
  },
  {
   "cell_type": "code",
   "execution_count": 12,
   "id": "af923c28",
   "metadata": {},
   "outputs": [],
   "source": [
    "# The Feedforward Neural Network \n",
    "class FFNN_model(nn.Module):\n",
    "    def __init__(self):\n",
    "        super().__init__()\n",
    "        num_features = features.shape[1]\n",
    "        self.fc1 = nn.Linear(num_features, 400)\n",
    "        self.fc2 = nn.Linear(400, 800)\n",
    "        self.fc3 = nn.Linear(800, 200)\n",
    "        self.fc4 = nn.Linear(200, 64)\n",
    "        self.fc5 = nn.Linear(64, 8)\n",
    "        self.fc6 = nn.Linear(8, 1)\n",
    "        self.dropout1 = nn.Dropout(0.4)\n",
    "        self.dropout2 = nn.Dropout(0.3)\n",
    "        self.dropout3 = nn.Dropout(0.5)\n",
    "    \n",
    "    def forward(self, X):\n",
    "        X = torch.tanh(self.fc1(X))\n",
    "        X = torch.relu(self.fc2(X))\n",
    "        X = self.dropout1(X)\n",
    "        X = torch.relu(self.fc3(X))\n",
    "        X = self.dropout3(X)\n",
    "        X = torch.relu(self.fc4(X))\n",
    "        X = self.dropout2(X)\n",
    "        X = torch.tanh(self.fc5(X))\n",
    "        return self.fc6(X)"
   ]
  },
  {
   "cell_type": "code",
   "execution_count": 13,
   "id": "3199f544",
   "metadata": {},
   "outputs": [
    {
     "data": {
      "text/plain": [
       "FFNN_model(\n",
       "  (fc1): Linear(in_features=23, out_features=400, bias=True)\n",
       "  (fc2): Linear(in_features=400, out_features=800, bias=True)\n",
       "  (fc3): Linear(in_features=800, out_features=200, bias=True)\n",
       "  (fc4): Linear(in_features=200, out_features=64, bias=True)\n",
       "  (fc5): Linear(in_features=64, out_features=8, bias=True)\n",
       "  (fc6): Linear(in_features=8, out_features=1, bias=True)\n",
       "  (dropout1): Dropout(p=0.4, inplace=False)\n",
       "  (dropout2): Dropout(p=0.3, inplace=False)\n",
       "  (dropout3): Dropout(p=0.5, inplace=False)\n",
       ")"
      ]
     },
     "execution_count": 13,
     "metadata": {},
     "output_type": "execute_result"
    }
   ],
   "source": [
    "# Instantiation of the model\n",
    "torch.manual_seed(42)\n",
    "model = FFNN_model()\n",
    "model"
   ]
  },
  {
   "cell_type": "code",
   "execution_count": 14,
   "id": "3ac6a0a2",
   "metadata": {},
   "outputs": [
    {
     "name": "stdout",
     "output_type": "stream",
     "text": [
      "9200\n",
      "400\n",
      "320000\n",
      "800\n",
      "160000\n",
      "200\n",
      "12800\n",
      "64\n",
      "512\n",
      "8\n",
      "8\n",
      "1\n",
      "Number of all parameters: 503993\n"
     ]
    }
   ],
   "source": [
    "num_para = 0\n",
    "for param in model.parameters():\n",
    "    print(param.numel())\n",
    "    num_para += param.numel()\n",
    "print(f'Number of all parameters: {num_para}')"
   ]
  },
  {
   "cell_type": "code",
   "execution_count": 15,
   "id": "20769e13",
   "metadata": {},
   "outputs": [],
   "source": [
    "# Objective function and optimizer\n",
    "criterion = nn.MSELoss()\n",
    "optimizer = optim.Adam(model.parameters(), lr=1e-3)\n",
    "# optimizer = optim.SGD(model.parameters(), lr=0.01, momentum=0.9)"
   ]
  },
  {
   "cell_type": "markdown",
   "id": "49aaa75b",
   "metadata": {},
   "source": [
    "## Defining the training loop"
   ]
  },
  {
   "cell_type": "code",
   "execution_count": 16,
   "id": "827b7d4c",
   "metadata": {},
   "outputs": [],
   "source": [
    "def training_loop(n_epochs=1000,\n",
    "                  batch_size=100,\n",
    "                  optimizer=optimizer, \n",
    "                  model=model, \n",
    "                  loss_fn=criterion, \n",
    "                  train_features=train_features, \n",
    "                  test_features=test_features, \n",
    "                  train_targets=train_targets, \n",
    "                  test_targets=test_targets):\n",
    "    num_features = train_features.shape[0]\n",
    "    start_time = time.time()\n",
    "    all_train_loss, all_test_loss = np.zeros(n_epochs), np.zeros(n_epochs)\n",
    "    for epoch in range(1, n_epochs +1):\n",
    "        # Training: \n",
    "        epoch_losses = []\n",
    "        # looping through batches\n",
    "        for train_features, train_targets in next_batch(train_features=train_features, \n",
    "                                                        train_targets=train_targets, batch_size=batch_size): \n",
    "            train_preds = model(train_features.float())\n",
    "            train_loss = loss_fn(train_targets.float(), train_preds.float())\n",
    "            optimizer.zero_grad()\n",
    "            train_loss.backward(retain_graph=True)\n",
    "            optimizer.step()\n",
    "            \n",
    "            epoch_losses.append(train_loss.item())\n",
    "        average_epoch_loss = sum(epoch_losses)/len(epoch_losses)\n",
    "        \n",
    "        # Test:\n",
    "        with torch.no_grad():\n",
    "            test_preds = model(test_features.float())\n",
    "            test_loss = loss_fn(test_targets.float(), test_preds.float())\n",
    "        \n",
    "        all_train_loss[epoch - 1] = average_epoch_loss\n",
    "        all_test_loss[epoch - 1] = test_loss.item()\n",
    "        # Printing the result: \n",
    "        if epoch == 1 or epoch % 100 == 0:\n",
    "            print(f\"EPOCH: {epoch:{7}}\")\n",
    "            print(f\"MEAN TRAIN LOSS:   {average_epoch_loss:.11f},    TEST LOSS:   {test_loss.item():.11f}\")\n",
    "            print(\"-----------------------------------------\")\n",
    "    print(\"The total time = \", np.round(time.time() - start_time, 3), \" seconds!\")\n",
    "    return all_train_loss, all_test_loss"
   ]
  },
  {
   "cell_type": "markdown",
   "id": "1b091380",
   "metadata": {},
   "source": [
    "# Training the model"
   ]
  },
  {
   "cell_type": "code",
   "execution_count": 17,
   "id": "2e755479",
   "metadata": {
    "scrolled": false
   },
   "outputs": [
    {
     "name": "stdout",
     "output_type": "stream",
     "text": [
      "EPOCH:       1\n",
      "MEAN TRAIN LOSS:   0.00303465508,    TEST LOSS:   0.00102888746\n",
      "-----------------------------------------\n",
      "EPOCH:     100\n",
      "MEAN TRAIN LOSS:   0.00020672854,    TEST LOSS:   0.00023434999\n",
      "-----------------------------------------\n",
      "EPOCH:     200\n",
      "MEAN TRAIN LOSS:   0.00012607856,    TEST LOSS:   0.00015688999\n",
      "-----------------------------------------\n",
      "EPOCH:     300\n",
      "MEAN TRAIN LOSS:   0.00007661574,    TEST LOSS:   0.00011381052\n",
      "-----------------------------------------\n",
      "EPOCH:     400\n",
      "MEAN TRAIN LOSS:   0.00006476670,    TEST LOSS:   0.00009147917\n",
      "-----------------------------------------\n",
      "EPOCH:     500\n",
      "MEAN TRAIN LOSS:   0.00004524861,    TEST LOSS:   0.00007981272\n",
      "-----------------------------------------\n",
      "EPOCH:     600\n",
      "MEAN TRAIN LOSS:   0.00005092712,    TEST LOSS:   0.00007172542\n",
      "-----------------------------------------\n",
      "EPOCH:     700\n",
      "MEAN TRAIN LOSS:   0.00003497342,    TEST LOSS:   0.00006720236\n",
      "-----------------------------------------\n",
      "EPOCH:     800\n",
      "MEAN TRAIN LOSS:   0.00003058065,    TEST LOSS:   0.00006182335\n",
      "-----------------------------------------\n",
      "EPOCH:     900\n",
      "MEAN TRAIN LOSS:   0.00003255247,    TEST LOSS:   0.00005937758\n",
      "-----------------------------------------\n",
      "EPOCH:    1000\n",
      "MEAN TRAIN LOSS:   0.00002870795,    TEST LOSS:   0.00005910625\n",
      "-----------------------------------------\n",
      "EPOCH:    1100\n",
      "MEAN TRAIN LOSS:   0.00003162825,    TEST LOSS:   0.00005604996\n",
      "-----------------------------------------\n",
      "EPOCH:    1200\n",
      "MEAN TRAIN LOSS:   0.00002763280,    TEST LOSS:   0.00005610681\n",
      "-----------------------------------------\n",
      "EPOCH:    1300\n",
      "MEAN TRAIN LOSS:   0.00002792818,    TEST LOSS:   0.00005425686\n",
      "-----------------------------------------\n",
      "EPOCH:    1400\n",
      "MEAN TRAIN LOSS:   0.00002547893,    TEST LOSS:   0.00005250909\n",
      "-----------------------------------------\n",
      "EPOCH:    1500\n",
      "MEAN TRAIN LOSS:   0.00002324940,    TEST LOSS:   0.00005022567\n",
      "-----------------------------------------\n",
      "EPOCH:    1600\n",
      "MEAN TRAIN LOSS:   0.00002113952,    TEST LOSS:   0.00005116816\n",
      "-----------------------------------------\n",
      "EPOCH:    1700\n",
      "MEAN TRAIN LOSS:   0.00002043240,    TEST LOSS:   0.00005031356\n",
      "-----------------------------------------\n",
      "EPOCH:    1800\n",
      "MEAN TRAIN LOSS:   0.00002507757,    TEST LOSS:   0.00005385886\n",
      "-----------------------------------------\n",
      "EPOCH:    1900\n",
      "MEAN TRAIN LOSS:   0.00002330715,    TEST LOSS:   0.00004750979\n",
      "-----------------------------------------\n",
      "EPOCH:    2000\n",
      "MEAN TRAIN LOSS:   0.00001968631,    TEST LOSS:   0.00004903123\n",
      "-----------------------------------------\n",
      "The total time =  1013.46  seconds!\n"
     ]
    }
   ],
   "source": [
    "losses = training_loop(n_epochs=2000,\n",
    "                  batch_size=400,\n",
    "                  optimizer=optimizer, \n",
    "                  model=model, \n",
    "                  loss_fn=criterion, \n",
    "                  train_features=train_features, \n",
    "                  test_features=test_features, \n",
    "                  train_targets=train_targets, \n",
    "                  test_targets=test_targets)"
   ]
  },
  {
   "cell_type": "code",
   "execution_count": 18,
   "id": "86fc2275",
   "metadata": {},
   "outputs": [],
   "source": [
    "# Saving the losses as a numpy file\n",
    "np.save(\"fb_media_pages_train_losses_rcdf_p2_deeper.npy\", losses[0], allow_pickle=False, fix_imports=True)\n",
    "np.save(\"fb_media_pages_test_losses_rcdf_p2_deeper.npy\", losses[1], allow_pickle=False, fix_imports=True)"
   ]
  },
  {
   "cell_type": "code",
   "execution_count": 19,
   "id": "2a8b4ccf",
   "metadata": {
    "scrolled": false
   },
   "outputs": [
    {
     "name": "stdout",
     "output_type": "stream",
     "text": [
      "target 0.14145345290453262,    prediction: 0.16488441824913025\n",
      "index 0:       inaccuracy: 16.564%\n",
      "-----------------------------------\n",
      "target 0.20988443375280458,    prediction: 0.21081876754760742\n",
      "index 500:       inaccuracy: 0.445%\n",
      "-----------------------------------\n",
      "target 0.22316560365057925,    prediction: 0.22066497802734375\n",
      "index 1000:       inaccuracy: 1.121%\n",
      "-----------------------------------\n",
      "target 0.24689763783353602,    prediction: 0.244587704539299\n",
      "index 1500:       inaccuracy: 0.936%\n",
      "-----------------------------------\n",
      "target 0.2880404502716103,    prediction: 0.275776743888855\n",
      "index 2000:       inaccuracy: 4.258%\n",
      "-----------------------------------\n",
      "target 0.23430168659460748,    prediction: 0.23586204648017883\n",
      "index 2500:       inaccuracy: 0.666%\n",
      "-----------------------------------\n",
      "target 0.2346798943698495,    prediction: 0.23607517778873444\n",
      "index 3000:       inaccuracy: 0.595%\n",
      "-----------------------------------\n",
      "target 0.2189195974826815,    prediction: 0.22216498851776123\n",
      "index 3500:       inaccuracy: 1.482%\n",
      "-----------------------------------\n",
      "target 0.22387796377900734,    prediction: 0.22453057765960693\n",
      "index 4000:       inaccuracy: 0.292%\n",
      "-----------------------------------\n",
      "target 0.22846806763700594,    prediction: 0.2282285988330841\n",
      "index 4500:       inaccuracy: 0.105%\n",
      "-----------------------------------\n",
      "target 0.2314229104520992,    prediction: 0.22882357239723206\n",
      "index 5000:       inaccuracy: 1.123%\n",
      "-----------------------------------\n",
      "target 0.2598947910788301,    prediction: 0.260456383228302\n",
      "index 5500:       inaccuracy: 0.216%\n",
      "-----------------------------------\n",
      "target 0.24887216736347204,    prediction: 0.2502046227455139\n",
      "index 6000:       inaccuracy: 0.535%\n",
      "-----------------------------------\n",
      "target 0.26780386284402974,    prediction: 0.26330074667930603\n",
      "index 6500:       inaccuracy: 1.681%\n",
      "-----------------------------------\n",
      "target 0.20236774785461298,    prediction: 0.20440463721752167\n",
      "index 7000:       inaccuracy: 1.007%\n",
      "-----------------------------------\n",
      "target 0.23342392470478532,    prediction: 0.23361945152282715\n",
      "index 7500:       inaccuracy: 0.084%\n",
      "-----------------------------------\n",
      "target 0.21974855767531115,    prediction: 0.22232329845428467\n",
      "index 8000:       inaccuracy: 1.172%\n",
      "-----------------------------------\n",
      "target 0.20108777895632138,    prediction: 0.20322537422180176\n",
      "index 8500:       inaccuracy: 1.063%\n",
      "-----------------------------------\n",
      "target 0.2288708146323649,    prediction: 0.22729840874671936\n",
      "index 9000:       inaccuracy: 0.687%\n",
      "-----------------------------------\n",
      "target 0.2663422550052168,    prediction: 0.2627510726451874\n",
      "index 9500:       inaccuracy: 1.348%\n",
      "-----------------------------------\n",
      "target 0.27624221947591515,    prediction: 0.26917117834091187\n",
      "index 10000:       inaccuracy: 2.56%\n",
      "-----------------------------------\n",
      "target 0.2605327512630131,    prediction: 0.2577775716781616\n",
      "index 10500:       inaccuracy: 1.058%\n",
      "-----------------------------------\n",
      "target 0.25462937656962537,    prediction: 0.2524312734603882\n",
      "index 11000:       inaccuracy: 0.863%\n",
      "-----------------------------------\n",
      "target 0.23558106199528864,    prediction: 0.2371218502521515\n",
      "index 11500:       inaccuracy: 0.654%\n",
      "-----------------------------------\n",
      "target 0.23024894036179416,    prediction: 0.22811391949653625\n",
      "index 12000:       inaccuracy: 0.927%\n",
      "-----------------------------------\n",
      "target 0.20779394823256597,    prediction: 0.2091851681470871\n",
      "index 12500:       inaccuracy: 0.67%\n",
      "-----------------------------------\n",
      "target 0.2177548953570618,    prediction: 0.21679097414016724\n",
      "index 13000:       inaccuracy: 0.443%\n",
      "-----------------------------------\n",
      "target 0.24185554893447833,    prediction: 0.23842985928058624\n",
      "index 13500:       inaccuracy: 1.416%\n",
      "-----------------------------------\n",
      "target 0.2604744045296246,    prediction: 0.25786492228507996\n",
      "index 14000:       inaccuracy: 1.002%\n",
      "-----------------------------------\n",
      "target 0.2661644818671919,    prediction: 0.26186075806617737\n",
      "index 14500:       inaccuracy: 1.617%\n",
      "-----------------------------------\n",
      "target 0.23543601322353308,    prediction: 0.23620273172855377\n",
      "index 15000:       inaccuracy: 0.326%\n",
      "-----------------------------------\n",
      "target 0.20321042504147163,    prediction: 0.20923060178756714\n",
      "index 15500:       inaccuracy: 2.963%\n",
      "-----------------------------------\n",
      "target 0.19691166018257572,    prediction: 0.2014332413673401\n",
      "index 16000:       inaccuracy: 2.296%\n",
      "-----------------------------------\n",
      "target 0.18572188979255988,    prediction: 0.1899147778749466\n",
      "index 16500:       inaccuracy: 2.258%\n",
      "-----------------------------------\n",
      "target 0.22962767999721748,    prediction: 0.22754232585430145\n",
      "index 17000:       inaccuracy: 0.908%\n",
      "-----------------------------------\n",
      "target 0.12493454312475888,    prediction: 0.16948044300079346\n",
      "index 17500:       inaccuracy: 35.655%\n",
      "-----------------------------------\n"
     ]
    }
   ],
   "source": [
    "model.eval()\n",
    "errors = []\n",
    "for i in range(n_test):\n",
    "    targ = test_targets[i].item()\n",
    "    feat = test_features[i].float().view(1,1,23)\n",
    "    pred = model(feat).item()\n",
    "    if targ == 0:\n",
    "        inaccuracy = 0\n",
    "    else:\n",
    "        inaccuracy = abs(1 - pred/targ) * 100\n",
    "    errors.append(inaccuracy)\n",
    "    if i%500 == 0:\n",
    "        print(f\"target {targ},    prediction: {pred}\\nindex {i}:       inaccuracy: {np.round(inaccuracy, 3)}%\")\n",
    "        print(\"-----------------------------------\")"
   ]
  },
  {
   "cell_type": "code",
   "execution_count": 20,
   "id": "11c08874",
   "metadata": {},
   "outputs": [
    {
     "name": "stdout",
     "output_type": "stream",
     "text": [
      "Average inaccuracy:  2.089\n"
     ]
    }
   ],
   "source": [
    "print(\"Average inaccuracy: \", np.round(sum(errors)/len(errors), 3))"
   ]
  },
  {
   "cell_type": "code",
   "execution_count": 21,
   "id": "0de52ed4",
   "metadata": {},
   "outputs": [],
   "source": [
    "torch.save(model, \"trained_model_closeness_fb_media_rcdf_p2_deeper.pt\")"
   ]
  },
  {
   "cell_type": "code",
   "execution_count": null,
   "id": "08f1a1ce",
   "metadata": {},
   "outputs": [],
   "source": []
  }
 ],
 "metadata": {
  "kernelspec": {
   "display_name": "Python 3 (ipykernel)",
   "language": "python",
   "name": "python3"
  },
  "language_info": {
   "codemirror_mode": {
    "name": "ipython",
    "version": 3
   },
   "file_extension": ".py",
   "mimetype": "text/x-python",
   "name": "python",
   "nbconvert_exporter": "python",
   "pygments_lexer": "ipython3",
   "version": "3.8.3"
  }
 },
 "nbformat": 4,
 "nbformat_minor": 5
}
