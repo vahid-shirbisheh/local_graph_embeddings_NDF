{
 "cells": [
  {
   "cell_type": "markdown",
   "id": "9d2fa88e",
   "metadata": {},
   "source": [
    "# Learning closeness centrality using deep learning model and features extracted via the RNDFC matrix rep. of nodes\n",
    "\n",
    "This notebook is completes the discussion in Example 7.4 in the article."
   ]
  },
  {
   "cell_type": "code",
   "execution_count": 1,
   "id": "0f52305e",
   "metadata": {},
   "outputs": [],
   "source": [
    "from mygraph import MyGraph\n",
    "from helpers import *\n",
    "import time\n",
    "import torch\n",
    "import torch.nn as nn\n",
    "import torch.optim as optim\n",
    "import torch.nn.functional as F"
   ]
  },
  {
   "cell_type": "markdown",
   "id": "11899144",
   "metadata": {},
   "source": [
    "## Loading the dataset from numpy files"
   ]
  },
  {
   "cell_type": "code",
   "execution_count": 2,
   "id": "40115369",
   "metadata": {},
   "outputs": [
    {
     "data": {
      "text/plain": [
       "array([0.23340831])"
      ]
     },
     "execution_count": 2,
     "metadata": {},
     "output_type": "execute_result"
    }
   ],
   "source": [
    "# closeness centrality as the target or label data\n",
    "target_closeness = np.load(\"fb_media_pages_closeness.npy\", mmap_mode=None, allow_pickle=False, fix_imports=True, encoding='ASCII')\n",
    "target_closeness[0]"
   ]
  },
  {
   "cell_type": "code",
   "execution_count": 3,
   "id": "5e44f57a",
   "metadata": {},
   "outputs": [],
   "source": [
    "# the RNDFC matrix as the feature set\n",
    "matrix = np.load(\"fb_media_pages_RNDFC_matrix_r1_3_sta1_max70_rad3.npy\", mmap_mode=None, allow_pickle=False, fix_imports=True, encoding='ASCII')"
   ]
  },
  {
   "cell_type": "code",
   "execution_count": 4,
   "id": "8797e768",
   "metadata": {},
   "outputs": [
    {
     "data": {
      "text/plain": [
       "((27917, 1), (27917, 4, 23))"
      ]
     },
     "execution_count": 4,
     "metadata": {},
     "output_type": "execute_result"
    }
   ],
   "source": [
    "target_closeness.shape, matrix.shape"
   ]
  },
  {
   "cell_type": "code",
   "execution_count": 5,
   "id": "31a63416",
   "metadata": {},
   "outputs": [
    {
     "data": {
      "text/plain": [
       "array([[ 0.,  1.,  0.,  0.,  0.,  0.,  0.,  0.,  0.,  0.,  0.,  0.,  0.,\n",
       "         0.,  0.,  0.,  0.,  0.,  0.,  0.,  0.,  0.,  0.],\n",
       "       [ 1.,  0.,  0.,  0.,  0.,  0.,  0.,  0.,  1.,  0.,  0.,  0.,  0.,\n",
       "         0.,  0.,  0.,  0.,  0.,  0.,  0.,  0.,  0.,  0.],\n",
       "       [ 1.,  4.,  2.,  4.,  2.,  1.,  1.,  3.,  2.,  1.,  3.,  0.,  0.,\n",
       "         0.,  0.,  0.,  0.,  0.,  0.,  0.,  0.,  0.,  0.],\n",
       "       [ 2.,  7., 11., 28., 33., 31., 35., 18., 34., 30., 24., 17.,  9.,\n",
       "        13.,  7.,  2.,  9.,  2.,  5.,  5.,  4.,  2.,  2.]])"
      ]
     },
     "execution_count": 5,
     "metadata": {},
     "output_type": "execute_result"
    }
   ],
   "source": [
    "matrix[11]"
   ]
  },
  {
   "cell_type": "markdown",
   "id": "98da472d",
   "metadata": {},
   "source": [
    "# The p-aggregation of the RCDF matrix\n",
    "\n",
    "To apply this aggregation we just need to multiply the following row matrix from left to the RCDF matrix:\n",
    "### $$\n",
    "\\left[ 1, p, p^2, \\cdots, p^{(r -1 )} \\right],\n",
    "$$\n",
    "where $r$ is the order of the RCDF matrix representation (the number of rows)."
   ]
  },
  {
   "cell_type": "code",
   "execution_count": 6,
   "id": "7180c06a",
   "metadata": {},
   "outputs": [
    {
     "data": {
      "text/plain": [
       "array([1.      , 0.15    , 0.0225  , 0.003375])"
      ]
     },
     "execution_count": 6,
     "metadata": {},
     "output_type": "execute_result"
    }
   ],
   "source": [
    "p = 0.15\n",
    "order = matrix.shape[1]\n",
    "parameter_vector = np.zeros(order)\n",
    "for i in range(order):\n",
    "    parameter_vector[i] += p**i\n",
    "parameter_vector"
   ]
  },
  {
   "cell_type": "code",
   "execution_count": 7,
   "id": "a81fd4cb",
   "metadata": {},
   "outputs": [
    {
     "data": {
      "text/plain": [
       "(27917, 23)"
      ]
     },
     "execution_count": 7,
     "metadata": {},
     "output_type": "execute_result"
    }
   ],
   "source": [
    "feature_vectors = np.matmul(parameter_vector, matrix)\n",
    "feature_vectors.shape"
   ]
  },
  {
   "cell_type": "markdown",
   "id": "4fbf33bb",
   "metadata": {},
   "source": [
    "# Converting the dataset into pytorch tensors"
   ]
  },
  {
   "cell_type": "code",
   "execution_count": 8,
   "id": "b112c2d3",
   "metadata": {},
   "outputs": [
    {
     "data": {
      "text/plain": [
       "(torch.Size([27917, 23]), torch.Size([27917, 1]))"
      ]
     },
     "execution_count": 8,
     "metadata": {},
     "output_type": "execute_result"
    }
   ],
   "source": [
    "features = torch.from_numpy(feature_vectors)\n",
    "targets = torch.from_numpy(target_closeness)\n",
    "features.shape, targets.shape"
   ]
  },
  {
   "cell_type": "code",
   "execution_count": 9,
   "id": "8f45f034",
   "metadata": {},
   "outputs": [
    {
     "data": {
      "text/plain": [
       "tensor([[0.2334],\n",
       "        [0.2231],\n",
       "        [0.2180],\n",
       "        ...,\n",
       "        [0.2319],\n",
       "        [0.2520],\n",
       "        [0.1761]], dtype=torch.float64, requires_grad=True)"
      ]
     },
     "execution_count": 9,
     "metadata": {},
     "output_type": "execute_result"
    }
   ],
   "source": [
    "# Activating the automatic gradient \n",
    "features.requires_grad_(True)\n",
    "targets.requires_grad_(True)"
   ]
  },
  {
   "cell_type": "markdown",
   "id": "5bab54f2",
   "metadata": {},
   "source": [
    "# Dividing dataset into train and test data"
   ]
  },
  {
   "cell_type": "code",
   "execution_count": 10,
   "id": "b68b3e42",
   "metadata": {},
   "outputs": [
    {
     "data": {
      "text/plain": [
       "(torch.Size([10000, 23]),\n",
       " torch.Size([17917, 23]),\n",
       " torch.Size([10000, 1]),\n",
       " torch.Size([17917, 1]))"
      ]
     },
     "execution_count": 10,
     "metadata": {},
     "output_type": "execute_result"
    }
   ],
   "source": [
    "# Shuffling and dividing the indecies\n",
    "n_samples = features.shape[0]\n",
    "n_test = 17917\n",
    "shuffled_ind = torch.randperm(n_samples)\n",
    "train_ind = shuffled_ind[:-n_test]\n",
    "test_ind = shuffled_ind[-n_test:]\n",
    "# Dividing features and targets into tain and test sets\n",
    "train_features = features[train_ind]\n",
    "test_features = features[test_ind]\n",
    "train_targets = targets[train_ind]\n",
    "test_targets = targets[test_ind]\n",
    "train_features.shape, test_features.shape, train_targets.shape, test_targets.shape"
   ]
  },
  {
   "cell_type": "markdown",
   "id": "643b1796",
   "metadata": {},
   "source": [
    "## A function for dividing train data into batches"
   ]
  },
  {
   "cell_type": "code",
   "execution_count": 11,
   "id": "628bf1ec",
   "metadata": {},
   "outputs": [],
   "source": [
    "# dividing train_features and train_targets into batches\n",
    "def next_batch(train_features, train_targets, batch_size=100):\n",
    "    num_features = train_features.shape[0]\n",
    "    # Shuffling\n",
    "    shuffled_ind = torch.randperm(num_features)\n",
    "    shuffled_train_features = train_features[shuffled_ind]\n",
    "    shuffled_train_targets = train_targets[shuffled_ind]\n",
    "    # Dividing\n",
    "    i = 0\n",
    "    while i < num_features:\n",
    "        i += batch_size\n",
    "        yield (shuffled_train_features[i-batch_size:i], shuffled_train_targets[i-batch_size:i])\n",
    "    return"
   ]
  },
  {
   "cell_type": "markdown",
   "id": "82c88603",
   "metadata": {},
   "source": [
    "## The feedforward neural network model"
   ]
  },
  {
   "cell_type": "code",
   "execution_count": 12,
   "id": "af923c28",
   "metadata": {},
   "outputs": [],
   "source": [
    "# The Feedforward Neural Network \n",
    "class FFNN_model(nn.Module):\n",
    "    def __init__(self):\n",
    "        super().__init__()\n",
    "        num_features = features.shape[1]\n",
    "        self.fc1 = nn.Linear(num_features, 64)\n",
    "        self.fc2 = nn.Linear(64, 8)\n",
    "        self.fc3 = nn.Linear(8, 1)\n",
    "        self.dropout1 = nn.Dropout(0.3)\n",
    "        \n",
    "    def forward(self, X):\n",
    "        X = torch.tanh(self.fc1(X))\n",
    "        X = self.dropout1(X)\n",
    "        X = torch.relu(self.fc2(X))\n",
    "        return self.fc3(X)"
   ]
  },
  {
   "cell_type": "code",
   "execution_count": 13,
   "id": "3199f544",
   "metadata": {},
   "outputs": [
    {
     "data": {
      "text/plain": [
       "FFNN_model(\n",
       "  (fc1): Linear(in_features=23, out_features=64, bias=True)\n",
       "  (fc2): Linear(in_features=64, out_features=8, bias=True)\n",
       "  (fc3): Linear(in_features=8, out_features=1, bias=True)\n",
       "  (dropout1): Dropout(p=0.3, inplace=False)\n",
       ")"
      ]
     },
     "execution_count": 13,
     "metadata": {},
     "output_type": "execute_result"
    }
   ],
   "source": [
    "# Instantiation of the model\n",
    "torch.manual_seed(42)\n",
    "model = FFNN_model()\n",
    "model"
   ]
  },
  {
   "cell_type": "code",
   "execution_count": 14,
   "id": "3ac6a0a2",
   "metadata": {},
   "outputs": [
    {
     "name": "stdout",
     "output_type": "stream",
     "text": [
      "1472\n",
      "64\n",
      "512\n",
      "8\n",
      "8\n",
      "1\n",
      "Number of all parameters: 2065\n"
     ]
    }
   ],
   "source": [
    "num_para = 0\n",
    "for param in model.parameters():\n",
    "    print(param.numel())\n",
    "    num_para += param.numel()\n",
    "print(f'Number of all parameters: {num_para}')"
   ]
  },
  {
   "cell_type": "code",
   "execution_count": 15,
   "id": "20769e13",
   "metadata": {},
   "outputs": [],
   "source": [
    "# Objective function and optimizer\n",
    "criterion = nn.MSELoss()\n",
    "optimizer = optim.Adam(model.parameters(), lr=1e-3)\n",
    "# optimizer = optim.SGD(model.parameters(), lr=0.01, momentum=0.9)"
   ]
  },
  {
   "cell_type": "markdown",
   "id": "49aaa75b",
   "metadata": {},
   "source": [
    "## Defining the training loop"
   ]
  },
  {
   "cell_type": "code",
   "execution_count": 16,
   "id": "827b7d4c",
   "metadata": {},
   "outputs": [],
   "source": [
    "def training_loop(n_epochs=1000,\n",
    "                  batch_size=100,\n",
    "                  optimizer=optimizer, \n",
    "                  model=model, \n",
    "                  loss_fn=criterion, \n",
    "                  train_features=train_features, \n",
    "                  test_features=test_features, \n",
    "                  train_targets=train_targets, \n",
    "                  test_targets=test_targets):\n",
    "    num_features = train_features.shape[0]\n",
    "    start_time = time.time()\n",
    "    all_train_loss, all_test_loss = np.zeros(n_epochs), np.zeros(n_epochs)\n",
    "    for epoch in range(1, n_epochs +1):\n",
    "        # Training: \n",
    "        epoch_losses = []\n",
    "        # looping through batches\n",
    "        for train_features, train_targets in next_batch(train_features=train_features, \n",
    "                                                        train_targets=train_targets, batch_size=batch_size): \n",
    "            train_preds = model(train_features.float())\n",
    "            train_loss = loss_fn(train_targets.float(), train_preds.float())\n",
    "            optimizer.zero_grad()\n",
    "            train_loss.backward(retain_graph=True)\n",
    "            optimizer.step()\n",
    "            \n",
    "            epoch_losses.append(train_loss.item())\n",
    "        average_epoch_loss = sum(epoch_losses)/len(epoch_losses)\n",
    "        \n",
    "        # Test:\n",
    "        with torch.no_grad():\n",
    "            test_preds = model(test_features.float())\n",
    "            test_loss = loss_fn(test_targets.float(), test_preds.float())\n",
    "        \n",
    "        all_train_loss[epoch - 1] = average_epoch_loss\n",
    "        all_test_loss[epoch - 1] = test_loss.item()\n",
    "        # Printing the result: \n",
    "        if epoch == 1 or epoch % 100 == 0:\n",
    "            print(f\"EPOCH: {epoch:{7}}\")\n",
    "            print(f\"MEAN TRAIN LOSS:   {average_epoch_loss:.11f},    TEST LOSS:   {test_loss.item():.11f}\")\n",
    "            print(\"-----------------------------------------\")\n",
    "    print(\"The total time = \", np.round(time.time() - start_time, 3), \" seconds!\")\n",
    "    return all_train_loss, all_test_loss"
   ]
  },
  {
   "cell_type": "markdown",
   "id": "1b091380",
   "metadata": {},
   "source": [
    "# Training the model"
   ]
  },
  {
   "cell_type": "code",
   "execution_count": 17,
   "id": "2e755479",
   "metadata": {
    "scrolled": false
   },
   "outputs": [
    {
     "name": "stdout",
     "output_type": "stream",
     "text": [
      "EPOCH:       1\n",
      "MEAN TRAIN LOSS:   0.01707468810,    TEST LOSS:   0.00720630959\n",
      "-----------------------------------------\n",
      "EPOCH:     100\n",
      "MEAN TRAIN LOSS:   0.00073777244,    TEST LOSS:   0.00080559723\n",
      "-----------------------------------------\n",
      "EPOCH:     200\n",
      "MEAN TRAIN LOSS:   0.00056942465,    TEST LOSS:   0.00059077190\n",
      "-----------------------------------------\n",
      "EPOCH:     300\n",
      "MEAN TRAIN LOSS:   0.00045835774,    TEST LOSS:   0.00049229717\n",
      "-----------------------------------------\n",
      "EPOCH:     400\n",
      "MEAN TRAIN LOSS:   0.00041102129,    TEST LOSS:   0.00043053110\n",
      "-----------------------------------------\n",
      "EPOCH:     500\n",
      "MEAN TRAIN LOSS:   0.00040878286,    TEST LOSS:   0.00037526965\n",
      "-----------------------------------------\n",
      "EPOCH:     600\n",
      "MEAN TRAIN LOSS:   0.00029680040,    TEST LOSS:   0.00035251846\n",
      "-----------------------------------------\n",
      "EPOCH:     700\n",
      "MEAN TRAIN LOSS:   0.00027530012,    TEST LOSS:   0.00031406683\n",
      "-----------------------------------------\n",
      "EPOCH:     800\n",
      "MEAN TRAIN LOSS:   0.00022065845,    TEST LOSS:   0.00027047491\n",
      "-----------------------------------------\n",
      "EPOCH:     900\n",
      "MEAN TRAIN LOSS:   0.00021088582,    TEST LOSS:   0.00025060383\n",
      "-----------------------------------------\n",
      "EPOCH:    1000\n",
      "MEAN TRAIN LOSS:   0.00018388330,    TEST LOSS:   0.00021261268\n",
      "-----------------------------------------\n",
      "EPOCH:    1100\n",
      "MEAN TRAIN LOSS:   0.00017367989,    TEST LOSS:   0.00020173258\n",
      "-----------------------------------------\n",
      "EPOCH:    1200\n",
      "MEAN TRAIN LOSS:   0.00016135072,    TEST LOSS:   0.00019683056\n",
      "-----------------------------------------\n",
      "EPOCH:    1300\n",
      "MEAN TRAIN LOSS:   0.00014580147,    TEST LOSS:   0.00018420770\n",
      "-----------------------------------------\n",
      "EPOCH:    1400\n",
      "MEAN TRAIN LOSS:   0.00014007988,    TEST LOSS:   0.00016510670\n",
      "-----------------------------------------\n",
      "EPOCH:    1500\n",
      "MEAN TRAIN LOSS:   0.00012923355,    TEST LOSS:   0.00017000778\n",
      "-----------------------------------------\n",
      "EPOCH:    1600\n",
      "MEAN TRAIN LOSS:   0.00012392766,    TEST LOSS:   0.00015664735\n",
      "-----------------------------------------\n",
      "EPOCH:    1700\n",
      "MEAN TRAIN LOSS:   0.00012720255,    TEST LOSS:   0.00017007970\n",
      "-----------------------------------------\n",
      "EPOCH:    1800\n",
      "MEAN TRAIN LOSS:   0.00011686807,    TEST LOSS:   0.00014523439\n",
      "-----------------------------------------\n",
      "EPOCH:    1900\n",
      "MEAN TRAIN LOSS:   0.00011977297,    TEST LOSS:   0.00014357659\n",
      "-----------------------------------------\n",
      "EPOCH:    2000\n",
      "MEAN TRAIN LOSS:   0.00011429968,    TEST LOSS:   0.00013782972\n",
      "-----------------------------------------\n",
      "The total time =  156.585  seconds!\n"
     ]
    }
   ],
   "source": [
    "losses = training_loop(n_epochs=2000,\n",
    "                  batch_size=400,\n",
    "                  optimizer=optimizer, \n",
    "                  model=model, \n",
    "                  loss_fn=criterion, \n",
    "                  train_features=train_features, \n",
    "                  test_features=test_features, \n",
    "                  train_targets=train_targets, \n",
    "                  test_targets=test_targets)"
   ]
  },
  {
   "cell_type": "code",
   "execution_count": 18,
   "id": "86fc2275",
   "metadata": {},
   "outputs": [],
   "source": [
    "# Saving the losses as a numpy file\n",
    "#np.save(\"fb_media_pages_train_losses_rndfc_p2.npy\", losses[0], allow_pickle=False, fix_imports=True)\n",
    "#np.save(\"fb_media_pages_test_losses_rndfc_p2.npy\", losses[1], allow_pickle=False, fix_imports=True)"
   ]
  },
  {
   "cell_type": "code",
   "execution_count": 19,
   "id": "2a8b4ccf",
   "metadata": {
    "scrolled": false
   },
   "outputs": [
    {
     "name": "stdout",
     "output_type": "stream",
     "text": [
      "target 0.2405881544837426,    prediction: 0.2411280870437622\n",
      "index 0:       inaccuracy: 0.224%\n",
      "-----------------------------------\n",
      "target 0.20110226602659667,    prediction: 0.20550689101219177\n",
      "index 500:       inaccuracy: 2.19%\n",
      "-----------------------------------\n",
      "target 0.2914995826631344,    prediction: 0.27448874711990356\n",
      "index 1000:       inaccuracy: 5.836%\n",
      "-----------------------------------\n",
      "target 0.2471293372980067,    prediction: 0.24947240948677063\n",
      "index 1500:       inaccuracy: 0.948%\n",
      "-----------------------------------\n",
      "target 0.27839668121936184,    prediction: 0.27448874711990356\n",
      "index 2000:       inaccuracy: 1.404%\n",
      "-----------------------------------\n",
      "target 0.19127038533521826,    prediction: 0.19772250950336456\n",
      "index 2500:       inaccuracy: 3.373%\n",
      "-----------------------------------\n",
      "target 0.188725424154351,    prediction: 0.19485965371131897\n",
      "index 3000:       inaccuracy: 3.25%\n",
      "-----------------------------------\n",
      "target 0.20262187535075746,    prediction: 0.2056848406791687\n",
      "index 3500:       inaccuracy: 1.512%\n",
      "-----------------------------------\n",
      "target 0.1978621757880162,    prediction: 0.2114073485136032\n",
      "index 4000:       inaccuracy: 6.846%\n",
      "-----------------------------------\n",
      "target 0.2709281675983127,    prediction: 0.2506561577320099\n",
      "index 4500:       inaccuracy: 7.482%\n",
      "-----------------------------------\n",
      "target 0.17087100528162283,    prediction: 0.1666819304227829\n",
      "index 5000:       inaccuracy: 2.452%\n",
      "-----------------------------------\n",
      "target 0.21773960823268318,    prediction: 0.21425054967403412\n",
      "index 5500:       inaccuracy: 1.602%\n",
      "-----------------------------------\n",
      "target 0.2373619274991008,    prediction: 0.22991950809955597\n",
      "index 6000:       inaccuracy: 3.135%\n",
      "-----------------------------------\n",
      "target 0.2549805895028249,    prediction: 0.262518048286438\n",
      "index 6500:       inaccuracy: 2.956%\n",
      "-----------------------------------\n",
      "target 0.24304322115262905,    prediction: 0.243187814950943\n",
      "index 7000:       inaccuracy: 0.059%\n",
      "-----------------------------------\n",
      "target 0.2400956463489511,    prediction: 0.2410738617181778\n",
      "index 7500:       inaccuracy: 0.407%\n",
      "-----------------------------------\n",
      "target 0.20060799036861557,    prediction: 0.2049523890018463\n",
      "index 8000:       inaccuracy: 2.166%\n",
      "-----------------------------------\n",
      "target 0.220317445566435,    prediction: 0.21601316332817078\n",
      "index 8500:       inaccuracy: 1.954%\n",
      "-----------------------------------\n",
      "target 0.22617996220736336,    prediction: 0.22596944868564606\n",
      "index 9000:       inaccuracy: 0.093%\n",
      "-----------------------------------\n",
      "target 0.2843608658553212,    prediction: 0.2679336369037628\n",
      "index 9500:       inaccuracy: 5.777%\n",
      "-----------------------------------\n",
      "target 0.24237845941825134,    prediction: 0.24826887249946594\n",
      "index 10000:       inaccuracy: 2.43%\n",
      "-----------------------------------\n",
      "target 0.20639122231620247,    prediction: 0.2074451446533203\n",
      "index 10500:       inaccuracy: 0.511%\n",
      "-----------------------------------\n",
      "target 0.3353194151769665,    prediction: 0.27448874711990356\n",
      "index 11000:       inaccuracy: 18.141%\n",
      "-----------------------------------\n",
      "target 0.23620101740429136,    prediction: 0.23391418159008026\n",
      "index 11500:       inaccuracy: 0.968%\n",
      "-----------------------------------\n",
      "target 0.19672708846039066,    prediction: 0.2032892405986786\n",
      "index 12000:       inaccuracy: 3.336%\n",
      "-----------------------------------\n",
      "target 0.3430586967336269,    prediction: 0.27448874711990356\n",
      "index 12500:       inaccuracy: 19.988%\n",
      "-----------------------------------\n",
      "target 0.23465819324642517,    prediction: 0.23438480496406555\n",
      "index 13000:       inaccuracy: 0.117%\n",
      "-----------------------------------\n",
      "target 0.23514843174699054,    prediction: 0.2404482513666153\n",
      "index 13500:       inaccuracy: 2.254%\n",
      "-----------------------------------\n",
      "target 0.20965113249330994,    prediction: 0.21164396405220032\n",
      "index 14000:       inaccuracy: 0.951%\n",
      "-----------------------------------\n",
      "target 0.28473794842423805,    prediction: 0.27448874711990356\n",
      "index 14500:       inaccuracy: 3.6%\n",
      "-----------------------------------\n",
      "target 0.23114312951452615,    prediction: 0.23903411626815796\n",
      "index 15000:       inaccuracy: 3.414%\n",
      "-----------------------------------\n",
      "target 0.202763169624181,    prediction: 0.2045993208885193\n",
      "index 15500:       inaccuracy: 0.906%\n",
      "-----------------------------------\n",
      "target 0.2295691366758099,    prediction: 0.2332220822572708\n",
      "index 16000:       inaccuracy: 1.591%\n",
      "-----------------------------------\n",
      "target 0.22712405034760827,    prediction: 0.23451724648475647\n",
      "index 16500:       inaccuracy: 3.255%\n",
      "-----------------------------------\n",
      "target 0.25773272058631796,    prediction: 0.2572156488895416\n",
      "index 17000:       inaccuracy: 0.201%\n",
      "-----------------------------------\n",
      "target 0.2557983966627423,    prediction: 0.26270416378974915\n",
      "index 17500:       inaccuracy: 2.7%\n",
      "-----------------------------------\n"
     ]
    }
   ],
   "source": [
    "model.eval()\n",
    "errors = []\n",
    "for i in range(n_test):\n",
    "    targ = test_targets[i].item()\n",
    "    feat = test_features[i].float().view(1,1,23)\n",
    "    pred = model(feat).item()\n",
    "    if targ == 0:\n",
    "        inaccuracy = 0\n",
    "    else:\n",
    "        inaccuracy = abs(1 - pred/targ) * 100\n",
    "    errors.append(inaccuracy)\n",
    "    if i%500 == 0:\n",
    "        print(f\"target {targ},    prediction: {pred}\\nindex {i}:       inaccuracy: {np.round(inaccuracy, 3)}%\")\n",
    "        print(\"-----------------------------------\")"
   ]
  },
  {
   "cell_type": "code",
   "execution_count": 20,
   "id": "11c08874",
   "metadata": {},
   "outputs": [
    {
     "name": "stdout",
     "output_type": "stream",
     "text": [
      "Average inaccuracy:  2.404\n"
     ]
    }
   ],
   "source": [
    "print(\"Average inaccuracy: \", np.round(sum(errors)/len(errors), 3))"
   ]
  },
  {
   "cell_type": "code",
   "execution_count": null,
   "id": "64e33bc7",
   "metadata": {},
   "outputs": [],
   "source": []
  }
 ],
 "metadata": {
  "kernelspec": {
   "display_name": "Python 3 (ipykernel)",
   "language": "python",
   "name": "python3"
  },
  "language_info": {
   "codemirror_mode": {
    "name": "ipython",
    "version": 3
   },
   "file_extension": ".py",
   "mimetype": "text/x-python",
   "name": "python",
   "nbconvert_exporter": "python",
   "pygments_lexer": "ipython3",
   "version": "3.8.3"
  }
 },
 "nbformat": 4,
 "nbformat_minor": 5
}
