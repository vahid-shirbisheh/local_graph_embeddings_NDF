{
 "cells": [
  {
   "cell_type": "code",
   "execution_count": 1,
   "id": "5c84b949",
   "metadata": {},
   "outputs": [],
   "source": [
    "from mygraph import MyGraph\n",
    "from helpers import *\n",
    "import pandas as pd"
   ]
  },
  {
   "cell_type": "markdown",
   "id": "5914cd27",
   "metadata": {},
   "source": [
    "# Importing Graph Data from CSV File"
   ]
  },
  {
   "cell_type": "code",
   "execution_count": 2,
   "id": "3ce28bb7",
   "metadata": {},
   "outputs": [
    {
     "data": {
      "text/html": [
       "<div>\n",
       "<style scoped>\n",
       "    .dataframe tbody tr th:only-of-type {\n",
       "        vertical-align: middle;\n",
       "    }\n",
       "\n",
       "    .dataframe tbody tr th {\n",
       "        vertical-align: top;\n",
       "    }\n",
       "\n",
       "    .dataframe thead th {\n",
       "        text-align: right;\n",
       "    }\n",
       "</style>\n",
       "<table border=\"1\" class=\"dataframe\">\n",
       "  <thead>\n",
       "    <tr style=\"text-align: right;\">\n",
       "      <th></th>\n",
       "      <th>0</th>\n",
       "      <th>9461</th>\n",
       "    </tr>\n",
       "  </thead>\n",
       "  <tbody>\n",
       "    <tr>\n",
       "      <th>0</th>\n",
       "      <td>0</td>\n",
       "      <td>13035</td>\n",
       "    </tr>\n",
       "    <tr>\n",
       "      <th>1</th>\n",
       "      <td>0</td>\n",
       "      <td>12979</td>\n",
       "    </tr>\n",
       "    <tr>\n",
       "      <th>2</th>\n",
       "      <td>0</td>\n",
       "      <td>24089</td>\n",
       "    </tr>\n",
       "  </tbody>\n",
       "</table>\n",
       "</div>"
      ],
      "text/plain": [
       "   0   9461\n",
       "0  0  13035\n",
       "1  0  12979\n",
       "2  0  24089"
      ]
     },
     "execution_count": 2,
     "metadata": {},
     "output_type": "execute_result"
    }
   ],
   "source": [
    "d = pd.read_csv(\"fb-pages-media.csv\")\n",
    "d.head(3)"
   ]
  },
  {
   "cell_type": "code",
   "execution_count": 3,
   "id": "82d5f76d",
   "metadata": {},
   "outputs": [],
   "source": [
    "edge_list = [(x,y) for [x,y] in d.values]\n",
    "myg = MyGraph()\n",
    "for i in range(27917): # Creating 27917 nodes in the ordinary order\n",
    "    myg.add_vertex(i)\n",
    "myg.from_edge_list(edge_list) # Constructing the graph using the list of its edges"
   ]
  },
  {
   "cell_type": "markdown",
   "id": "28546bd5",
   "metadata": {},
   "source": [
    "# The order 3 RCDF matrix representation"
   ]
  },
  {
   "cell_type": "code",
   "execution_count": 4,
   "id": "57dd76a5",
   "metadata": {},
   "outputs": [
    {
     "data": {
      "text/plain": [
       "[1,\n",
       " 2,\n",
       " 3,\n",
       " 4,\n",
       " 6,\n",
       " 8,\n",
       " 11,\n",
       " 15,\n",
       " 21,\n",
       " 29,\n",
       " 39,\n",
       " 52,\n",
       " 69,\n",
       " 92,\n",
       " 122,\n",
       " 161,\n",
       " 212,\n",
       " 278,\n",
       " 348,\n",
       " 418,\n",
       " 488,\n",
       " 558,\n",
       " 628]"
      ]
     },
     "execution_count": 4,
     "metadata": {},
     "output_type": "execute_result"
    }
   ],
   "source": [
    "sp_1 = myg.starting_points(ratio=1.3, max_length=70, starting_length=1)\n",
    "sp_1"
   ]
  },
  {
   "cell_type": "code",
   "execution_count": 5,
   "id": "a7b2f92a",
   "metadata": {},
   "outputs": [
    {
     "name": "stdout",
     "output_type": "stream",
     "text": [
      "Wall time: 21min 1s\n"
     ]
    },
    {
     "data": {
      "text/plain": [
       "array([[  0.,   0.,   2.,   1.,   3.,   0.,   0.,   0.,   0.,   0.,   0.,\n",
       "          0.,   0.,   1.,   0.,   0.,   0.,   0.,   0.,   0.,   0.,   0.,\n",
       "          0.],\n",
       "       [  2.,   6.,   1.,  12.,  14.,   8.,   9.,  10.,   9.,   4.,  14.,\n",
       "          8.,   4.,   2.,   3.,   3.,   2.,   0.,   1.,   0.,   0.,   1.,\n",
       "          0.],\n",
       "       [ 23.,  49.,  64., 121., 139., 212., 236., 344., 411., 400., 338.,\n",
       "        242., 192., 110.,  70.,  25.,  18.,   7.,   3.,   7.,   1.,   2.,\n",
       "          2.]])"
      ]
     },
     "execution_count": 5,
     "metadata": {},
     "output_type": "execute_result"
    }
   ],
   "source": [
    "%%time\n",
    "# producing the order 3 RCDF matrix rep. of nodes of the garph w.r.t. the starting points sp_1:\n",
    "mats_1 = CDF_matrix_rep(myg, starting_points=sp_1, radius=3, raw=True)\n",
    "mats_1[0]"
   ]
  },
  {
   "cell_type": "code",
   "execution_count": 6,
   "id": "81e14941",
   "metadata": {},
   "outputs": [
    {
     "data": {
      "text/plain": [
       "(27917, 3, 23)"
      ]
     },
     "execution_count": 6,
     "metadata": {},
     "output_type": "execute_result"
    }
   ],
   "source": [
    "mats_1.shape"
   ]
  },
  {
   "cell_type": "code",
   "execution_count": 7,
   "id": "1cbe01aa",
   "metadata": {},
   "outputs": [],
   "source": [
    "np.save(\"fb_media_pages_RCDF_matrix_r1_3_sta1_max70_rad3.npy\", mats_1, allow_pickle=False, fix_imports=True)"
   ]
  },
  {
   "cell_type": "markdown",
   "id": "6cc04fc5",
   "metadata": {},
   "source": [
    "# The order 3 RNDFC matrix representation"
   ]
  },
  {
   "cell_type": "code",
   "execution_count": 8,
   "id": "4deb382b",
   "metadata": {},
   "outputs": [
    {
     "name": "stdout",
     "output_type": "stream",
     "text": [
      "Wall time: 21min 2s\n"
     ]
    },
    {
     "data": {
      "text/plain": [
       "array([[0.0000e+00, 0.0000e+00, 2.0000e+00, 1.0000e+00, 3.0000e+00,\n",
       "        0.0000e+00, 0.0000e+00, 0.0000e+00, 0.0000e+00, 0.0000e+00,\n",
       "        0.0000e+00, 0.0000e+00, 0.0000e+00, 1.0000e+00, 0.0000e+00,\n",
       "        0.0000e+00, 0.0000e+00, 0.0000e+00, 0.0000e+00, 0.0000e+00,\n",
       "        0.0000e+00, 0.0000e+00, 0.0000e+00],\n",
       "       [2.0000e+00, 6.0000e+00, 5.0000e+00, 1.2000e+01, 2.4000e+01,\n",
       "        8.0000e+00, 9.0000e+00, 1.0000e+01, 1.0000e+01, 4.0000e+00,\n",
       "        1.4000e+01, 8.0000e+00, 4.0000e+00, 2.0000e+00, 4.0000e+00,\n",
       "        3.0000e+00, 2.0000e+00, 0.0000e+00, 1.0000e+00, 0.0000e+00,\n",
       "        0.0000e+00, 1.0000e+00, 0.0000e+00],\n",
       "       [2.3000e+01, 5.5000e+01, 7.0000e+01, 1.6500e+02, 1.8800e+02,\n",
       "        2.5800e+02, 3.0000e+02, 4.4000e+02, 4.9600e+02, 5.3700e+02,\n",
       "        4.9100e+02, 4.1200e+02, 4.0100e+02, 3.6100e+02, 2.2200e+02,\n",
       "        9.5000e+01, 1.0800e+02, 5.7000e+01, 2.8000e+01, 4.2000e+01,\n",
       "        1.1000e+01, 2.8000e+01, 2.1000e+01],\n",
       "       [4.0200e+02, 8.7200e+02, 1.1750e+03, 3.0650e+03, 3.9980e+03,\n",
       "        6.3470e+03, 8.5990e+03, 1.1872e+04, 1.4478e+04, 1.5145e+04,\n",
       "        1.4584e+04, 1.0624e+04, 8.8690e+03, 6.2390e+03, 4.6800e+03,\n",
       "        2.4620e+03, 2.2240e+03, 8.8500e+02, 7.9300e+02, 1.1240e+03,\n",
       "        1.9300e+02, 8.1200e+02, 5.1600e+02]])"
      ]
     },
     "execution_count": 8,
     "metadata": {},
     "output_type": "execute_result"
    }
   ],
   "source": [
    "%%time\n",
    "# producing the order 3 RNDFC matrix rep. of nodes of the garph w.r.t. the starting points sp_1:\n",
    "mats_2 = NDFC_matrix_rep(myg, starting_points=sp_1, radius=3, raw=True)\n",
    "mats_2[0]"
   ]
  },
  {
   "cell_type": "code",
   "execution_count": 9,
   "id": "507b7ac7",
   "metadata": {},
   "outputs": [
    {
     "data": {
      "text/plain": [
       "(27917, 4, 23)"
      ]
     },
     "execution_count": 9,
     "metadata": {},
     "output_type": "execute_result"
    }
   ],
   "source": [
    "mats_2.shape"
   ]
  },
  {
   "cell_type": "code",
   "execution_count": 11,
   "id": "6d7b6dc4",
   "metadata": {},
   "outputs": [],
   "source": [
    "np.save(\"fb_media_pages_RNDFC_matrix_r1_3_sta1_max70_rad3.npy\", mats_2, allow_pickle=False, fix_imports=True)"
   ]
  },
  {
   "cell_type": "code",
   "execution_count": null,
   "id": "b683a75f",
   "metadata": {},
   "outputs": [],
   "source": []
  }
 ],
 "metadata": {
  "kernelspec": {
   "display_name": "Python 3 (ipykernel)",
   "language": "python",
   "name": "python3"
  },
  "language_info": {
   "codemirror_mode": {
    "name": "ipython",
    "version": 3
   },
   "file_extension": ".py",
   "mimetype": "text/x-python",
   "name": "python",
   "nbconvert_exporter": "python",
   "pygments_lexer": "ipython3",
   "version": "3.8.3"
  }
 },
 "nbformat": 4,
 "nbformat_minor": 5
}
