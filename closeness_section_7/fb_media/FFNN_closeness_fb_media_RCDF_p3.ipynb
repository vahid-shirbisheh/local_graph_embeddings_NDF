{
 "cells": [
  {
   "cell_type": "markdown",
   "id": "9d2fa88e",
   "metadata": {},
   "source": [
    "# Learning closeness centrality using deep learning model and features extracted via the RCDF matrix rep. of nodes\n",
    "\n",
    "This notebook is completes the discussion in Example 7.4 in the article."
   ]
  },
  {
   "cell_type": "code",
   "execution_count": 1,
   "id": "0f52305e",
   "metadata": {},
   "outputs": [],
   "source": [
    "from mygraph import MyGraph\n",
    "from helpers import *\n",
    "import time\n",
    "import torch\n",
    "import torch.nn as nn\n",
    "import torch.optim as optim\n",
    "import torch.nn.functional as F"
   ]
  },
  {
   "cell_type": "markdown",
   "id": "11899144",
   "metadata": {},
   "source": [
    "## Loading the dataset from numpy files"
   ]
  },
  {
   "cell_type": "code",
   "execution_count": 2,
   "id": "40115369",
   "metadata": {},
   "outputs": [
    {
     "data": {
      "text/plain": [
       "array([0.23340831])"
      ]
     },
     "execution_count": 2,
     "metadata": {},
     "output_type": "execute_result"
    }
   ],
   "source": [
    "# closeness centrality as the target or label data\n",
    "target_closeness = np.load(\"fb_media_pages_closeness.npy\", mmap_mode=None, allow_pickle=False, fix_imports=True, encoding='ASCII')\n",
    "target_closeness[0]"
   ]
  },
  {
   "cell_type": "code",
   "execution_count": 3,
   "id": "5e44f57a",
   "metadata": {},
   "outputs": [],
   "source": [
    "# the RCDF matrix as the feature set\n",
    "\"\"\"\n",
    "ratio = 1.5\n",
    "starting_length = 1\n",
    "maximum_length = 35\n",
    "radius (order) = 3\n",
    "\"\"\"\n",
    "matrix = np.load(\"fb_media_pages_RCDF_matrix_r1_3_sta1_max70_rad3.npy\", mmap_mode=None, allow_pickle=False, fix_imports=True, encoding='ASCII')"
   ]
  },
  {
   "cell_type": "code",
   "execution_count": 4,
   "id": "8797e768",
   "metadata": {},
   "outputs": [
    {
     "data": {
      "text/plain": [
       "((27917, 1), (27917, 3, 23))"
      ]
     },
     "execution_count": 4,
     "metadata": {},
     "output_type": "execute_result"
    }
   ],
   "source": [
    "target_closeness.shape, matrix.shape"
   ]
  },
  {
   "cell_type": "code",
   "execution_count": 5,
   "id": "31a63416",
   "metadata": {},
   "outputs": [
    {
     "data": {
      "text/plain": [
       "array([[0., 1., 0., 0., 0., 0., 0., 0., 0., 0., 0., 0., 0., 0., 0., 0.,\n",
       "        0., 0., 0., 0., 0., 0., 0.],\n",
       "       [0., 0., 0., 0., 0., 0., 0., 0., 1., 0., 0., 0., 0., 0., 0., 0.,\n",
       "        0., 0., 0., 0., 0., 0., 0.],\n",
       "       [1., 3., 2., 4., 2., 1., 1., 3., 2., 1., 3., 0., 0., 0., 0., 0.,\n",
       "        0., 0., 0., 0., 0., 0., 0.]])"
      ]
     },
     "execution_count": 5,
     "metadata": {},
     "output_type": "execute_result"
    }
   ],
   "source": [
    "matrix[11]"
   ]
  },
  {
   "cell_type": "markdown",
   "id": "98da472d",
   "metadata": {},
   "source": [
    "# The p-aggregation of the RCDF matrix\n",
    "\n",
    "To apply this aggregation we just need to multiply the following row matrix from left to the RCDF matrix:\n",
    "### $$\n",
    "\\left[ 1, p, p^2, \\cdots, p^{(r -1 )} \\right],\n",
    "$$\n",
    "where $r$ is the order of the RCDF matrix representation (the number of rows)."
   ]
  },
  {
   "cell_type": "code",
   "execution_count": 6,
   "id": "7180c06a",
   "metadata": {},
   "outputs": [
    {
     "data": {
      "text/plain": [
       "array([1.  , 0.3 , 0.09])"
      ]
     },
     "execution_count": 6,
     "metadata": {},
     "output_type": "execute_result"
    }
   ],
   "source": [
    "p = 0.3\n",
    "order = matrix.shape[1]\n",
    "parameter_vector = np.zeros(order)\n",
    "for i in range(order):\n",
    "    parameter_vector[i] += p**i\n",
    "parameter_vector"
   ]
  },
  {
   "cell_type": "code",
   "execution_count": 7,
   "id": "a81fd4cb",
   "metadata": {},
   "outputs": [
    {
     "data": {
      "text/plain": [
       "(27917, 23)"
      ]
     },
     "execution_count": 7,
     "metadata": {},
     "output_type": "execute_result"
    }
   ],
   "source": [
    "feature_vectors = np.matmul(parameter_vector, matrix)\n",
    "feature_vectors.shape"
   ]
  },
  {
   "cell_type": "markdown",
   "id": "4fbf33bb",
   "metadata": {},
   "source": [
    "# Converting the dataset into pytorch tensors"
   ]
  },
  {
   "cell_type": "code",
   "execution_count": 8,
   "id": "b112c2d3",
   "metadata": {},
   "outputs": [
    {
     "data": {
      "text/plain": [
       "(torch.Size([27917, 23]), torch.Size([27917, 1]))"
      ]
     },
     "execution_count": 8,
     "metadata": {},
     "output_type": "execute_result"
    }
   ],
   "source": [
    "features = torch.from_numpy(feature_vectors)\n",
    "targets = torch.from_numpy(target_closeness)\n",
    "features.shape, targets.shape"
   ]
  },
  {
   "cell_type": "code",
   "execution_count": 9,
   "id": "8f45f034",
   "metadata": {},
   "outputs": [
    {
     "data": {
      "text/plain": [
       "tensor([[0.2334],\n",
       "        [0.2231],\n",
       "        [0.2180],\n",
       "        ...,\n",
       "        [0.2319],\n",
       "        [0.2520],\n",
       "        [0.1761]], dtype=torch.float64, requires_grad=True)"
      ]
     },
     "execution_count": 9,
     "metadata": {},
     "output_type": "execute_result"
    }
   ],
   "source": [
    "# Activating the automatic gradient \n",
    "features.requires_grad_(True)\n",
    "targets.requires_grad_(True)"
   ]
  },
  {
   "cell_type": "markdown",
   "id": "5bab54f2",
   "metadata": {},
   "source": [
    "# Dividing dataset into train and test data"
   ]
  },
  {
   "cell_type": "code",
   "execution_count": 10,
   "id": "b68b3e42",
   "metadata": {},
   "outputs": [
    {
     "data": {
      "text/plain": [
       "(torch.Size([10000, 23]),\n",
       " torch.Size([17917, 23]),\n",
       " torch.Size([10000, 1]),\n",
       " torch.Size([17917, 1]))"
      ]
     },
     "execution_count": 10,
     "metadata": {},
     "output_type": "execute_result"
    }
   ],
   "source": [
    "# Shuffling and dividing the indecies\n",
    "n_samples = features.shape[0]\n",
    "n_test = 17917\n",
    "shuffled_ind = torch.randperm(n_samples)\n",
    "train_ind = shuffled_ind[:-n_test]\n",
    "test_ind = shuffled_ind[-n_test:]\n",
    "# Dividing features and targets into tain and test sets\n",
    "train_features = features[train_ind]\n",
    "test_features = features[test_ind]\n",
    "train_targets = targets[train_ind]\n",
    "test_targets = targets[test_ind]\n",
    "train_features.shape, test_features.shape, train_targets.shape, test_targets.shape"
   ]
  },
  {
   "cell_type": "markdown",
   "id": "643b1796",
   "metadata": {},
   "source": [
    "## A function for dividing train data into batches"
   ]
  },
  {
   "cell_type": "code",
   "execution_count": 11,
   "id": "628bf1ec",
   "metadata": {},
   "outputs": [],
   "source": [
    "# dividing train_features and train_targets into batches\n",
    "def next_batch(train_features, train_targets, batch_size=100):\n",
    "    num_features = train_features.shape[0]\n",
    "    # Shuffling\n",
    "    shuffled_ind = torch.randperm(num_features)\n",
    "    shuffled_train_features = train_features[shuffled_ind]\n",
    "    shuffled_train_targets = train_targets[shuffled_ind]\n",
    "    # Dividing\n",
    "    i = 0\n",
    "    while i < num_features:\n",
    "        i += batch_size\n",
    "        yield (shuffled_train_features[i-batch_size:i], shuffled_train_targets[i-batch_size:i])\n",
    "    return"
   ]
  },
  {
   "cell_type": "markdown",
   "id": "82c88603",
   "metadata": {},
   "source": [
    "## The feedforward neural network model"
   ]
  },
  {
   "cell_type": "code",
   "execution_count": 12,
   "id": "af923c28",
   "metadata": {},
   "outputs": [],
   "source": [
    "# The Feedforward Neural Network \n",
    "class FFNN_model(nn.Module):\n",
    "    def __init__(self):\n",
    "        super().__init__()\n",
    "        num_features = features.shape[1]\n",
    "        self.fc1 = nn.Linear(num_features, 64)\n",
    "        self.fc2 = nn.Linear(64, 8)\n",
    "        self.fc3 = nn.Linear(8, 1)\n",
    "        self.dropout1 = nn.Dropout(0.3)\n",
    "        \n",
    "    def forward(self, X):\n",
    "        X = torch.tanh(self.fc1(X))\n",
    "        X = self.dropout1(X)\n",
    "        X = torch.relu(self.fc2(X))\n",
    "        return self.fc3(X)"
   ]
  },
  {
   "cell_type": "code",
   "execution_count": 13,
   "id": "3199f544",
   "metadata": {},
   "outputs": [
    {
     "data": {
      "text/plain": [
       "FFNN_model(\n",
       "  (fc1): Linear(in_features=23, out_features=64, bias=True)\n",
       "  (fc2): Linear(in_features=64, out_features=8, bias=True)\n",
       "  (fc3): Linear(in_features=8, out_features=1, bias=True)\n",
       "  (dropout1): Dropout(p=0.3, inplace=False)\n",
       ")"
      ]
     },
     "execution_count": 13,
     "metadata": {},
     "output_type": "execute_result"
    }
   ],
   "source": [
    "# Instantiation of the model\n",
    "torch.manual_seed(42)\n",
    "model = FFNN_model()\n",
    "model"
   ]
  },
  {
   "cell_type": "code",
   "execution_count": 14,
   "id": "3ac6a0a2",
   "metadata": {},
   "outputs": [
    {
     "name": "stdout",
     "output_type": "stream",
     "text": [
      "1472\n",
      "64\n",
      "512\n",
      "8\n",
      "8\n",
      "1\n",
      "Number of all parameters: 2065\n"
     ]
    }
   ],
   "source": [
    "num_para = 0\n",
    "for param in model.parameters():\n",
    "    print(param.numel())\n",
    "    num_para += param.numel()\n",
    "print(f'Number of all parameters: {num_para}')"
   ]
  },
  {
   "cell_type": "code",
   "execution_count": 15,
   "id": "20769e13",
   "metadata": {},
   "outputs": [],
   "source": [
    "# Objective function and optimizer\n",
    "criterion = nn.MSELoss()\n",
    "optimizer = optim.Adam(model.parameters(), lr=1e-3)\n",
    "# optimizer = optim.SGD(model.parameters(), lr=0.01, momentum=0.9)"
   ]
  },
  {
   "cell_type": "markdown",
   "id": "49aaa75b",
   "metadata": {},
   "source": [
    "## Defining the training loop"
   ]
  },
  {
   "cell_type": "code",
   "execution_count": 16,
   "id": "827b7d4c",
   "metadata": {},
   "outputs": [],
   "source": [
    "def training_loop(n_epochs=1000,\n",
    "                  batch_size=100,\n",
    "                  optimizer=optimizer, \n",
    "                  model=model, \n",
    "                  loss_fn=criterion, \n",
    "                  train_features=train_features, \n",
    "                  test_features=test_features, \n",
    "                  train_targets=train_targets, \n",
    "                  test_targets=test_targets):\n",
    "    num_features = train_features.shape[0]\n",
    "    start_time = time.time()\n",
    "    all_train_loss, all_test_loss = np.zeros(n_epochs), np.zeros(n_epochs)\n",
    "    for epoch in range(1, n_epochs +1):\n",
    "        # Training: \n",
    "        epoch_losses = []\n",
    "        # looping through batches\n",
    "        for train_features, train_targets in next_batch(train_features=train_features, \n",
    "                                                        train_targets=train_targets, batch_size=batch_size): \n",
    "            train_preds = model(train_features.float())\n",
    "            train_loss = loss_fn(train_targets.float(), train_preds.float())\n",
    "            optimizer.zero_grad()\n",
    "            train_loss.backward(retain_graph=True)\n",
    "            optimizer.step()\n",
    "            \n",
    "            epoch_losses.append(train_loss.item())\n",
    "        average_epoch_loss = sum(epoch_losses)/len(epoch_losses)\n",
    "        \n",
    "        # Test:\n",
    "        with torch.no_grad():\n",
    "            test_preds = model(test_features.float())\n",
    "            test_loss = loss_fn(test_targets.float(), test_preds.float())\n",
    "        \n",
    "        all_train_loss[epoch - 1] = average_epoch_loss\n",
    "        all_test_loss[epoch - 1] = test_loss.item()\n",
    "        # Printing the result: \n",
    "        if epoch == 1 or epoch % 100 == 0:\n",
    "            print(f\"EPOCH: {epoch:{7}}\")\n",
    "            print(f\"MEAN TRAIN LOSS:   {average_epoch_loss:.11f},    TEST LOSS:   {test_loss.item():.11f}\")\n",
    "            print(\"-----------------------------------------\")\n",
    "    print(\"The total time = \", np.round(time.time() - start_time, 3), \" seconds!\")\n",
    "    return all_train_loss, all_test_loss"
   ]
  },
  {
   "cell_type": "markdown",
   "id": "1b091380",
   "metadata": {},
   "source": [
    "# Training the model"
   ]
  },
  {
   "cell_type": "code",
   "execution_count": 17,
   "id": "2e755479",
   "metadata": {
    "scrolled": false
   },
   "outputs": [
    {
     "name": "stdout",
     "output_type": "stream",
     "text": [
      "EPOCH:       1\n",
      "MEAN TRAIN LOSS:   0.01153449040,    TEST LOSS:   0.00281966594\n",
      "-----------------------------------------\n",
      "EPOCH:     100\n",
      "MEAN TRAIN LOSS:   0.00052760466,    TEST LOSS:   0.00065648538\n",
      "-----------------------------------------\n",
      "EPOCH:     200\n",
      "MEAN TRAIN LOSS:   0.00039696138,    TEST LOSS:   0.00046095828\n",
      "-----------------------------------------\n",
      "EPOCH:     300\n",
      "MEAN TRAIN LOSS:   0.00028695684,    TEST LOSS:   0.00038545678\n",
      "-----------------------------------------\n",
      "EPOCH:     400\n",
      "MEAN TRAIN LOSS:   0.00030342792,    TEST LOSS:   0.00034401263\n",
      "-----------------------------------------\n",
      "EPOCH:     500\n",
      "MEAN TRAIN LOSS:   0.00026029896,    TEST LOSS:   0.00031267368\n",
      "-----------------------------------------\n",
      "EPOCH:     600\n",
      "MEAN TRAIN LOSS:   0.00025026835,    TEST LOSS:   0.00027603243\n",
      "-----------------------------------------\n",
      "EPOCH:     700\n",
      "MEAN TRAIN LOSS:   0.00018558401,    TEST LOSS:   0.00025154930\n",
      "-----------------------------------------\n",
      "EPOCH:     800\n",
      "MEAN TRAIN LOSS:   0.00014196748,    TEST LOSS:   0.00023213949\n",
      "-----------------------------------------\n",
      "EPOCH:     900\n",
      "MEAN TRAIN LOSS:   0.00017459311,    TEST LOSS:   0.00021811371\n",
      "-----------------------------------------\n",
      "EPOCH:    1000\n",
      "MEAN TRAIN LOSS:   0.00014718619,    TEST LOSS:   0.00020505321\n",
      "-----------------------------------------\n",
      "EPOCH:    1100\n",
      "MEAN TRAIN LOSS:   0.00015673664,    TEST LOSS:   0.00018522410\n",
      "-----------------------------------------\n",
      "EPOCH:    1200\n",
      "MEAN TRAIN LOSS:   0.00013075719,    TEST LOSS:   0.00017312750\n",
      "-----------------------------------------\n",
      "EPOCH:    1300\n",
      "MEAN TRAIN LOSS:   0.00011352090,    TEST LOSS:   0.00016155570\n",
      "-----------------------------------------\n",
      "EPOCH:    1400\n",
      "MEAN TRAIN LOSS:   0.00011008273,    TEST LOSS:   0.00015322570\n",
      "-----------------------------------------\n",
      "EPOCH:    1500\n",
      "MEAN TRAIN LOSS:   0.00011184179,    TEST LOSS:   0.00013893151\n",
      "-----------------------------------------\n",
      "EPOCH:    1600\n",
      "MEAN TRAIN LOSS:   0.00009939244,    TEST LOSS:   0.00013282006\n",
      "-----------------------------------------\n",
      "EPOCH:    1700\n",
      "MEAN TRAIN LOSS:   0.00009415176,    TEST LOSS:   0.00012075871\n",
      "-----------------------------------------\n",
      "EPOCH:    1800\n",
      "MEAN TRAIN LOSS:   0.00008949931,    TEST LOSS:   0.00011582780\n",
      "-----------------------------------------\n",
      "EPOCH:    1900\n",
      "MEAN TRAIN LOSS:   0.00008127550,    TEST LOSS:   0.00011168852\n",
      "-----------------------------------------\n",
      "EPOCH:    2000\n",
      "MEAN TRAIN LOSS:   0.00007581945,    TEST LOSS:   0.00010402389\n",
      "-----------------------------------------\n",
      "The total time =  158.141  seconds!\n"
     ]
    }
   ],
   "source": [
    "losses = training_loop(n_epochs=2000,\n",
    "                  batch_size=400,\n",
    "                  optimizer=optimizer, \n",
    "                  model=model, \n",
    "                  loss_fn=criterion, \n",
    "                  train_features=train_features, \n",
    "                  test_features=test_features, \n",
    "                  train_targets=train_targets, \n",
    "                  test_targets=test_targets)"
   ]
  },
  {
   "cell_type": "code",
   "execution_count": 18,
   "id": "86fc2275",
   "metadata": {},
   "outputs": [],
   "source": [
    "# Saving the losses as a numpy file\n",
    "np.save(\"fb_media_pages_train_losses_rcdf.npy\", losses[0], allow_pickle=False, fix_imports=True)\n",
    "np.save(\"fb_media_pages_test_losses_rcdf.npy\", losses[1], allow_pickle=False, fix_imports=True)"
   ]
  },
  {
   "cell_type": "code",
   "execution_count": 19,
   "id": "2a8b4ccf",
   "metadata": {
    "scrolled": false
   },
   "outputs": [
    {
     "name": "stdout",
     "output_type": "stream",
     "text": [
      "target 0.24305380232676302,    prediction: 0.249562606215477\n",
      "index 0:       inaccuracy: 2.678%\n",
      "-----------------------------------\n",
      "target 0.24840486625632272,    prediction: 0.2498052716255188\n",
      "index 500:       inaccuracy: 0.564%\n",
      "-----------------------------------\n",
      "target 0.24017621327810978,    prediction: 0.2367340326309204\n",
      "index 1000:       inaccuracy: 1.433%\n",
      "-----------------------------------\n",
      "target 0.2385893537883496,    prediction: 0.23743019998073578\n",
      "index 1500:       inaccuracy: 0.486%\n",
      "-----------------------------------\n",
      "target 0.2637751007401063,    prediction: 0.26871147751808167\n",
      "index 2000:       inaccuracy: 1.871%\n",
      "-----------------------------------\n",
      "target 0.2575401112294071,    prediction: 0.26637783646583557\n",
      "index 2500:       inaccuracy: 3.432%\n",
      "-----------------------------------\n",
      "target 0.16640139275367508,    prediction: 0.1772661805152893\n",
      "index 3000:       inaccuracy: 6.529%\n",
      "-----------------------------------\n",
      "target 0.23717033744410815,    prediction: 0.23879675567150116\n",
      "index 3500:       inaccuracy: 0.686%\n",
      "-----------------------------------\n",
      "target 0.18072226777390454,    prediction: 0.16562414169311523\n",
      "index 4000:       inaccuracy: 8.354%\n",
      "-----------------------------------\n",
      "target 0.26915696840025216,    prediction: 0.27257442474365234\n",
      "index 4500:       inaccuracy: 1.27%\n",
      "-----------------------------------\n",
      "target 0.23875873543422677,    prediction: 0.23959574103355408\n",
      "index 5000:       inaccuracy: 0.351%\n",
      "-----------------------------------\n",
      "target 0.2931650146595294,    prediction: 0.2736278772354126\n",
      "index 5500:       inaccuracy: 6.664%\n",
      "-----------------------------------\n",
      "target 0.224196230218556,    prediction: 0.2236936390399933\n",
      "index 6000:       inaccuracy: 0.224%\n",
      "-----------------------------------\n",
      "target 0.23130785004699866,    prediction: 0.2268579602241516\n",
      "index 6500:       inaccuracy: 1.924%\n",
      "-----------------------------------\n",
      "target 0.2518813957140437,    prediction: 0.2572910785675049\n",
      "index 7000:       inaccuracy: 2.148%\n",
      "-----------------------------------\n",
      "target 0.22966735534364333,    prediction: 0.22863177955150604\n",
      "index 7500:       inaccuracy: 0.451%\n",
      "-----------------------------------\n",
      "target 0.24780505158526123,    prediction: 0.2549790143966675\n",
      "index 8000:       inaccuracy: 2.895%\n",
      "-----------------------------------\n",
      "target 0.21625851263836124,    prediction: 0.21507157385349274\n",
      "index 8500:       inaccuracy: 0.549%\n",
      "-----------------------------------\n",
      "target 0.24345869414441243,    prediction: 0.2417750060558319\n",
      "index 9000:       inaccuracy: 0.692%\n",
      "-----------------------------------\n",
      "target 0.30102448005846816,    prediction: 0.2736278772354126\n",
      "index 9500:       inaccuracy: 9.101%\n",
      "-----------------------------------\n",
      "target 0.2208351136518548,    prediction: 0.22089345753192902\n",
      "index 10000:       inaccuracy: 0.026%\n",
      "-----------------------------------\n",
      "target 0.23283786293496947,    prediction: 0.233857199549675\n",
      "index 10500:       inaccuracy: 0.438%\n",
      "-----------------------------------\n",
      "target 0.1359020050624726,    prediction: 0.17279022932052612\n",
      "index 11000:       inaccuracy: 27.143%\n",
      "-----------------------------------\n",
      "target 0.26271752770159107,    prediction: 0.267154335975647\n",
      "index 11500:       inaccuracy: 1.689%\n",
      "-----------------------------------\n",
      "target 0.23700722582356276,    prediction: 0.23426887392997742\n",
      "index 12000:       inaccuracy: 1.155%\n",
      "-----------------------------------\n",
      "target 0.25344567756652336,    prediction: 0.25281453132629395\n",
      "index 12500:       inaccuracy: 0.249%\n",
      "-----------------------------------\n",
      "target 0.20236774785461298,    prediction: 0.1993568390607834\n",
      "index 13000:       inaccuracy: 1.488%\n",
      "-----------------------------------\n",
      "target 0.20995389375058668,    prediction: 0.211252823472023\n",
      "index 13500:       inaccuracy: 0.619%\n",
      "-----------------------------------\n",
      "target 0.2415249107569328,    prediction: 0.24238735437393188\n",
      "index 14000:       inaccuracy: 0.357%\n",
      "-----------------------------------\n",
      "target 0.21761569193449665,    prediction: 0.22529830038547516\n",
      "index 14500:       inaccuracy: 3.53%\n",
      "-----------------------------------\n",
      "target 0.2723529644832938,    prediction: 0.2736278772354126\n",
      "index 15000:       inaccuracy: 0.468%\n",
      "-----------------------------------\n",
      "target 0.2411639181648056,    prediction: 0.24167406558990479\n",
      "index 15500:       inaccuracy: 0.212%\n",
      "-----------------------------------\n",
      "target 0.17878576346671546,    prediction: 0.18090598285198212\n",
      "index 16000:       inaccuracy: 1.186%\n",
      "-----------------------------------\n",
      "target 0.21425665693775667,    prediction: 0.22030757367610931\n",
      "index 16500:       inaccuracy: 2.824%\n",
      "-----------------------------------\n",
      "target 0.22288228324447867,    prediction: 0.22728455066680908\n",
      "index 17000:       inaccuracy: 1.975%\n",
      "-----------------------------------\n",
      "target 0.16297195856996252,    prediction: 0.17531758546829224\n",
      "index 17500:       inaccuracy: 7.575%\n",
      "-----------------------------------\n"
     ]
    }
   ],
   "source": [
    "model.eval()\n",
    "errors = []\n",
    "for i in range(n_test):\n",
    "    targ = test_targets[i].item()\n",
    "    feat = test_features[i].float().view(1,1,23)\n",
    "    pred = model(feat).item()\n",
    "    if targ == 0:\n",
    "        inaccuracy = 0\n",
    "    else:\n",
    "        inaccuracy = abs(1 - pred/targ) * 100\n",
    "    errors.append(inaccuracy)\n",
    "    if i%500 == 0:\n",
    "        print(f\"target {targ},    prediction: {pred}\\nindex {i}:       inaccuracy: {np.round(inaccuracy, 3)}%\")\n",
    "        print(\"-----------------------------------\")"
   ]
  },
  {
   "cell_type": "code",
   "execution_count": 20,
   "id": "11c08874",
   "metadata": {},
   "outputs": [
    {
     "name": "stdout",
     "output_type": "stream",
     "text": [
      "Average inaccuracy:  2.122\n"
     ]
    }
   ],
   "source": [
    "print(\"Average inaccuracy: \", np.round(sum(errors)/len(errors), 3))"
   ]
  },
  {
   "cell_type": "code",
   "execution_count": 21,
   "id": "0de52ed4",
   "metadata": {},
   "outputs": [],
   "source": [
    "torch.save(model, \"trained_model_closeness_fb_media_rcdf.pt\")"
   ]
  },
  {
   "cell_type": "code",
   "execution_count": null,
   "id": "08f1a1ce",
   "metadata": {},
   "outputs": [],
   "source": []
  },
  {
   "cell_type": "code",
   "execution_count": null,
   "id": "dd9ccb2f",
   "metadata": {},
   "outputs": [],
   "source": []
  },
  {
   "cell_type": "code",
   "execution_count": null,
   "id": "30123af9",
   "metadata": {},
   "outputs": [],
   "source": []
  },
  {
   "cell_type": "code",
   "execution_count": null,
   "id": "64e33bc7",
   "metadata": {},
   "outputs": [],
   "source": []
  }
 ],
 "metadata": {
  "kernelspec": {
   "display_name": "Python 3 (ipykernel)",
   "language": "python",
   "name": "python3"
  },
  "language_info": {
   "codemirror_mode": {
    "name": "ipython",
    "version": 3
   },
   "file_extension": ".py",
   "mimetype": "text/x-python",
   "name": "python",
   "nbconvert_exporter": "python",
   "pygments_lexer": "ipython3",
   "version": "3.8.3"
  }
 },
 "nbformat": 4,
 "nbformat_minor": 5
}
