{
 "cells": [
  {
   "cell_type": "markdown",
   "id": "dfe16127",
   "metadata": {},
   "source": [
    "# Generating two random graphs and computing their closeness centrality and their order 2 RCDF matrix representations"
   ]
  },
  {
   "cell_type": "code",
   "execution_count": 1,
   "id": "aaa794c9",
   "metadata": {},
   "outputs": [],
   "source": [
    "from mygraph import MyGraph\n",
    "from helpers import *"
   ]
  },
  {
   "cell_type": "code",
   "execution_count": 2,
   "id": "51322144",
   "metadata": {},
   "outputs": [
    {
     "name": "stdout",
     "output_type": "stream",
     "text": [
      "Wall time: 370 ms\n"
     ]
    }
   ],
   "source": [
    "%%time\n",
    "n= 20000\n",
    "m1 = 3\n",
    "m2 = 1\n",
    "p = 0.5\n",
    "nxg1 = nx.dual_barabasi_albert_graph(n, m1, m2, p, seed=1, initial_graph=None)\n",
    "nxg2 = nx.dual_barabasi_albert_graph(n, m1, m2, p, seed=2, initial_graph=None)"
   ]
  },
  {
   "cell_type": "code",
   "execution_count": 3,
   "id": "032c9986",
   "metadata": {},
   "outputs": [
    {
     "name": "stdout",
     "output_type": "stream",
     "text": [
      "Wall time: 211 ms\n"
     ]
    }
   ],
   "source": [
    "%%time\n",
    "myg1 = copy_nx_graph(nxg1)\n",
    "myg2 = copy_nx_graph(nxg2)"
   ]
  },
  {
   "cell_type": "code",
   "execution_count": 4,
   "id": "36d91936",
   "metadata": {},
   "outputs": [
    {
     "name": "stdout",
     "output_type": "stream",
     "text": [
      "num_nodes            20000 \n",
      "num_edges            39959 \n",
      "nodes_degrees        [1, 2, 3, 4, 5, 6, 7, 8, 9, 10, 11, 12, 13, 14, 15, 16, 17, 18, 19, 20, 21, 22, 23, 24, 25, 26, 27, 28, 29, 30, 31, 32, 33, 34, 36, 37, 38, 39, 40, 41, 42, 43, 44, 45, 46, 47, 48, 49, 50, 51, 52, 53, 54, 55, 56, 58, 59, 60, 61, 62, 63, 64, 66, 67, 69, 71, 74, 76, 78, 80, 83, 86, 90, 92, 93, 94, 110, 120, 121, 122, 124, 150, 187, 208, 237, 256, 276, 280] \n",
      "average_degree       3.9959 \n",
      "Wall time: 8.49 s\n"
     ]
    }
   ],
   "source": [
    "%%time\n",
    "print_dict(myg1.graph_stats())"
   ]
  },
  {
   "cell_type": "code",
   "execution_count": 5,
   "id": "d25bd7c6",
   "metadata": {
    "scrolled": true
   },
   "outputs": [
    {
     "name": "stdout",
     "output_type": "stream",
     "text": [
      "num_nodes            20000 \n",
      "num_edges            40133 \n",
      "nodes_degrees        [1, 2, 3, 4, 5, 6, 7, 8, 9, 10, 11, 12, 13, 14, 15, 16, 17, 18, 19, 20, 21, 22, 23, 24, 25, 26, 27, 28, 29, 30, 31, 32, 33, 34, 35, 36, 37, 38, 39, 40, 41, 42, 43, 45, 46, 47, 48, 49, 50, 51, 52, 53, 55, 57, 59, 63, 64, 66, 67, 68, 69, 70, 75, 76, 77, 86, 87, 88, 96, 103, 105, 107, 111, 129, 140, 143, 151, 170, 188, 250, 293, 314] \n",
      "average_degree       4.0133 \n",
      "Wall time: 8.03 s\n"
     ]
    }
   ],
   "source": [
    "%%time\n",
    "print_dict(myg2.graph_stats())"
   ]
  },
  {
   "cell_type": "code",
   "execution_count": 6,
   "id": "50d860e6",
   "metadata": {},
   "outputs": [
    {
     "name": "stdout",
     "output_type": "stream",
     "text": [
      "Wall time: 10min 44s\n"
     ]
    },
    {
     "data": {
      "text/plain": [
       "array([[0.31004279],\n",
       "       [0.30218186],\n",
       "       [0.25971715],\n",
       "       ...,\n",
       "       [0.21215722],\n",
       "       [0.17599796],\n",
       "       [0.18088166]])"
      ]
     },
     "execution_count": 6,
     "metadata": {},
     "output_type": "execute_result"
    }
   ],
   "source": [
    "%%time\n",
    "# The array of closeness of vertices of the first graph\n",
    "np_target_closeness1 = np.array(list(nx.closeness_centrality(nxg1).values())).reshape(-1,1)\n",
    "np_target_closeness1"
   ]
  },
  {
   "cell_type": "code",
   "execution_count": 7,
   "id": "4a96ab87",
   "metadata": {},
   "outputs": [
    {
     "name": "stdout",
     "output_type": "stream",
     "text": [
      "Wall time: 9min 16s\n"
     ]
    },
    {
     "data": {
      "text/plain": [
       "array([[0.31145269],\n",
       "       [0.27027137],\n",
       "       [0.27182896],\n",
       "       ...,\n",
       "       [0.17178467],\n",
       "       [0.19224817],\n",
       "       [0.16399344]])"
      ]
     },
     "execution_count": 7,
     "metadata": {},
     "output_type": "execute_result"
    }
   ],
   "source": [
    "%%time\n",
    "# The array of closeness centrality of vertices of the second graph\n",
    "np_target_closeness2 = np.array(list(nx.closeness_centrality(nxg2).values())).reshape(-1,1)\n",
    "np_target_closeness2"
   ]
  },
  {
   "cell_type": "code",
   "execution_count": 8,
   "id": "43980c5c",
   "metadata": {},
   "outputs": [],
   "source": [
    "# Saving the closeness centrality arrays as a numpy array into two files\n",
    "np.save(\"dual_BA_20K_1_closeness.npy\", np_target_closeness1, allow_pickle=False, fix_imports=True)\n",
    "np.save(\"dual_BA_20K_2_closeness.npy\", np_target_closeness2, allow_pickle=False, fix_imports=True)"
   ]
  },
  {
   "cell_type": "markdown",
   "id": "85038f36",
   "metadata": {},
   "source": [
    "# The order 2 RCDF matrix rep's of random graphs"
   ]
  },
  {
   "cell_type": "code",
   "execution_count": 9,
   "id": "ef90b084",
   "metadata": {},
   "outputs": [
    {
     "data": {
      "text/plain": [
       "[1, 2, 3, 4, 5, 7, 9, 11, 14, 18, 23, 29, 36, 44]"
      ]
     },
     "execution_count": 9,
     "metadata": {},
     "output_type": "execute_result"
    }
   ],
   "source": [
    "sp = myg1.starting_points(ratio=1.2, starting_length=1, max_length=20, last_point=50)\n",
    "sp"
   ]
  },
  {
   "cell_type": "code",
   "execution_count": 10,
   "id": "e0f9ee68",
   "metadata": {},
   "outputs": [],
   "source": [
    "sp_c = [60, 80, 100, 127, 150, 165, 205]"
   ]
  },
  {
   "cell_type": "code",
   "execution_count": 11,
   "id": "34bc072d",
   "metadata": {},
   "outputs": [
    {
     "data": {
      "text/plain": [
       "[1,\n",
       " 2,\n",
       " 3,\n",
       " 4,\n",
       " 5,\n",
       " 7,\n",
       " 9,\n",
       " 11,\n",
       " 14,\n",
       " 18,\n",
       " 23,\n",
       " 29,\n",
       " 36,\n",
       " 44,\n",
       " 60,\n",
       " 80,\n",
       " 100,\n",
       " 127,\n",
       " 150,\n",
       " 165,\n",
       " 205]"
      ]
     },
     "execution_count": 11,
     "metadata": {},
     "output_type": "execute_result"
    }
   ],
   "source": [
    "sp_final = sp + sp_c\n",
    "sp_final"
   ]
  },
  {
   "cell_type": "code",
   "execution_count": 12,
   "id": "7bbbbb7e",
   "metadata": {},
   "outputs": [
    {
     "name": "stdout",
     "output_type": "stream",
     "text": [
      "Wall time: 14.7 s\n"
     ]
    }
   ],
   "source": [
    "%%time\n",
    "# producing the order 4 RDFC matrix rep. of nodes of the garph w.r.t. the following parameters:\n",
    "RCDF_dual_BA_20k_1 = CDF_matrix_rep(myg1, starting_points=sp_final, raw=True, radius=2)\n",
    "RCDF_dual_BA_20k_2 = CDF_matrix_rep(myg2, starting_points=sp_final, raw=True, radius=2)"
   ]
  },
  {
   "cell_type": "code",
   "execution_count": 13,
   "id": "f5ec3a98",
   "metadata": {},
   "outputs": [
    {
     "data": {
      "text/plain": [
       "array([[[  3.,   0.,   3.,   1.,   9.,   2.,   0.,   2.,   1.,   0.,\n",
       "           2.,   0.,   2.,   0.,   0.,   0.,   0.,   0.,   0.,   0.,\n",
       "           0.],\n",
       "        [ 37.,   5.,  52.,  29.,  21.,  21.,   5.,   7.,  10.,   8.,\n",
       "           6.,   3.,   3.,   3.,   1.,   0.,   1.,   0.,   0.,   1.,\n",
       "           1.]],\n",
       "\n",
       "       [[  7.,   2.,  10.,   2.,   5.,   3.,   3.,   2.,   3.,   0.,\n",
       "           3.,   0.,   0.,   0.,   0.,   0.,   2.,   0.,   0.,   0.,\n",
       "           1.],\n",
       "        [ 99.,  37., 149.,  76., 105.,  68.,  39.,  33.,  40.,  22.,\n",
       "          19.,   7.,  14.,   8.,   7.,   3.,   1.,   3.,   1.,   2.,\n",
       "           2.]]])"
      ]
     },
     "execution_count": 13,
     "metadata": {},
     "output_type": "execute_result"
    }
   ],
   "source": [
    "RCDF_dual_BA_20k_2[111:113]"
   ]
  },
  {
   "cell_type": "markdown",
   "id": "01b2d6bd",
   "metadata": {},
   "source": [
    "# The shape of the RCDF matrix and saving it"
   ]
  },
  {
   "cell_type": "code",
   "execution_count": 14,
   "id": "48217fd7",
   "metadata": {},
   "outputs": [
    {
     "data": {
      "text/plain": [
       "((20000, 2, 21), (20000, 2, 21))"
      ]
     },
     "execution_count": 14,
     "metadata": {},
     "output_type": "execute_result"
    }
   ],
   "source": [
    "RCDF_dual_BA_20k_1.shape, RCDF_dual_BA_20k_2.shape"
   ]
  },
  {
   "cell_type": "code",
   "execution_count": 15,
   "id": "8004c101",
   "metadata": {},
   "outputs": [],
   "source": [
    "np.save(\"dual_BA_20K_1_RDFC_matrix.npy\", RCDF_dual_BA_20k_1, allow_pickle=False, fix_imports=True)\n",
    "np.save(\"dual_BA_20K_2_RDFC_matrix.npy\", RCDF_dual_BA_20k_2, allow_pickle=False, fix_imports=True)"
   ]
  },
  {
   "cell_type": "code",
   "execution_count": 16,
   "id": "01d62e02",
   "metadata": {},
   "outputs": [
    {
     "data": {
      "text/plain": [
       "array([[[ 1.,  0.,  2.,  0.,  1.,  3.,  0.,  1.,  4.,  0.,  0.,  0.,\n",
       "          0.,  0.,  0.,  1.,  0.,  0.,  0.,  0.,  0.],\n",
       "        [25.,  8., 45., 22., 27., 18., 11.,  8.,  5.,  2.,  2.,  4.,\n",
       "          1.,  2.,  1.,  1.,  2.,  1.,  0.,  0.,  0.]],\n",
       "\n",
       "       [[ 3.,  0.,  3.,  1.,  9.,  2.,  0.,  2.,  1.,  0.,  2.,  0.,\n",
       "          2.,  0.,  0.,  0.,  0.,  0.,  0.,  0.,  0.],\n",
       "        [37.,  5., 52., 29., 21., 21.,  5.,  7., 10.,  8.,  6.,  3.,\n",
       "          3.,  3.,  1.,  0.,  1.,  0.,  0.,  1.,  1.]]])"
      ]
     },
     "execution_count": 16,
     "metadata": {},
     "output_type": "execute_result"
    }
   ],
   "source": [
    "RCDF_dual_BA_20k_2[110:112]"
   ]
  },
  {
   "cell_type": "code",
   "execution_count": null,
   "id": "76104981",
   "metadata": {},
   "outputs": [],
   "source": []
  }
 ],
 "metadata": {
  "kernelspec": {
   "display_name": "Python 3 (ipykernel)",
   "language": "python",
   "name": "python3"
  },
  "language_info": {
   "codemirror_mode": {
    "name": "ipython",
    "version": 3
   },
   "file_extension": ".py",
   "mimetype": "text/x-python",
   "name": "python",
   "nbconvert_exporter": "python",
   "pygments_lexer": "ipython3",
   "version": "3.8.3"
  }
 },
 "nbformat": 4,
 "nbformat_minor": 5
}
