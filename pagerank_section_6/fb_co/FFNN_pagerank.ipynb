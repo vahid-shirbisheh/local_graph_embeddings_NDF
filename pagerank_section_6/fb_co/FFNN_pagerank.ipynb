{
 "cells": [
  {
   "cell_type": "markdown",
   "id": "31b500b5",
   "metadata": {},
   "source": [
    "# The feedforward neural network model for learning PageRank"
   ]
  },
  {
   "cell_type": "code",
   "execution_count": 1,
   "id": "a9854c00",
   "metadata": {},
   "outputs": [],
   "source": [
    "import time\n",
    "from mygraph import MyGraph\n",
    "from helpers import *"
   ]
  },
  {
   "cell_type": "code",
   "execution_count": 2,
   "id": "c8783184",
   "metadata": {},
   "outputs": [],
   "source": [
    "import torch\n",
    "import torch.nn as nn\n",
    "import torch.optim as optim\n",
    "import torch.nn.functional as F"
   ]
  },
  {
   "cell_type": "markdown",
   "id": "cfdc752f",
   "metadata": {},
   "source": [
    "## Loading the dataset from numpy files"
   ]
  },
  {
   "cell_type": "code",
   "execution_count": 3,
   "id": "0a2177fd",
   "metadata": {},
   "outputs": [
    {
     "data": {
      "text/plain": [
       "array([9.98507331e-05])"
      ]
     },
     "execution_count": 3,
     "metadata": {},
     "output_type": "execute_result"
    }
   ],
   "source": [
    "# Pageank as the target or label data\n",
    "target_pagerank = np.load(\"fb_co_pages_pageranks.npy\", mmap_mode=None, allow_pickle=False, fix_imports=True, encoding='ASCII')\n",
    "target_pagerank[0]"
   ]
  },
  {
   "cell_type": "code",
   "execution_count": 4,
   "id": "23f24350",
   "metadata": {},
   "outputs": [
    {
     "data": {
      "text/plain": [
       "array([0.99850733])"
      ]
     },
     "execution_count": 4,
     "metadata": {},
     "output_type": "execute_result"
    }
   ],
   "source": [
    "# scaling the PageRank data\n",
    "target_pagerank = target_pagerank * 10000\n",
    "target_pagerank[0]"
   ]
  },
  {
   "cell_type": "code",
   "execution_count": 5,
   "id": "cec6039f",
   "metadata": {},
   "outputs": [
    {
     "data": {
      "text/plain": [
       "(14113, 1)"
      ]
     },
     "execution_count": 5,
     "metadata": {},
     "output_type": "execute_result"
    }
   ],
   "source": [
    "target_pagerank.shape"
   ]
  },
  {
   "cell_type": "code",
   "execution_count": 6,
   "id": "613797d7",
   "metadata": {},
   "outputs": [],
   "source": [
    "# the order 5 NFDC matrix as the feature set\n",
    "matrix_1 = np.load(\"fb_co_pages_NDFC_matrix_r1-30_sta1_max50_rad5.npy\", mmap_mode=None, allow_pickle=False, fix_imports=True, encoding='ASCII')"
   ]
  },
  {
   "cell_type": "code",
   "execution_count": 7,
   "id": "94c81831",
   "metadata": {},
   "outputs": [
    {
     "data": {
      "text/plain": [
       "(14113, 6, 17)"
      ]
     },
     "execution_count": 7,
     "metadata": {},
     "output_type": "execute_result"
    }
   ],
   "source": [
    "matrix_1.shape"
   ]
  },
  {
   "cell_type": "code",
   "execution_count": 8,
   "id": "ac052a5f",
   "metadata": {},
   "outputs": [
    {
     "data": {
      "text/plain": [
       "array([[0.      , 0.      , 0.      , 2.      , 1.      , 0.      ,\n",
       "        0.      , 0.      , 0.      , 0.      , 0.      , 0.      ,\n",
       "        0.      , 0.      , 0.      , 0.      , 0.      ],\n",
       "       [0.      , 0.      , 1.      , 1.666667, 0.333333, 0.      ,\n",
       "        1.      , 0.333333, 0.      , 0.      , 0.      , 0.      ,\n",
       "        0.      , 0.      , 0.666667, 0.      , 0.      ],\n",
       "       [0.6     , 0.2     , 0.8     , 4.      , 4.6     , 5.8     ,\n",
       "        5.      , 5.4     , 3.      , 5.      , 2.      , 1.4     ,\n",
       "        0.8     , 0.8     , 0.4     , 0.2     , 0.4     ],\n",
       "       [0.319149, 0.590426, 0.579787, 1.5     , 1.62766 , 1.867021,\n",
       "        2.441489, 2.702128, 2.468085, 3.303191, 1.457447, 1.218085,\n",
       "        0.654255, 0.441489, 1.31383 , 0.265957, 0.308511],\n",
       "       [0.285945, 0.420032, 0.516424, 1.162089, 1.252558, 1.739365,\n",
       "        1.776521, 2.116855, 1.785137, 1.413032, 0.898761, 0.796984,\n",
       "        0.458805, 0.28433 , 0.172321, 0.229402, 0.140011],\n",
       "       [0.16254 , 0.278208, 0.314118, 0.741259, 0.749953, 0.963145,\n",
       "        0.967114, 1.059157, 0.855415, 0.56719 , 0.420903, 0.317709,\n",
       "        0.20601 , 0.095823, 0.053487, 0.08505 , 0.020223]])"
      ]
     },
     "execution_count": 8,
     "metadata": {},
     "output_type": "execute_result"
    }
   ],
   "source": [
    "matrix_1[111]"
   ]
  },
  {
   "cell_type": "code",
   "execution_count": 9,
   "id": "571e015b",
   "metadata": {},
   "outputs": [
    {
     "data": {
      "text/plain": [
       "(14113, 102)"
      ]
     },
     "execution_count": 9,
     "metadata": {},
     "output_type": "execute_result"
    }
   ],
   "source": [
    "matrix_1 = matrix_1.reshape(14113,-1)\n",
    "matrix_1.shape"
   ]
  },
  {
   "cell_type": "markdown",
   "id": "da03d5cb",
   "metadata": {},
   "source": [
    "# Converting the data into pytorch tenors"
   ]
  },
  {
   "cell_type": "code",
   "execution_count": 10,
   "id": "70a724b2",
   "metadata": {},
   "outputs": [
    {
     "data": {
      "text/plain": [
       "(torch.Size([14113, 102]), torch.Size([14113, 1]))"
      ]
     },
     "execution_count": 10,
     "metadata": {},
     "output_type": "execute_result"
    }
   ],
   "source": [
    "features = torch.from_numpy(matrix_1)\n",
    "targets = torch.from_numpy(target_pagerank)\n",
    "features.shape, targets.shape"
   ]
  },
  {
   "cell_type": "code",
   "execution_count": 11,
   "id": "b3cf09de",
   "metadata": {},
   "outputs": [
    {
     "data": {
      "text/plain": [
       "tensor([[0.9985],\n",
       "        [0.8875],\n",
       "        [0.5463],\n",
       "        ...,\n",
       "        [0.2811],\n",
       "        [0.4245],\n",
       "        [0.3886]], dtype=torch.float64, requires_grad=True)"
      ]
     },
     "execution_count": 11,
     "metadata": {},
     "output_type": "execute_result"
    }
   ],
   "source": [
    "# Activating the automatic gradient \n",
    "features.requires_grad_(True)\n",
    "targets.requires_grad_(True)"
   ]
  },
  {
   "cell_type": "code",
   "execution_count": 12,
   "id": "1ab8749e",
   "metadata": {},
   "outputs": [
    {
     "data": {
      "text/plain": [
       "(torch.Size([10000, 102]),\n",
       " torch.Size([4113, 102]),\n",
       " torch.Size([10000, 1]),\n",
       " torch.Size([4113, 1]))"
      ]
     },
     "execution_count": 12,
     "metadata": {},
     "output_type": "execute_result"
    }
   ],
   "source": [
    "# Shuffling and dividing the indecies\n",
    "n_samples = features.shape[0]\n",
    "n_test = 4113\n",
    "shuffled_ind = torch.randperm(n_samples)\n",
    "train_ind = shuffled_ind[:-n_test]\n",
    "test_ind = shuffled_ind[-n_test:]\n",
    "# Dividing features and targets into tain and test sets\n",
    "train_features = features[train_ind]\n",
    "test_features = features[test_ind]\n",
    "train_targets = targets[train_ind]\n",
    "test_targets = targets[test_ind]\n",
    "train_features.shape, test_features.shape, train_targets.shape, test_targets.shape"
   ]
  },
  {
   "cell_type": "markdown",
   "id": "4d960fdc",
   "metadata": {},
   "source": [
    "## A function for dividing train data into batches"
   ]
  },
  {
   "cell_type": "code",
   "execution_count": 13,
   "id": "a0515de8",
   "metadata": {},
   "outputs": [],
   "source": [
    "# dividing train_features and train_targets into batches\n",
    "def next_batch(train_features, train_targets, batch_size=100):\n",
    "    num_features = train_features.shape[0]\n",
    "    # Shuffling\n",
    "    shuffled_ind = torch.randperm(num_features)\n",
    "    shuffled_train_features = train_features[shuffled_ind]\n",
    "    shuffled_train_targets = train_targets[shuffled_ind]\n",
    "    # Dividing\n",
    "    i = 0\n",
    "    while i < num_features:\n",
    "        i += batch_size\n",
    "        yield (shuffled_train_features[i-batch_size:i], shuffled_train_targets[i-batch_size:i])\n",
    "    return"
   ]
  },
  {
   "cell_type": "markdown",
   "id": "d53422f6",
   "metadata": {},
   "source": [
    "## The feedforward neural network model"
   ]
  },
  {
   "cell_type": "code",
   "execution_count": 14,
   "id": "b8ef9f95",
   "metadata": {},
   "outputs": [],
   "source": [
    "# The Feedforward Neural Network \n",
    "class FFNN_model(nn.Module):\n",
    "    def __init__(self):\n",
    "        super().__init__()\n",
    "        num_features = features.shape[1]\n",
    "        self.fc1 = nn.Linear(num_features, 400)\n",
    "        self.fc2 = nn.Linear(400, 800)\n",
    "        self.fc3 = nn.Linear(800, 200)\n",
    "        self.fc4 = nn.Linear(200, 64)\n",
    "        self.fc5 = nn.Linear(64, 8)\n",
    "        self.fc6 = nn.Linear(8, 1)\n",
    "        self.dropout1 = nn.Dropout(0.4)\n",
    "        self.dropout2 = nn.Dropout(0.3)\n",
    "        self.dropout3 = nn.Dropout(0.5)\n",
    "    \n",
    "    def forward(self, X):\n",
    "        X = torch.tanh(self.fc1(X))\n",
    "        X = torch.relu(self.fc2(X))\n",
    "        X = self.dropout1(X)\n",
    "        X = torch.relu(self.fc3(X))\n",
    "        X = self.dropout3(X)\n",
    "        X = torch.relu(self.fc4(X))\n",
    "        X = self.dropout2(X)\n",
    "        X = torch.tanh(self.fc5(X))\n",
    "        return self.fc6(X)"
   ]
  },
  {
   "cell_type": "code",
   "execution_count": 15,
   "id": "dbd6afbe",
   "metadata": {},
   "outputs": [
    {
     "data": {
      "text/plain": [
       "FFNN_model(\n",
       "  (fc1): Linear(in_features=102, out_features=400, bias=True)\n",
       "  (fc2): Linear(in_features=400, out_features=800, bias=True)\n",
       "  (fc3): Linear(in_features=800, out_features=200, bias=True)\n",
       "  (fc4): Linear(in_features=200, out_features=64, bias=True)\n",
       "  (fc5): Linear(in_features=64, out_features=8, bias=True)\n",
       "  (fc6): Linear(in_features=8, out_features=1, bias=True)\n",
       "  (dropout1): Dropout(p=0.4, inplace=False)\n",
       "  (dropout2): Dropout(p=0.3, inplace=False)\n",
       "  (dropout3): Dropout(p=0.5, inplace=False)\n",
       ")"
      ]
     },
     "execution_count": 15,
     "metadata": {},
     "output_type": "execute_result"
    }
   ],
   "source": [
    "# Instantiation of the model\n",
    "torch.manual_seed(42)\n",
    "model = FFNN_model()\n",
    "model"
   ]
  },
  {
   "cell_type": "code",
   "execution_count": 16,
   "id": "9a867c25",
   "metadata": {},
   "outputs": [
    {
     "name": "stdout",
     "output_type": "stream",
     "text": [
      "40800\n",
      "400\n",
      "320000\n",
      "800\n",
      "160000\n",
      "200\n",
      "12800\n",
      "64\n",
      "512\n",
      "8\n",
      "8\n",
      "1\n",
      "----------------------\n",
      "Number of all parameters: \n",
      "535593\n"
     ]
    }
   ],
   "source": [
    "# Number of parameters\n",
    "num_para = 0\n",
    "for param in model.parameters():\n",
    "    print(param.numel())\n",
    "    num_para += param.numel()\n",
    "print(\"----------------------\")\n",
    "print(f'Number of all parameters: \\n{num_para}')"
   ]
  },
  {
   "cell_type": "code",
   "execution_count": 17,
   "id": "4f68fb57",
   "metadata": {},
   "outputs": [],
   "source": [
    "# Objective function and optimmizer\n",
    "criterion = nn.MSELoss()\n",
    "optimizer = optim.Adam(model.parameters(), lr=1e-3)\n",
    "# optimizer = optim.SGD(model.parameters(), lr=0.01, momentum=0.9)"
   ]
  },
  {
   "cell_type": "markdown",
   "id": "60d430bc",
   "metadata": {},
   "source": [
    "## Defining the Training Loop"
   ]
  },
  {
   "cell_type": "code",
   "execution_count": 18,
   "id": "3c9b4697",
   "metadata": {},
   "outputs": [],
   "source": [
    "def training_loop(n_epochs=1000,\n",
    "                  batch_size=100,\n",
    "                  optimizer=optimizer, \n",
    "                  model=model, \n",
    "                  loss_fn=criterion, \n",
    "                  train_features=train_features, \n",
    "                  test_features=test_features, \n",
    "                  train_targets=train_targets, \n",
    "                  test_targets=test_targets):\n",
    "    num_features = train_features.shape[0]\n",
    "    start_time = time.time()\n",
    "    all_train_loss, all_test_loss = np.zeros(n_epochs), np.zeros(n_epochs)\n",
    "    for epoch in range(1, n_epochs +1):\n",
    "        # Training: \n",
    "        epoch_losses = []\n",
    "        # looping through batches\n",
    "        for train_features, train_targets in next_batch(train_features=train_features, \n",
    "                                                        train_targets=train_targets, batch_size=batch_size): \n",
    "            train_preds = model(train_features.float())\n",
    "            train_loss = loss_fn(train_targets.float(), train_preds.float())\n",
    "            optimizer.zero_grad()\n",
    "            train_loss.backward(retain_graph=True)\n",
    "            optimizer.step()\n",
    "            \n",
    "            epoch_losses.append(train_loss.item())\n",
    "        average_epoch_loss = sum(epoch_losses)/len(epoch_losses)\n",
    "        \n",
    "        # Test:\n",
    "        with torch.no_grad():\n",
    "            test_preds = model(test_features.float())\n",
    "            test_loss = loss_fn(test_targets.float(), test_preds.float())\n",
    "        \n",
    "        all_train_loss[epoch - 1] = average_epoch_loss\n",
    "        all_test_loss[epoch - 1] = test_loss.item()\n",
    "        # Printing the result: \n",
    "        if epoch == 1 or epoch % 100 == 0:\n",
    "            print(f\"EPOCH: {epoch:{7}}\")\n",
    "            print(f\"MEAN TRAIN LOSS:   {average_epoch_loss:.11f},    TEST LOSS:   {test_loss.item():.11f}\")\n",
    "            print(\"-----------------------------------------\")\n",
    "    print(\"The total time = \", np.round(time.time() - start_time, 3), \" seconds!\")\n",
    "    return all_train_loss, all_test_loss"
   ]
  },
  {
   "cell_type": "markdown",
   "id": "02ab2601",
   "metadata": {},
   "source": [
    "# Training the model"
   ]
  },
  {
   "cell_type": "code",
   "execution_count": 19,
   "id": "0a9afbe6",
   "metadata": {
    "scrolled": false
   },
   "outputs": [
    {
     "name": "stdout",
     "output_type": "stream",
     "text": [
      "EPOCH:       1\n",
      "MEAN TRAIN LOSS:   0.65423311949,    TEST LOSS:   0.47081270814\n",
      "-----------------------------------------\n",
      "EPOCH:     100\n",
      "MEAN TRAIN LOSS:   0.08209330589,    TEST LOSS:   0.22129108012\n",
      "-----------------------------------------\n",
      "EPOCH:     200\n",
      "MEAN TRAIN LOSS:   0.04253416508,    TEST LOSS:   0.16900217533\n",
      "-----------------------------------------\n",
      "EPOCH:     300\n",
      "MEAN TRAIN LOSS:   0.02602081746,    TEST LOSS:   0.14253042638\n",
      "-----------------------------------------\n",
      "EPOCH:     400\n",
      "MEAN TRAIN LOSS:   0.01821075752,    TEST LOSS:   0.12626607716\n",
      "-----------------------------------------\n",
      "EPOCH:     500\n",
      "MEAN TRAIN LOSS:   0.01198110916,    TEST LOSS:   0.11545421183\n",
      "-----------------------------------------\n",
      "EPOCH:     600\n",
      "MEAN TRAIN LOSS:   0.00921595842,    TEST LOSS:   0.10730690509\n",
      "-----------------------------------------\n",
      "EPOCH:     700\n",
      "MEAN TRAIN LOSS:   0.00920750387,    TEST LOSS:   0.10146991909\n",
      "-----------------------------------------\n",
      "EPOCH:     800\n",
      "MEAN TRAIN LOSS:   0.00607953500,    TEST LOSS:   0.09804525226\n",
      "-----------------------------------------\n",
      "EPOCH:     900\n",
      "MEAN TRAIN LOSS:   0.00490396842,    TEST LOSS:   0.09287412465\n",
      "-----------------------------------------\n",
      "EPOCH:    1000\n",
      "MEAN TRAIN LOSS:   0.00392541010,    TEST LOSS:   0.09054656327\n",
      "-----------------------------------------\n",
      "EPOCH:    1100\n",
      "MEAN TRAIN LOSS:   0.00345142465,    TEST LOSS:   0.08764807880\n",
      "-----------------------------------------\n",
      "EPOCH:    1200\n",
      "MEAN TRAIN LOSS:   0.00334196258,    TEST LOSS:   0.08745268732\n",
      "-----------------------------------------\n",
      "EPOCH:    1300\n",
      "MEAN TRAIN LOSS:   0.00346898101,    TEST LOSS:   0.08450552821\n",
      "-----------------------------------------\n",
      "EPOCH:    1400\n",
      "MEAN TRAIN LOSS:   0.00348750083,    TEST LOSS:   0.08327788115\n",
      "-----------------------------------------\n",
      "EPOCH:    1500\n",
      "MEAN TRAIN LOSS:   0.00232988270,    TEST LOSS:   0.08204013854\n",
      "-----------------------------------------\n",
      "EPOCH:    1600\n",
      "MEAN TRAIN LOSS:   0.00229420210,    TEST LOSS:   0.08079440147\n",
      "-----------------------------------------\n",
      "EPOCH:    1700\n",
      "MEAN TRAIN LOSS:   0.00258040894,    TEST LOSS:   0.07993160933\n",
      "-----------------------------------------\n",
      "EPOCH:    1800\n",
      "MEAN TRAIN LOSS:   0.00245677237,    TEST LOSS:   0.07924222201\n",
      "-----------------------------------------\n",
      "EPOCH:    1900\n",
      "MEAN TRAIN LOSS:   0.00213304046,    TEST LOSS:   0.08053398132\n",
      "-----------------------------------------\n",
      "EPOCH:    2000\n",
      "MEAN TRAIN LOSS:   0.00149940688,    TEST LOSS:   0.07840401679\n",
      "-----------------------------------------\n",
      "The total time =  556.362  seconds!\n"
     ]
    }
   ],
   "source": [
    "losses = training_loop(n_epochs=2000,\n",
    "                  batch_size=400,\n",
    "                  optimizer=optimizer, \n",
    "                  model=model, \n",
    "                  loss_fn=criterion, \n",
    "                  train_features=train_features, \n",
    "                  test_features=test_features, \n",
    "                  train_targets=train_targets, \n",
    "                  test_targets=test_targets)"
   ]
  },
  {
   "cell_type": "code",
   "execution_count": 20,
   "id": "8b432604",
   "metadata": {},
   "outputs": [],
   "source": [
    "# Saving the train losses of pagerank as a numpy array into a file\n",
    "np.save(\"ffnn_pagerank_train_losses.npy\", losses[0], allow_pickle=False, fix_imports=True)"
   ]
  },
  {
   "cell_type": "code",
   "execution_count": 21,
   "id": "f29b9dce",
   "metadata": {},
   "outputs": [],
   "source": [
    "# Saving the test losses of pagerank as a numpy array into a file\n",
    "np.save(\"ffnn_pagerank_test_losses.npy\", losses[1], allow_pickle=False, fix_imports=True)"
   ]
  },
  {
   "cell_type": "code",
   "execution_count": 22,
   "id": "236809d9",
   "metadata": {},
   "outputs": [
    {
     "name": "stdout",
     "output_type": "stream",
     "text": [
      "target 0.8270967186912557,    prediction: 0.8579225540161133\n",
      "index 0:       inaccuracy: 3.727%\n",
      "-----------------------------------------------------------------\n",
      "target 0.476315524567235,    prediction: 0.3173266351222992\n",
      "index 100:       inaccuracy: 33.379%\n",
      "-----------------------------------------------------------------\n",
      "target 0.445962647242291,    prediction: 0.509641706943512\n",
      "index 200:       inaccuracy: 14.279%\n",
      "-----------------------------------------------------------------\n",
      "target 0.36575762176223975,    prediction: 0.45871588587760925\n",
      "index 300:       inaccuracy: 25.415%\n",
      "-----------------------------------------------------------------\n",
      "target 0.4006758708746178,    prediction: 0.39544352889060974\n",
      "index 400:       inaccuracy: 1.306%\n",
      "-----------------------------------------------------------------\n",
      "target 0.6457893514893857,    prediction: 0.665459930896759\n",
      "index 500:       inaccuracy: 3.046%\n",
      "-----------------------------------------------------------------\n",
      "target 0.5121315814962353,    prediction: 0.576610803604126\n",
      "index 600:       inaccuracy: 12.59%\n",
      "-----------------------------------------------------------------\n",
      "target 0.5224593985967696,    prediction: 0.5752888917922974\n",
      "index 700:       inaccuracy: 10.112%\n",
      "-----------------------------------------------------------------\n",
      "target 0.25688432545683787,    prediction: 0.2281254082918167\n",
      "index 800:       inaccuracy: 11.195%\n",
      "-----------------------------------------------------------------\n",
      "target 0.9868708906144041,    prediction: 0.9046971201896667\n",
      "index 900:       inaccuracy: 8.327%\n",
      "-----------------------------------------------------------------\n",
      "target 0.7358402835148257,    prediction: 0.6761912703514099\n",
      "index 1000:       inaccuracy: 8.106%\n",
      "-----------------------------------------------------------------\n",
      "target 0.653368948866709,    prediction: 0.706131637096405\n",
      "index 1100:       inaccuracy: 8.075%\n",
      "-----------------------------------------------------------------\n",
      "target 0.4547606400107977,    prediction: 0.46328482031822205\n",
      "index 1200:       inaccuracy: 1.874%\n",
      "-----------------------------------------------------------------\n",
      "target 0.6867641499274392,    prediction: 0.6167625188827515\n",
      "index 1300:       inaccuracy: 10.193%\n",
      "-----------------------------------------------------------------\n",
      "target 1.3919443252926897,    prediction: 1.4370036125183105\n",
      "index 1400:       inaccuracy: 3.237%\n",
      "-----------------------------------------------------------------\n",
      "target 0.237602335754665,    prediction: 0.2585829198360443\n",
      "index 1500:       inaccuracy: 8.83%\n",
      "-----------------------------------------------------------------\n",
      "target 0.1910147099108752,    prediction: 0.20819438993930817\n",
      "index 1600:       inaccuracy: 8.994%\n",
      "-----------------------------------------------------------------\n",
      "target 0.5220125434733672,    prediction: 0.5321594476699829\n",
      "index 1700:       inaccuracy: 1.944%\n",
      "-----------------------------------------------------------------\n",
      "target 0.8777133243239018,    prediction: 0.8980433344841003\n",
      "index 1800:       inaccuracy: 2.316%\n",
      "-----------------------------------------------------------------\n",
      "target 0.4538833366957253,    prediction: 0.3532200753688812\n",
      "index 1900:       inaccuracy: 22.178%\n",
      "-----------------------------------------------------------------\n",
      "target 0.636472638530183,    prediction: 0.600509524345398\n",
      "index 2000:       inaccuracy: 5.65%\n",
      "-----------------------------------------------------------------\n",
      "target 0.7212109275498224,    prediction: 0.7888674736022949\n",
      "index 2100:       inaccuracy: 9.381%\n",
      "-----------------------------------------------------------------\n",
      "target 0.14617562556244212,    prediction: 0.21476508677005768\n",
      "index 2200:       inaccuracy: 46.923%\n",
      "-----------------------------------------------------------------\n",
      "target 0.3718979715458604,    prediction: 0.3411293923854828\n",
      "index 2300:       inaccuracy: 8.273%\n",
      "-----------------------------------------------------------------\n",
      "target 0.17693079101649925,    prediction: 0.20803768932819366\n",
      "index 2400:       inaccuracy: 17.581%\n",
      "-----------------------------------------------------------------\n",
      "target 1.6324421578039892,    prediction: 1.4995077848434448\n",
      "index 2500:       inaccuracy: 8.143%\n",
      "-----------------------------------------------------------------\n",
      "target 1.139954075561283,    prediction: 1.120208501815796\n",
      "index 2600:       inaccuracy: 1.732%\n",
      "-----------------------------------------------------------------\n",
      "target 0.4181560888653536,    prediction: 0.4399709403514862\n",
      "index 2700:       inaccuracy: 5.217%\n",
      "-----------------------------------------------------------------\n",
      "target 0.23824635070823086,    prediction: 0.25188180804252625\n",
      "index 2800:       inaccuracy: 5.723%\n",
      "-----------------------------------------------------------------\n",
      "target 1.0793780443703878,    prediction: 1.0084971189498901\n",
      "index 2900:       inaccuracy: 6.567%\n",
      "-----------------------------------------------------------------\n",
      "target 0.694821523310924,    prediction: 0.6909688711166382\n",
      "index 3000:       inaccuracy: 0.554%\n",
      "-----------------------------------------------------------------\n",
      "target 0.37361047472381503,    prediction: 0.33390626311302185\n",
      "index 3100:       inaccuracy: 10.627%\n",
      "-----------------------------------------------------------------\n",
      "target 0.7104252222149239,    prediction: 0.5947415828704834\n",
      "index 3200:       inaccuracy: 16.284%\n",
      "-----------------------------------------------------------------\n",
      "target 0.3637649264875331,    prediction: 0.4254476726055145\n",
      "index 3300:       inaccuracy: 16.957%\n",
      "-----------------------------------------------------------------\n",
      "target 0.38549880006243953,    prediction: 0.4000696837902069\n",
      "index 3400:       inaccuracy: 3.78%\n",
      "-----------------------------------------------------------------\n",
      "target 0.2232227125721206,    prediction: 0.21623070538043976\n",
      "index 3500:       inaccuracy: 3.132%\n",
      "-----------------------------------------------------------------\n",
      "target 0.31375896751841686,    prediction: 0.335358589887619\n",
      "index 3600:       inaccuracy: 6.884%\n",
      "-----------------------------------------------------------------\n",
      "target 0.2205700265116057,    prediction: 0.208891823887825\n",
      "index 3700:       inaccuracy: 5.295%\n",
      "-----------------------------------------------------------------\n",
      "target 0.6330381409057285,    prediction: 0.5624839067459106\n",
      "index 3800:       inaccuracy: 11.145%\n",
      "-----------------------------------------------------------------\n",
      "target 1.7850492454478062,    prediction: 1.4774724245071411\n",
      "index 3900:       inaccuracy: 17.231%\n",
      "-----------------------------------------------------------------\n",
      "target 0.6468020372806167,    prediction: 0.6623184680938721\n",
      "index 4000:       inaccuracy: 2.399%\n",
      "-----------------------------------------------------------------\n",
      "target 0.7627968474939439,    prediction: 0.7529133558273315\n",
      "index 4100:       inaccuracy: 1.296%\n",
      "-----------------------------------------------------------------\n"
     ]
    }
   ],
   "source": [
    "model.eval()\n",
    "errors = []\n",
    "for i in range(n_test):\n",
    "    targ = test_targets[i].item()\n",
    "    feat = test_features[i].float().view(1,1,102)\n",
    "    pred = model(feat).item()\n",
    "    inaccuracy = abs(1 - pred/targ) * 100\n",
    "    errors.append(inaccuracy)\n",
    "    if i%100 == 0:\n",
    "        print(f\"target {targ},    prediction: {pred}\\nindex {i}:       inaccuracy: {np.round(inaccuracy, 3)}%\")\n",
    "        print(\"-----------------------------------------------------------------\")"
   ]
  },
  {
   "cell_type": "code",
   "execution_count": 23,
   "id": "0a813b62",
   "metadata": {},
   "outputs": [
    {
     "name": "stdout",
     "output_type": "stream",
     "text": [
      "Average inaccuracy:  9.651\n"
     ]
    }
   ],
   "source": [
    "print(\"Average inaccuracy: \", np.round(sum(errors)/len(errors), 3))"
   ]
  },
  {
   "cell_type": "code",
   "execution_count": 24,
   "id": "4f7a0d3b",
   "metadata": {},
   "outputs": [],
   "source": [
    "torch.save(model, \"trained_FFNN_model_pagerank.pt\")"
   ]
  },
  {
   "cell_type": "code",
   "execution_count": null,
   "id": "1d3225f1",
   "metadata": {},
   "outputs": [],
   "source": []
  }
 ],
 "metadata": {
  "kernelspec": {
   "display_name": "Python 3 (ipykernel)",
   "language": "python",
   "name": "python3"
  },
  "language_info": {
   "codemirror_mode": {
    "name": "ipython",
    "version": 3
   },
   "file_extension": ".py",
   "mimetype": "text/x-python",
   "name": "python",
   "nbconvert_exporter": "python",
   "pygments_lexer": "ipython3",
   "version": "3.8.3"
  }
 },
 "nbformat": 4,
 "nbformat_minor": 5
}
