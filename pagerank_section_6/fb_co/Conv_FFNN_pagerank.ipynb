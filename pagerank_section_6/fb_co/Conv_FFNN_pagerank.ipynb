{
 "cells": [
  {
   "cell_type": "markdown",
   "id": "31b500b5",
   "metadata": {},
   "source": [
    "# Learning PageRank via vertical convolution followed with fully connected layers neural networks\n"
   ]
  },
  {
   "cell_type": "code",
   "execution_count": 1,
   "id": "a9854c00",
   "metadata": {},
   "outputs": [],
   "source": [
    "import time\n",
    "from mygraph import MyGraph\n",
    "from helpers import *"
   ]
  },
  {
   "cell_type": "code",
   "execution_count": 2,
   "id": "c8783184",
   "metadata": {},
   "outputs": [],
   "source": [
    "import torch\n",
    "import torch.nn as nn\n",
    "import torch.optim as optim\n",
    "import torch.nn.functional as F"
   ]
  },
  {
   "cell_type": "markdown",
   "id": "cfdc752f",
   "metadata": {},
   "source": [
    "## Loading the dataset from numpy files"
   ]
  },
  {
   "cell_type": "code",
   "execution_count": 3,
   "id": "0a2177fd",
   "metadata": {},
   "outputs": [
    {
     "data": {
      "text/plain": [
       "array([9.98507331e-05])"
      ]
     },
     "execution_count": 3,
     "metadata": {},
     "output_type": "execute_result"
    }
   ],
   "source": [
    "# Pageank as the target or label data\n",
    "target_pagerank = np.load(\"fb_co_pages_pageranks.npy\", mmap_mode=None, allow_pickle=False, fix_imports=True, encoding='ASCII')\n",
    "target_pagerank[0]"
   ]
  },
  {
   "cell_type": "code",
   "execution_count": 4,
   "id": "23f24350",
   "metadata": {},
   "outputs": [
    {
     "data": {
      "text/plain": [
       "array([0.99850733])"
      ]
     },
     "execution_count": 4,
     "metadata": {},
     "output_type": "execute_result"
    }
   ],
   "source": [
    "# scaling the PageRank data\n",
    "target_pagerank = target_pagerank * 10000\n",
    "target_pagerank[0]"
   ]
  },
  {
   "cell_type": "code",
   "execution_count": 5,
   "id": "cec6039f",
   "metadata": {},
   "outputs": [
    {
     "data": {
      "text/plain": [
       "(14113, 1)"
      ]
     },
     "execution_count": 5,
     "metadata": {},
     "output_type": "execute_result"
    }
   ],
   "source": [
    "target_pagerank.shape"
   ]
  },
  {
   "cell_type": "code",
   "execution_count": 6,
   "id": "613797d7",
   "metadata": {},
   "outputs": [
    {
     "data": {
      "text/plain": [
       "(14113, 6, 17)"
      ]
     },
     "execution_count": 6,
     "metadata": {},
     "output_type": "execute_result"
    }
   ],
   "source": [
    "# the NFDC matrix as the feature set\n",
    "matrix_1 = np.load(\"fb_co_pages_NDFC_matrix_r1-30_sta1_max50_rad5.npy\", mmap_mode=None, allow_pickle=False, fix_imports=True, encoding='ASCII')\n",
    "matrix_1.shape"
   ]
  },
  {
   "cell_type": "code",
   "execution_count": 7,
   "id": "b3f0e7fe",
   "metadata": {},
   "outputs": [
    {
     "data": {
      "text/plain": [
       "(14113, 1, 6, 17)"
      ]
     },
     "execution_count": 7,
     "metadata": {},
     "output_type": "execute_result"
    }
   ],
   "source": [
    "matrix_1 = matrix_1.reshape(14113, 1, 6, 17)\n",
    "matrix_1.shape"
   ]
  },
  {
   "cell_type": "markdown",
   "id": "da03d5cb",
   "metadata": {},
   "source": [
    "# Converting the data into pytorch tenors"
   ]
  },
  {
   "cell_type": "code",
   "execution_count": 8,
   "id": "70a724b2",
   "metadata": {},
   "outputs": [
    {
     "data": {
      "text/plain": [
       "(torch.Size([14113, 1, 6, 17]), torch.Size([14113, 1]))"
      ]
     },
     "execution_count": 8,
     "metadata": {},
     "output_type": "execute_result"
    }
   ],
   "source": [
    "features = torch.from_numpy(matrix_1)\n",
    "targets = torch.from_numpy(target_pagerank)\n",
    "features.shape, targets.shape"
   ]
  },
  {
   "cell_type": "code",
   "execution_count": 9,
   "id": "b3cf09de",
   "metadata": {},
   "outputs": [
    {
     "data": {
      "text/plain": [
       "tensor([[0.9985],\n",
       "        [0.8875],\n",
       "        [0.5463],\n",
       "        ...,\n",
       "        [0.2811],\n",
       "        [0.4245],\n",
       "        [0.3886]], dtype=torch.float64, requires_grad=True)"
      ]
     },
     "execution_count": 9,
     "metadata": {},
     "output_type": "execute_result"
    }
   ],
   "source": [
    "# Ativating the automatic gradient \n",
    "features.requires_grad_(True)\n",
    "targets.requires_grad_(True)"
   ]
  },
  {
   "cell_type": "code",
   "execution_count": 10,
   "id": "1ab8749e",
   "metadata": {},
   "outputs": [
    {
     "data": {
      "text/plain": [
       "(torch.Size([10000, 1, 6, 17]),\n",
       " torch.Size([4113, 1, 6, 17]),\n",
       " torch.Size([10000, 1]),\n",
       " torch.Size([4113, 1]))"
      ]
     },
     "execution_count": 10,
     "metadata": {},
     "output_type": "execute_result"
    }
   ],
   "source": [
    "# Shuffling and dividing the indecies\n",
    "n_samples = features.shape[0]\n",
    "n_test = 4113\n",
    "shuffled_ind = torch.randperm(n_samples)\n",
    "train_ind = shuffled_ind[:-n_test]\n",
    "test_ind = shuffled_ind[-n_test:]\n",
    "# Dividing features and targets into tain and test sets\n",
    "train_features = features[train_ind]\n",
    "test_features = features[test_ind]\n",
    "train_targets = targets[train_ind]\n",
    "test_targets = targets[test_ind]\n",
    "train_features.shape, test_features.shape, train_targets.shape, test_targets.shape"
   ]
  },
  {
   "cell_type": "markdown",
   "id": "4d960fdc",
   "metadata": {},
   "source": [
    "## A function for shuffling and dividing train data into batches in each epoch"
   ]
  },
  {
   "cell_type": "code",
   "execution_count": 11,
   "id": "a0515de8",
   "metadata": {},
   "outputs": [],
   "source": [
    "# shuffling and dividing train_features and train_targets into batches\n",
    "def next_batch(train_features, train_targets, batch_size=100):\n",
    "    num_features = train_features.shape[0]\n",
    "    # Shuffling\n",
    "    shuffled_ind = torch.randperm(num_features)\n",
    "    shuffled_train_features = train_features[shuffled_ind]\n",
    "    shuffled_train_targets = train_targets[shuffled_ind]\n",
    "    # dividing\n",
    "    i = 0\n",
    "    while i < num_features:\n",
    "        i += batch_size\n",
    "        yield (shuffled_train_features[i-batch_size:i], shuffled_train_targets[i-batch_size:i])\n",
    "    return"
   ]
  },
  {
   "cell_type": "markdown",
   "id": "d53422f6",
   "metadata": {},
   "source": [
    "## The feedforward neural network model"
   ]
  },
  {
   "cell_type": "code",
   "execution_count": 12,
   "id": "b8ef9f95",
   "metadata": {},
   "outputs": [],
   "source": [
    "# The Feedforward Neural Network \n",
    "class FFNN_model(nn.Module):\n",
    "    def __init__(self):\n",
    "        super().__init__()\n",
    "        # Convolutional layers\n",
    "        final_out_channels = 6\n",
    "        self.conv_layer_1 = nn.Conv2d(in_channels=1, out_channels=3, kernel_size=(3,1), stride=(1, 1), padding=(1,0),  padding_mode='zeros')\n",
    "        self.conv_layer_2 = nn.Conv2d(in_channels=3, out_channels=final_out_channels, kernel_size=(4,1), stride=(1, 1), padding=(1,0),  padding_mode='zeros')\n",
    "        self.pooling_1 = nn.MaxPool2d(kernel_size=(3,1), stride=None, padding=0, dilation=1, return_indices=False, ceil_mode=False)\n",
    "        # Linear layers\n",
    "        num_features = features.shape[-1] * final_out_channels\n",
    "        self.fc1 = nn.Linear(num_features, 400)\n",
    "        self.fc2 = nn.Linear(400, 800)\n",
    "        self.fc3 = nn.Linear(800, 200)\n",
    "        self.fc4 = nn.Linear(200, 64)\n",
    "        self.fc5 = nn.Linear(64, 8)\n",
    "        self.fc6 = nn.Linear(8, 1)\n",
    "        self.dropout1 = nn.Dropout(0.4)\n",
    "        self.dropout2 = nn.Dropout(0.3)\n",
    "        self.dropout3 = nn.Dropout(0.5)\n",
    "    \n",
    "    def forward(self, X):\n",
    "        X = torch.tanh(self.conv_layer_1(X))\n",
    "        X = self.pooling_1(X)\n",
    "        X = torch.relu(self.conv_layer_2(X))\n",
    "        X = torch.flatten(X, start_dim=1, end_dim=-1)\n",
    "        X = torch.tanh(self.fc1(X))\n",
    "        X = torch.relu(self.fc2(X))\n",
    "        X = self.dropout1(X)\n",
    "        X = torch.relu(self.fc3(X))\n",
    "        X = self.dropout3(X)\n",
    "        X = torch.relu(self.fc4(X))\n",
    "        X = self.dropout2(X)\n",
    "        X = torch.tanh(self.fc5(X))\n",
    "        return self.fc6(X)"
   ]
  },
  {
   "cell_type": "code",
   "execution_count": 13,
   "id": "dbd6afbe",
   "metadata": {},
   "outputs": [
    {
     "data": {
      "text/plain": [
       "FFNN_model(\n",
       "  (conv_layer_1): Conv2d(1, 3, kernel_size=(3, 1), stride=(1, 1), padding=(1, 0))\n",
       "  (conv_layer_2): Conv2d(3, 6, kernel_size=(4, 1), stride=(1, 1), padding=(1, 0))\n",
       "  (pooling_1): MaxPool2d(kernel_size=(3, 1), stride=(3, 1), padding=0, dilation=1, ceil_mode=False)\n",
       "  (fc1): Linear(in_features=102, out_features=400, bias=True)\n",
       "  (fc2): Linear(in_features=400, out_features=800, bias=True)\n",
       "  (fc3): Linear(in_features=800, out_features=200, bias=True)\n",
       "  (fc4): Linear(in_features=200, out_features=64, bias=True)\n",
       "  (fc5): Linear(in_features=64, out_features=8, bias=True)\n",
       "  (fc6): Linear(in_features=8, out_features=1, bias=True)\n",
       "  (dropout1): Dropout(p=0.4, inplace=False)\n",
       "  (dropout2): Dropout(p=0.3, inplace=False)\n",
       "  (dropout3): Dropout(p=0.5, inplace=False)\n",
       ")"
      ]
     },
     "execution_count": 13,
     "metadata": {},
     "output_type": "execute_result"
    }
   ],
   "source": [
    "# Instantiation of the model\n",
    "torch.manual_seed(42)\n",
    "model = FFNN_model()\n",
    "model"
   ]
  },
  {
   "cell_type": "code",
   "execution_count": 14,
   "id": "9a867c25",
   "metadata": {},
   "outputs": [
    {
     "name": "stdout",
     "output_type": "stream",
     "text": [
      "9\n",
      "3\n",
      "72\n",
      "6\n",
      "40800\n",
      "400\n",
      "320000\n",
      "800\n",
      "160000\n",
      "200\n",
      "12800\n",
      "64\n",
      "512\n",
      "8\n",
      "8\n",
      "1\n",
      "----------------------\n",
      "Number of all parameters: \n",
      "535683\n"
     ]
    }
   ],
   "source": [
    "num_para = 0\n",
    "for param in model.parameters():\n",
    "    print(param.numel())\n",
    "    num_para += param.numel()\n",
    "print(\"----------------------\")\n",
    "print(f'Number of all parameters: \\n{num_para}')"
   ]
  },
  {
   "cell_type": "code",
   "execution_count": 15,
   "id": "4f68fb57",
   "metadata": {},
   "outputs": [],
   "source": [
    "# Objective function and optimmizer\n",
    "criterion = nn.MSELoss()\n",
    "optimizer = optim.Adam(model.parameters(), lr=1e-3)\n",
    "# optimizer = optim.SGD(model.parameters(), lr=0.01, momentum=0.9)"
   ]
  },
  {
   "cell_type": "markdown",
   "id": "60d430bc",
   "metadata": {},
   "source": [
    "## Defining the Training Loop"
   ]
  },
  {
   "cell_type": "code",
   "execution_count": 16,
   "id": "3c9b4697",
   "metadata": {},
   "outputs": [],
   "source": [
    "def training_loop(n_epochs=1000,\n",
    "                  batch_size=100,\n",
    "                  optimizer=optimizer, \n",
    "                  model=model, \n",
    "                  loss_fn=criterion, \n",
    "                  train_features=train_features, \n",
    "                  test_features=test_features, \n",
    "                  train_targets=train_targets, \n",
    "                  test_targets=test_targets):\n",
    "    num_features = train_features.shape[0]\n",
    "    start_time = time.time()\n",
    "    all_train_loss, all_test_loss = np.zeros(n_epochs), np.zeros(n_epochs)\n",
    "    for epoch in range(1, n_epochs +1):\n",
    "        # Training: \n",
    "        epoch_losses = []\n",
    "        # looping through batches\n",
    "        for train_features, train_targets in next_batch(train_features=train_features, \n",
    "                                                        train_targets=train_targets, batch_size=batch_size): \n",
    "            train_preds = model(train_features.float())\n",
    "            train_loss = loss_fn(train_targets.float(), train_preds.float())\n",
    "            optimizer.zero_grad()\n",
    "            train_loss.backward(retain_graph=True)\n",
    "            optimizer.step()\n",
    "            \n",
    "            epoch_losses.append(train_loss.item())\n",
    "        average_epoch_loss = sum(epoch_losses)/len(epoch_losses)\n",
    "        \n",
    "        # Test:\n",
    "        with torch.no_grad():\n",
    "            test_preds = model(test_features.float())\n",
    "            test_loss = loss_fn(test_targets.float(), test_preds.float())\n",
    "        \n",
    "        all_train_loss[epoch - 1] = average_epoch_loss\n",
    "        all_test_loss[epoch - 1] = test_loss.item()\n",
    "        # Printing the result: \n",
    "        if epoch == 1 or epoch % 100 == 0:\n",
    "            print(f\"EPOCH: {epoch:{7}}\")\n",
    "            print(f\"MEAN TRAIN LOSS:   {average_epoch_loss:.11f},    Test LOSS:   {test_loss.item():.11f}\")\n",
    "            print(\"-----------------------------------------\")\n",
    "    print(\"The total time = \", np.round(time.time() - start_time, 3), \" seconds!\")\n",
    "    return all_train_loss, all_test_loss"
   ]
  },
  {
   "cell_type": "markdown",
   "id": "02ab2601",
   "metadata": {},
   "source": [
    "# Training the model"
   ]
  },
  {
   "cell_type": "code",
   "execution_count": 17,
   "id": "0a9afbe6",
   "metadata": {
    "scrolled": false
   },
   "outputs": [
    {
     "name": "stdout",
     "output_type": "stream",
     "text": [
      "EPOCH:       1\n",
      "MEAN TRAIN LOSS:   0.59045001388,    Test LOSS:   0.70292574167\n",
      "-----------------------------------------\n",
      "EPOCH:     100\n",
      "MEAN TRAIN LOSS:   0.14982925355,    Test LOSS:   0.49151390791\n",
      "-----------------------------------------\n",
      "EPOCH:     200\n",
      "MEAN TRAIN LOSS:   0.06843725592,    Test LOSS:   0.42770397663\n",
      "-----------------------------------------\n",
      "EPOCH:     300\n",
      "MEAN TRAIN LOSS:   0.03769408911,    Test LOSS:   0.39609655738\n",
      "-----------------------------------------\n",
      "EPOCH:     400\n",
      "MEAN TRAIN LOSS:   0.02580842562,    Test LOSS:   0.37151297927\n",
      "-----------------------------------------\n",
      "EPOCH:     500\n",
      "MEAN TRAIN LOSS:   0.01825783402,    Test LOSS:   0.35698744655\n",
      "-----------------------------------------\n",
      "EPOCH:     600\n",
      "MEAN TRAIN LOSS:   0.01740817353,    Test LOSS:   0.34787666798\n",
      "-----------------------------------------\n",
      "EPOCH:     700\n",
      "MEAN TRAIN LOSS:   0.01075147185,    Test LOSS:   0.34239444137\n",
      "-----------------------------------------\n",
      "EPOCH:     800\n",
      "MEAN TRAIN LOSS:   0.00973890256,    Test LOSS:   0.33335480094\n",
      "-----------------------------------------\n",
      "EPOCH:     900\n",
      "MEAN TRAIN LOSS:   0.00880561396,    Test LOSS:   0.32485464215\n",
      "-----------------------------------------\n",
      "EPOCH:    1000\n",
      "MEAN TRAIN LOSS:   0.00713673001,    Test LOSS:   0.32205393910\n",
      "-----------------------------------------\n",
      "EPOCH:    1100\n",
      "MEAN TRAIN LOSS:   0.00649773236,    Test LOSS:   0.31966644526\n",
      "-----------------------------------------\n",
      "EPOCH:    1200\n",
      "MEAN TRAIN LOSS:   0.00807550829,    Test LOSS:   0.32341828942\n",
      "-----------------------------------------\n",
      "EPOCH:    1300\n",
      "MEAN TRAIN LOSS:   0.00779136457,    Test LOSS:   0.32147786021\n",
      "-----------------------------------------\n",
      "EPOCH:    1400\n",
      "MEAN TRAIN LOSS:   0.00514097512,    Test LOSS:   0.31963756680\n",
      "-----------------------------------------\n",
      "EPOCH:    1500\n",
      "MEAN TRAIN LOSS:   0.00609111832,    Test LOSS:   0.31939765811\n",
      "-----------------------------------------\n",
      "EPOCH:    1600\n",
      "MEAN TRAIN LOSS:   0.00591367064,    Test LOSS:   0.31471565366\n",
      "-----------------------------------------\n",
      "EPOCH:    1700\n",
      "MEAN TRAIN LOSS:   0.00701899547,    Test LOSS:   0.31813600659\n",
      "-----------------------------------------\n",
      "EPOCH:    1800\n",
      "MEAN TRAIN LOSS:   0.00760536594,    Test LOSS:   0.31498393416\n",
      "-----------------------------------------\n",
      "EPOCH:    1900\n",
      "MEAN TRAIN LOSS:   0.00506760599,    Test LOSS:   0.31561079621\n",
      "-----------------------------------------\n",
      "EPOCH:    2000\n",
      "MEAN TRAIN LOSS:   0.00451418571,    Test LOSS:   0.31336984038\n",
      "-----------------------------------------\n",
      "The total time =  594.747  seconds!\n"
     ]
    }
   ],
   "source": [
    "losses = training_loop(n_epochs=2000,\n",
    "                  batch_size=400,\n",
    "                  optimizer=optimizer, \n",
    "                  model=model, \n",
    "                  loss_fn=criterion, \n",
    "                  train_features=train_features, \n",
    "                  test_features=test_features, \n",
    "                  train_targets=train_targets, \n",
    "                  test_targets=test_targets)"
   ]
  },
  {
   "cell_type": "code",
   "execution_count": 18,
   "id": "8b432604",
   "metadata": {},
   "outputs": [],
   "source": [
    "# Saving the page rank as a numpy array into a file\n",
    "np.save(\"pagerank_train_losses_001_conv.npy\", losses[0], allow_pickle=False, fix_imports=True)"
   ]
  },
  {
   "cell_type": "code",
   "execution_count": 19,
   "id": "f29b9dce",
   "metadata": {},
   "outputs": [],
   "source": [
    "# Saving the page rank as a numpy array into a file\n",
    "np.save(\"pagerank_test_losses_001_conv.npy\", losses[1], allow_pickle=False, fix_imports=True)"
   ]
  },
  {
   "cell_type": "code",
   "execution_count": 20,
   "id": "236809d9",
   "metadata": {},
   "outputs": [
    {
     "name": "stdout",
     "output_type": "stream",
     "text": [
      "target 0.2619875960369246,    prediction: 0.41712671518325806\n",
      "index 0:       inaccuracy: 59.216%\n",
      "-----------------------------------\n",
      "target 1.096927690930318,    prediction: 1.0511575937271118\n",
      "index 4000:       inaccuracy: 4.173%\n",
      "-----------------------------------\n",
      "target 1.5850305319179239,    prediction: 1.0189944505691528\n",
      "index 8000:       inaccuracy: 35.711%\n",
      "-----------------------------------\n",
      "target 0.6794130477008715,    prediction: 0.386701762676239\n",
      "index 12000:       inaccuracy: 43.083%\n",
      "-----------------------------------\n",
      "target 0.18066128641573986,    prediction: 0.18301735818386078\n",
      "index 16000:       inaccuracy: 1.304%\n",
      "-----------------------------------\n",
      "target 0.8911234807504349,    prediction: 0.9016146659851074\n",
      "index 20000:       inaccuracy: 1.177%\n",
      "-----------------------------------\n",
      "target 0.6387625647351677,    prediction: 0.2668488323688507\n",
      "index 24000:       inaccuracy: 58.224%\n",
      "-----------------------------------\n",
      "target 0.22504328229655007,    prediction: 0.48876696825027466\n",
      "index 28000:       inaccuracy: 117.188%\n",
      "-----------------------------------\n",
      "target 0.6618929931120535,    prediction: 1.190557599067688\n",
      "index 32000:       inaccuracy: 79.872%\n",
      "-----------------------------------\n",
      "target 1.5008782415534758,    prediction: 1.2737476825714111\n",
      "index 36000:       inaccuracy: 15.133%\n",
      "-----------------------------------\n",
      "target 0.6682936342327382,    prediction: 0.5654578804969788\n",
      "index 40000:       inaccuracy: 15.388%\n",
      "-----------------------------------\n",
      "target 0.6106668275366323,    prediction: 0.3572103679180145\n",
      "index 44000:       inaccuracy: 41.505%\n",
      "-----------------------------------\n",
      "target 3.3934372685417746,    prediction: 4.186771869659424\n",
      "index 48000:       inaccuracy: 23.378%\n",
      "-----------------------------------\n",
      "target 0.20431106686146835,    prediction: 0.19261732697486877\n",
      "index 52000:       inaccuracy: 5.723%\n",
      "-----------------------------------\n",
      "target 0.4144451344749863,    prediction: 0.6803967356681824\n",
      "index 56000:       inaccuracy: 64.171%\n",
      "-----------------------------------\n",
      "target 1.1414948015324184,    prediction: 1.0254029035568237\n",
      "index 60000:       inaccuracy: 10.17%\n",
      "-----------------------------------\n",
      "target 0.348851651237453,    prediction: 0.5615259408950806\n",
      "index 64000:       inaccuracy: 60.964%\n",
      "-----------------------------------\n",
      "target 0.4935773051248705,    prediction: 0.7878932952880859\n",
      "index 68000:       inaccuracy: 59.629%\n",
      "-----------------------------------\n",
      "target 0.5873884436007528,    prediction: 0.5326221585273743\n",
      "index 72000:       inaccuracy: 9.324%\n",
      "-----------------------------------\n",
      "target 2.1150844084985065,    prediction: 1.2985649108886719\n",
      "index 76000:       inaccuracy: 38.605%\n",
      "-----------------------------------\n",
      "target 0.24249924602558068,    prediction: 0.3242185413837433\n",
      "index 80000:       inaccuracy: 33.699%\n",
      "-----------------------------------\n",
      "target 0.310837814177645,    prediction: 0.3705785870552063\n",
      "index 84000:       inaccuracy: 19.219%\n",
      "-----------------------------------\n",
      "target 1.5127537599238756,    prediction: 0.24046069383621216\n",
      "index 88000:       inaccuracy: 84.104%\n",
      "-----------------------------------\n",
      "target 0.2106359747886578,    prediction: 0.6159306764602661\n",
      "index 92000:       inaccuracy: 192.415%\n",
      "-----------------------------------\n",
      "target 0.18173195976460527,    prediction: 0.24751698970794678\n",
      "index 96000:       inaccuracy: 36.199%\n",
      "-----------------------------------\n",
      "target 0.6516631430233949,    prediction: 0.9024226069450378\n",
      "index 100000:       inaccuracy: 38.48%\n",
      "-----------------------------------\n",
      "target 0.31375896751841686,    prediction: 0.2417011260986328\n",
      "index 104000:       inaccuracy: 22.966%\n",
      "-----------------------------------\n",
      "target 0.3363949291702121,    prediction: 0.305442750453949\n",
      "index 108000:       inaccuracy: 9.201%\n",
      "-----------------------------------\n",
      "target 0.4448349663998581,    prediction: 0.22402912378311157\n",
      "index 112000:       inaccuracy: 49.638%\n",
      "-----------------------------------\n",
      "target 0.5684675934071175,    prediction: 0.5354651212692261\n",
      "index 116000:       inaccuracy: 5.806%\n",
      "-----------------------------------\n",
      "target 0.8318129938416318,    prediction: 1.2237436771392822\n",
      "index 120000:       inaccuracy: 47.118%\n",
      "-----------------------------------\n",
      "target 0.455975846780902,    prediction: 0.3627656102180481\n",
      "index 124000:       inaccuracy: 20.442%\n",
      "-----------------------------------\n",
      "target 0.58415285197325,    prediction: 0.3625026345252991\n",
      "index 128000:       inaccuracy: 37.944%\n",
      "-----------------------------------\n",
      "target 0.7366632080186658,    prediction: 0.4101353585720062\n",
      "index 132000:       inaccuracy: 44.325%\n",
      "-----------------------------------\n",
      "target 0.7908395758015767,    prediction: 0.8806151747703552\n",
      "index 136000:       inaccuracy: 11.352%\n",
      "-----------------------------------\n",
      "target 2.3919222872587844,    prediction: 2.48457932472229\n",
      "index 140000:       inaccuracy: 3.874%\n",
      "-----------------------------------\n",
      "target 0.4104400366874936,    prediction: 0.33317241072654724\n",
      "index 144000:       inaccuracy: 18.826%\n",
      "-----------------------------------\n",
      "target 1.0074243187735652,    prediction: 0.9985472559928894\n",
      "index 148000:       inaccuracy: 0.881%\n",
      "-----------------------------------\n",
      "target 0.21166976589690023,    prediction: 0.3425194323062897\n",
      "index 152000:       inaccuracy: 61.818%\n",
      "-----------------------------------\n",
      "target 1.4456684158511863,    prediction: 1.1261029243469238\n",
      "index 156000:       inaccuracy: 22.105%\n",
      "-----------------------------------\n",
      "target 0.5800243805047121,    prediction: 0.645731508731842\n",
      "index 160000:       inaccuracy: 11.328%\n",
      "-----------------------------------\n",
      "target 0.2881427383951354,    prediction: 0.3219923675060272\n",
      "index 164000:       inaccuracy: 11.748%\n",
      "-----------------------------------\n"
     ]
    }
   ],
   "source": [
    "model.eval()\n",
    "errors = []\n",
    "for i in range(n_test):\n",
    "    targ = test_targets[i].item()\n",
    "    feat = test_features[i].float().view(1,1,6,17)\n",
    "    pred = model(feat).item()\n",
    "    inaccuracy = abs(1 - pred/targ) * 100\n",
    "    errors.append(inaccuracy)\n",
    "    if i%100 == 0:\n",
    "        print(f\"target {targ},    prediction: {pred}\\nindex {i*40}:       inaccuracy: {np.round(inaccuracy, 3)}%\")\n",
    "        print(\"-----------------------------------\")"
   ]
  },
  {
   "cell_type": "code",
   "execution_count": 21,
   "id": "0a813b62",
   "metadata": {},
   "outputs": [
    {
     "name": "stdout",
     "output_type": "stream",
     "text": [
      "Average inaccuracy:  35.965\n"
     ]
    }
   ],
   "source": [
    "print(\"Average inaccuracy: \", np.round(sum(errors)/len(errors), 3))"
   ]
  },
  {
   "cell_type": "code",
   "execution_count": 22,
   "id": "4f7a0d3b",
   "metadata": {},
   "outputs": [],
   "source": [
    "torch.save(model, \"trained_conv_model_pagerank_1.pt\")"
   ]
  },
  {
   "cell_type": "code",
   "execution_count": null,
   "id": "8762ce9a",
   "metadata": {},
   "outputs": [],
   "source": []
  },
  {
   "cell_type": "code",
   "execution_count": null,
   "id": "1d3225f1",
   "metadata": {},
   "outputs": [],
   "source": []
  }
 ],
 "metadata": {
  "kernelspec": {
   "display_name": "Python 3 (ipykernel)",
   "language": "python",
   "name": "python3"
  },
  "language_info": {
   "codemirror_mode": {
    "name": "ipython",
    "version": 3
   },
   "file_extension": ".py",
   "mimetype": "text/x-python",
   "name": "python",
   "nbconvert_exporter": "python",
   "pygments_lexer": "ipython3",
   "version": "3.8.3"
  }
 },
 "nbformat": 4,
 "nbformat_minor": 5
}
