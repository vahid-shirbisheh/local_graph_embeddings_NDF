{
 "cells": [
  {
   "cell_type": "markdown",
   "id": "2e4c89f1",
   "metadata": {},
   "source": [
    "# Predicting the PageRank of the modified graph using the previously trained model"
   ]
  },
  {
   "cell_type": "code",
   "execution_count": 1,
   "id": "869ba112",
   "metadata": {},
   "outputs": [],
   "source": [
    "from mygraph import MyGraph\n",
    "from helpers import *\n",
    "import time\n",
    "import torch\n",
    "import torch.nn as nn\n",
    "import torch.optim as optim\n",
    "import torch.nn.functional as F"
   ]
  },
  {
   "cell_type": "markdown",
   "id": "7745dd17",
   "metadata": {},
   "source": [
    "## Loading the dataset from numpy files"
   ]
  },
  {
   "cell_type": "code",
   "execution_count": 2,
   "id": "3b4707c1",
   "metadata": {},
   "outputs": [
    {
     "data": {
      "text/plain": [
       "array([9.98297755e-05])"
      ]
     },
     "execution_count": 2,
     "metadata": {},
     "output_type": "execute_result"
    }
   ],
   "source": [
    "# loading the pagerank of modified graph as the target or label data\n",
    "target_pagerank = np.load(\"fb_co_pages_modified_pageranks.npy\", mmap_mode=None, allow_pickle=False, fix_imports=True, encoding='ASCII')\n",
    "target_pagerank[0]"
   ]
  },
  {
   "cell_type": "code",
   "execution_count": 3,
   "id": "3ff3ea9a",
   "metadata": {},
   "outputs": [
    {
     "data": {
      "text/plain": [
       "array([0.99829776])"
      ]
     },
     "execution_count": 3,
     "metadata": {},
     "output_type": "execute_result"
    }
   ],
   "source": [
    "# scaling the PageRank data\n",
    "target_pagerank = target_pagerank * 10000\n",
    "target_pagerank[0]"
   ]
  },
  {
   "cell_type": "code",
   "execution_count": 4,
   "id": "dbf182e4",
   "metadata": {},
   "outputs": [
    {
     "data": {
      "text/plain": [
       "(14113, 1)"
      ]
     },
     "execution_count": 4,
     "metadata": {},
     "output_type": "execute_result"
    }
   ],
   "source": [
    "target_pagerank.shape"
   ]
  },
  {
   "cell_type": "code",
   "execution_count": 5,
   "id": "2d84c903",
   "metadata": {},
   "outputs": [
    {
     "data": {
      "text/plain": [
       "(14113, 6, 17)"
      ]
     },
     "execution_count": 5,
     "metadata": {},
     "output_type": "execute_result"
    }
   ],
   "source": [
    "# the order 5 NFDC matrix as the feature set\n",
    "matrix_1 = np.load(\"fb_co_pages_modified_NDFC_matrix_r1-30_sta1_max50_rad5.npy\", mmap_mode=None, allow_pickle=False, fix_imports=True, encoding='ASCII')\n",
    "matrix_1.shape"
   ]
  },
  {
   "cell_type": "code",
   "execution_count": 6,
   "id": "6e7ab45e",
   "metadata": {},
   "outputs": [
    {
     "data": {
      "text/plain": [
       "(14113, 102)"
      ]
     },
     "execution_count": 6,
     "metadata": {},
     "output_type": "execute_result"
    }
   ],
   "source": [
    "matrix_1 = matrix_1.reshape(14113,-1)\n",
    "matrix_1.shape"
   ]
  },
  {
   "cell_type": "code",
   "execution_count": 7,
   "id": "a58193a5",
   "metadata": {},
   "outputs": [
    {
     "data": {
      "text/plain": [
       "(torch.Size([14113, 102]), torch.Size([14113, 1]))"
      ]
     },
     "execution_count": 7,
     "metadata": {},
     "output_type": "execute_result"
    }
   ],
   "source": [
    "features = torch.from_numpy(matrix_1)\n",
    "targets = torch.from_numpy(target_pagerank)\n",
    "features.shape, targets.shape"
   ]
  },
  {
   "cell_type": "markdown",
   "id": "06170dd6",
   "metadata": {},
   "source": [
    "## Defining the feedforward neural network model"
   ]
  },
  {
   "cell_type": "code",
   "execution_count": 8,
   "id": "a7b60151",
   "metadata": {},
   "outputs": [],
   "source": [
    "# The Feedforward Neural Network \n",
    "class FFNN_model(nn.Module):\n",
    "    def __init__(self):\n",
    "        super().__init__()\n",
    "        num_features = features.shape[1]\n",
    "        self.fc1 = nn.Linear(num_features, 400)\n",
    "        self.fc2 = nn.Linear(400, 800)\n",
    "        self.fc3 = nn.Linear(800, 200)\n",
    "        self.fc4 = nn.Linear(200, 64)\n",
    "        self.fc5 = nn.Linear(64, 8)\n",
    "        self.fc6 = nn.Linear(8, 1)\n",
    "        self.dropout1 = nn.Dropout(0.4)\n",
    "        self.dropout2 = nn.Dropout(0.3)\n",
    "        self.dropout3 = nn.Dropout(0.5)\n",
    "    \n",
    "    def forward(self, X):\n",
    "        X = torch.tanh(self.fc1(X))\n",
    "        X = torch.relu(self.fc2(X))\n",
    "        X = self.dropout1(X)\n",
    "        X = torch.relu(self.fc3(X))\n",
    "        X = self.dropout3(X)\n",
    "        X = torch.relu(self.fc4(X))\n",
    "        X = self.dropout2(X)\n",
    "        X = torch.tanh(self.fc5(X))\n",
    "        return self.fc6(X)"
   ]
  },
  {
   "cell_type": "markdown",
   "id": "ee3b9d59",
   "metadata": {},
   "source": [
    "## Loading the trained model"
   ]
  },
  {
   "cell_type": "code",
   "execution_count": 9,
   "id": "6527492d",
   "metadata": {},
   "outputs": [
    {
     "data": {
      "text/plain": [
       "FFNN_model(\n",
       "  (fc1): Linear(in_features=102, out_features=400, bias=True)\n",
       "  (fc2): Linear(in_features=400, out_features=800, bias=True)\n",
       "  (fc3): Linear(in_features=800, out_features=200, bias=True)\n",
       "  (fc4): Linear(in_features=200, out_features=64, bias=True)\n",
       "  (fc5): Linear(in_features=64, out_features=8, bias=True)\n",
       "  (fc6): Linear(in_features=8, out_features=1, bias=True)\n",
       "  (dropout1): Dropout(p=0.4, inplace=False)\n",
       "  (dropout2): Dropout(p=0.3, inplace=False)\n",
       "  (dropout3): Dropout(p=0.5, inplace=False)\n",
       ")"
      ]
     },
     "execution_count": 9,
     "metadata": {},
     "output_type": "execute_result"
    }
   ],
   "source": [
    "# Model class must be defined somewhere\n",
    "model = torch.load(\"trained_FFNN_model_pagerank.pt\")\n",
    "model.eval()\n",
    "model"
   ]
  },
  {
   "cell_type": "code",
   "execution_count": 10,
   "id": "981ec668",
   "metadata": {},
   "outputs": [
    {
     "name": "stdout",
     "output_type": "stream",
     "text": [
      "target 0.9982977551369484,    prediction: 1.058740258216858\n",
      "index 0:       inaccuracy: 6.055%\n",
      "-----------------------------------\n",
      "target 0.35261531558332776,    prediction: 0.4094126522541046\n",
      "index 500:       inaccuracy: 16.107%\n",
      "-----------------------------------\n",
      "target 0.16349115794353675,    prediction: 0.202663853764534\n",
      "index 1000:       inaccuracy: 23.96%\n",
      "-----------------------------------\n",
      "target 0.7372122576301666,    prediction: 0.775229811668396\n",
      "index 1500:       inaccuracy: 5.157%\n",
      "-----------------------------------\n",
      "target 0.18379511837472276,    prediction: 0.20309288799762726\n",
      "index 2000:       inaccuracy: 10.5%\n",
      "-----------------------------------\n",
      "target 0.4695373617655953,    prediction: 0.48312363028526306\n",
      "index 2500:       inaccuracy: 2.894%\n",
      "-----------------------------------\n",
      "target 0.8163048969530051,    prediction: 0.8025742173194885\n",
      "index 3000:       inaccuracy: 1.682%\n",
      "-----------------------------------\n",
      "target 0.5696588006569098,    prediction: 0.5720120668411255\n",
      "index 3500:       inaccuracy: 0.413%\n",
      "-----------------------------------\n",
      "target 0.3806047650707977,    prediction: 0.33595535159111023\n",
      "index 4000:       inaccuracy: 11.731%\n",
      "-----------------------------------\n",
      "target 0.8777555487462865,    prediction: 0.7277219295501709\n",
      "index 4500:       inaccuracy: 17.093%\n",
      "-----------------------------------\n",
      "target 0.3721950688554099,    prediction: 0.4037949740886688\n",
      "index 5000:       inaccuracy: 8.49%\n",
      "-----------------------------------\n",
      "target 1.424150298653487,    prediction: 1.3725942373275757\n",
      "index 5500:       inaccuracy: 3.62%\n",
      "-----------------------------------\n",
      "target 1.0431313817832486,    prediction: 0.9538199305534363\n",
      "index 6000:       inaccuracy: 8.562%\n",
      "-----------------------------------\n",
      "target 1.8768156098248505,    prediction: 1.8477956056594849\n",
      "index 6500:       inaccuracy: 1.546%\n",
      "-----------------------------------\n",
      "target 0.5721396554512044,    prediction: 0.5532320737838745\n",
      "index 7000:       inaccuracy: 3.305%\n",
      "-----------------------------------\n",
      "target 0.3020416562687363,    prediction: 0.31254222989082336\n",
      "index 7500:       inaccuracy: 3.477%\n",
      "-----------------------------------\n",
      "target 1.7851449186696327,    prediction: 1.5260645151138306\n",
      "index 8000:       inaccuracy: 14.513%\n",
      "-----------------------------------\n",
      "target 0.24998358511825616,    prediction: 0.24591530859470367\n",
      "index 8500:       inaccuracy: 1.627%\n",
      "-----------------------------------\n",
      "target 0.7111295018410987,    prediction: 0.7468385100364685\n",
      "index 9000:       inaccuracy: 5.021%\n",
      "-----------------------------------\n",
      "target 1.3363706414268424,    prediction: 1.088051438331604\n",
      "index 9500:       inaccuracy: 18.582%\n",
      "-----------------------------------\n",
      "target 0.23279517190513518,    prediction: 0.2247302085161209\n",
      "index 10000:       inaccuracy: 3.464%\n",
      "-----------------------------------\n",
      "target 0.9604683239928322,    prediction: 0.887924075126648\n",
      "index 10500:       inaccuracy: 7.553%\n",
      "-----------------------------------\n",
      "target 0.25244817514354145,    prediction: 0.26461490988731384\n",
      "index 11000:       inaccuracy: 4.819%\n",
      "-----------------------------------\n",
      "target 0.5857831030619861,    prediction: 0.5808813571929932\n",
      "index 11500:       inaccuracy: 0.837%\n",
      "-----------------------------------\n",
      "target 0.32187108651840185,    prediction: 0.4130779206752777\n",
      "index 12000:       inaccuracy: 28.336%\n",
      "-----------------------------------\n",
      "target 1.121557549136065,    prediction: 1.092773675918579\n",
      "index 12500:       inaccuracy: 2.566%\n",
      "-----------------------------------\n",
      "target 0.49941814936540807,    prediction: 0.5513016581535339\n",
      "index 13000:       inaccuracy: 10.389%\n",
      "-----------------------------------\n",
      "target 0.7571126910328716,    prediction: 0.797662615776062\n",
      "index 13500:       inaccuracy: 5.356%\n",
      "-----------------------------------\n",
      "target 3.7687170694659935,    prediction: 3.6030614376068115\n",
      "index 14000:       inaccuracy: 4.396%\n",
      "-----------------------------------\n"
     ]
    }
   ],
   "source": [
    "errors = []\n",
    "for i in range(targets.shape[0]):\n",
    "    targ = targets[i].item()\n",
    "    feat = features[i].float().view(1,1,102)\n",
    "    pred = model(feat).item()\n",
    "    inaccuracy = abs(1 - pred/targ) * 100\n",
    "    errors.append(inaccuracy)\n",
    "    if i%500 == 0:\n",
    "        print(f\"target {targ},    prediction: {pred}\\nindex {i}:       inaccuracy: {np.round(inaccuracy, 3)}%\")\n",
    "        print(\"-----------------------------------\")"
   ]
  },
  {
   "cell_type": "code",
   "execution_count": 11,
   "id": "24080914",
   "metadata": {},
   "outputs": [
    {
     "name": "stdout",
     "output_type": "stream",
     "text": [
      "Average inaccuracy:  9.783\n"
     ]
    }
   ],
   "source": [
    "print(\"Average inaccuracy: \", np.round(sum(errors)/len(errors), 3))"
   ]
  },
  {
   "cell_type": "code",
   "execution_count": null,
   "id": "92625527",
   "metadata": {},
   "outputs": [],
   "source": []
  },
  {
   "cell_type": "code",
   "execution_count": null,
   "id": "8cffd58a",
   "metadata": {},
   "outputs": [],
   "source": []
  }
 ],
 "metadata": {
  "kernelspec": {
   "display_name": "Python 3 (ipykernel)",
   "language": "python",
   "name": "python3"
  },
  "language_info": {
   "codemirror_mode": {
    "name": "ipython",
    "version": 3
   },
   "file_extension": ".py",
   "mimetype": "text/x-python",
   "name": "python",
   "nbconvert_exporter": "python",
   "pygments_lexer": "ipython3",
   "version": "3.8.3"
  }
 },
 "nbformat": 4,
 "nbformat_minor": 5
}
