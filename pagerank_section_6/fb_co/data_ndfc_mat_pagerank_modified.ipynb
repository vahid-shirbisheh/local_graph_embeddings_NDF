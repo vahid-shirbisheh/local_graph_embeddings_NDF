{
 "cells": [
  {
   "cell_type": "code",
   "execution_count": 1,
   "id": "5c84b949",
   "metadata": {},
   "outputs": [],
   "source": [
    "from mygraph import MyGraph\n",
    "from helpers import *\n",
    "import pandas as pd"
   ]
  },
  {
   "cell_type": "markdown",
   "id": "5914cd27",
   "metadata": {},
   "source": [
    "# Importing Graph Data from CSV File"
   ]
  },
  {
   "cell_type": "code",
   "execution_count": 2,
   "id": "3ce28bb7",
   "metadata": {},
   "outputs": [
    {
     "data": {
      "text/html": [
       "<div>\n",
       "<style scoped>\n",
       "    .dataframe tbody tr th:only-of-type {\n",
       "        vertical-align: middle;\n",
       "    }\n",
       "\n",
       "    .dataframe tbody tr th {\n",
       "        vertical-align: top;\n",
       "    }\n",
       "\n",
       "    .dataframe thead th {\n",
       "        text-align: right;\n",
       "    }\n",
       "</style>\n",
       "<table border=\"1\" class=\"dataframe\">\n",
       "  <thead>\n",
       "    <tr style=\"text-align: right;\">\n",
       "      <th></th>\n",
       "      <th>node_1</th>\n",
       "      <th>node_2</th>\n",
       "    </tr>\n",
       "  </thead>\n",
       "  <tbody>\n",
       "    <tr>\n",
       "      <th>0</th>\n",
       "      <td>0</td>\n",
       "      <td>2243</td>\n",
       "    </tr>\n",
       "    <tr>\n",
       "      <th>1</th>\n",
       "      <td>0</td>\n",
       "      <td>12084</td>\n",
       "    </tr>\n",
       "    <tr>\n",
       "      <th>2</th>\n",
       "      <td>0</td>\n",
       "      <td>6169</td>\n",
       "    </tr>\n",
       "  </tbody>\n",
       "</table>\n",
       "</div>"
      ],
      "text/plain": [
       "   node_1  node_2\n",
       "0       0    2243\n",
       "1       0   12084\n",
       "2       0    6169"
      ]
     },
     "execution_count": 2,
     "metadata": {},
     "output_type": "execute_result"
    }
   ],
   "source": [
    "d = pd.read_csv(\"fb-pages-company-edges.csv\")\n",
    "d.head(3)"
   ]
  },
  {
   "cell_type": "code",
   "execution_count": 3,
   "id": "82d5f76d",
   "metadata": {},
   "outputs": [],
   "source": [
    "edge_list = [(x,y) for [x,y] in d.values]\n",
    "myg = MyGraph()\n",
    "for i in range(14113): # Creating 14113 nodes in the ordinary order\n",
    "    myg.add_vertex(i)\n",
    "myg.from_edge_list(edge_list) # Constructing the graph using the list of its edges"
   ]
  },
  {
   "cell_type": "code",
   "execution_count": 4,
   "id": "cf50e695",
   "metadata": {},
   "outputs": [
    {
     "name": "stdout",
     "output_type": "stream",
     "text": [
      "num_nodes            14113 \n",
      "num_edges            52126 \n",
      "nodes_degrees        [1, 2, 3, 4, 5, 6, 7, 8, 9, 10, 11, 12, 13, 14, 15, 16, 17, 18, 19, 20, 21, 22, 23, 24, 25, 26, 27, 28, 29, 30, 31, 32, 33, 34, 35, 36, 37, 38, 39, 40, 41, 42, 43, 44, 45, 46, 47, 48, 49, 50, 51, 52, 53, 54, 55, 56, 57, 58, 59, 60, 61, 62, 63, 64, 65, 66, 67, 68, 69, 70, 72, 73, 75, 76, 77, 78, 79, 81, 82, 83, 84, 86, 88, 90, 92, 97, 98, 99, 102, 103, 109, 110, 112, 129, 144, 145, 147, 160, 171, 179, 185, 194, 198, 212, 215] \n",
      "average_degree       7.386948203783746 \n",
      "Wall time: 1min 13s\n"
     ]
    }
   ],
   "source": [
    "%%time\n",
    "print_dict(myg.graph_stats())"
   ]
  },
  {
   "cell_type": "code",
   "execution_count": 5,
   "id": "c57d8ade",
   "metadata": {},
   "outputs": [
    {
     "name": "stdout",
     "output_type": "stream",
     "text": [
      "Wall time: 2min 25s\n"
     ]
    }
   ],
   "source": [
    "%%time\n",
    "# Modifying the graph of the facebook pages of companies\n",
    "myg_modified = remove_add_random_edges(myg, num_remove=500, num_add=500,  seed=1)"
   ]
  },
  {
   "cell_type": "code",
   "execution_count": 6,
   "id": "614b13af",
   "metadata": {},
   "outputs": [],
   "source": [
    "df = pd.DataFrame(myg_modified.get_edge_list())\n",
    "df.to_csv(\"fb_co_pages_modified.csv\", columns=None, index=False)"
   ]
  },
  {
   "cell_type": "code",
   "execution_count": 7,
   "id": "4cdeb7f1",
   "metadata": {},
   "outputs": [
    {
     "name": "stdout",
     "output_type": "stream",
     "text": [
      "num_nodes            14113 \n",
      "num_edges            52126 \n",
      "nodes_degrees        [1, 2, 3, 4, 5, 6, 7, 8, 9, 10, 11, 12, 13, 14, 15, 16, 17, 18, 19, 20, 21, 22, 23, 24, 25, 26, 27, 28, 29, 30, 31, 32, 33, 34, 35, 36, 37, 38, 39, 40, 41, 42, 43, 44, 45, 46, 47, 48, 49, 50, 51, 52, 53, 54, 55, 56, 57, 58, 59, 60, 61, 62, 63, 64, 65, 66, 67, 68, 69, 70, 72, 73, 75, 76, 77, 78, 79, 80, 81, 82, 83, 84, 87, 89, 90, 92, 94, 95, 98, 102, 108, 109, 111, 128, 129, 140, 143, 146, 158, 170, 179, 184, 194, 196, 212, 213] \n",
      "average_degree       7.386948203783746 \n",
      "Wall time: 1min 14s\n"
     ]
    }
   ],
   "source": [
    "%%time\n",
    "print_dict(myg_modified.graph_stats())"
   ]
  },
  {
   "cell_type": "markdown",
   "id": "b60b5711",
   "metadata": {},
   "source": [
    "# Computing the pagerank of the modified graph using NetworkX"
   ]
  },
  {
   "cell_type": "code",
   "execution_count": 8,
   "id": "784157ae",
   "metadata": {},
   "outputs": [],
   "source": [
    "nxg_modified = copy_my_graph(myg_modified)"
   ]
  },
  {
   "cell_type": "code",
   "execution_count": 9,
   "id": "55c6ed57",
   "metadata": {},
   "outputs": [
    {
     "name": "stdout",
     "output_type": "stream",
     "text": [
      "Wall time: 924 ms\n"
     ]
    },
    {
     "data": {
      "text/plain": [
       "array([[9.98297755e-05],\n",
       "       [9.02870563e-05],\n",
       "       [5.44038647e-05],\n",
       "       ...,\n",
       "       [2.86887214e-05],\n",
       "       [4.16821338e-05],\n",
       "       [3.86940050e-05]])"
      ]
     },
     "execution_count": 9,
     "metadata": {},
     "output_type": "execute_result"
    }
   ],
   "source": [
    "%%time\n",
    "# The array of pagerank of vertices of the graph\n",
    "np_target_page = np.array(list(nx.algorithms.link_analysis.pagerank_alg.pagerank(nxg_modified).values())).reshape(-1,1)\n",
    "np_target_page"
   ]
  },
  {
   "cell_type": "code",
   "execution_count": 10,
   "id": "5687c993",
   "metadata": {},
   "outputs": [],
   "source": [
    "# Saving the pagerank as a numpy array into a file\n",
    "np.save(\"fb_co_pages_modified_pageranks.npy\", np_target_page, allow_pickle=False, fix_imports=True)"
   ]
  },
  {
   "cell_type": "markdown",
   "id": "28546bd5",
   "metadata": {},
   "source": [
    "# The NDFC matrix representation"
   ]
  },
  {
   "cell_type": "code",
   "execution_count": 11,
   "id": "57dd76a5",
   "metadata": {},
   "outputs": [
    {
     "data": {
      "text/plain": [
       "[1, 2, 3, 4, 6, 8, 11, 15, 21, 29, 39, 52, 69, 92, 122, 161, 211]"
      ]
     },
     "execution_count": 11,
     "metadata": {},
     "output_type": "execute_result"
    }
   ],
   "source": [
    "sp_1 = myg.starting_points(ratio=1.3, max_length=50, starting_length=1)\n",
    "sp_1"
   ]
  },
  {
   "cell_type": "code",
   "execution_count": 12,
   "id": "a7b2f92a",
   "metadata": {},
   "outputs": [
    {
     "name": "stdout",
     "output_type": "stream",
     "text": [
      "Wall time: 8min 34s\n"
     ]
    },
    {
     "data": {
      "text/plain": [
       "array([[1.      , 0.      , 0.      , 4.      , 0.      , 0.      ,\n",
       "        2.      , 2.      , 0.      , 1.      , 0.      , 0.      ,\n",
       "        0.      , 0.      , 0.      , 0.      , 0.      ],\n",
       "       [0.1     , 0.1     , 1.2     , 1.7     , 0.7     , 1.8     ,\n",
       "        1.9     , 2.4     , 0.3     , 0.7     , 0.3     , 0.3     ,\n",
       "        0.1     , 0.1     , 0.      , 0.2     , 0.      ],\n",
       "       [0.79661 , 0.661017, 0.745763, 1.711864, 1.711864, 1.881356,\n",
       "        2.491525, 2.338983, 2.135593, 2.711864, 1.033898, 1.152542,\n",
       "        0.508475, 0.389831, 0.271186, 0.254237, 0.186441],\n",
       "       [0.33038 , 0.574684, 0.660759, 1.593671, 1.711392, 2.146835,\n",
       "        2.483544, 2.694937, 2.21519 , 1.732911, 1.172152, 1.220253,\n",
       "        0.516456, 0.317722, 0.159494, 0.38481 , 0.105063],\n",
       "       [0.179433, 0.3157  , 0.360982, 0.833051, 0.879391, 1.130343,\n",
       "        1.158062, 1.307025, 1.134363, 0.794118, 0.573212, 0.455353,\n",
       "        0.298138, 0.178163, 0.14854 , 0.12738 , 0.070038],\n",
       "       [0.128949, 0.247796, 0.278288, 0.642359, 0.601947, 0.81227 ,\n",
       "        0.801065, 0.778839, 0.507899, 0.331741, 0.238244, 0.074394,\n",
       "        0.067414, 0.      , 0.      , 0.      , 0.      ]])"
      ]
     },
     "execution_count": 12,
     "metadata": {},
     "output_type": "execute_result"
    }
   ],
   "source": [
    "%%time\n",
    "# producing the order 5 NDFC matrix rep. of nodes of the modified garph w.r.t. the starting points sp_1:\n",
    "mats_1 = NDFC_matrix_rep(myg_modified, starting_points=sp_1, radius=5, decimals=6)\n",
    "mats_1[0]"
   ]
  },
  {
   "cell_type": "code",
   "execution_count": 13,
   "id": "81e14941",
   "metadata": {},
   "outputs": [
    {
     "data": {
      "text/plain": [
       "(14113, 6, 17)"
      ]
     },
     "execution_count": 13,
     "metadata": {},
     "output_type": "execute_result"
    }
   ],
   "source": [
    "mats_1.shape"
   ]
  },
  {
   "cell_type": "code",
   "execution_count": 14,
   "id": "1cbe01aa",
   "metadata": {},
   "outputs": [],
   "source": [
    "np.save(\"fb_co_pages_modified_NDFC_matrix_r1-30_sta1_max50_rad5.npy\", mats_1, allow_pickle=False, fix_imports=True)"
   ]
  },
  {
   "cell_type": "code",
   "execution_count": null,
   "id": "32e4a1e6",
   "metadata": {},
   "outputs": [],
   "source": []
  }
 ],
 "metadata": {
  "kernelspec": {
   "display_name": "Python 3 (ipykernel)",
   "language": "python",
   "name": "python3"
  },
  "language_info": {
   "codemirror_mode": {
    "name": "ipython",
    "version": 3
   },
   "file_extension": ".py",
   "mimetype": "text/x-python",
   "name": "python",
   "nbconvert_exporter": "python",
   "pygments_lexer": "ipython3",
   "version": "3.8.3"
  }
 },
 "nbformat": 4,
 "nbformat_minor": 5
}
