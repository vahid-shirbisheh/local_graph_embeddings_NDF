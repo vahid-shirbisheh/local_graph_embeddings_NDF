{
 "cells": [
  {
   "cell_type": "code",
   "execution_count": 1,
   "id": "5c84b949",
   "metadata": {},
   "outputs": [],
   "source": [
    "from mygraph import MyGraph\n",
    "from helpers import *\n",
    "import pandas as pd"
   ]
  },
  {
   "cell_type": "markdown",
   "id": "5914cd27",
   "metadata": {},
   "source": [
    "# Importing Graph Data from CSV File"
   ]
  },
  {
   "cell_type": "code",
   "execution_count": 2,
   "id": "3ce28bb7",
   "metadata": {},
   "outputs": [
    {
     "data": {
      "text/html": [
       "<div>\n",
       "<style scoped>\n",
       "    .dataframe tbody tr th:only-of-type {\n",
       "        vertical-align: middle;\n",
       "    }\n",
       "\n",
       "    .dataframe tbody tr th {\n",
       "        vertical-align: top;\n",
       "    }\n",
       "\n",
       "    .dataframe thead th {\n",
       "        text-align: right;\n",
       "    }\n",
       "</style>\n",
       "<table border=\"1\" class=\"dataframe\">\n",
       "  <thead>\n",
       "    <tr style=\"text-align: right;\">\n",
       "      <th></th>\n",
       "      <th>node_1</th>\n",
       "      <th>node_2</th>\n",
       "    </tr>\n",
       "  </thead>\n",
       "  <tbody>\n",
       "    <tr>\n",
       "      <th>0</th>\n",
       "      <td>0</td>\n",
       "      <td>2243</td>\n",
       "    </tr>\n",
       "    <tr>\n",
       "      <th>1</th>\n",
       "      <td>0</td>\n",
       "      <td>12084</td>\n",
       "    </tr>\n",
       "    <tr>\n",
       "      <th>2</th>\n",
       "      <td>0</td>\n",
       "      <td>6169</td>\n",
       "    </tr>\n",
       "  </tbody>\n",
       "</table>\n",
       "</div>"
      ],
      "text/plain": [
       "   node_1  node_2\n",
       "0       0    2243\n",
       "1       0   12084\n",
       "2       0    6169"
      ]
     },
     "execution_count": 2,
     "metadata": {},
     "output_type": "execute_result"
    }
   ],
   "source": [
    "d = pd.read_csv(\"fb-pages-company-edges.csv\")\n",
    "d.head(3)"
   ]
  },
  {
   "cell_type": "code",
   "execution_count": 3,
   "id": "82d5f76d",
   "metadata": {},
   "outputs": [],
   "source": [
    "edge_list = [(x,y) for [x,y] in d.values]\n",
    "myg = MyGraph()\n",
    "for i in range(14113): # Creating 14113 nodes in the ordinary order\n",
    "    myg.add_vertex(i)\n",
    "myg.from_edge_list(edge_list) # Constructing the graph using the list of its edges"
   ]
  },
  {
   "cell_type": "markdown",
   "id": "28546bd5",
   "metadata": {},
   "source": [
    "# The NDFC matrix representation"
   ]
  },
  {
   "cell_type": "code",
   "execution_count": 4,
   "id": "57dd76a5",
   "metadata": {},
   "outputs": [
    {
     "data": {
      "text/plain": [
       "[1, 2, 3, 4, 6, 8, 11, 15, 21, 29, 39, 52, 69, 92, 122, 161, 211]"
      ]
     },
     "execution_count": 4,
     "metadata": {},
     "output_type": "execute_result"
    }
   ],
   "source": [
    "sp_1 = myg.starting_points(ratio=1.3, max_length=50, starting_length=1)\n",
    "sp_1"
   ]
  },
  {
   "cell_type": "code",
   "execution_count": 5,
   "id": "a7b2f92a",
   "metadata": {},
   "outputs": [
    {
     "name": "stdout",
     "output_type": "stream",
     "text": [
      "Wall time: 8min 16s\n"
     ]
    },
    {
     "data": {
      "text/plain": [
       "array([[1.      , 0.      , 0.      , 4.      , 0.      , 0.      ,\n",
       "        2.      , 2.      , 0.      , 1.      , 0.      , 0.      ,\n",
       "        0.      , 0.      , 0.      , 0.      , 0.      ],\n",
       "       [0.1     , 0.1     , 1.2     , 1.7     , 0.7     , 1.8     ,\n",
       "        1.9     , 2.3     , 0.4     , 0.7     , 0.3     , 0.3     ,\n",
       "        0.1     , 0.1     , 0.      , 0.2     , 0.      ],\n",
       "       [0.847458, 0.644068, 0.728814, 1.745763, 1.779661, 1.915254,\n",
       "        2.322034, 2.355932, 2.186441, 2.728814, 1.050847, 1.186441,\n",
       "        0.525424, 0.389831, 0.271186, 0.254237, 0.186441],\n",
       "       [0.343396, 0.573585, 0.660377, 1.594969, 1.685535, 2.187421,\n",
       "        2.397484, 2.700629, 2.230189, 1.793711, 1.196226, 1.23522 ,\n",
       "        0.522013, 0.315723, 0.161006, 0.386164, 0.10566 ],\n",
       "       [0.194869, 0.30916 , 0.357082, 0.834818, 0.872349, 1.134224,\n",
       "        1.139313, 1.296014, 1.1162  , 0.823155, 0.583757, 0.468405,\n",
       "        0.300254, 0.181086, 0.150551, 0.127863, 0.070399],\n",
       "       [0.133947, 0.236247, 0.270469, 0.618767, 0.595032, 0.797976,\n",
       "        0.786753, 0.812695, 0.503956, 0.346826, 0.244894, 0.074333,\n",
       "        0.067893, 0.      , 0.      , 0.      , 0.      ]])"
      ]
     },
     "execution_count": 5,
     "metadata": {},
     "output_type": "execute_result"
    }
   ],
   "source": [
    "%%time\n",
    "# producing the order 5 NDFC matrix rep. of nodes of the garph w.r.t. the starting points sp_1:\n",
    "mats_1 = NDFC_matrix_rep(myg, starting_points=sp_1, radius=5, decimals=6)\n",
    "mats_1[0]"
   ]
  },
  {
   "cell_type": "code",
   "execution_count": 6,
   "id": "81e14941",
   "metadata": {},
   "outputs": [
    {
     "data": {
      "text/plain": [
       "(14113, 6, 17)"
      ]
     },
     "execution_count": 6,
     "metadata": {},
     "output_type": "execute_result"
    }
   ],
   "source": [
    "mats_1.shape"
   ]
  },
  {
   "cell_type": "code",
   "execution_count": 7,
   "id": "1cbe01aa",
   "metadata": {},
   "outputs": [],
   "source": [
    "np.save(\"fb_co_pages_NDFC_matrix_r1-30_sta1_max50_rad5.npy\", mats_1, allow_pickle=False, fix_imports=True)"
   ]
  },
  {
   "cell_type": "code",
   "execution_count": null,
   "id": "32e4a1e6",
   "metadata": {},
   "outputs": [],
   "source": []
  }
 ],
 "metadata": {
  "kernelspec": {
   "display_name": "Python 3 (ipykernel)",
   "language": "python",
   "name": "python3"
  },
  "language_info": {
   "codemirror_mode": {
    "name": "ipython",
    "version": 3
   },
   "file_extension": ".py",
   "mimetype": "text/x-python",
   "name": "python",
   "nbconvert_exporter": "python",
   "pygments_lexer": "ipython3",
   "version": "3.8.3"
  }
 },
 "nbformat": 4,
 "nbformat_minor": 5
}
