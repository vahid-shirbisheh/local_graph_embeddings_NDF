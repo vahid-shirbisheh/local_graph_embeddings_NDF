{
 "cells": [
  {
   "cell_type": "markdown",
   "id": "31b500b5",
   "metadata": {},
   "source": [
    "# The feedforward neural network model for learning PageRank"
   ]
  },
  {
   "cell_type": "code",
   "execution_count": 1,
   "id": "a9854c00",
   "metadata": {},
   "outputs": [],
   "source": [
    "import time\n",
    "from mygraph import MyGraph\n",
    "from helpers import *"
   ]
  },
  {
   "cell_type": "code",
   "execution_count": 2,
   "id": "c8783184",
   "metadata": {},
   "outputs": [],
   "source": [
    "import torch\n",
    "import torch.nn as nn\n",
    "import torch.optim as optim\n",
    "import torch.nn.functional as F"
   ]
  },
  {
   "cell_type": "markdown",
   "id": "cfdc752f",
   "metadata": {},
   "source": [
    "## Loading the dataset from numpy files"
   ]
  },
  {
   "cell_type": "code",
   "execution_count": 3,
   "id": "0a2177fd",
   "metadata": {},
   "outputs": [
    {
     "data": {
      "text/plain": [
       "array([4.26055693e-05])"
      ]
     },
     "execution_count": 3,
     "metadata": {},
     "output_type": "execute_result"
    }
   ],
   "source": [
    "# Pageank as the target or label data\n",
    "target_pagerank = np.load(\"fb_media_pages_pageranks.npy\", mmap_mode=None, allow_pickle=False, fix_imports=True, encoding='ASCII')\n",
    "target_pagerank[0]"
   ]
  },
  {
   "cell_type": "code",
   "execution_count": 4,
   "id": "23f24350",
   "metadata": {},
   "outputs": [
    {
     "data": {
      "text/plain": [
       "array([1.02253366])"
      ]
     },
     "execution_count": 4,
     "metadata": {},
     "output_type": "execute_result"
    }
   ],
   "source": [
    "# scaling the PageRank data\n",
    "target_pagerank = target_pagerank * 24000\n",
    "target_pagerank[0]"
   ]
  },
  {
   "cell_type": "code",
   "execution_count": 5,
   "id": "cec6039f",
   "metadata": {},
   "outputs": [
    {
     "data": {
      "text/plain": [
       "(27917, 1)"
      ]
     },
     "execution_count": 5,
     "metadata": {},
     "output_type": "execute_result"
    }
   ],
   "source": [
    "target_pagerank.shape"
   ]
  },
  {
   "cell_type": "code",
   "execution_count": 6,
   "id": "613797d7",
   "metadata": {},
   "outputs": [],
   "source": [
    "# the order 5 NFDC matrix as the feature set\n",
    "matrix_1 = np.load(\"fb_media_pages_NDFC_matrix_r1_3_sta1_max70_rad5.npy\", mmap_mode=None, allow_pickle=False, fix_imports=True, encoding='ASCII')"
   ]
  },
  {
   "cell_type": "code",
   "execution_count": 7,
   "id": "94c81831",
   "metadata": {},
   "outputs": [
    {
     "data": {
      "text/plain": [
       "(27917, 6, 23)"
      ]
     },
     "execution_count": 7,
     "metadata": {},
     "output_type": "execute_result"
    }
   ],
   "source": [
    "matrix_1.shape"
   ]
  },
  {
   "cell_type": "code",
   "execution_count": 8,
   "id": "ac052a5f",
   "metadata": {},
   "outputs": [
    {
     "data": {
      "text/plain": [
       "array([[0.      , 0.      , 0.      , 2.      , 2.      , 0.      ,\n",
       "        1.      , 0.      , 0.      , 0.      , 0.      , 0.      ,\n",
       "        0.      , 0.      , 0.      , 0.      , 0.      , 0.      ,\n",
       "        0.      , 0.      , 0.      , 0.      , 0.      ],\n",
       "       [0.6     , 0.      , 0.2     , 2.8     , 1.6     , 0.      ,\n",
       "        1.      , 0.4     , 0.4     , 0.      , 0.2     , 0.      ,\n",
       "        0.      , 0.      , 0.      , 0.      , 0.2     , 0.      ,\n",
       "        0.      , 0.      , 0.      , 0.      , 0.      ],\n",
       "       [1.      , 0.583333, 0.333333, 1.75    , 2.916667, 3.583333,\n",
       "        4.166667, 4.166667, 4.666667, 2.5     , 1.5     , 0.916667,\n",
       "        0.75    , 0.333333, 0.416667, 0.25    , 0.583333, 0.083333,\n",
       "        0.      , 0.166667, 0.      , 0.083333, 0.      ],\n",
       "       [0.252941, 0.514706, 0.594118, 1.326471, 1.461765, 2.467647,\n",
       "        2.626471, 3.364706, 3.952941, 3.4     , 2.897059, 1.888235,\n",
       "        1.714706, 1.25    , 1.052941, 0.479412, 1.082353, 0.208824,\n",
       "        0.120588, 0.244118, 0.017647, 0.202941, 0.085294],\n",
       "       [0.111543, 0.237514, 0.355716, 0.865705, 1.131151, 1.77673 ,\n",
       "        2.322789, 3.054199, 3.480762, 3.388457, 3.075472, 2.165002,\n",
       "        1.91121 , 1.334073, 1.031817, 0.491121, 0.490751, 0.224565,\n",
       "        0.130596, 0.309656, 0.04569 , 0.192379, 0.147984],\n",
       "       [0.061516, 0.125459, 0.180942, 0.491261, 0.61249 , 0.960254,\n",
       "        1.204765, 1.632208, 1.792436, 1.7637  , 1.563662, 1.080239,\n",
       "        0.843565, 0.536854, 0.34851 , 0.163588, 0.130559, 0.051689,\n",
       "        0.049387, 0.086459, 0.016359, 0.037631, 0.03166 ]])"
      ]
     },
     "execution_count": 8,
     "metadata": {},
     "output_type": "execute_result"
    }
   ],
   "source": [
    "matrix_1[111]"
   ]
  },
  {
   "cell_type": "code",
   "execution_count": 9,
   "id": "571e015b",
   "metadata": {},
   "outputs": [
    {
     "data": {
      "text/plain": [
       "(27917, 138)"
      ]
     },
     "execution_count": 9,
     "metadata": {},
     "output_type": "execute_result"
    }
   ],
   "source": [
    "matrix_1 = matrix_1.reshape(27917,-1)\n",
    "matrix_1.shape"
   ]
  },
  {
   "cell_type": "markdown",
   "id": "da03d5cb",
   "metadata": {},
   "source": [
    "# Converting the data into pytorch tenors"
   ]
  },
  {
   "cell_type": "code",
   "execution_count": 10,
   "id": "70a724b2",
   "metadata": {},
   "outputs": [
    {
     "data": {
      "text/plain": [
       "(torch.Size([27917, 138]), torch.Size([27917, 1]))"
      ]
     },
     "execution_count": 10,
     "metadata": {},
     "output_type": "execute_result"
    }
   ],
   "source": [
    "features = torch.from_numpy(matrix_1)\n",
    "targets = torch.from_numpy(target_pagerank)\n",
    "features.shape, targets.shape"
   ]
  },
  {
   "cell_type": "code",
   "execution_count": 11,
   "id": "b3cf09de",
   "metadata": {},
   "outputs": [
    {
     "data": {
      "text/plain": [
       "tensor([[1.0225],\n",
       "        [0.9398],\n",
       "        [0.8766],\n",
       "        ...,\n",
       "        [0.4565],\n",
       "        [0.9406],\n",
       "        [0.9156]], dtype=torch.float64, requires_grad=True)"
      ]
     },
     "execution_count": 11,
     "metadata": {},
     "output_type": "execute_result"
    }
   ],
   "source": [
    "# Activating the automatic gradient \n",
    "features.requires_grad_(True)\n",
    "targets.requires_grad_(True)"
   ]
  },
  {
   "cell_type": "code",
   "execution_count": 12,
   "id": "1ab8749e",
   "metadata": {},
   "outputs": [
    {
     "data": {
      "text/plain": [
       "(torch.Size([20000, 138]),\n",
       " torch.Size([7917, 138]),\n",
       " torch.Size([20000, 1]),\n",
       " torch.Size([7917, 1]))"
      ]
     },
     "execution_count": 12,
     "metadata": {},
     "output_type": "execute_result"
    }
   ],
   "source": [
    "# Shuffling and dividing the indecies\n",
    "n_samples = features.shape[0]\n",
    "n_test = 7917\n",
    "shuffled_ind = torch.randperm(n_samples)\n",
    "train_ind = shuffled_ind[:-n_test]\n",
    "test_ind = shuffled_ind[-n_test:]\n",
    "# Dividing features and targets into tain and test sets\n",
    "train_features = features[train_ind]\n",
    "test_features = features[test_ind]\n",
    "train_targets = targets[train_ind]\n",
    "test_targets = targets[test_ind]\n",
    "train_features.shape, test_features.shape, train_targets.shape, test_targets.shape"
   ]
  },
  {
   "cell_type": "markdown",
   "id": "4d960fdc",
   "metadata": {},
   "source": [
    "## A function for dividing train data into batches"
   ]
  },
  {
   "cell_type": "code",
   "execution_count": 13,
   "id": "a0515de8",
   "metadata": {},
   "outputs": [],
   "source": [
    "# dividing train_features and train_targets into batches\n",
    "def next_batch(train_features, train_targets, batch_size=100):\n",
    "    num_features = train_features.shape[0]\n",
    "    # Shuffling\n",
    "    shuffled_ind = torch.randperm(num_features)\n",
    "    shuffled_train_features = train_features[shuffled_ind]\n",
    "    shuffled_train_targets = train_targets[shuffled_ind]\n",
    "    # Dividing\n",
    "    i = 0\n",
    "    while i < num_features:\n",
    "        i += batch_size\n",
    "        yield (shuffled_train_features[i-batch_size:i], shuffled_train_targets[i-batch_size:i])\n",
    "    return"
   ]
  },
  {
   "cell_type": "markdown",
   "id": "d53422f6",
   "metadata": {},
   "source": [
    "## The feedforward neural network model"
   ]
  },
  {
   "cell_type": "code",
   "execution_count": 14,
   "id": "b8ef9f95",
   "metadata": {},
   "outputs": [],
   "source": [
    "# The Feedforward Neural Network \n",
    "class FFNN_model(nn.Module):\n",
    "    def __init__(self):\n",
    "        super().__init__()\n",
    "        num_features = features.shape[1]\n",
    "        self.fc1 = nn.Linear(num_features, 400)\n",
    "        self.fc2 = nn.Linear(400, 800)\n",
    "        self.fc3 = nn.Linear(800, 200)\n",
    "        self.fc4 = nn.Linear(200, 64)\n",
    "        self.fc5 = nn.Linear(64, 8)\n",
    "        self.fc6 = nn.Linear(8, 1)\n",
    "        self.dropout1 = nn.Dropout(0.4)\n",
    "        self.dropout2 = nn.Dropout(0.3)\n",
    "        self.dropout3 = nn.Dropout(0.5)\n",
    "    \n",
    "    def forward(self, X):\n",
    "        X = torch.tanh(self.fc1(X))\n",
    "        X = torch.relu(self.fc2(X))\n",
    "        X = self.dropout1(X)\n",
    "        X = torch.relu(self.fc3(X))\n",
    "        X = self.dropout3(X)\n",
    "        X = torch.relu(self.fc4(X))\n",
    "        X = self.dropout2(X)\n",
    "        X = torch.tanh(self.fc5(X))\n",
    "        return self.fc6(X)"
   ]
  },
  {
   "cell_type": "code",
   "execution_count": 15,
   "id": "dbd6afbe",
   "metadata": {},
   "outputs": [
    {
     "data": {
      "text/plain": [
       "FFNN_model(\n",
       "  (fc1): Linear(in_features=138, out_features=400, bias=True)\n",
       "  (fc2): Linear(in_features=400, out_features=800, bias=True)\n",
       "  (fc3): Linear(in_features=800, out_features=200, bias=True)\n",
       "  (fc4): Linear(in_features=200, out_features=64, bias=True)\n",
       "  (fc5): Linear(in_features=64, out_features=8, bias=True)\n",
       "  (fc6): Linear(in_features=8, out_features=1, bias=True)\n",
       "  (dropout1): Dropout(p=0.4, inplace=False)\n",
       "  (dropout2): Dropout(p=0.3, inplace=False)\n",
       "  (dropout3): Dropout(p=0.5, inplace=False)\n",
       ")"
      ]
     },
     "execution_count": 15,
     "metadata": {},
     "output_type": "execute_result"
    }
   ],
   "source": [
    "# Instantiation of the model\n",
    "torch.manual_seed(42)\n",
    "model = FFNN_model()\n",
    "model"
   ]
  },
  {
   "cell_type": "code",
   "execution_count": 16,
   "id": "9a867c25",
   "metadata": {},
   "outputs": [
    {
     "name": "stdout",
     "output_type": "stream",
     "text": [
      "55200\n",
      "400\n",
      "320000\n",
      "800\n",
      "160000\n",
      "200\n",
      "12800\n",
      "64\n",
      "512\n",
      "8\n",
      "8\n",
      "1\n",
      "----------------------\n",
      "Number of all parameters: \n",
      "549993\n"
     ]
    }
   ],
   "source": [
    "# Number of parameters\n",
    "num_para = 0\n",
    "for param in model.parameters():\n",
    "    print(param.numel())\n",
    "    num_para += param.numel()\n",
    "print(\"----------------------\")\n",
    "print(f'Number of all parameters: \\n{num_para}')"
   ]
  },
  {
   "cell_type": "code",
   "execution_count": 17,
   "id": "4f68fb57",
   "metadata": {},
   "outputs": [],
   "source": [
    "# Objective function and optimmizer\n",
    "criterion = nn.MSELoss()\n",
    "optimizer = optim.Adam(model.parameters(), lr=1e-3)\n",
    "# optimizer = optim.SGD(model.parameters(), lr=0.01, momentum=0.9)"
   ]
  },
  {
   "cell_type": "markdown",
   "id": "60d430bc",
   "metadata": {},
   "source": [
    "## Defining the Training Loop"
   ]
  },
  {
   "cell_type": "code",
   "execution_count": 18,
   "id": "3c9b4697",
   "metadata": {},
   "outputs": [],
   "source": [
    "def training_loop(n_epochs=1000,\n",
    "                  batch_size=100,\n",
    "                  optimizer=optimizer, \n",
    "                  model=model, \n",
    "                  loss_fn=criterion, \n",
    "                  train_features=train_features, \n",
    "                  test_features=test_features, \n",
    "                  train_targets=train_targets, \n",
    "                  test_targets=test_targets):\n",
    "    num_features = train_features.shape[0]\n",
    "    start_time = time.time()\n",
    "    all_train_loss, all_test_loss = np.zeros(n_epochs), np.zeros(n_epochs)\n",
    "    for epoch in range(1, n_epochs +1):\n",
    "        # Training: \n",
    "        epoch_losses = []\n",
    "        # looping through batches\n",
    "        for train_features, train_targets in next_batch(train_features=train_features, \n",
    "                                                        train_targets=train_targets, batch_size=batch_size): \n",
    "            train_preds = model(train_features.float())\n",
    "            train_loss = loss_fn(train_targets.float(), train_preds.float())\n",
    "            optimizer.zero_grad()\n",
    "            train_loss.backward(retain_graph=True)\n",
    "            optimizer.step()\n",
    "            \n",
    "            epoch_losses.append(train_loss.item())\n",
    "        average_epoch_loss = sum(epoch_losses)/len(epoch_losses)\n",
    "        \n",
    "        # Test:\n",
    "        with torch.no_grad():\n",
    "            test_preds = model(test_features.float())\n",
    "            test_loss = loss_fn(test_targets.float(), test_preds.float())\n",
    "        \n",
    "        all_train_loss[epoch - 1] = average_epoch_loss\n",
    "        all_test_loss[epoch - 1] = test_loss.item()\n",
    "        # Printing the result: \n",
    "        if epoch == 1 or epoch % 100 == 0:\n",
    "            print(f\"EPOCH: {epoch:{7}}\")\n",
    "            print(f\"MEAN TRAIN LOSS:   {average_epoch_loss:.11f},    TEST LOSS:   {test_loss.item():.11f}\")\n",
    "            print(\"-----------------------------------------\")\n",
    "    print(\"The total time = \", np.round(time.time() - start_time, 3), \" seconds!\")\n",
    "    return all_train_loss, all_test_loss"
   ]
  },
  {
   "cell_type": "markdown",
   "id": "02ab2601",
   "metadata": {},
   "source": [
    "# Training the model"
   ]
  },
  {
   "cell_type": "code",
   "execution_count": 19,
   "id": "0a9afbe6",
   "metadata": {
    "scrolled": false
   },
   "outputs": [
    {
     "name": "stdout",
     "output_type": "stream",
     "text": [
      "EPOCH:       1\n",
      "MEAN TRAIN LOSS:   0.86455551237,    TEST LOSS:   0.33597418666\n",
      "-----------------------------------------\n",
      "EPOCH:     100\n",
      "MEAN TRAIN LOSS:   0.31442466378,    TEST LOSS:   0.24364478886\n",
      "-----------------------------------------\n",
      "EPOCH:     200\n",
      "MEAN TRAIN LOSS:   0.27570918202,    TEST LOSS:   0.20247332752\n",
      "-----------------------------------------\n",
      "EPOCH:     300\n",
      "MEAN TRAIN LOSS:   0.24444606900,    TEST LOSS:   0.17533415556\n",
      "-----------------------------------------\n",
      "EPOCH:     400\n",
      "MEAN TRAIN LOSS:   0.21822093427,    TEST LOSS:   0.15231183171\n",
      "-----------------------------------------\n",
      "EPOCH:     500\n",
      "MEAN TRAIN LOSS:   0.19868443906,    TEST LOSS:   0.13571393490\n",
      "-----------------------------------------\n",
      "EPOCH:     600\n",
      "MEAN TRAIN LOSS:   0.18210358918,    TEST LOSS:   0.12263111025\n",
      "-----------------------------------------\n",
      "EPOCH:     700\n",
      "MEAN TRAIN LOSS:   0.16591900587,    TEST LOSS:   0.11634248495\n",
      "-----------------------------------------\n",
      "EPOCH:     800\n",
      "MEAN TRAIN LOSS:   0.14966207743,    TEST LOSS:   0.10657810420\n",
      "-----------------------------------------\n",
      "EPOCH:     900\n",
      "MEAN TRAIN LOSS:   0.13551107049,    TEST LOSS:   0.09378284961\n",
      "-----------------------------------------\n",
      "EPOCH:    1000\n",
      "MEAN TRAIN LOSS:   0.12034379691,    TEST LOSS:   0.09256684035\n",
      "-----------------------------------------\n",
      "EPOCH:    1100\n",
      "MEAN TRAIN LOSS:   0.10392730683,    TEST LOSS:   0.08305193484\n",
      "-----------------------------------------\n",
      "EPOCH:    1200\n",
      "MEAN TRAIN LOSS:   0.09099710733,    TEST LOSS:   0.07498715073\n",
      "-----------------------------------------\n",
      "EPOCH:    1300\n",
      "MEAN TRAIN LOSS:   0.08224499971,    TEST LOSS:   0.06957273185\n",
      "-----------------------------------------\n",
      "EPOCH:    1400\n",
      "MEAN TRAIN LOSS:   0.06922444701,    TEST LOSS:   0.06155640259\n",
      "-----------------------------------------\n",
      "EPOCH:    1500\n",
      "MEAN TRAIN LOSS:   0.05810768157,    TEST LOSS:   0.05983474478\n",
      "-----------------------------------------\n",
      "EPOCH:    1600\n",
      "MEAN TRAIN LOSS:   0.04979525879,    TEST LOSS:   0.05555774271\n",
      "-----------------------------------------\n",
      "EPOCH:    1700\n",
      "MEAN TRAIN LOSS:   0.04198342934,    TEST LOSS:   0.05184831843\n",
      "-----------------------------------------\n",
      "EPOCH:    1800\n",
      "MEAN TRAIN LOSS:   0.03561773151,    TEST LOSS:   0.04862982035\n",
      "-----------------------------------------\n",
      "EPOCH:    1900\n",
      "MEAN TRAIN LOSS:   0.02983656712,    TEST LOSS:   0.05358770490\n",
      "-----------------------------------------\n",
      "EPOCH:    2000\n",
      "MEAN TRAIN LOSS:   0.02509582788,    TEST LOSS:   0.04627720639\n",
      "-----------------------------------------\n",
      "The total time =  832.089  seconds!\n"
     ]
    }
   ],
   "source": [
    "losses = training_loop(n_epochs=2000,\n",
    "                  batch_size=400,\n",
    "                  optimizer=optimizer, \n",
    "                  model=model, \n",
    "                  loss_fn=criterion, \n",
    "                  train_features=train_features, \n",
    "                  test_features=test_features, \n",
    "                  train_targets=train_targets, \n",
    "                  test_targets=test_targets)"
   ]
  },
  {
   "cell_type": "code",
   "execution_count": 20,
   "id": "236809d9",
   "metadata": {},
   "outputs": [
    {
     "name": "stdout",
     "output_type": "stream",
     "text": [
      "target 2.477397381825853,    prediction: 2.2803971767425537\n",
      "index 0:       inaccuracy: 7.952%\n",
      "-----------------------------------------------------------------\n",
      "target 0.31863985570879155,    prediction: 0.3854336440563202\n",
      "index 100:       inaccuracy: 20.962%\n",
      "-----------------------------------------------------------------\n",
      "target 0.4137940144444872,    prediction: 0.42183196544647217\n",
      "index 200:       inaccuracy: 1.943%\n",
      "-----------------------------------------------------------------\n",
      "target 2.0087731025340507,    prediction: 1.9190704822540283\n",
      "index 300:       inaccuracy: 4.466%\n",
      "-----------------------------------------------------------------\n",
      "target 0.6958696009158427,    prediction: 0.7651911973953247\n",
      "index 400:       inaccuracy: 9.962%\n",
      "-----------------------------------------------------------------\n",
      "target 1.6998357440195866,    prediction: 1.6925427913665771\n",
      "index 500:       inaccuracy: 0.429%\n",
      "-----------------------------------------------------------------\n",
      "target 0.7051056414104293,    prediction: 0.7279284000396729\n",
      "index 600:       inaccuracy: 3.237%\n",
      "-----------------------------------------------------------------\n",
      "target 0.4018773129409771,    prediction: 0.36928021907806396\n",
      "index 700:       inaccuracy: 8.111%\n",
      "-----------------------------------------------------------------\n",
      "target 0.8539458173430242,    prediction: 0.8402454257011414\n",
      "index 800:       inaccuracy: 1.604%\n",
      "-----------------------------------------------------------------\n",
      "target 0.6465884968088689,    prediction: 0.6793493628501892\n",
      "index 900:       inaccuracy: 5.067%\n",
      "-----------------------------------------------------------------\n",
      "target 5.288129036754117,    prediction: 3.9168543815612793\n",
      "index 1000:       inaccuracy: 25.931%\n",
      "-----------------------------------------------------------------\n",
      "target 0.7945912712902491,    prediction: 0.804878294467926\n",
      "index 1100:       inaccuracy: 1.295%\n",
      "-----------------------------------------------------------------\n",
      "target 0.5379897497336956,    prediction: 0.6064536571502686\n",
      "index 1200:       inaccuracy: 12.726%\n",
      "-----------------------------------------------------------------\n",
      "target 0.18080488296756986,    prediction: 0.2768331468105316\n",
      "index 1300:       inaccuracy: 53.112%\n",
      "-----------------------------------------------------------------\n",
      "target 0.2301208588918227,    prediction: 0.33700788021087646\n",
      "index 1400:       inaccuracy: 46.448%\n",
      "-----------------------------------------------------------------\n",
      "target 2.2525895592743495,    prediction: 2.1938042640686035\n",
      "index 1500:       inaccuracy: 2.61%\n",
      "-----------------------------------------------------------------\n",
      "target 0.8397765761581275,    prediction: 0.8612807989120483\n",
      "index 1600:       inaccuracy: 2.561%\n",
      "-----------------------------------------------------------------\n",
      "target 0.46878763497006476,    prediction: 0.5675076246261597\n",
      "index 1700:       inaccuracy: 21.059%\n",
      "-----------------------------------------------------------------\n",
      "target 1.9600664124450913,    prediction: 2.378406047821045\n",
      "index 1800:       inaccuracy: 21.343%\n",
      "-----------------------------------------------------------------\n",
      "target 1.549603797439288,    prediction: 1.6951429843902588\n",
      "index 1900:       inaccuracy: 9.392%\n",
      "-----------------------------------------------------------------\n",
      "target 0.9780255230095636,    prediction: 0.9008002281188965\n",
      "index 2000:       inaccuracy: 7.896%\n",
      "-----------------------------------------------------------------\n",
      "target 1.7560045555846413,    prediction: 1.7454214096069336\n",
      "index 2100:       inaccuracy: 0.603%\n",
      "-----------------------------------------------------------------\n",
      "target 0.4509937146380917,    prediction: 0.4435202181339264\n",
      "index 2200:       inaccuracy: 1.657%\n",
      "-----------------------------------------------------------------\n",
      "target 0.7254389307207525,    prediction: 0.7081824541091919\n",
      "index 2300:       inaccuracy: 2.379%\n",
      "-----------------------------------------------------------------\n",
      "target 0.7217227320702169,    prediction: 0.7818474769592285\n",
      "index 2400:       inaccuracy: 8.331%\n",
      "-----------------------------------------------------------------\n",
      "target 0.7232551647481087,    prediction: 0.6948159337043762\n",
      "index 2500:       inaccuracy: 3.932%\n",
      "-----------------------------------------------------------------\n",
      "target 1.0870550773977858,    prediction: 1.1630923748016357\n",
      "index 2600:       inaccuracy: 6.995%\n",
      "-----------------------------------------------------------------\n",
      "target 2.057504736929546,    prediction: 2.1858646869659424\n",
      "index 2700:       inaccuracy: 6.239%\n",
      "-----------------------------------------------------------------\n",
      "target 0.580389925123381,    prediction: 0.66962730884552\n",
      "index 2800:       inaccuracy: 15.375%\n",
      "-----------------------------------------------------------------\n",
      "target 1.8264256737371247,    prediction: 1.7653250694274902\n",
      "index 2900:       inaccuracy: 3.345%\n",
      "-----------------------------------------------------------------\n",
      "target 5.971605359346527,    prediction: 4.2666730880737305\n",
      "index 3000:       inaccuracy: 28.551%\n",
      "-----------------------------------------------------------------\n",
      "target 0.3117703779583533,    prediction: 0.326363742351532\n",
      "index 3100:       inaccuracy: 4.681%\n",
      "-----------------------------------------------------------------\n",
      "target 2.489533439120201,    prediction: 2.8109934329986572\n",
      "index 3200:       inaccuracy: 12.912%\n",
      "-----------------------------------------------------------------\n",
      "target 0.67141954716652,    prediction: 0.720538854598999\n",
      "index 3300:       inaccuracy: 7.316%\n",
      "-----------------------------------------------------------------\n",
      "target 0.8735879744846252,    prediction: 0.8893830180168152\n",
      "index 3400:       inaccuracy: 1.808%\n",
      "-----------------------------------------------------------------\n",
      "target 0.5153696131231227,    prediction: 0.5310355424880981\n",
      "index 3500:       inaccuracy: 3.04%\n",
      "-----------------------------------------------------------------\n",
      "target 0.35725629352661353,    prediction: 0.33681589365005493\n",
      "index 3600:       inaccuracy: 5.721%\n",
      "-----------------------------------------------------------------\n",
      "target 1.101843420655421,    prediction: 1.1088366508483887\n",
      "index 3700:       inaccuracy: 0.635%\n",
      "-----------------------------------------------------------------\n",
      "target 0.5552500656061533,    prediction: 0.5800502896308899\n",
      "index 3800:       inaccuracy: 4.466%\n",
      "-----------------------------------------------------------------\n",
      "target 0.42495503153441516,    prediction: 0.38876962661743164\n",
      "index 3900:       inaccuracy: 8.515%\n",
      "-----------------------------------------------------------------\n",
      "target 0.4419517591383747,    prediction: 0.3478480875492096\n",
      "index 4000:       inaccuracy: 21.293%\n",
      "-----------------------------------------------------------------\n",
      "target 0.5801919578026004,    prediction: 0.6172603368759155\n",
      "index 4100:       inaccuracy: 6.389%\n",
      "-----------------------------------------------------------------\n",
      "target 0.8236368408281517,    prediction: 0.8042080402374268\n",
      "index 4200:       inaccuracy: 2.359%\n",
      "-----------------------------------------------------------------\n",
      "target 6.651596203474074,    prediction: 4.560581684112549\n",
      "index 4300:       inaccuracy: 31.436%\n",
      "-----------------------------------------------------------------\n",
      "target 0.29575571350755825,    prediction: 0.37575259804725647\n",
      "index 4400:       inaccuracy: 27.048%\n",
      "-----------------------------------------------------------------\n",
      "target 0.9171012800455247,    prediction: 0.9950361847877502\n",
      "index 4500:       inaccuracy: 8.498%\n",
      "-----------------------------------------------------------------\n",
      "target 0.6292184008026184,    prediction: 0.6960836052894592\n",
      "index 4600:       inaccuracy: 10.627%\n",
      "-----------------------------------------------------------------\n",
      "target 0.6987525223798676,    prediction: 0.7774505019187927\n",
      "index 4700:       inaccuracy: 11.263%\n",
      "-----------------------------------------------------------------\n",
      "target 0.8906415219717453,    prediction: 0.8365865349769592\n",
      "index 4800:       inaccuracy: 6.069%\n",
      "-----------------------------------------------------------------\n",
      "target 0.8118553527153299,    prediction: 0.8516631722450256\n",
      "index 4900:       inaccuracy: 4.903%\n",
      "-----------------------------------------------------------------\n",
      "target 0.6578038467316756,    prediction: 0.7642549276351929\n",
      "index 5000:       inaccuracy: 16.183%\n",
      "-----------------------------------------------------------------\n"
     ]
    },
    {
     "name": "stdout",
     "output_type": "stream",
     "text": [
      "target 0.562145156077087,    prediction: 0.6147424578666687\n",
      "index 5100:       inaccuracy: 9.357%\n",
      "-----------------------------------------------------------------\n",
      "target 0.43347862626721584,    prediction: 0.502723217010498\n",
      "index 5200:       inaccuracy: 15.974%\n",
      "-----------------------------------------------------------------\n",
      "target 0.19202366300995996,    prediction: 0.34809547662734985\n",
      "index 5300:       inaccuracy: 81.277%\n",
      "-----------------------------------------------------------------\n",
      "target 0.7020760873076479,    prediction: 0.699216902256012\n",
      "index 5400:       inaccuracy: 0.407%\n",
      "-----------------------------------------------------------------\n",
      "target 1.368002870748081,    prediction: 1.2430278062820435\n",
      "index 5500:       inaccuracy: 9.136%\n",
      "-----------------------------------------------------------------\n",
      "target 1.9049093936681971,    prediction: 1.9337959289550781\n",
      "index 5600:       inaccuracy: 1.516%\n",
      "-----------------------------------------------------------------\n",
      "target 2.1644996201078457,    prediction: 1.9585366249084473\n",
      "index 5700:       inaccuracy: 9.516%\n",
      "-----------------------------------------------------------------\n",
      "target 0.6557155800971892,    prediction: 0.6428036689758301\n",
      "index 5800:       inaccuracy: 1.969%\n",
      "-----------------------------------------------------------------\n",
      "target 0.8406652737183832,    prediction: 0.8314642310142517\n",
      "index 5900:       inaccuracy: 1.094%\n",
      "-----------------------------------------------------------------\n",
      "target 1.5805727956912263,    prediction: 1.6000490188598633\n",
      "index 6000:       inaccuracy: 1.232%\n",
      "-----------------------------------------------------------------\n",
      "target 0.7947104752928463,    prediction: 0.8812194466590881\n",
      "index 6100:       inaccuracy: 10.886%\n",
      "-----------------------------------------------------------------\n",
      "target 0.27236781422191486,    prediction: 0.3247387707233429\n",
      "index 6200:       inaccuracy: 19.228%\n",
      "-----------------------------------------------------------------\n",
      "target 2.016101824691909,    prediction: 2.1086106300354004\n",
      "index 6300:       inaccuracy: 4.588%\n",
      "-----------------------------------------------------------------\n",
      "target 1.3029486857038937,    prediction: 1.036480188369751\n",
      "index 6400:       inaccuracy: 20.451%\n",
      "-----------------------------------------------------------------\n",
      "target 0.19501397932396047,    prediction: 0.29550856351852417\n",
      "index 6500:       inaccuracy: 51.532%\n",
      "-----------------------------------------------------------------\n",
      "target 0.28830572726418086,    prediction: 0.38199931383132935\n",
      "index 6600:       inaccuracy: 32.498%\n",
      "-----------------------------------------------------------------\n",
      "target 0.6889863806296214,    prediction: 0.6920254230499268\n",
      "index 6700:       inaccuracy: 0.441%\n",
      "-----------------------------------------------------------------\n",
      "target 1.8016632352130293,    prediction: 1.7702314853668213\n",
      "index 6800:       inaccuracy: 1.745%\n",
      "-----------------------------------------------------------------\n",
      "target 2.4651251201311077,    prediction: 2.0988423824310303\n",
      "index 6900:       inaccuracy: 14.859%\n",
      "-----------------------------------------------------------------\n",
      "target 0.4520480388003055,    prediction: 0.5550733804702759\n",
      "index 7000:       inaccuracy: 22.791%\n",
      "-----------------------------------------------------------------\n",
      "target 0.8230032818190324,    prediction: 0.8419390916824341\n",
      "index 7100:       inaccuracy: 2.301%\n",
      "-----------------------------------------------------------------\n",
      "target 0.3002558443818061,    prediction: 0.3548659682273865\n",
      "index 7200:       inaccuracy: 18.188%\n",
      "-----------------------------------------------------------------\n",
      "target 1.0289231393584848,    prediction: 0.9856845736503601\n",
      "index 7300:       inaccuracy: 4.202%\n",
      "-----------------------------------------------------------------\n",
      "target 0.7155479968997698,    prediction: 0.8204195499420166\n",
      "index 7400:       inaccuracy: 14.656%\n",
      "-----------------------------------------------------------------\n",
      "target 1.0980474714784654,    prediction: 0.9922723770141602\n",
      "index 7500:       inaccuracy: 9.633%\n",
      "-----------------------------------------------------------------\n",
      "target 0.2730858390971003,    prediction: 0.3857733905315399\n",
      "index 7600:       inaccuracy: 41.265%\n",
      "-----------------------------------------------------------------\n",
      "target 0.31440112687423105,    prediction: 0.3827821910381317\n",
      "index 7700:       inaccuracy: 21.75%\n",
      "-----------------------------------------------------------------\n",
      "target 0.8063615111571538,    prediction: 0.7911964654922485\n",
      "index 7800:       inaccuracy: 1.881%\n",
      "-----------------------------------------------------------------\n",
      "target 0.8094703770880155,    prediction: 0.8132807016372681\n",
      "index 7900:       inaccuracy: 0.471%\n",
      "-----------------------------------------------------------------\n"
     ]
    }
   ],
   "source": [
    "model.eval()\n",
    "errors = []\n",
    "for i in range(n_test):\n",
    "    targ = test_targets[i].item()\n",
    "    feat = test_features[i].float().view(1,1,138)\n",
    "    pred = model(feat).item()\n",
    "    inaccuracy = abs(1 - pred/targ) * 100\n",
    "    errors.append(inaccuracy)\n",
    "    if i%100 == 0:\n",
    "        print(f\"target {targ},    prediction: {pred}\\nindex {i}:       inaccuracy: {np.round(inaccuracy, 3)}%\")\n",
    "        print(\"-----------------------------------------------------------------\")"
   ]
  },
  {
   "cell_type": "code",
   "execution_count": 21,
   "id": "0a813b62",
   "metadata": {},
   "outputs": [
    {
     "name": "stdout",
     "output_type": "stream",
     "text": [
      "Average inaccuracy:  13.551\n"
     ]
    }
   ],
   "source": [
    "print(\"Average inaccuracy: \", np.round(sum(errors)/len(errors), 3))"
   ]
  },
  {
   "cell_type": "code",
   "execution_count": 22,
   "id": "4f7a0d3b",
   "metadata": {},
   "outputs": [],
   "source": [
    "torch.save(model, \"trained_FFNN_model_fb_media_pagerank_002.pt\")"
   ]
  },
  {
   "cell_type": "code",
   "execution_count": null,
   "id": "8762ce9a",
   "metadata": {},
   "outputs": [],
   "source": []
  },
  {
   "cell_type": "code",
   "execution_count": null,
   "id": "1d3225f1",
   "metadata": {},
   "outputs": [],
   "source": []
  }
 ],
 "metadata": {
  "kernelspec": {
   "display_name": "Python 3 (ipykernel)",
   "language": "python",
   "name": "python3"
  },
  "language_info": {
   "codemirror_mode": {
    "name": "ipython",
    "version": 3
   },
   "file_extension": ".py",
   "mimetype": "text/x-python",
   "name": "python",
   "nbconvert_exporter": "python",
   "pygments_lexer": "ipython3",
   "version": "3.8.3"
  }
 },
 "nbformat": 4,
 "nbformat_minor": 5
}
