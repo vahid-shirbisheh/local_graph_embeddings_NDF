{
 "cells": [
  {
   "cell_type": "markdown",
   "id": "31b500b5",
   "metadata": {},
   "source": [
    "# The feedforward neural network model for learning PageRank"
   ]
  },
  {
   "cell_type": "code",
   "execution_count": 1,
   "id": "a9854c00",
   "metadata": {},
   "outputs": [],
   "source": [
    "import time\n",
    "from mygraph import MyGraph\n",
    "from helpers import *"
   ]
  },
  {
   "cell_type": "code",
   "execution_count": 2,
   "id": "c8783184",
   "metadata": {},
   "outputs": [],
   "source": [
    "import torch\n",
    "import torch.nn as nn\n",
    "import torch.optim as optim\n",
    "import torch.nn.functional as F"
   ]
  },
  {
   "cell_type": "markdown",
   "id": "cfdc752f",
   "metadata": {},
   "source": [
    "## Loading the dataset from numpy files"
   ]
  },
  {
   "cell_type": "code",
   "execution_count": 3,
   "id": "0a2177fd",
   "metadata": {},
   "outputs": [
    {
     "data": {
      "text/plain": [
       "array([4.26055693e-05])"
      ]
     },
     "execution_count": 3,
     "metadata": {},
     "output_type": "execute_result"
    }
   ],
   "source": [
    "# Pageank as the target or label data\n",
    "target_pagerank = np.load(\"fb_media_pages_pageranks.npy\", mmap_mode=None, allow_pickle=False, fix_imports=True, encoding='ASCII')\n",
    "target_pagerank[0]"
   ]
  },
  {
   "cell_type": "code",
   "execution_count": 4,
   "id": "23f24350",
   "metadata": {},
   "outputs": [
    {
     "data": {
      "text/plain": [
       "array([1.02253366])"
      ]
     },
     "execution_count": 4,
     "metadata": {},
     "output_type": "execute_result"
    }
   ],
   "source": [
    "# scaling the PageRank data\n",
    "target_pagerank = target_pagerank * 24000\n",
    "target_pagerank[0]"
   ]
  },
  {
   "cell_type": "code",
   "execution_count": 5,
   "id": "cec6039f",
   "metadata": {},
   "outputs": [
    {
     "data": {
      "text/plain": [
       "(27917, 1)"
      ]
     },
     "execution_count": 5,
     "metadata": {},
     "output_type": "execute_result"
    }
   ],
   "source": [
    "target_pagerank.shape"
   ]
  },
  {
   "cell_type": "code",
   "execution_count": 6,
   "id": "613797d7",
   "metadata": {},
   "outputs": [],
   "source": [
    "# the order 5 NFDC matrix as the feature set\n",
    "matrix_1 = np.load(\"fb_media_pages_NDFC_matrix_r1_3_sta1_max70_rad5.npy\", mmap_mode=None, allow_pickle=False, fix_imports=True, encoding='ASCII')"
   ]
  },
  {
   "cell_type": "code",
   "execution_count": 7,
   "id": "94c81831",
   "metadata": {},
   "outputs": [
    {
     "data": {
      "text/plain": [
       "(27917, 6, 23)"
      ]
     },
     "execution_count": 7,
     "metadata": {},
     "output_type": "execute_result"
    }
   ],
   "source": [
    "matrix_1.shape"
   ]
  },
  {
   "cell_type": "code",
   "execution_count": 8,
   "id": "ac052a5f",
   "metadata": {},
   "outputs": [
    {
     "data": {
      "text/plain": [
       "array([[0.      , 0.      , 0.      , 2.      , 2.      , 0.      ,\n",
       "        1.      , 0.      , 0.      , 0.      , 0.      , 0.      ,\n",
       "        0.      , 0.      , 0.      , 0.      , 0.      , 0.      ,\n",
       "        0.      , 0.      , 0.      , 0.      , 0.      ],\n",
       "       [0.6     , 0.      , 0.2     , 2.8     , 1.6     , 0.      ,\n",
       "        1.      , 0.4     , 0.4     , 0.      , 0.2     , 0.      ,\n",
       "        0.      , 0.      , 0.      , 0.      , 0.2     , 0.      ,\n",
       "        0.      , 0.      , 0.      , 0.      , 0.      ],\n",
       "       [1.      , 0.583333, 0.333333, 1.75    , 2.916667, 3.583333,\n",
       "        4.166667, 4.166667, 4.666667, 2.5     , 1.5     , 0.916667,\n",
       "        0.75    , 0.333333, 0.416667, 0.25    , 0.583333, 0.083333,\n",
       "        0.      , 0.166667, 0.      , 0.083333, 0.      ],\n",
       "       [0.252941, 0.514706, 0.594118, 1.326471, 1.461765, 2.467647,\n",
       "        2.626471, 3.364706, 3.952941, 3.4     , 2.897059, 1.888235,\n",
       "        1.714706, 1.25    , 1.052941, 0.479412, 1.082353, 0.208824,\n",
       "        0.120588, 0.244118, 0.017647, 0.202941, 0.085294],\n",
       "       [0.111543, 0.237514, 0.355716, 0.865705, 1.131151, 1.77673 ,\n",
       "        2.322789, 3.054199, 3.480762, 3.388457, 3.075472, 2.165002,\n",
       "        1.91121 , 1.334073, 1.031817, 0.491121, 0.490751, 0.224565,\n",
       "        0.130596, 0.309656, 0.04569 , 0.192379, 0.147984],\n",
       "       [0.061516, 0.125459, 0.180942, 0.491261, 0.61249 , 0.960254,\n",
       "        1.204765, 1.632208, 1.792436, 1.7637  , 1.563662, 1.080239,\n",
       "        0.843565, 0.536854, 0.34851 , 0.163588, 0.130559, 0.051689,\n",
       "        0.049387, 0.086459, 0.016359, 0.037631, 0.03166 ]])"
      ]
     },
     "execution_count": 8,
     "metadata": {},
     "output_type": "execute_result"
    }
   ],
   "source": [
    "matrix_1[111]"
   ]
  },
  {
   "cell_type": "code",
   "execution_count": 9,
   "id": "571e015b",
   "metadata": {},
   "outputs": [
    {
     "data": {
      "text/plain": [
       "(27917, 138)"
      ]
     },
     "execution_count": 9,
     "metadata": {},
     "output_type": "execute_result"
    }
   ],
   "source": [
    "matrix_1 = matrix_1.reshape(27917,-1)\n",
    "matrix_1.shape"
   ]
  },
  {
   "cell_type": "markdown",
   "id": "da03d5cb",
   "metadata": {},
   "source": [
    "# Converting the data into pytorch tenors"
   ]
  },
  {
   "cell_type": "code",
   "execution_count": 10,
   "id": "70a724b2",
   "metadata": {},
   "outputs": [
    {
     "data": {
      "text/plain": [
       "(torch.Size([27917, 138]), torch.Size([27917, 1]))"
      ]
     },
     "execution_count": 10,
     "metadata": {},
     "output_type": "execute_result"
    }
   ],
   "source": [
    "features = torch.from_numpy(matrix_1)\n",
    "targets = torch.from_numpy(target_pagerank)\n",
    "features.shape, targets.shape"
   ]
  },
  {
   "cell_type": "code",
   "execution_count": 11,
   "id": "b3cf09de",
   "metadata": {},
   "outputs": [
    {
     "data": {
      "text/plain": [
       "tensor([[1.0225],\n",
       "        [0.9398],\n",
       "        [0.8766],\n",
       "        ...,\n",
       "        [0.4565],\n",
       "        [0.9406],\n",
       "        [0.9156]], dtype=torch.float64, requires_grad=True)"
      ]
     },
     "execution_count": 11,
     "metadata": {},
     "output_type": "execute_result"
    }
   ],
   "source": [
    "# Activating the automatic gradient \n",
    "features.requires_grad_(True)\n",
    "targets.requires_grad_(True)"
   ]
  },
  {
   "cell_type": "code",
   "execution_count": 12,
   "id": "1ab8749e",
   "metadata": {},
   "outputs": [
    {
     "data": {
      "text/plain": [
       "(torch.Size([20000, 138]),\n",
       " torch.Size([7917, 138]),\n",
       " torch.Size([20000, 1]),\n",
       " torch.Size([7917, 1]))"
      ]
     },
     "execution_count": 12,
     "metadata": {},
     "output_type": "execute_result"
    }
   ],
   "source": [
    "# Shuffling and dividing the indecies\n",
    "n_samples = features.shape[0]\n",
    "n_test = 7917\n",
    "shuffled_ind = torch.randperm(n_samples)\n",
    "train_ind = shuffled_ind[:-n_test]\n",
    "test_ind = shuffled_ind[-n_test:]\n",
    "# Dividing features and targets into tain and test sets\n",
    "train_features = features[train_ind]\n",
    "test_features = features[test_ind]\n",
    "train_targets = targets[train_ind]\n",
    "test_targets = targets[test_ind]\n",
    "train_features.shape, test_features.shape, train_targets.shape, test_targets.shape"
   ]
  },
  {
   "cell_type": "markdown",
   "id": "4d960fdc",
   "metadata": {},
   "source": [
    "## A function for dividing train data into batches"
   ]
  },
  {
   "cell_type": "code",
   "execution_count": 13,
   "id": "a0515de8",
   "metadata": {},
   "outputs": [],
   "source": [
    "# dividing train_features and train_targets into batches\n",
    "def next_batch(train_features, train_targets, batch_size=100):\n",
    "    num_features = train_features.shape[0]\n",
    "    # Shuffling\n",
    "    shuffled_ind = torch.randperm(num_features)\n",
    "    shuffled_train_features = train_features[shuffled_ind]\n",
    "    shuffled_train_targets = train_targets[shuffled_ind]\n",
    "    # Dividing\n",
    "    i = 0\n",
    "    while i < num_features:\n",
    "        i += batch_size\n",
    "        yield (shuffled_train_features[i-batch_size:i], shuffled_train_targets[i-batch_size:i])\n",
    "    return"
   ]
  },
  {
   "cell_type": "markdown",
   "id": "d53422f6",
   "metadata": {},
   "source": [
    "## The feedforward neural network model"
   ]
  },
  {
   "cell_type": "code",
   "execution_count": 14,
   "id": "b8ef9f95",
   "metadata": {},
   "outputs": [],
   "source": [
    "# The Feedforward Neural Network \n",
    "class FFNN_model(nn.Module):\n",
    "    def __init__(self):\n",
    "        super().__init__()\n",
    "        num_features = features.shape[1]\n",
    "        self.fc1 = nn.Linear(num_features, 400)\n",
    "        self.fc2 = nn.Linear(400, 800)\n",
    "        self.fc3 = nn.Linear(800, 200)\n",
    "        self.fc4 = nn.Linear(200, 64)\n",
    "        self.fc5 = nn.Linear(64, 8)\n",
    "        self.fc6 = nn.Linear(8, 1)\n",
    "        self.dropout1 = nn.Dropout(0.4)\n",
    "        self.dropout2 = nn.Dropout(0.3)\n",
    "        self.dropout3 = nn.Dropout(0.5)\n",
    "    \n",
    "    def forward(self, X):\n",
    "        X = torch.tanh(self.fc1(X))\n",
    "        X = torch.relu(self.fc2(X))\n",
    "        X = self.dropout1(X)\n",
    "        X = torch.relu(self.fc3(X))\n",
    "        X = self.dropout3(X)\n",
    "        X = torch.relu(self.fc4(X))\n",
    "        X = self.dropout2(X)\n",
    "        X = torch.tanh(self.fc5(X))\n",
    "        return self.fc6(X)"
   ]
  },
  {
   "cell_type": "code",
   "execution_count": 15,
   "id": "dbd6afbe",
   "metadata": {},
   "outputs": [
    {
     "data": {
      "text/plain": [
       "FFNN_model(\n",
       "  (fc1): Linear(in_features=138, out_features=400, bias=True)\n",
       "  (fc2): Linear(in_features=400, out_features=800, bias=True)\n",
       "  (fc3): Linear(in_features=800, out_features=200, bias=True)\n",
       "  (fc4): Linear(in_features=200, out_features=64, bias=True)\n",
       "  (fc5): Linear(in_features=64, out_features=8, bias=True)\n",
       "  (fc6): Linear(in_features=8, out_features=1, bias=True)\n",
       "  (dropout1): Dropout(p=0.4, inplace=False)\n",
       "  (dropout2): Dropout(p=0.3, inplace=False)\n",
       "  (dropout3): Dropout(p=0.5, inplace=False)\n",
       ")"
      ]
     },
     "execution_count": 15,
     "metadata": {},
     "output_type": "execute_result"
    }
   ],
   "source": [
    "# Instantiation of the model\n",
    "torch.manual_seed(42)\n",
    "model = FFNN_model()\n",
    "model"
   ]
  },
  {
   "cell_type": "code",
   "execution_count": 16,
   "id": "9a867c25",
   "metadata": {},
   "outputs": [
    {
     "name": "stdout",
     "output_type": "stream",
     "text": [
      "55200\n",
      "400\n",
      "320000\n",
      "800\n",
      "160000\n",
      "200\n",
      "12800\n",
      "64\n",
      "512\n",
      "8\n",
      "8\n",
      "1\n",
      "----------------------\n",
      "Number of all parameters: \n",
      "549993\n"
     ]
    }
   ],
   "source": [
    "# Number of parameters\n",
    "num_para = 0\n",
    "for param in model.parameters():\n",
    "    print(param.numel())\n",
    "    num_para += param.numel()\n",
    "print(\"----------------------\")\n",
    "print(f'Number of all parameters: \\n{num_para}')"
   ]
  },
  {
   "cell_type": "code",
   "execution_count": 17,
   "id": "4f68fb57",
   "metadata": {},
   "outputs": [],
   "source": [
    "# Objective function and optimmizer\n",
    "criterion = nn.MSELoss()\n",
    "optimizer = optim.Adam(model.parameters(), lr=1e-3)\n",
    "# optimizer = optim.SGD(model.parameters(), lr=0.01, momentum=0.9)"
   ]
  },
  {
   "cell_type": "markdown",
   "id": "60d430bc",
   "metadata": {},
   "source": [
    "## Defining the Training Loop"
   ]
  },
  {
   "cell_type": "code",
   "execution_count": 18,
   "id": "3c9b4697",
   "metadata": {},
   "outputs": [],
   "source": [
    "def training_loop(n_epochs=1000,\n",
    "                  batch_size=100,\n",
    "                  optimizer=optimizer, \n",
    "                  model=model, \n",
    "                  loss_fn=criterion, \n",
    "                  train_features=train_features, \n",
    "                  test_features=test_features, \n",
    "                  train_targets=train_targets, \n",
    "                  test_targets=test_targets):\n",
    "    num_features = train_features.shape[0]\n",
    "    start_time = time.time()\n",
    "    all_train_loss, all_test_loss = np.zeros(n_epochs), np.zeros(n_epochs)\n",
    "    for epoch in range(1, n_epochs +1):\n",
    "        # Training: \n",
    "        epoch_losses = []\n",
    "        # looping through batches\n",
    "        for train_features, train_targets in next_batch(train_features=train_features, \n",
    "                                                        train_targets=train_targets, batch_size=batch_size): \n",
    "            train_preds = model(train_features.float())\n",
    "            train_loss = loss_fn(train_targets.float(), train_preds.float())\n",
    "            optimizer.zero_grad()\n",
    "            train_loss.backward(retain_graph=True)\n",
    "            optimizer.step()\n",
    "            \n",
    "            epoch_losses.append(train_loss.item())\n",
    "        average_epoch_loss = sum(epoch_losses)/len(epoch_losses)\n",
    "        \n",
    "        # Test:\n",
    "        with torch.no_grad():\n",
    "            test_preds = model(test_features.float())\n",
    "            test_loss = loss_fn(test_targets.float(), test_preds.float())\n",
    "        \n",
    "        all_train_loss[epoch - 1] = average_epoch_loss\n",
    "        all_test_loss[epoch - 1] = test_loss.item()\n",
    "        # Printing the result: \n",
    "        if epoch == 1 or epoch % 100 == 0:\n",
    "            print(f\"EPOCH: {epoch:{7}}\")\n",
    "            print(f\"MEAN TRAIN LOSS:   {average_epoch_loss:.11f},    TEST LOSS:   {test_loss.item():.11f}\")\n",
    "            print(\"-----------------------------------------\")\n",
    "    print(\"The total time = \", np.round(time.time() - start_time, 3), \" seconds!\")\n",
    "    return all_train_loss, all_test_loss"
   ]
  },
  {
   "cell_type": "markdown",
   "id": "02ab2601",
   "metadata": {},
   "source": [
    "# Training the model"
   ]
  },
  {
   "cell_type": "code",
   "execution_count": 19,
   "id": "0a9afbe6",
   "metadata": {
    "scrolled": false
   },
   "outputs": [
    {
     "name": "stdout",
     "output_type": "stream",
     "text": [
      "EPOCH:       1\n",
      "MEAN TRAIN LOSS:   0.71360893205,    TEST LOSS:   0.69244498014\n",
      "-----------------------------------------\n",
      "EPOCH:     100\n",
      "MEAN TRAIN LOSS:   0.14950893819,    TEST LOSS:   0.55174398422\n",
      "-----------------------------------------\n",
      "EPOCH:     200\n",
      "MEAN TRAIN LOSS:   0.09811637551,    TEST LOSS:   0.48283165693\n",
      "-----------------------------------------\n",
      "EPOCH:     300\n",
      "MEAN TRAIN LOSS:   0.06834223121,    TEST LOSS:   0.43720608950\n",
      "-----------------------------------------\n",
      "EPOCH:     400\n",
      "MEAN TRAIN LOSS:   0.05121678486,    TEST LOSS:   0.40616497397\n",
      "-----------------------------------------\n",
      "EPOCH:     500\n",
      "MEAN TRAIN LOSS:   0.03991750628,    TEST LOSS:   0.38239413500\n",
      "-----------------------------------------\n",
      "EPOCH:     600\n",
      "MEAN TRAIN LOSS:   0.03141590208,    TEST LOSS:   0.36389908195\n",
      "-----------------------------------------\n",
      "EPOCH:     700\n",
      "MEAN TRAIN LOSS:   0.02575652674,    TEST LOSS:   0.35057145357\n",
      "-----------------------------------------\n",
      "EPOCH:     800\n",
      "MEAN TRAIN LOSS:   0.02098923177,    TEST LOSS:   0.33705306053\n",
      "-----------------------------------------\n",
      "EPOCH:     900\n",
      "MEAN TRAIN LOSS:   0.01794135012,    TEST LOSS:   0.32323971391\n",
      "-----------------------------------------\n",
      "EPOCH:    1000\n",
      "MEAN TRAIN LOSS:   0.01357700583,    TEST LOSS:   0.31481179595\n",
      "-----------------------------------------\n",
      "EPOCH:    1100\n",
      "MEAN TRAIN LOSS:   0.01224809419,    TEST LOSS:   0.30698037148\n",
      "-----------------------------------------\n",
      "EPOCH:    1200\n",
      "MEAN TRAIN LOSS:   0.00923546217,    TEST LOSS:   0.29729589820\n",
      "-----------------------------------------\n",
      "EPOCH:    1300\n",
      "MEAN TRAIN LOSS:   0.00879963115,    TEST LOSS:   0.29239022732\n",
      "-----------------------------------------\n",
      "EPOCH:    1400\n",
      "MEAN TRAIN LOSS:   0.00908907875,    TEST LOSS:   0.28734028339\n",
      "-----------------------------------------\n",
      "EPOCH:    1500\n",
      "MEAN TRAIN LOSS:   0.00785740092,    TEST LOSS:   0.28680565953\n",
      "-----------------------------------------\n",
      "EPOCH:    1600\n",
      "MEAN TRAIN LOSS:   0.00739839533,    TEST LOSS:   0.28525859118\n",
      "-----------------------------------------\n",
      "EPOCH:    1700\n",
      "MEAN TRAIN LOSS:   0.00746478094,    TEST LOSS:   0.27992033958\n",
      "-----------------------------------------\n",
      "EPOCH:    1800\n",
      "MEAN TRAIN LOSS:   0.00745909056,    TEST LOSS:   0.27742296457\n",
      "-----------------------------------------\n",
      "EPOCH:    1900\n",
      "MEAN TRAIN LOSS:   0.00602378976,    TEST LOSS:   0.27909761667\n",
      "-----------------------------------------\n",
      "EPOCH:    2000\n",
      "MEAN TRAIN LOSS:   0.00718660047,    TEST LOSS:   0.27875185013\n",
      "-----------------------------------------\n",
      "The total time =  829.354  seconds!\n"
     ]
    }
   ],
   "source": [
    "losses = training_loop(n_epochs=2000,\n",
    "                  batch_size=400,\n",
    "                  optimizer=optimizer, \n",
    "                  model=model, \n",
    "                  loss_fn=criterion, \n",
    "                  train_features=train_features, \n",
    "                  test_features=test_features, \n",
    "                  train_targets=train_targets, \n",
    "                  test_targets=test_targets)"
   ]
  },
  {
   "cell_type": "code",
   "execution_count": 20,
   "id": "236809d9",
   "metadata": {},
   "outputs": [
    {
     "name": "stdout",
     "output_type": "stream",
     "text": [
      "target 0.2531810150032319,    prediction: 0.29693353176116943\n",
      "index 0:       inaccuracy: 17.281%\n",
      "-----------------------------------------------------------------\n",
      "target 0.31066267415386484,    prediction: 0.3176133334636688\n",
      "index 50:       inaccuracy: 2.237%\n",
      "-----------------------------------------------------------------\n",
      "target 0.5609903243209725,    prediction: 0.5689537525177002\n",
      "index 100:       inaccuracy: 1.42%\n",
      "-----------------------------------------------------------------\n",
      "target 0.22848819632453027,    prediction: 0.31601962447166443\n",
      "index 150:       inaccuracy: 38.309%\n",
      "-----------------------------------------------------------------\n",
      "target 0.4082360811373197,    prediction: 0.549639880657196\n",
      "index 200:       inaccuracy: 34.638%\n",
      "-----------------------------------------------------------------\n",
      "target 1.6270324947333759,    prediction: 1.4713375568389893\n",
      "index 250:       inaccuracy: 9.569%\n",
      "-----------------------------------------------------------------\n",
      "target 1.0967327373813651,    prediction: 1.1009355783462524\n",
      "index 300:       inaccuracy: 0.383%\n",
      "-----------------------------------------------------------------\n",
      "target 0.8038644964949561,    prediction: 0.855473518371582\n",
      "index 350:       inaccuracy: 6.42%\n",
      "-----------------------------------------------------------------\n",
      "target 0.8025387669351303,    prediction: 0.7613728046417236\n",
      "index 400:       inaccuracy: 5.129%\n",
      "-----------------------------------------------------------------\n",
      "target 1.300441596775945,    prediction: 1.4051121473312378\n",
      "index 450:       inaccuracy: 8.049%\n",
      "-----------------------------------------------------------------\n",
      "target 0.9166893721072189,    prediction: 0.9199044108390808\n",
      "index 500:       inaccuracy: 0.351%\n",
      "-----------------------------------------------------------------\n",
      "target 1.2875317450992356,    prediction: 1.226287603378296\n",
      "index 550:       inaccuracy: 4.757%\n",
      "-----------------------------------------------------------------\n",
      "target 3.6354837366458987,    prediction: 3.094174861907959\n",
      "index 600:       inaccuracy: 14.89%\n",
      "-----------------------------------------------------------------\n",
      "target 0.6611464780380611,    prediction: 0.7034256458282471\n",
      "index 650:       inaccuracy: 6.395%\n",
      "-----------------------------------------------------------------\n",
      "target 0.7520681904440407,    prediction: 0.833692193031311\n",
      "index 700:       inaccuracy: 10.853%\n",
      "-----------------------------------------------------------------\n",
      "target 0.4352951718568698,    prediction: 0.3590889573097229\n",
      "index 750:       inaccuracy: 17.507%\n",
      "-----------------------------------------------------------------\n",
      "target 0.8708697627993623,    prediction: 0.8498246669769287\n",
      "index 800:       inaccuracy: 2.417%\n",
      "-----------------------------------------------------------------\n",
      "target 0.8450299930769389,    prediction: 0.9134461283683777\n",
      "index 850:       inaccuracy: 8.096%\n",
      "-----------------------------------------------------------------\n",
      "target 0.6449105355291658,    prediction: 0.7004610300064087\n",
      "index 900:       inaccuracy: 8.614%\n",
      "-----------------------------------------------------------------\n",
      "target 2.3785363605610605,    prediction: 2.1696436405181885\n",
      "index 950:       inaccuracy: 8.782%\n",
      "-----------------------------------------------------------------\n",
      "target 2.1197779188374457,    prediction: 1.9815146923065186\n",
      "index 1000:       inaccuracy: 6.523%\n",
      "-----------------------------------------------------------------\n",
      "target 0.6370126142951271,    prediction: 0.6148393750190735\n",
      "index 1050:       inaccuracy: 3.481%\n",
      "-----------------------------------------------------------------\n",
      "target 1.0069479050603973,    prediction: 0.9817723035812378\n",
      "index 1100:       inaccuracy: 2.5%\n",
      "-----------------------------------------------------------------\n",
      "target 0.4853191629107244,    prediction: 0.43706783652305603\n",
      "index 1150:       inaccuracy: 9.942%\n",
      "-----------------------------------------------------------------\n",
      "target 0.7425697043330741,    prediction: 0.855473518371582\n",
      "index 1200:       inaccuracy: 15.204%\n",
      "-----------------------------------------------------------------\n",
      "target 0.8176414873284814,    prediction: 0.7634561061859131\n",
      "index 1250:       inaccuracy: 6.627%\n",
      "-----------------------------------------------------------------\n",
      "target 0.3387125039367611,    prediction: 0.38071244955062866\n",
      "index 1300:       inaccuracy: 12.4%\n",
      "-----------------------------------------------------------------\n",
      "target 0.7403387243407307,    prediction: 0.7080396413803101\n",
      "index 1350:       inaccuracy: 4.363%\n",
      "-----------------------------------------------------------------\n",
      "target 0.16368079093490878,    prediction: 0.28053295612335205\n",
      "index 1400:       inaccuracy: 71.39%\n",
      "-----------------------------------------------------------------\n",
      "target 0.37229658609548205,    prediction: 0.4458513557910919\n",
      "index 1450:       inaccuracy: 19.757%\n",
      "-----------------------------------------------------------------\n",
      "target 1.4966114200785308,    prediction: 1.3481738567352295\n",
      "index 1500:       inaccuracy: 9.918%\n",
      "-----------------------------------------------------------------\n",
      "target 0.8670830420885267,    prediction: 0.9647228121757507\n",
      "index 1550:       inaccuracy: 11.261%\n",
      "-----------------------------------------------------------------\n",
      "target 0.6084283552317948,    prediction: 0.5598616600036621\n",
      "index 1600:       inaccuracy: 7.982%\n",
      "-----------------------------------------------------------------\n",
      "target 0.4675861559695423,    prediction: 0.4630267322063446\n",
      "index 1650:       inaccuracy: 0.975%\n",
      "-----------------------------------------------------------------\n",
      "target 0.5459593287879365,    prediction: 0.5608282089233398\n",
      "index 1700:       inaccuracy: 2.723%\n",
      "-----------------------------------------------------------------\n",
      "target 0.5424061498842339,    prediction: 0.6346027851104736\n",
      "index 1750:       inaccuracy: 16.998%\n",
      "-----------------------------------------------------------------\n",
      "target 0.3542896219672006,    prediction: 0.337917685508728\n",
      "index 1800:       inaccuracy: 4.621%\n",
      "-----------------------------------------------------------------\n",
      "target 0.16784284892851123,    prediction: 0.2942991256713867\n",
      "index 1850:       inaccuracy: 75.342%\n",
      "-----------------------------------------------------------------\n",
      "target 0.5613087928506846,    prediction: 0.4602397680282593\n",
      "index 1900:       inaccuracy: 18.006%\n",
      "-----------------------------------------------------------------\n",
      "target 0.33517571947653246,    prediction: 0.38438862562179565\n",
      "index 1950:       inaccuracy: 14.683%\n",
      "-----------------------------------------------------------------\n",
      "target 0.2356600198488084,    prediction: 0.3016810119152069\n",
      "index 2000:       inaccuracy: 28.015%\n",
      "-----------------------------------------------------------------\n",
      "target 0.23612521116585505,    prediction: 0.33351930975914\n",
      "index 2050:       inaccuracy: 41.247%\n",
      "-----------------------------------------------------------------\n",
      "target 0.753816056551972,    prediction: 0.855473518371582\n",
      "index 2100:       inaccuracy: 13.486%\n",
      "-----------------------------------------------------------------\n",
      "target 2.1040862003827914,    prediction: 2.0010147094726562\n",
      "index 2150:       inaccuracy: 4.899%\n",
      "-----------------------------------------------------------------\n",
      "target 0.5705668336800228,    prediction: 0.5542473196983337\n",
      "index 2200:       inaccuracy: 2.86%\n",
      "-----------------------------------------------------------------\n",
      "target 0.5154232987131023,    prediction: 0.4082866907119751\n",
      "index 2250:       inaccuracy: 20.786%\n",
      "-----------------------------------------------------------------\n",
      "target 0.5292665776197497,    prediction: 0.6169569492340088\n",
      "index 2300:       inaccuracy: 16.568%\n",
      "-----------------------------------------------------------------\n",
      "target 0.3436156715876839,    prediction: 0.39081892371177673\n",
      "index 2350:       inaccuracy: 13.737%\n",
      "-----------------------------------------------------------------\n",
      "target 0.8849690103899229,    prediction: 0.855473518371582\n",
      "index 2400:       inaccuracy: 3.333%\n",
      "-----------------------------------------------------------------\n",
      "target 0.4926028561124996,    prediction: 0.502463161945343\n",
      "index 2450:       inaccuracy: 2.002%\n",
      "-----------------------------------------------------------------\n",
      "target 0.5676698675633798,    prediction: 0.5492576360702515\n",
      "index 2500:       inaccuracy: 3.243%\n",
      "-----------------------------------------------------------------\n"
     ]
    },
    {
     "name": "stdout",
     "output_type": "stream",
     "text": [
      "target 0.617423587783989,    prediction: 0.5906199812889099\n",
      "index 2550:       inaccuracy: 4.341%\n",
      "-----------------------------------------------------------------\n",
      "target 0.4946835411208935,    prediction: 0.5334507822990417\n",
      "index 2600:       inaccuracy: 7.837%\n",
      "-----------------------------------------------------------------\n",
      "target 15.050027973057151,    prediction: 5.86257266998291\n",
      "index 2650:       inaccuracy: 61.046%\n",
      "-----------------------------------------------------------------\n",
      "target 0.44610127781607867,    prediction: 0.505761981010437\n",
      "index 2700:       inaccuracy: 13.374%\n",
      "-----------------------------------------------------------------\n",
      "target 0.4358173330864417,    prediction: 0.3999174237251282\n",
      "index 2750:       inaccuracy: 8.237%\n",
      "-----------------------------------------------------------------\n",
      "target 0.7963927383852735,    prediction: 0.7361339330673218\n",
      "index 2800:       inaccuracy: 7.566%\n",
      "-----------------------------------------------------------------\n",
      "target 0.19184461147829682,    prediction: 0.26415520906448364\n",
      "index 2850:       inaccuracy: 37.692%\n",
      "-----------------------------------------------------------------\n",
      "target 1.5044380453873796,    prediction: 1.41156804561615\n",
      "index 2900:       inaccuracy: 6.173%\n",
      "-----------------------------------------------------------------\n",
      "target 1.0172795723982508,    prediction: 0.855473518371582\n",
      "index 2950:       inaccuracy: 15.906%\n",
      "-----------------------------------------------------------------\n",
      "target 0.5227657720823664,    prediction: 0.5650991797447205\n",
      "index 3000:       inaccuracy: 8.098%\n",
      "-----------------------------------------------------------------\n",
      "target 0.5127225638361727,    prediction: 0.38812166452407837\n",
      "index 3050:       inaccuracy: 24.302%\n",
      "-----------------------------------------------------------------\n",
      "target 1.4743747120285382,    prediction: 1.473644495010376\n",
      "index 3100:       inaccuracy: 0.05%\n",
      "-----------------------------------------------------------------\n",
      "target 5.525723503585133,    prediction: 5.859349250793457\n",
      "index 3150:       inaccuracy: 6.038%\n",
      "-----------------------------------------------------------------\n",
      "target 1.1661403769843035,    prediction: 0.9911819100379944\n",
      "index 3200:       inaccuracy: 15.003%\n",
      "-----------------------------------------------------------------\n",
      "target 0.4491092946929517,    prediction: 0.47813844680786133\n",
      "index 3250:       inaccuracy: 6.464%\n",
      "-----------------------------------------------------------------\n",
      "target 0.3298666748888675,    prediction: 0.33646664023399353\n",
      "index 3300:       inaccuracy: 2.001%\n",
      "-----------------------------------------------------------------\n",
      "target 0.6152250416010504,    prediction: 0.6450387239456177\n",
      "index 3350:       inaccuracy: 4.846%\n",
      "-----------------------------------------------------------------\n",
      "target 0.30668559027475767,    prediction: 0.36491212248802185\n",
      "index 3400:       inaccuracy: 18.986%\n",
      "-----------------------------------------------------------------\n",
      "target 1.1082663104458568,    prediction: 0.941615641117096\n",
      "index 3450:       inaccuracy: 15.037%\n",
      "-----------------------------------------------------------------\n",
      "target 1.9629345075648668,    prediction: 2.099274158477783\n",
      "index 3500:       inaccuracy: 6.946%\n",
      "-----------------------------------------------------------------\n",
      "target 0.3798673255177495,    prediction: 0.44983959197998047\n",
      "index 3550:       inaccuracy: 18.42%\n",
      "-----------------------------------------------------------------\n",
      "target 0.7666568561080324,    prediction: 0.6608678102493286\n",
      "index 3600:       inaccuracy: 13.799%\n",
      "-----------------------------------------------------------------\n",
      "target 0.8019058394253737,    prediction: 0.7373554706573486\n",
      "index 3650:       inaccuracy: 8.05%\n",
      "-----------------------------------------------------------------\n",
      "target 4.2688060583816005,    prediction: 3.3947908878326416\n",
      "index 3700:       inaccuracy: 20.474%\n",
      "-----------------------------------------------------------------\n",
      "target 0.6769212700172016,    prediction: 0.5562717914581299\n",
      "index 3750:       inaccuracy: 17.823%\n",
      "-----------------------------------------------------------------\n",
      "target 0.6259502716929625,    prediction: 0.6005789041519165\n",
      "index 3800:       inaccuracy: 4.053%\n",
      "-----------------------------------------------------------------\n",
      "target 0.4610752182162484,    prediction: 0.44660484790802\n",
      "index 3850:       inaccuracy: 3.138%\n",
      "-----------------------------------------------------------------\n",
      "target 1.2071194958844909,    prediction: 1.0236499309539795\n",
      "index 3900:       inaccuracy: 15.199%\n",
      "-----------------------------------------------------------------\n",
      "target 0.5761859571064624,    prediction: 0.5077053308486938\n",
      "index 3950:       inaccuracy: 11.885%\n",
      "-----------------------------------------------------------------\n",
      "target 1.4182811203796115,    prediction: 1.3416953086853027\n",
      "index 4000:       inaccuracy: 5.4%\n",
      "-----------------------------------------------------------------\n",
      "target 1.4474222277252842,    prediction: 1.432901382446289\n",
      "index 4050:       inaccuracy: 1.003%\n",
      "-----------------------------------------------------------------\n",
      "target 0.39974778219057916,    prediction: 0.5131387114524841\n",
      "index 4100:       inaccuracy: 28.366%\n",
      "-----------------------------------------------------------------\n",
      "target 0.6875980809231638,    prediction: 0.6033080816268921\n",
      "index 4150:       inaccuracy: 12.259%\n",
      "-----------------------------------------------------------------\n",
      "target 0.5430187519162036,    prediction: 0.564411461353302\n",
      "index 4200:       inaccuracy: 3.94%\n",
      "-----------------------------------------------------------------\n",
      "target 5.993638763980596,    prediction: 5.86257266998291\n",
      "index 4250:       inaccuracy: 2.187%\n",
      "-----------------------------------------------------------------\n",
      "target 0.699056363543864,    prediction: 0.7037037014961243\n",
      "index 4300:       inaccuracy: 0.665%\n",
      "-----------------------------------------------------------------\n",
      "target 1.5890695944824877,    prediction: 1.1787889003753662\n",
      "index 4350:       inaccuracy: 25.819%\n",
      "-----------------------------------------------------------------\n",
      "target 0.4030737455988809,    prediction: 0.35396134853363037\n",
      "index 4400:       inaccuracy: 12.184%\n",
      "-----------------------------------------------------------------\n",
      "target 0.37962280379540686,    prediction: 0.4177813231945038\n",
      "index 4450:       inaccuracy: 10.052%\n",
      "-----------------------------------------------------------------\n",
      "target 0.708500479659051,    prediction: 0.5870001316070557\n",
      "index 4500:       inaccuracy: 17.149%\n",
      "-----------------------------------------------------------------\n",
      "target 0.2034260761517989,    prediction: 0.2975102663040161\n",
      "index 4550:       inaccuracy: 46.25%\n",
      "-----------------------------------------------------------------\n",
      "target 0.25233895860526606,    prediction: 0.329825222492218\n",
      "index 4600:       inaccuracy: 30.707%\n",
      "-----------------------------------------------------------------\n",
      "target 1.5053495127580352,    prediction: 1.739452838897705\n",
      "index 4650:       inaccuracy: 15.551%\n",
      "-----------------------------------------------------------------\n",
      "target 0.8944761863743689,    prediction: 0.855473518371582\n",
      "index 4700:       inaccuracy: 4.36%\n",
      "-----------------------------------------------------------------\n",
      "target 0.7431100542778996,    prediction: 0.7281032800674438\n",
      "index 4750:       inaccuracy: 2.019%\n",
      "-----------------------------------------------------------------\n",
      "target 1.4202698340813833,    prediction: 1.1573688983917236\n",
      "index 4800:       inaccuracy: 18.511%\n",
      "-----------------------------------------------------------------\n",
      "target 0.9225667382409535,    prediction: 0.8762494921684265\n",
      "index 4850:       inaccuracy: 5.02%\n",
      "-----------------------------------------------------------------\n",
      "target 0.8694009727877889,    prediction: 0.8833438158035278\n",
      "index 4900:       inaccuracy: 1.604%\n",
      "-----------------------------------------------------------------\n",
      "target 1.3046779073851689,    prediction: 1.2317001819610596\n",
      "index 4950:       inaccuracy: 5.594%\n",
      "-----------------------------------------------------------------\n",
      "target 0.5329907817662917,    prediction: 0.6499422192573547\n",
      "index 5000:       inaccuracy: 21.942%\n",
      "-----------------------------------------------------------------\n",
      "target 1.760586962729957,    prediction: 1.8019359111785889\n",
      "index 5050:       inaccuracy: 2.349%\n",
      "-----------------------------------------------------------------\n"
     ]
    },
    {
     "name": "stdout",
     "output_type": "stream",
     "text": [
      "target 0.7958680293702163,    prediction: 0.7258882522583008\n",
      "index 5100:       inaccuracy: 8.793%\n",
      "-----------------------------------------------------------------\n",
      "target 0.2960613489965423,    prediction: 0.31897324323654175\n",
      "index 5150:       inaccuracy: 7.739%\n",
      "-----------------------------------------------------------------\n",
      "target 2.0661064872272528,    prediction: 2.0145788192749023\n",
      "index 5200:       inaccuracy: 2.494%\n",
      "-----------------------------------------------------------------\n",
      "target 0.9077696090735978,    prediction: 0.9143128991127014\n",
      "index 5250:       inaccuracy: 0.721%\n",
      "-----------------------------------------------------------------\n",
      "target 0.7613515328800387,    prediction: 0.8366528749465942\n",
      "index 5300:       inaccuracy: 9.89%\n",
      "-----------------------------------------------------------------\n",
      "target 0.5556080680662466,    prediction: 0.5270494818687439\n",
      "index 5350:       inaccuracy: 5.14%\n",
      "-----------------------------------------------------------------\n",
      "target 0.69083949853078,    prediction: 0.722740113735199\n",
      "index 5400:       inaccuracy: 4.618%\n",
      "-----------------------------------------------------------------\n",
      "target 0.36531222443849226,    prediction: 0.42328229546546936\n",
      "index 5450:       inaccuracy: 15.869%\n",
      "-----------------------------------------------------------------\n",
      "target 0.9052738397133842,    prediction: 0.855473518371582\n",
      "index 5500:       inaccuracy: 5.501%\n",
      "-----------------------------------------------------------------\n",
      "target 0.2736447436819652,    prediction: 0.3329676687717438\n",
      "index 5550:       inaccuracy: 21.679%\n",
      "-----------------------------------------------------------------\n",
      "target 0.7298890708190595,    prediction: 0.5417342782020569\n",
      "index 5600:       inaccuracy: 25.779%\n",
      "-----------------------------------------------------------------\n",
      "target 5.771254699235083,    prediction: 5.862571716308594\n",
      "index 5650:       inaccuracy: 1.582%\n",
      "-----------------------------------------------------------------\n",
      "target 0.4062757144172342,    prediction: 0.4283083975315094\n",
      "index 5700:       inaccuracy: 5.423%\n",
      "-----------------------------------------------------------------\n",
      "target 1.2978751544695923,    prediction: 1.3500092029571533\n",
      "index 5750:       inaccuracy: 4.017%\n",
      "-----------------------------------------------------------------\n",
      "target 0.7803025746204045,    prediction: 0.7457011938095093\n",
      "index 5800:       inaccuracy: 4.434%\n",
      "-----------------------------------------------------------------\n",
      "target 0.7453472833834281,    prediction: 0.7078580260276794\n",
      "index 5850:       inaccuracy: 5.03%\n",
      "-----------------------------------------------------------------\n",
      "target 0.7450805806216796,    prediction: 0.8214582800865173\n",
      "index 5900:       inaccuracy: 10.251%\n",
      "-----------------------------------------------------------------\n",
      "target 0.2458592670670868,    prediction: 0.2995067834854126\n",
      "index 5950:       inaccuracy: 21.82%\n",
      "-----------------------------------------------------------------\n",
      "target 1.4344214653286094,    prediction: 1.2619237899780273\n",
      "index 6000:       inaccuracy: 12.026%\n",
      "-----------------------------------------------------------------\n",
      "target 0.39354808031624894,    prediction: 0.381680965423584\n",
      "index 6050:       inaccuracy: 3.015%\n",
      "-----------------------------------------------------------------\n",
      "target 0.4336259621806407,    prediction: 0.4645622968673706\n",
      "index 6100:       inaccuracy: 7.134%\n",
      "-----------------------------------------------------------------\n",
      "target 0.8449008735272936,    prediction: 0.827751100063324\n",
      "index 6150:       inaccuracy: 2.03%\n",
      "-----------------------------------------------------------------\n",
      "target 1.010645520967415,    prediction: 0.9519941806793213\n",
      "index 6200:       inaccuracy: 5.803%\n",
      "-----------------------------------------------------------------\n",
      "target 4.130724373307258,    prediction: 2.8186733722686768\n",
      "index 6250:       inaccuracy: 31.763%\n",
      "-----------------------------------------------------------------\n",
      "target 0.26093708439166463,    prediction: 0.2939305901527405\n",
      "index 6300:       inaccuracy: 12.644%\n",
      "-----------------------------------------------------------------\n",
      "target 1.3905843206923987,    prediction: 1.196723461151123\n",
      "index 6350:       inaccuracy: 13.941%\n",
      "-----------------------------------------------------------------\n",
      "target 0.26704978100261484,    prediction: 0.3124978542327881\n",
      "index 6400:       inaccuracy: 17.019%\n",
      "-----------------------------------------------------------------\n",
      "target 0.5396935150254373,    prediction: 0.5183276534080505\n",
      "index 6450:       inaccuracy: 3.959%\n",
      "-----------------------------------------------------------------\n",
      "target 2.471479552087678,    prediction: 2.5345091819763184\n",
      "index 6500:       inaccuracy: 2.55%\n",
      "-----------------------------------------------------------------\n",
      "target 0.2589856468529648,    prediction: 0.29869526624679565\n",
      "index 6550:       inaccuracy: 15.333%\n",
      "-----------------------------------------------------------------\n",
      "target 0.7034039930643837,    prediction: 0.6035501956939697\n",
      "index 6600:       inaccuracy: 14.196%\n",
      "-----------------------------------------------------------------\n",
      "target 0.40839793518911105,    prediction: 0.5096287727355957\n",
      "index 6650:       inaccuracy: 24.787%\n",
      "-----------------------------------------------------------------\n",
      "target 0.2516207374100025,    prediction: 0.3345174193382263\n",
      "index 6700:       inaccuracy: 32.945%\n",
      "-----------------------------------------------------------------\n",
      "target 2.870738376006443,    prediction: 3.68255352973938\n",
      "index 6750:       inaccuracy: 28.279%\n",
      "-----------------------------------------------------------------\n",
      "target 0.5784954135830848,    prediction: 0.5456592440605164\n",
      "index 6800:       inaccuracy: 5.676%\n",
      "-----------------------------------------------------------------\n",
      "target 0.8475423357434322,    prediction: 0.952294111251831\n",
      "index 6850:       inaccuracy: 12.359%\n",
      "-----------------------------------------------------------------\n",
      "target 0.22242447646050548,    prediction: 0.27193883061408997\n",
      "index 6900:       inaccuracy: 22.261%\n",
      "-----------------------------------------------------------------\n",
      "target 0.1802404205297994,    prediction: 0.2710876166820526\n",
      "index 6950:       inaccuracy: 50.403%\n",
      "-----------------------------------------------------------------\n",
      "target 0.28416792249974787,    prediction: 0.30696848034858704\n",
      "index 7000:       inaccuracy: 8.024%\n",
      "-----------------------------------------------------------------\n",
      "target 0.5633181090345433,    prediction: 0.6109569072723389\n",
      "index 7050:       inaccuracy: 8.457%\n",
      "-----------------------------------------------------------------\n",
      "target 1.2038074242312122,    prediction: 1.3235623836517334\n",
      "index 7100:       inaccuracy: 9.948%\n",
      "-----------------------------------------------------------------\n",
      "target 0.7285651854260414,    prediction: 0.688738226890564\n",
      "index 7150:       inaccuracy: 5.466%\n",
      "-----------------------------------------------------------------\n",
      "target 0.3613316132632971,    prediction: 0.4068151116371155\n",
      "index 7200:       inaccuracy: 12.588%\n",
      "-----------------------------------------------------------------\n",
      "target 0.8030861770532423,    prediction: 0.5784025192260742\n",
      "index 7250:       inaccuracy: 27.978%\n",
      "-----------------------------------------------------------------\n",
      "target 1.1844420794861408,    prediction: 1.0425469875335693\n",
      "index 7300:       inaccuracy: 11.98%\n",
      "-----------------------------------------------------------------\n",
      "target 1.549603797439288,    prediction: 1.4703834056854248\n",
      "index 7350:       inaccuracy: 5.112%\n",
      "-----------------------------------------------------------------\n",
      "target 0.9200489377940105,    prediction: 0.8349077105522156\n",
      "index 7400:       inaccuracy: 9.254%\n",
      "-----------------------------------------------------------------\n",
      "target 0.8516235966432194,    prediction: 0.9350031614303589\n",
      "index 7450:       inaccuracy: 9.791%\n",
      "-----------------------------------------------------------------\n",
      "target 1.4030845873685727,    prediction: 1.4263057708740234\n",
      "index 7500:       inaccuracy: 1.655%\n",
      "-----------------------------------------------------------------\n",
      "target 0.8391279849255062,    prediction: 0.9072142839431763\n",
      "index 7550:       inaccuracy: 8.114%\n",
      "-----------------------------------------------------------------\n",
      "target 0.39158815944221664,    prediction: 0.3979211151599884\n",
      "index 7600:       inaccuracy: 1.617%\n",
      "-----------------------------------------------------------------\n",
      "target 0.5120004209681832,    prediction: 0.5147420167922974\n",
      "index 7650:       inaccuracy: 0.535%\n",
      "-----------------------------------------------------------------\n"
     ]
    },
    {
     "name": "stdout",
     "output_type": "stream",
     "text": [
      "target 0.46673936348340656,    prediction: 0.4215255379676819\n",
      "index 7700:       inaccuracy: 9.687%\n",
      "-----------------------------------------------------------------\n",
      "target 2.0719310510757762,    prediction: 2.088580369949341\n",
      "index 7750:       inaccuracy: 0.804%\n",
      "-----------------------------------------------------------------\n",
      "target 0.4171119666518242,    prediction: 0.49171000719070435\n",
      "index 7800:       inaccuracy: 17.884%\n",
      "-----------------------------------------------------------------\n",
      "target 1.2773336073867856,    prediction: 1.1915578842163086\n",
      "index 7850:       inaccuracy: 6.715%\n",
      "-----------------------------------------------------------------\n",
      "target 0.42287251669274883,    prediction: 0.42797788977622986\n",
      "index 7900:       inaccuracy: 1.207%\n",
      "-----------------------------------------------------------------\n"
     ]
    }
   ],
   "source": [
    "model.eval()\n",
    "errors = []\n",
    "for i in range(n_test):\n",
    "    targ = test_targets[i].item()\n",
    "    feat = test_features[i].float().view(1,1,138)\n",
    "    pred = model(feat).item()\n",
    "    inaccuracy = abs(1 - pred/targ) * 100\n",
    "    errors.append(inaccuracy)\n",
    "    if i%50 == 0:\n",
    "        print(f\"target {targ},    prediction: {pred}\\nindex {i}:       inaccuracy: {np.round(inaccuracy, 3)}%\")\n",
    "        print(\"-----------------------------------------------------------------\")"
   ]
  },
  {
   "cell_type": "code",
   "execution_count": 21,
   "id": "0a813b62",
   "metadata": {},
   "outputs": [
    {
     "name": "stdout",
     "output_type": "stream",
     "text": [
      "Average inaccuracy:  12.438\n"
     ]
    }
   ],
   "source": [
    "print(\"Average inaccuracy: \", np.round(sum(errors)/len(errors), 3))"
   ]
  },
  {
   "cell_type": "code",
   "execution_count": 22,
   "id": "1d3225f1",
   "metadata": {},
   "outputs": [],
   "source": [
    "torch.save(model, \"trained_FFNN_model_fb_media_pagerank_001.pt\")"
   ]
  },
  {
   "cell_type": "code",
   "execution_count": null,
   "id": "a9a1f937",
   "metadata": {},
   "outputs": [],
   "source": []
  }
 ],
 "metadata": {
  "kernelspec": {
   "display_name": "Python 3 (ipykernel)",
   "language": "python",
   "name": "python3"
  },
  "language_info": {
   "codemirror_mode": {
    "name": "ipython",
    "version": 3
   },
   "file_extension": ".py",
   "mimetype": "text/x-python",
   "name": "python",
   "nbconvert_exporter": "python",
   "pygments_lexer": "ipython3",
   "version": "3.8.3"
  }
 },
 "nbformat": 4,
 "nbformat_minor": 5
}
