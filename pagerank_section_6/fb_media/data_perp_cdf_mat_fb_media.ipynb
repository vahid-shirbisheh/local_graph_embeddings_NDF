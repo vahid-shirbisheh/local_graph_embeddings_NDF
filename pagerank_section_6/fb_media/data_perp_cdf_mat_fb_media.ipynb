{
 "cells": [
  {
   "cell_type": "code",
   "execution_count": 1,
   "id": "5c84b949",
   "metadata": {},
   "outputs": [],
   "source": [
    "from mygraph import MyGraph\n",
    "from helpers import *\n",
    "import pandas as pd"
   ]
  },
  {
   "cell_type": "markdown",
   "id": "5914cd27",
   "metadata": {},
   "source": [
    "# Importing Graph Data from CSV File"
   ]
  },
  {
   "cell_type": "code",
   "execution_count": 2,
   "id": "3ce28bb7",
   "metadata": {},
   "outputs": [
    {
     "data": {
      "text/html": [
       "<div>\n",
       "<style scoped>\n",
       "    .dataframe tbody tr th:only-of-type {\n",
       "        vertical-align: middle;\n",
       "    }\n",
       "\n",
       "    .dataframe tbody tr th {\n",
       "        vertical-align: top;\n",
       "    }\n",
       "\n",
       "    .dataframe thead th {\n",
       "        text-align: right;\n",
       "    }\n",
       "</style>\n",
       "<table border=\"1\" class=\"dataframe\">\n",
       "  <thead>\n",
       "    <tr style=\"text-align: right;\">\n",
       "      <th></th>\n",
       "      <th>0</th>\n",
       "      <th>9461</th>\n",
       "    </tr>\n",
       "  </thead>\n",
       "  <tbody>\n",
       "    <tr>\n",
       "      <th>0</th>\n",
       "      <td>0</td>\n",
       "      <td>13035</td>\n",
       "    </tr>\n",
       "    <tr>\n",
       "      <th>1</th>\n",
       "      <td>0</td>\n",
       "      <td>12979</td>\n",
       "    </tr>\n",
       "    <tr>\n",
       "      <th>2</th>\n",
       "      <td>0</td>\n",
       "      <td>24089</td>\n",
       "    </tr>\n",
       "  </tbody>\n",
       "</table>\n",
       "</div>"
      ],
      "text/plain": [
       "   0   9461\n",
       "0  0  13035\n",
       "1  0  12979\n",
       "2  0  24089"
      ]
     },
     "execution_count": 2,
     "metadata": {},
     "output_type": "execute_result"
    }
   ],
   "source": [
    "d = pd.read_csv(\"fb-pages-media.csv\")\n",
    "d.head(3)"
   ]
  },
  {
   "cell_type": "code",
   "execution_count": 3,
   "id": "82d5f76d",
   "metadata": {},
   "outputs": [],
   "source": [
    "edge_list = [(x,y) for [x,y] in d.values]\n",
    "myg = MyGraph()\n",
    "for i in range(27917): # Creating 27917 nodes in the ordinary order\n",
    "    myg.add_vertex(i)\n",
    "myg.from_edge_list(edge_list) # Constructing the graph using the list of its edges"
   ]
  },
  {
   "cell_type": "markdown",
   "id": "28546bd5",
   "metadata": {},
   "source": [
    "# The order 6 CDF matrix representation"
   ]
  },
  {
   "cell_type": "code",
   "execution_count": 4,
   "id": "57dd76a5",
   "metadata": {},
   "outputs": [
    {
     "data": {
      "text/plain": [
       "[1,\n",
       " 2,\n",
       " 3,\n",
       " 4,\n",
       " 6,\n",
       " 8,\n",
       " 11,\n",
       " 15,\n",
       " 21,\n",
       " 29,\n",
       " 39,\n",
       " 52,\n",
       " 69,\n",
       " 92,\n",
       " 122,\n",
       " 161,\n",
       " 212,\n",
       " 278,\n",
       " 348,\n",
       " 418,\n",
       " 488,\n",
       " 558,\n",
       " 628]"
      ]
     },
     "execution_count": 4,
     "metadata": {},
     "output_type": "execute_result"
    }
   ],
   "source": [
    "sp_1 = myg.starting_points(ratio=1.3, max_length=70, starting_length=1)\n",
    "sp_1"
   ]
  },
  {
   "cell_type": "code",
   "execution_count": 5,
   "id": "268a44f1",
   "metadata": {},
   "outputs": [
    {
     "name": "stdout",
     "output_type": "stream",
     "text": [
      "Wall time: 1h 13min 32s\n"
     ]
    },
    {
     "data": {
      "text/plain": [
       "array([[0.00000e+00, 0.00000e+00, 2.85714e-01, 1.42857e-01, 4.28571e-01,\n",
       "        0.00000e+00, 0.00000e+00, 0.00000e+00, 0.00000e+00, 0.00000e+00,\n",
       "        0.00000e+00, 0.00000e+00, 0.00000e+00, 1.42857e-01, 0.00000e+00,\n",
       "        0.00000e+00, 0.00000e+00, 0.00000e+00, 0.00000e+00, 0.00000e+00,\n",
       "        0.00000e+00, 0.00000e+00, 0.00000e+00],\n",
       "       [1.76990e-02, 5.30970e-02, 8.85000e-03, 1.06195e-01, 1.23894e-01,\n",
       "        7.07960e-02, 7.96460e-02, 8.84960e-02, 7.96460e-02, 3.53980e-02,\n",
       "        1.23894e-01, 7.07960e-02, 3.53980e-02, 1.76990e-02, 2.65490e-02,\n",
       "        2.65490e-02, 1.76990e-02, 0.00000e+00, 8.85000e-03, 0.00000e+00,\n",
       "        0.00000e+00, 8.85000e-03, 0.00000e+00],\n",
       "       [7.62600e-03, 1.62470e-02, 2.12200e-02, 4.01190e-02, 4.60880e-02,\n",
       "        7.02920e-02, 7.82490e-02, 1.14058e-01, 1.36273e-01, 1.32626e-01,\n",
       "        1.12069e-01, 8.02390e-02, 6.36600e-02, 3.64720e-02, 2.32100e-02,\n",
       "        8.28900e-03, 5.96800e-03, 2.32100e-03, 9.95000e-04, 2.32100e-03,\n",
       "        3.32000e-04, 6.63000e-04, 6.63000e-04],\n",
       "       [2.55220e-02, 4.49500e-02, 5.19330e-02, 1.11104e-01, 1.11802e-01,\n",
       "        1.40436e-01, 1.40055e-01, 1.35801e-01, 1.02660e-01, 6.76780e-02,\n",
       "        3.98700e-02, 1.68880e-02, 7.61900e-03, 2.79300e-03, 6.98000e-04,\n",
       "        1.27000e-04, 6.30000e-05, 0.00000e+00, 0.00000e+00, 0.00000e+00,\n",
       "        0.00000e+00, 0.00000e+00, 0.00000e+00],\n",
       "       [1.39146e-01, 1.49371e-01, 1.35692e-01, 1.99254e-01, 1.34724e-01,\n",
       "        1.14550e-01, 6.39770e-02, 3.78610e-02, 1.64430e-02, 5.80400e-03,\n",
       "        2.62500e-03, 5.53000e-04, 0.00000e+00, 0.00000e+00, 0.00000e+00,\n",
       "        0.00000e+00, 0.00000e+00, 0.00000e+00, 0.00000e+00, 0.00000e+00,\n",
       "        0.00000e+00, 0.00000e+00, 0.00000e+00],\n",
       "       [3.65294e-01, 2.18096e-01, 1.55300e-01, 1.56651e-01, 6.68470e-02,\n",
       "        2.70090e-02, 6.75200e-03, 2.70100e-03, 1.35000e-03, 0.00000e+00,\n",
       "        0.00000e+00, 0.00000e+00, 0.00000e+00, 0.00000e+00, 0.00000e+00,\n",
       "        0.00000e+00, 0.00000e+00, 0.00000e+00, 0.00000e+00, 0.00000e+00,\n",
       "        0.00000e+00, 0.00000e+00, 0.00000e+00]])"
      ]
     },
     "execution_count": 5,
     "metadata": {},
     "output_type": "execute_result"
    }
   ],
   "source": [
    "%%time\n",
    "# producing the order 6 CDF matrix rep. of nodes of the garph w.r.t. the starting points sp_1:\n",
    "mats_1 = CDF_matrix_rep(myg, starting_points=sp_1, radius=6, raw=False, decimals=6)\n",
    "mats_1[0]"
   ]
  },
  {
   "cell_type": "code",
   "execution_count": 6,
   "id": "ef16b893",
   "metadata": {},
   "outputs": [
    {
     "data": {
      "text/plain": [
       "(27917, 6, 23)"
      ]
     },
     "execution_count": 6,
     "metadata": {},
     "output_type": "execute_result"
    }
   ],
   "source": [
    "mats_1.shape"
   ]
  },
  {
   "cell_type": "code",
   "execution_count": 7,
   "id": "8ae88374",
   "metadata": {},
   "outputs": [],
   "source": [
    "np.save(\"fb_media_pages_CDF_matrix_r1_3_sta1_max70_rad6.npy\", mats_1, allow_pickle=False, fix_imports=True)"
   ]
  }
 ],
 "metadata": {
  "kernelspec": {
   "display_name": "Python 3 (ipykernel)",
   "language": "python",
   "name": "python3"
  },
  "language_info": {
   "codemirror_mode": {
    "name": "ipython",
    "version": 3
   },
   "file_extension": ".py",
   "mimetype": "text/x-python",
   "name": "python",
   "nbconvert_exporter": "python",
   "pygments_lexer": "ipython3",
   "version": "3.8.3"
  }
 },
 "nbformat": 4,
 "nbformat_minor": 5
}
