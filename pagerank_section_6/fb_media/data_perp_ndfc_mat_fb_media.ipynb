{
 "cells": [
  {
   "cell_type": "code",
   "execution_count": 1,
   "id": "5c84b949",
   "metadata": {},
   "outputs": [],
   "source": [
    "from mygraph import MyGraph\n",
    "from helpers import *\n",
    "import pandas as pd"
   ]
  },
  {
   "cell_type": "markdown",
   "id": "5914cd27",
   "metadata": {},
   "source": [
    "# Importing Graph Data from CSV File"
   ]
  },
  {
   "cell_type": "code",
   "execution_count": 2,
   "id": "3ce28bb7",
   "metadata": {},
   "outputs": [
    {
     "data": {
      "text/html": [
       "<div>\n",
       "<style scoped>\n",
       "    .dataframe tbody tr th:only-of-type {\n",
       "        vertical-align: middle;\n",
       "    }\n",
       "\n",
       "    .dataframe tbody tr th {\n",
       "        vertical-align: top;\n",
       "    }\n",
       "\n",
       "    .dataframe thead th {\n",
       "        text-align: right;\n",
       "    }\n",
       "</style>\n",
       "<table border=\"1\" class=\"dataframe\">\n",
       "  <thead>\n",
       "    <tr style=\"text-align: right;\">\n",
       "      <th></th>\n",
       "      <th>0</th>\n",
       "      <th>9461</th>\n",
       "    </tr>\n",
       "  </thead>\n",
       "  <tbody>\n",
       "    <tr>\n",
       "      <th>0</th>\n",
       "      <td>0</td>\n",
       "      <td>13035</td>\n",
       "    </tr>\n",
       "    <tr>\n",
       "      <th>1</th>\n",
       "      <td>0</td>\n",
       "      <td>12979</td>\n",
       "    </tr>\n",
       "    <tr>\n",
       "      <th>2</th>\n",
       "      <td>0</td>\n",
       "      <td>24089</td>\n",
       "    </tr>\n",
       "  </tbody>\n",
       "</table>\n",
       "</div>"
      ],
      "text/plain": [
       "   0   9461\n",
       "0  0  13035\n",
       "1  0  12979\n",
       "2  0  24089"
      ]
     },
     "execution_count": 2,
     "metadata": {},
     "output_type": "execute_result"
    }
   ],
   "source": [
    "d = pd.read_csv(\"fb-pages-media.csv\")\n",
    "d.head(3)"
   ]
  },
  {
   "cell_type": "code",
   "execution_count": 5,
   "id": "82d5f76d",
   "metadata": {},
   "outputs": [],
   "source": [
    "edge_list = [(x,y) for [x,y] in d.values]\n",
    "myg = MyGraph()\n",
    "for i in range(27917): # Creating 27917 nodes in the ordinary order\n",
    "    myg.add_vertex(i)\n",
    "myg.from_edge_list(edge_list) # Constructing the graph using the list of its edges"
   ]
  },
  {
   "cell_type": "markdown",
   "id": "28546bd5",
   "metadata": {},
   "source": [
    "# The order 5 NDFC matrix representation"
   ]
  },
  {
   "cell_type": "code",
   "execution_count": 7,
   "id": "57dd76a5",
   "metadata": {},
   "outputs": [
    {
     "data": {
      "text/plain": [
       "[1,\n",
       " 2,\n",
       " 3,\n",
       " 4,\n",
       " 6,\n",
       " 8,\n",
       " 11,\n",
       " 15,\n",
       " 21,\n",
       " 29,\n",
       " 39,\n",
       " 52,\n",
       " 69,\n",
       " 92,\n",
       " 122,\n",
       " 161,\n",
       " 212,\n",
       " 278,\n",
       " 348,\n",
       " 418,\n",
       " 488,\n",
       " 558,\n",
       " 628]"
      ]
     },
     "execution_count": 7,
     "metadata": {},
     "output_type": "execute_result"
    }
   ],
   "source": [
    "sp_1 = myg.starting_points(ratio=1.3, max_length=70, starting_length=1)\n",
    "sp_1"
   ]
  },
  {
   "cell_type": "code",
   "execution_count": 8,
   "id": "a7b2f92a",
   "metadata": {},
   "outputs": [
    {
     "name": "stdout",
     "output_type": "stream",
     "text": [
      "Wall time: 1h 14min 20s\n"
     ]
    },
    {
     "data": {
      "text/plain": [
       "array([[0.000000e+00, 0.000000e+00, 2.000000e+00, 1.000000e+00,\n",
       "        3.000000e+00, 0.000000e+00, 0.000000e+00, 0.000000e+00,\n",
       "        0.000000e+00, 0.000000e+00, 0.000000e+00, 0.000000e+00,\n",
       "        0.000000e+00, 1.000000e+00, 0.000000e+00, 0.000000e+00,\n",
       "        0.000000e+00, 0.000000e+00, 0.000000e+00, 0.000000e+00,\n",
       "        0.000000e+00, 0.000000e+00, 0.000000e+00],\n",
       "       [2.857140e-01, 8.571430e-01, 7.142860e-01, 1.714286e+00,\n",
       "        3.428571e+00, 1.142857e+00, 1.285714e+00, 1.428571e+00,\n",
       "        1.428571e+00, 5.714290e-01, 2.000000e+00, 1.142857e+00,\n",
       "        5.714290e-01, 2.857140e-01, 5.714290e-01, 4.285710e-01,\n",
       "        2.857140e-01, 0.000000e+00, 1.428570e-01, 0.000000e+00,\n",
       "        0.000000e+00, 1.428570e-01, 0.000000e+00],\n",
       "       [2.035400e-01, 4.867260e-01, 6.194690e-01, 1.460177e+00,\n",
       "        1.663717e+00, 2.283186e+00, 2.654867e+00, 3.893805e+00,\n",
       "        4.389381e+00, 4.752212e+00, 4.345133e+00, 3.646018e+00,\n",
       "        3.548673e+00, 3.194690e+00, 1.964602e+00, 8.407080e-01,\n",
       "        9.557520e-01, 5.044250e-01, 2.477880e-01, 3.716810e-01,\n",
       "        9.734500e-02, 2.477880e-01, 1.858410e-01],\n",
       "       [1.332890e-01, 2.891250e-01, 3.895890e-01, 1.016247e+00,\n",
       "        1.325597e+00, 2.104443e+00, 2.851127e+00, 3.936340e+00,\n",
       "        4.800398e+00, 5.021552e+00, 4.835544e+00, 3.522546e+00,\n",
       "        2.940650e+00, 2.068634e+00, 1.551724e+00, 8.163130e-01,\n",
       "        7.374010e-01, 2.934350e-01, 2.629310e-01, 3.726790e-01,\n",
       "        6.399200e-02, 2.692310e-01, 1.710880e-01],\n",
       "       [6.393200e-02, 1.345950e-01, 2.003050e-01, 5.189510e-01,\n",
       "        6.506890e-01, 1.064694e+00, 1.364866e+00, 1.834741e+00,\n",
       "        2.010349e+00, 1.922100e+00, 1.664974e+00, 1.147673e+00,\n",
       "        9.441310e-01, 5.995810e-01, 4.180050e-01, 1.846870e-01,\n",
       "        1.787820e-01, 7.459800e-02, 4.564800e-02, 1.258970e-01,\n",
       "        1.980800e-02, 5.548900e-02, 5.085400e-02],\n",
       "       [7.475500e-02, 1.361060e-01, 1.996680e-01, 4.982730e-01,\n",
       "        5.733040e-01, 7.574960e-01, 7.476860e-01, 8.434430e-01,\n",
       "        7.099630e-01, 5.072540e-01, 3.911840e-01, 1.819810e-01,\n",
       "        8.263100e-02, 4.615200e-02, 1.547600e-02, 9.670000e-04,\n",
       "        2.760000e-04, 0.000000e+00, 0.000000e+00, 0.000000e+00,\n",
       "        0.000000e+00, 0.000000e+00, 0.000000e+00]])"
      ]
     },
     "execution_count": 8,
     "metadata": {},
     "output_type": "execute_result"
    }
   ],
   "source": [
    "%%time\n",
    "# producing the order 5 NDFC matrix rep. of nodes of the garph w.r.t. the starting points sp_1:\n",
    "mats_1 = NDFC_matrix_rep(myg, starting_points=sp_1, radius=5, decimals=6)\n",
    "mats_1[0]"
   ]
  },
  {
   "cell_type": "code",
   "execution_count": 9,
   "id": "81e14941",
   "metadata": {},
   "outputs": [
    {
     "data": {
      "text/plain": [
       "(27917, 6, 23)"
      ]
     },
     "execution_count": 9,
     "metadata": {},
     "output_type": "execute_result"
    }
   ],
   "source": [
    "mats_1.shape"
   ]
  },
  {
   "cell_type": "code",
   "execution_count": 10,
   "id": "1cbe01aa",
   "metadata": {},
   "outputs": [],
   "source": [
    "np.save(\"fb_media_pages_NDFC_matrix_r1_3_sta1_max70_rad5.npy\", mats_1, allow_pickle=False, fix_imports=True)"
   ]
  },
  {
   "cell_type": "code",
   "execution_count": null,
   "id": "81ae01e8",
   "metadata": {},
   "outputs": [],
   "source": []
  }
 ],
 "metadata": {
  "kernelspec": {
   "display_name": "Python 3 (ipykernel)",
   "language": "python",
   "name": "python3"
  },
  "language_info": {
   "codemirror_mode": {
    "name": "ipython",
    "version": 3
   },
   "file_extension": ".py",
   "mimetype": "text/x-python",
   "name": "python",
   "nbconvert_exporter": "python",
   "pygments_lexer": "ipython3",
   "version": "3.8.3"
  }
 },
 "nbformat": 4,
 "nbformat_minor": 5
}
