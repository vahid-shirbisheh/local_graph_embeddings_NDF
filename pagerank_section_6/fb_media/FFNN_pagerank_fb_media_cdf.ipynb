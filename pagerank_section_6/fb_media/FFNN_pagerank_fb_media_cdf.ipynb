{
 "cells": [
  {
   "cell_type": "markdown",
   "id": "31b500b5",
   "metadata": {},
   "source": [
    "# The feedforward neural network model for learning PageRank based on the order 6 CDF matrix representation"
   ]
  },
  {
   "cell_type": "code",
   "execution_count": 1,
   "id": "a9854c00",
   "metadata": {},
   "outputs": [],
   "source": [
    "import time\n",
    "from mygraph import MyGraph\n",
    "from helpers import *"
   ]
  },
  {
   "cell_type": "code",
   "execution_count": 2,
   "id": "c8783184",
   "metadata": {},
   "outputs": [],
   "source": [
    "import torch\n",
    "import torch.nn as nn\n",
    "import torch.optim as optim\n",
    "import torch.nn.functional as F"
   ]
  },
  {
   "cell_type": "markdown",
   "id": "cfdc752f",
   "metadata": {},
   "source": [
    "## Loading the dataset from numpy files"
   ]
  },
  {
   "cell_type": "code",
   "execution_count": 3,
   "id": "0a2177fd",
   "metadata": {},
   "outputs": [
    {
     "data": {
      "text/plain": [
       "array([4.26055693e-05])"
      ]
     },
     "execution_count": 3,
     "metadata": {},
     "output_type": "execute_result"
    }
   ],
   "source": [
    "# Pageank as the target or label data\n",
    "target_pagerank = np.load(\"fb_media_pages_pageranks.npy\", mmap_mode=None, allow_pickle=False, fix_imports=True, encoding='ASCII')\n",
    "target_pagerank[0]"
   ]
  },
  {
   "cell_type": "code",
   "execution_count": 4,
   "id": "23f24350",
   "metadata": {},
   "outputs": [
    {
     "data": {
      "text/plain": [
       "array([1.02253366])"
      ]
     },
     "execution_count": 4,
     "metadata": {},
     "output_type": "execute_result"
    }
   ],
   "source": [
    "# scaling the PageRank data\n",
    "target_pagerank = target_pagerank * 24000\n",
    "target_pagerank[0]"
   ]
  },
  {
   "cell_type": "code",
   "execution_count": 5,
   "id": "cec6039f",
   "metadata": {},
   "outputs": [
    {
     "data": {
      "text/plain": [
       "(27917, 1)"
      ]
     },
     "execution_count": 5,
     "metadata": {},
     "output_type": "execute_result"
    }
   ],
   "source": [
    "target_pagerank.shape"
   ]
  },
  {
   "cell_type": "code",
   "execution_count": 6,
   "id": "613797d7",
   "metadata": {},
   "outputs": [],
   "source": [
    "# the order 6 CDF matrix as the feature set\n",
    "matrix_1 = np.load(\"fb_media_pages_CDF_matrix_r1_3_sta1_max70_rad6.npy\", mmap_mode=None, allow_pickle=False, fix_imports=True, encoding='ASCII')"
   ]
  },
  {
   "cell_type": "code",
   "execution_count": 7,
   "id": "94c81831",
   "metadata": {},
   "outputs": [
    {
     "data": {
      "text/plain": [
       "(27917, 6, 23)"
      ]
     },
     "execution_count": 7,
     "metadata": {},
     "output_type": "execute_result"
    }
   ],
   "source": [
    "matrix_1.shape"
   ]
  },
  {
   "cell_type": "code",
   "execution_count": 8,
   "id": "ac052a5f",
   "metadata": {},
   "outputs": [
    {
     "data": {
      "text/plain": [
       "array([[0.00000e+00, 0.00000e+00, 0.00000e+00, 4.00000e-01, 4.00000e-01,\n",
       "        0.00000e+00, 2.00000e-01, 0.00000e+00, 0.00000e+00, 0.00000e+00,\n",
       "        0.00000e+00, 0.00000e+00, 0.00000e+00, 0.00000e+00, 0.00000e+00,\n",
       "        0.00000e+00, 0.00000e+00, 0.00000e+00, 0.00000e+00, 0.00000e+00,\n",
       "        0.00000e+00, 0.00000e+00, 0.00000e+00],\n",
       "       [2.50000e-01, 0.00000e+00, 8.33330e-02, 8.33330e-02, 0.00000e+00,\n",
       "        0.00000e+00, 8.33330e-02, 1.66667e-01, 1.66667e-01, 0.00000e+00,\n",
       "        8.33330e-02, 0.00000e+00, 0.00000e+00, 0.00000e+00, 0.00000e+00,\n",
       "        0.00000e+00, 8.33330e-02, 0.00000e+00, 0.00000e+00, 0.00000e+00,\n",
       "        0.00000e+00, 0.00000e+00, 0.00000e+00],\n",
       "       [3.52940e-02, 2.05880e-02, 1.17650e-02, 6.17650e-02, 9.41180e-02,\n",
       "        1.17647e-01, 1.17647e-01, 1.41176e-01, 1.55882e-01, 7.94120e-02,\n",
       "        4.70590e-02, 3.23530e-02, 2.64710e-02, 1.17650e-02, 1.47060e-02,\n",
       "        8.82400e-03, 1.17650e-02, 2.94100e-03, 0.00000e+00, 5.88200e-03,\n",
       "        0.00000e+00, 2.94100e-03, 0.00000e+00],\n",
       "       [1.59080e-02, 2.99670e-02, 3.34810e-02, 6.67780e-02, 7.54720e-02,\n",
       "        1.07473e-01, 1.10988e-01, 1.25046e-01, 1.18942e-01, 1.01554e-01,\n",
       "        8.25010e-02, 4.79100e-02, 3.81060e-02, 2.25680e-02, 1.29490e-02,\n",
       "        4.07000e-03, 2.59000e-03, 1.11000e-03, 7.40000e-04, 9.25000e-04,\n",
       "        1.85000e-04, 3.70000e-04, 3.70000e-04],\n",
       "       [3.75070e-02, 5.78470e-02, 6.73630e-02, 1.30621e-01, 1.20669e-01,\n",
       "        1.38521e-01, 1.26952e-01, 1.18679e-01, 8.70190e-02, 5.72870e-02,\n",
       "        3.27800e-02, 1.55500e-02, 6.28200e-03, 1.92800e-03, 5.60000e-04,\n",
       "        3.11000e-04, 1.24000e-04, 0.00000e+00, 0.00000e+00, 0.00000e+00,\n",
       "        0.00000e+00, 0.00000e+00, 0.00000e+00],\n",
       "       [1.95570e-01, 1.81135e-01, 1.40597e-01, 1.93000e-01, 1.14495e-01,\n",
       "        8.56240e-02, 4.62720e-02, 2.66960e-02, 1.18650e-02, 2.96600e-03,\n",
       "        1.78000e-03, 0.00000e+00, 0.00000e+00, 0.00000e+00, 0.00000e+00,\n",
       "        0.00000e+00, 0.00000e+00, 0.00000e+00, 0.00000e+00, 0.00000e+00,\n",
       "        0.00000e+00, 0.00000e+00, 0.00000e+00]])"
      ]
     },
     "execution_count": 8,
     "metadata": {},
     "output_type": "execute_result"
    }
   ],
   "source": [
    "matrix_1[111]"
   ]
  },
  {
   "cell_type": "code",
   "execution_count": 9,
   "id": "571e015b",
   "metadata": {},
   "outputs": [
    {
     "data": {
      "text/plain": [
       "(27917, 138)"
      ]
     },
     "execution_count": 9,
     "metadata": {},
     "output_type": "execute_result"
    }
   ],
   "source": [
    "matrix_1 = matrix_1.reshape(27917,-1)\n",
    "matrix_1.shape"
   ]
  },
  {
   "cell_type": "markdown",
   "id": "da03d5cb",
   "metadata": {},
   "source": [
    "# Converting the data into pytorch tenors"
   ]
  },
  {
   "cell_type": "code",
   "execution_count": 10,
   "id": "70a724b2",
   "metadata": {},
   "outputs": [
    {
     "data": {
      "text/plain": [
       "(torch.Size([27917, 138]), torch.Size([27917, 1]))"
      ]
     },
     "execution_count": 10,
     "metadata": {},
     "output_type": "execute_result"
    }
   ],
   "source": [
    "features = torch.from_numpy(matrix_1)\n",
    "targets = torch.from_numpy(target_pagerank)\n",
    "features.shape, targets.shape"
   ]
  },
  {
   "cell_type": "code",
   "execution_count": 11,
   "id": "b3cf09de",
   "metadata": {},
   "outputs": [
    {
     "data": {
      "text/plain": [
       "tensor([[1.0225],\n",
       "        [0.9398],\n",
       "        [0.8766],\n",
       "        ...,\n",
       "        [0.4565],\n",
       "        [0.9406],\n",
       "        [0.9156]], dtype=torch.float64, requires_grad=True)"
      ]
     },
     "execution_count": 11,
     "metadata": {},
     "output_type": "execute_result"
    }
   ],
   "source": [
    "# Activating the automatic gradient \n",
    "features.requires_grad_(True)\n",
    "targets.requires_grad_(True)"
   ]
  },
  {
   "cell_type": "code",
   "execution_count": 12,
   "id": "1ab8749e",
   "metadata": {},
   "outputs": [
    {
     "data": {
      "text/plain": [
       "(torch.Size([20000, 138]),\n",
       " torch.Size([7917, 138]),\n",
       " torch.Size([20000, 1]),\n",
       " torch.Size([7917, 1]))"
      ]
     },
     "execution_count": 12,
     "metadata": {},
     "output_type": "execute_result"
    }
   ],
   "source": [
    "# Shuffling and dividing the indecies\n",
    "n_samples = features.shape[0]\n",
    "n_test = 7917\n",
    "shuffled_ind = torch.randperm(n_samples)\n",
    "train_ind = shuffled_ind[:-n_test]\n",
    "test_ind = shuffled_ind[-n_test:]\n",
    "# Dividing features and targets into tain and test sets\n",
    "train_features = features[train_ind]\n",
    "test_features = features[test_ind]\n",
    "train_targets = targets[train_ind]\n",
    "test_targets = targets[test_ind]\n",
    "train_features.shape, test_features.shape, train_targets.shape, test_targets.shape"
   ]
  },
  {
   "cell_type": "markdown",
   "id": "4d960fdc",
   "metadata": {},
   "source": [
    "## A function for dividing train data into batches"
   ]
  },
  {
   "cell_type": "code",
   "execution_count": 13,
   "id": "a0515de8",
   "metadata": {},
   "outputs": [],
   "source": [
    "# dividing train_features and train_targets into batches\n",
    "def next_batch(train_features, train_targets, batch_size=100):\n",
    "    num_features = train_features.shape[0]\n",
    "    # Shuffling\n",
    "    shuffled_ind = torch.randperm(num_features)\n",
    "    shuffled_train_features = train_features[shuffled_ind]\n",
    "    shuffled_train_targets = train_targets[shuffled_ind]\n",
    "    # Dividing\n",
    "    i = 0\n",
    "    while i < num_features:\n",
    "        i += batch_size\n",
    "        yield (shuffled_train_features[i-batch_size:i], shuffled_train_targets[i-batch_size:i])\n",
    "    return"
   ]
  },
  {
   "cell_type": "markdown",
   "id": "d53422f6",
   "metadata": {},
   "source": [
    "## The feedforward neural network model"
   ]
  },
  {
   "cell_type": "code",
   "execution_count": 14,
   "id": "b8ef9f95",
   "metadata": {},
   "outputs": [],
   "source": [
    "# The Feedforward Neural Network \n",
    "class FFNN_model(nn.Module):\n",
    "    def __init__(self):\n",
    "        super().__init__()\n",
    "        num_features = features.shape[1]\n",
    "        self.fc1 = nn.Linear(num_features, 400)\n",
    "        self.fc2 = nn.Linear(400, 800)\n",
    "        self.fc3 = nn.Linear(800, 200)\n",
    "        self.fc4 = nn.Linear(200, 64)\n",
    "        self.fc5 = nn.Linear(64, 8)\n",
    "        self.fc6 = nn.Linear(8, 1)\n",
    "        self.dropout1 = nn.Dropout(0.4)\n",
    "        self.dropout2 = nn.Dropout(0.3)\n",
    "        self.dropout3 = nn.Dropout(0.5)\n",
    "    \n",
    "    def forward(self, X):\n",
    "        X = torch.tanh(self.fc1(X))\n",
    "        X = torch.relu(self.fc2(X))\n",
    "        X = self.dropout1(X)\n",
    "        X = torch.relu(self.fc3(X))\n",
    "        X = self.dropout3(X)\n",
    "        X = torch.relu(self.fc4(X))\n",
    "        X = self.dropout2(X)\n",
    "        X = torch.tanh(self.fc5(X))\n",
    "        return self.fc6(X)"
   ]
  },
  {
   "cell_type": "code",
   "execution_count": 15,
   "id": "dbd6afbe",
   "metadata": {},
   "outputs": [
    {
     "data": {
      "text/plain": [
       "FFNN_model(\n",
       "  (fc1): Linear(in_features=138, out_features=400, bias=True)\n",
       "  (fc2): Linear(in_features=400, out_features=800, bias=True)\n",
       "  (fc3): Linear(in_features=800, out_features=200, bias=True)\n",
       "  (fc4): Linear(in_features=200, out_features=64, bias=True)\n",
       "  (fc5): Linear(in_features=64, out_features=8, bias=True)\n",
       "  (fc6): Linear(in_features=8, out_features=1, bias=True)\n",
       "  (dropout1): Dropout(p=0.4, inplace=False)\n",
       "  (dropout2): Dropout(p=0.3, inplace=False)\n",
       "  (dropout3): Dropout(p=0.5, inplace=False)\n",
       ")"
      ]
     },
     "execution_count": 15,
     "metadata": {},
     "output_type": "execute_result"
    }
   ],
   "source": [
    "# Instantiation of the model\n",
    "torch.manual_seed(42)\n",
    "model = FFNN_model()\n",
    "model"
   ]
  },
  {
   "cell_type": "code",
   "execution_count": 16,
   "id": "9a867c25",
   "metadata": {},
   "outputs": [
    {
     "name": "stdout",
     "output_type": "stream",
     "text": [
      "55200\n",
      "400\n",
      "320000\n",
      "800\n",
      "160000\n",
      "200\n",
      "12800\n",
      "64\n",
      "512\n",
      "8\n",
      "8\n",
      "1\n",
      "----------------------\n",
      "Number of all parameters: \n",
      "549993\n"
     ]
    }
   ],
   "source": [
    "# Number of parameters\n",
    "num_para = 0\n",
    "for param in model.parameters():\n",
    "    print(param.numel())\n",
    "    num_para += param.numel()\n",
    "print(\"----------------------\")\n",
    "print(f'Number of all parameters: \\n{num_para}')"
   ]
  },
  {
   "cell_type": "code",
   "execution_count": 17,
   "id": "4f68fb57",
   "metadata": {},
   "outputs": [],
   "source": [
    "# Objective function and optimmizer\n",
    "criterion = nn.MSELoss()\n",
    "optimizer = optim.Adam(model.parameters(), lr=1e-3)\n",
    "# optimizer = optim.SGD(model.parameters(), lr=0.01, momentum=0.9)"
   ]
  },
  {
   "cell_type": "markdown",
   "id": "60d430bc",
   "metadata": {},
   "source": [
    "## Defining the Training Loop"
   ]
  },
  {
   "cell_type": "code",
   "execution_count": 18,
   "id": "3c9b4697",
   "metadata": {},
   "outputs": [],
   "source": [
    "def training_loop(n_epochs=1000,\n",
    "                  batch_size=100,\n",
    "                  optimizer=optimizer, \n",
    "                  model=model, \n",
    "                  loss_fn=criterion, \n",
    "                  train_features=train_features, \n",
    "                  test_features=test_features, \n",
    "                  train_targets=train_targets, \n",
    "                  test_targets=test_targets):\n",
    "    num_features = train_features.shape[0]\n",
    "    start_time = time.time()\n",
    "    all_train_loss, all_test_loss = np.zeros(n_epochs), np.zeros(n_epochs)\n",
    "    for epoch in range(1, n_epochs +1):\n",
    "        # Training: \n",
    "        epoch_losses = []\n",
    "        # looping through batches\n",
    "        for train_features, train_targets in next_batch(train_features=train_features, \n",
    "                                                        train_targets=train_targets, batch_size=batch_size): \n",
    "            train_preds = model(train_features.float())\n",
    "            train_loss = loss_fn(train_targets.float(), train_preds.float())\n",
    "            optimizer.zero_grad()\n",
    "            train_loss.backward(retain_graph=True)\n",
    "            optimizer.step()\n",
    "            \n",
    "            epoch_losses.append(train_loss.item())\n",
    "        average_epoch_loss = sum(epoch_losses)/len(epoch_losses)\n",
    "        \n",
    "        # Test:\n",
    "        with torch.no_grad():\n",
    "            test_preds = model(test_features.float())\n",
    "            test_loss = loss_fn(test_targets.float(), test_preds.float())\n",
    "        \n",
    "        all_train_loss[epoch - 1] = average_epoch_loss\n",
    "        all_test_loss[epoch - 1] = test_loss.item()\n",
    "        # Printing the result: \n",
    "        if epoch == 1 or epoch % 100 == 0:\n",
    "            print(f\"EPOCH: {epoch:{7}}\")\n",
    "            print(f\"MEAN TRAIN LOSS:   {average_epoch_loss:.11f},    TEST LOSS:   {test_loss.item():.11f}\")\n",
    "            print(\"-----------------------------------------\")\n",
    "    print(\"The total time = \", np.round(time.time() - start_time, 3), \" seconds!\")\n",
    "    return all_train_loss, all_test_loss"
   ]
  },
  {
   "cell_type": "markdown",
   "id": "02ab2601",
   "metadata": {},
   "source": [
    "# Training the model"
   ]
  },
  {
   "cell_type": "code",
   "execution_count": 19,
   "id": "0a9afbe6",
   "metadata": {
    "scrolled": false
   },
   "outputs": [
    {
     "name": "stdout",
     "output_type": "stream",
     "text": [
      "EPOCH:       1\n",
      "MEAN TRAIN LOSS:   1.06266401112,    TEST LOSS:   0.76792508364\n",
      "-----------------------------------------\n",
      "EPOCH:     100\n",
      "MEAN TRAIN LOSS:   0.48382532597,    TEST LOSS:   0.49373704195\n",
      "-----------------------------------------\n",
      "EPOCH:     200\n",
      "MEAN TRAIN LOSS:   0.33693018556,    TEST LOSS:   0.42955383658\n",
      "-----------------------------------------\n",
      "EPOCH:     300\n",
      "MEAN TRAIN LOSS:   0.25619801879,    TEST LOSS:   0.38823586702\n",
      "-----------------------------------------\n",
      "EPOCH:     400\n",
      "MEAN TRAIN LOSS:   0.20915637910,    TEST LOSS:   0.36380755901\n",
      "-----------------------------------------\n",
      "EPOCH:     500\n",
      "MEAN TRAIN LOSS:   0.16890974343,    TEST LOSS:   0.34813657403\n",
      "-----------------------------------------\n",
      "EPOCH:     600\n",
      "MEAN TRAIN LOSS:   0.13848783076,    TEST LOSS:   0.32267442346\n",
      "-----------------------------------------\n",
      "EPOCH:     700\n",
      "MEAN TRAIN LOSS:   0.11610569805,    TEST LOSS:   0.31220379472\n",
      "-----------------------------------------\n",
      "EPOCH:     800\n",
      "MEAN TRAIN LOSS:   0.09473061562,    TEST LOSS:   0.30195572972\n",
      "-----------------------------------------\n",
      "EPOCH:     900\n",
      "MEAN TRAIN LOSS:   0.08004351705,    TEST LOSS:   0.30247631669\n",
      "-----------------------------------------\n",
      "EPOCH:    1000\n",
      "MEAN TRAIN LOSS:   0.06646800786,    TEST LOSS:   0.28575825691\n",
      "-----------------------------------------\n",
      "EPOCH:    1100\n",
      "MEAN TRAIN LOSS:   0.06009690836,    TEST LOSS:   0.27847531438\n",
      "-----------------------------------------\n",
      "EPOCH:    1200\n",
      "MEAN TRAIN LOSS:   0.04733600840,    TEST LOSS:   0.27311900258\n",
      "-----------------------------------------\n",
      "EPOCH:    1300\n",
      "MEAN TRAIN LOSS:   0.04232623056,    TEST LOSS:   0.26608815789\n",
      "-----------------------------------------\n",
      "EPOCH:    1400\n",
      "MEAN TRAIN LOSS:   0.03267396986,    TEST LOSS:   0.26654997468\n",
      "-----------------------------------------\n",
      "EPOCH:    1500\n",
      "MEAN TRAIN LOSS:   0.02789584175,    TEST LOSS:   0.26670578122\n",
      "-----------------------------------------\n",
      "EPOCH:    1600\n",
      "MEAN TRAIN LOSS:   0.02299610898,    TEST LOSS:   0.26842510700\n",
      "-----------------------------------------\n",
      "EPOCH:    1700\n",
      "MEAN TRAIN LOSS:   0.02108050510,    TEST LOSS:   0.26648300886\n",
      "-----------------------------------------\n",
      "EPOCH:    1800\n",
      "MEAN TRAIN LOSS:   0.01750299148,    TEST LOSS:   0.25874105096\n",
      "-----------------------------------------\n",
      "EPOCH:    1900\n",
      "MEAN TRAIN LOSS:   0.01621706225,    TEST LOSS:   0.26657012105\n",
      "-----------------------------------------\n",
      "EPOCH:    2000\n",
      "MEAN TRAIN LOSS:   0.01218832377,    TEST LOSS:   0.26742109656\n",
      "-----------------------------------------\n",
      "The total time =  911.435  seconds!\n"
     ]
    }
   ],
   "source": [
    "losses = training_loop(n_epochs=2000,\n",
    "                  batch_size=500,\n",
    "                  optimizer=optimizer, \n",
    "                  model=model, \n",
    "                  loss_fn=criterion, \n",
    "                  train_features=train_features, \n",
    "                  test_features=test_features, \n",
    "                  train_targets=train_targets, \n",
    "                  test_targets=test_targets)"
   ]
  },
  {
   "cell_type": "code",
   "execution_count": 20,
   "id": "8b432604",
   "metadata": {},
   "outputs": [],
   "source": [
    "# Saving the train losses of pagerank as a numpy array into a file\n",
    "np.save(\"ffnn_fb_media_pagerank_train_losses_005_using_CDF.npy\", losses[0], allow_pickle=False, fix_imports=True)"
   ]
  },
  {
   "cell_type": "code",
   "execution_count": 21,
   "id": "f29b9dce",
   "metadata": {},
   "outputs": [],
   "source": [
    "# Saving the test losses of pagerank as a numpy array into a file\n",
    "np.save(\"ffnn_fb_media_pagerank_test_losses_005_using_CDF.npy\", losses[1], allow_pickle=False, fix_imports=True)"
   ]
  },
  {
   "cell_type": "code",
   "execution_count": 22,
   "id": "236809d9",
   "metadata": {
    "scrolled": true
   },
   "outputs": [
    {
     "name": "stdout",
     "output_type": "stream",
     "text": [
      "target 0.5887202784849995,    prediction: 0.5420475006103516\n",
      "index 0:       inaccuracy: 7.928%\n",
      "-----------------------------------------------------------------\n",
      "target 0.8238909976897885,    prediction: 0.638022243976593\n",
      "index 50:       inaccuracy: 22.56%\n",
      "-----------------------------------------------------------------\n",
      "target 0.3000673203111709,    prediction: 0.40677565336227417\n",
      "index 100:       inaccuracy: 35.561%\n",
      "-----------------------------------------------------------------\n",
      "target 0.9013019035860877,    prediction: 0.9772288799285889\n",
      "index 150:       inaccuracy: 8.424%\n",
      "-----------------------------------------------------------------\n",
      "target 0.43171485807832555,    prediction: 0.4458550214767456\n",
      "index 200:       inaccuracy: 3.275%\n",
      "-----------------------------------------------------------------\n",
      "target 2.439106569039261,    prediction: 2.6797776222229004\n",
      "index 250:       inaccuracy: 9.867%\n",
      "-----------------------------------------------------------------\n",
      "target 4.130724373307258,    prediction: 0.940554678440094\n",
      "index 300:       inaccuracy: 77.23%\n",
      "-----------------------------------------------------------------\n",
      "target 0.21173511492182734,    prediction: 0.2675071358680725\n",
      "index 350:       inaccuracy: 26.34%\n",
      "-----------------------------------------------------------------\n",
      "target 0.2181724670004744,    prediction: 0.545952320098877\n",
      "index 400:       inaccuracy: 150.239%\n",
      "-----------------------------------------------------------------\n",
      "target 2.0887023401022424,    prediction: 1.7562000751495361\n",
      "index 450:       inaccuracy: 15.919%\n",
      "-----------------------------------------------------------------\n",
      "target 0.5528384705496512,    prediction: 0.7228770852088928\n",
      "index 500:       inaccuracy: 30.757%\n",
      "-----------------------------------------------------------------\n",
      "target 0.6686421143536033,    prediction: 0.62956303358078\n",
      "index 550:       inaccuracy: 5.845%\n",
      "-----------------------------------------------------------------\n",
      "target 0.3890625625934877,    prediction: 0.3654068112373352\n",
      "index 600:       inaccuracy: 6.08%\n",
      "-----------------------------------------------------------------\n",
      "target 0.39779991902997464,    prediction: 0.343986451625824\n",
      "index 650:       inaccuracy: 13.528%\n",
      "-----------------------------------------------------------------\n",
      "target 0.7538314739714361,    prediction: 0.7240070104598999\n",
      "index 700:       inaccuracy: 3.956%\n",
      "-----------------------------------------------------------------\n",
      "target 0.2630232788228706,    prediction: 0.3169880211353302\n",
      "index 750:       inaccuracy: 20.517%\n",
      "-----------------------------------------------------------------\n",
      "target 0.548867468542513,    prediction: 0.8827956914901733\n",
      "index 800:       inaccuracy: 60.839%\n",
      "-----------------------------------------------------------------\n",
      "target 0.41871348957329857,    prediction: 0.48687422275543213\n",
      "index 850:       inaccuracy: 16.279%\n",
      "-----------------------------------------------------------------\n",
      "target 0.8247302867474006,    prediction: 0.6707291603088379\n",
      "index 900:       inaccuracy: 18.673%\n",
      "-----------------------------------------------------------------\n",
      "target 0.44949334395958007,    prediction: 0.5498092174530029\n",
      "index 950:       inaccuracy: 22.318%\n",
      "-----------------------------------------------------------------\n",
      "target 0.31863985570879155,    prediction: 0.3960912227630615\n",
      "index 1000:       inaccuracy: 24.307%\n",
      "-----------------------------------------------------------------\n",
      "target 0.2927844071493038,    prediction: 0.3373680114746094\n",
      "index 1050:       inaccuracy: 15.227%\n",
      "-----------------------------------------------------------------\n",
      "target 0.9814313443168413,    prediction: 0.9080123901367188\n",
      "index 1100:       inaccuracy: 7.481%\n",
      "-----------------------------------------------------------------\n",
      "target 1.1528374949854912,    prediction: 0.5180657505989075\n",
      "index 1150:       inaccuracy: 55.062%\n",
      "-----------------------------------------------------------------\n",
      "target 1.2421828221316475,    prediction: 1.4710314273834229\n",
      "index 1200:       inaccuracy: 18.423%\n",
      "-----------------------------------------------------------------\n",
      "target 0.4157661813344646,    prediction: 0.3201659619808197\n",
      "index 1250:       inaccuracy: 22.994%\n",
      "-----------------------------------------------------------------\n",
      "target 0.7681175871939683,    prediction: 0.7024403214454651\n",
      "index 1300:       inaccuracy: 8.55%\n",
      "-----------------------------------------------------------------\n",
      "target 0.9412597649286921,    prediction: 0.9327284097671509\n",
      "index 1350:       inaccuracy: 0.906%\n",
      "-----------------------------------------------------------------\n",
      "target 0.695839012404818,    prediction: 1.014094352722168\n",
      "index 1400:       inaccuracy: 45.737%\n",
      "-----------------------------------------------------------------\n",
      "target 0.7196698970074599,    prediction: 0.730263888835907\n",
      "index 1450:       inaccuracy: 1.472%\n",
      "-----------------------------------------------------------------\n",
      "target 0.6567972185854691,    prediction: 0.5427839756011963\n",
      "index 1500:       inaccuracy: 17.359%\n",
      "-----------------------------------------------------------------\n",
      "target 1.913952777327264,    prediction: 0.7532485127449036\n",
      "index 1550:       inaccuracy: 60.644%\n",
      "-----------------------------------------------------------------\n",
      "target 0.7530873516015493,    prediction: 0.6412927508354187\n",
      "index 1600:       inaccuracy: 14.845%\n",
      "-----------------------------------------------------------------\n",
      "target 0.9772029033935018,    prediction: 0.6485427618026733\n",
      "index 1650:       inaccuracy: 33.633%\n",
      "-----------------------------------------------------------------\n",
      "target 1.0464168651978591,    prediction: 0.9311920404434204\n",
      "index 1700:       inaccuracy: 11.011%\n",
      "-----------------------------------------------------------------\n",
      "target 1.3878115808255858,    prediction: 1.3876395225524902\n",
      "index 1750:       inaccuracy: 0.012%\n",
      "-----------------------------------------------------------------\n",
      "target 0.6403493906620386,    prediction: 0.4814475476741791\n",
      "index 1800:       inaccuracy: 24.815%\n",
      "-----------------------------------------------------------------\n",
      "target 0.2748057097958887,    prediction: 0.34079304337501526\n",
      "index 1850:       inaccuracy: 24.012%\n",
      "-----------------------------------------------------------------\n",
      "target 1.0089692722593828,    prediction: 1.0923722982406616\n",
      "index 1900:       inaccuracy: 8.266%\n",
      "-----------------------------------------------------------------\n",
      "target 0.6755322809068307,    prediction: 0.5844041705131531\n",
      "index 1950:       inaccuracy: 13.49%\n",
      "-----------------------------------------------------------------\n",
      "target 0.45886593267409476,    prediction: 0.43261072039604187\n",
      "index 2000:       inaccuracy: 5.722%\n",
      "-----------------------------------------------------------------\n",
      "target 0.4499734027049673,    prediction: 0.41477200388908386\n",
      "index 2050:       inaccuracy: 7.823%\n",
      "-----------------------------------------------------------------\n",
      "target 0.21393439445456483,    prediction: 0.3184508681297302\n",
      "index 2100:       inaccuracy: 48.854%\n",
      "-----------------------------------------------------------------\n",
      "target 0.2896783652424043,    prediction: 0.32417258620262146\n",
      "index 2150:       inaccuracy: 11.908%\n",
      "-----------------------------------------------------------------\n",
      "target 0.5485366800483472,    prediction: 0.3039740324020386\n",
      "index 2200:       inaccuracy: 44.585%\n",
      "-----------------------------------------------------------------\n",
      "target 0.20436904766612637,    prediction: 0.29385849833488464\n",
      "index 2250:       inaccuracy: 43.788%\n",
      "-----------------------------------------------------------------\n",
      "target 0.7416253900040827,    prediction: 0.6205599904060364\n",
      "index 2300:       inaccuracy: 16.324%\n",
      "-----------------------------------------------------------------\n",
      "target 0.32550888413472195,    prediction: 0.49308812618255615\n",
      "index 2350:       inaccuracy: 51.482%\n",
      "-----------------------------------------------------------------\n",
      "target 0.4129526460130152,    prediction: 0.3400828242301941\n",
      "index 2400:       inaccuracy: 17.646%\n",
      "-----------------------------------------------------------------\n",
      "target 0.7317811463741822,    prediction: 0.686728835105896\n",
      "index 2450:       inaccuracy: 6.157%\n",
      "-----------------------------------------------------------------\n",
      "target 1.7478779658621184,    prediction: 1.465134859085083\n",
      "index 2500:       inaccuracy: 16.176%\n",
      "-----------------------------------------------------------------\n",
      "target 0.46400482501272505,    prediction: 0.572440505027771\n",
      "index 2550:       inaccuracy: 23.37%\n",
      "-----------------------------------------------------------------\n",
      "target 1.9296162565717183,    prediction: 1.1100963354110718\n",
      "index 2600:       inaccuracy: 42.471%\n",
      "-----------------------------------------------------------------\n",
      "target 0.6876827736088501,    prediction: 0.43116164207458496\n",
      "index 2650:       inaccuracy: 37.302%\n",
      "-----------------------------------------------------------------\n",
      "target 0.5152608172372263,    prediction: 0.38593539595603943\n",
      "index 2700:       inaccuracy: 25.099%\n",
      "-----------------------------------------------------------------\n",
      "target 0.7217122391972153,    prediction: 0.6381906867027283\n",
      "index 2750:       inaccuracy: 11.573%\n",
      "-----------------------------------------------------------------\n",
      "target 0.2717371242051933,    prediction: 0.3241550326347351\n",
      "index 2800:       inaccuracy: 19.29%\n",
      "-----------------------------------------------------------------\n"
     ]
    },
    {
     "name": "stdout",
     "output_type": "stream",
     "text": [
      "target 1.713583881247917,    prediction: 2.548166036605835\n",
      "index 2850:       inaccuracy: 48.704%\n",
      "-----------------------------------------------------------------\n",
      "target 2.3125585250718164,    prediction: 2.125861883163452\n",
      "index 2900:       inaccuracy: 8.073%\n",
      "-----------------------------------------------------------------\n",
      "target 0.5386156905748365,    prediction: 1.3621153831481934\n",
      "index 2950:       inaccuracy: 152.892%\n",
      "-----------------------------------------------------------------\n",
      "target 0.25284940900838115,    prediction: 0.3326976001262665\n",
      "index 3000:       inaccuracy: 31.579%\n",
      "-----------------------------------------------------------------\n",
      "target 0.3199380191880695,    prediction: 0.5361142158508301\n",
      "index 3050:       inaccuracy: 67.568%\n",
      "-----------------------------------------------------------------\n",
      "target 0.6885393109616987,    prediction: 0.6003387570381165\n",
      "index 3100:       inaccuracy: 12.81%\n",
      "-----------------------------------------------------------------\n",
      "target 0.9223232117086351,    prediction: 0.7625570297241211\n",
      "index 3150:       inaccuracy: 17.322%\n",
      "-----------------------------------------------------------------\n",
      "target 0.9589653101720907,    prediction: 0.46541985869407654\n",
      "index 3200:       inaccuracy: 51.466%\n",
      "-----------------------------------------------------------------\n",
      "target 0.7464961502144332,    prediction: 0.5781367421150208\n",
      "index 3250:       inaccuracy: 22.553%\n",
      "-----------------------------------------------------------------\n",
      "target 0.18271223005533943,    prediction: 0.2943360507488251\n",
      "index 3300:       inaccuracy: 61.093%\n",
      "-----------------------------------------------------------------\n",
      "target 0.2667399546613296,    prediction: 0.3441094756126404\n",
      "index 3350:       inaccuracy: 29.006%\n",
      "-----------------------------------------------------------------\n",
      "target 0.7900849394903054,    prediction: 0.6049233675003052\n",
      "index 3400:       inaccuracy: 23.436%\n",
      "-----------------------------------------------------------------\n",
      "target 0.7631879852304149,    prediction: 0.3568366765975952\n",
      "index 3450:       inaccuracy: 53.244%\n",
      "-----------------------------------------------------------------\n",
      "target 0.2084829147140345,    prediction: 0.27264249324798584\n",
      "index 3500:       inaccuracy: 30.775%\n",
      "-----------------------------------------------------------------\n",
      "target 0.23509290322310125,    prediction: 0.3151039183139801\n",
      "index 3550:       inaccuracy: 34.034%\n",
      "-----------------------------------------------------------------\n",
      "target 0.17653393254853078,    prediction: 0.2891569137573242\n",
      "index 3600:       inaccuracy: 63.797%\n",
      "-----------------------------------------------------------------\n",
      "target 5.331606383881382,    prediction: 7.6852922439575195\n",
      "index 3650:       inaccuracy: 44.146%\n",
      "-----------------------------------------------------------------\n",
      "target 0.458452437850241,    prediction: 0.32693958282470703\n",
      "index 3700:       inaccuracy: 28.686%\n",
      "-----------------------------------------------------------------\n",
      "target 0.28165590977875504,    prediction: 0.3021810054779053\n",
      "index 3750:       inaccuracy: 7.287%\n",
      "-----------------------------------------------------------------\n",
      "target 0.31047097142084873,    prediction: 0.3290882706642151\n",
      "index 3800:       inaccuracy: 5.996%\n",
      "-----------------------------------------------------------------\n",
      "target 1.7551407541328738,    prediction: 1.6746227741241455\n",
      "index 3850:       inaccuracy: 4.588%\n",
      "-----------------------------------------------------------------\n",
      "target 0.381204646578647,    prediction: 0.4590296447277069\n",
      "index 3900:       inaccuracy: 20.416%\n",
      "-----------------------------------------------------------------\n",
      "target 0.571052921043623,    prediction: 0.5874698758125305\n",
      "index 3950:       inaccuracy: 2.875%\n",
      "-----------------------------------------------------------------\n",
      "target 1.400791019126839,    prediction: 1.7403483390808105\n",
      "index 4000:       inaccuracy: 24.24%\n",
      "-----------------------------------------------------------------\n",
      "target 0.5243172876971034,    prediction: 0.6550144553184509\n",
      "index 4050:       inaccuracy: 24.927%\n",
      "-----------------------------------------------------------------\n",
      "target 0.33721264031664044,    prediction: 0.5046955347061157\n",
      "index 4100:       inaccuracy: 49.667%\n",
      "-----------------------------------------------------------------\n",
      "target 0.23351168633841654,    prediction: 0.29212746024131775\n",
      "index 4150:       inaccuracy: 25.102%\n",
      "-----------------------------------------------------------------\n",
      "target 3.4205168724993498,    prediction: 3.79789137840271\n",
      "index 4200:       inaccuracy: 11.033%\n",
      "-----------------------------------------------------------------\n",
      "target 0.3934527440376137,    prediction: 0.49903830885887146\n",
      "index 4250:       inaccuracy: 26.836%\n",
      "-----------------------------------------------------------------\n",
      "target 0.9408198237892457,    prediction: 0.6826686263084412\n",
      "index 4300:       inaccuracy: 27.439%\n",
      "-----------------------------------------------------------------\n",
      "target 1.1747179678210486,    prediction: 1.3042633533477783\n",
      "index 4350:       inaccuracy: 11.028%\n",
      "-----------------------------------------------------------------\n",
      "target 0.8933323045228393,    prediction: 0.7214887142181396\n",
      "index 4400:       inaccuracy: 19.236%\n",
      "-----------------------------------------------------------------\n",
      "target 1.0150680426909684,    prediction: 1.1326669454574585\n",
      "index 4450:       inaccuracy: 11.585%\n",
      "-----------------------------------------------------------------\n",
      "target 0.48527597127236277,    prediction: 0.590934157371521\n",
      "index 4500:       inaccuracy: 21.773%\n",
      "-----------------------------------------------------------------\n",
      "target 1.0698060504705884,    prediction: 0.9405261278152466\n",
      "index 4550:       inaccuracy: 12.084%\n",
      "-----------------------------------------------------------------\n",
      "target 0.4519186407089921,    prediction: 0.49927714467048645\n",
      "index 4600:       inaccuracy: 10.479%\n",
      "-----------------------------------------------------------------\n",
      "target 1.712963858437576,    prediction: 1.4286997318267822\n",
      "index 4650:       inaccuracy: 16.595%\n",
      "-----------------------------------------------------------------\n",
      "target 0.5643706099018336,    prediction: 0.9167743921279907\n",
      "index 4700:       inaccuracy: 62.442%\n",
      "-----------------------------------------------------------------\n",
      "target 0.2996767857711447,    prediction: 0.52657151222229\n",
      "index 4750:       inaccuracy: 75.713%\n",
      "-----------------------------------------------------------------\n",
      "target 0.7264483127202302,    prediction: 0.6263813376426697\n",
      "index 4800:       inaccuracy: 13.775%\n",
      "-----------------------------------------------------------------\n",
      "target 2.7842984462430937,    prediction: 0.8031767010688782\n",
      "index 4850:       inaccuracy: 71.153%\n",
      "-----------------------------------------------------------------\n",
      "target 1.524062614039121,    prediction: 0.9567039012908936\n",
      "index 4900:       inaccuracy: 37.227%\n",
      "-----------------------------------------------------------------\n",
      "target 1.0902079311119788,    prediction: 0.6201632022857666\n",
      "index 4950:       inaccuracy: 43.115%\n",
      "-----------------------------------------------------------------\n",
      "target 0.5628614133548921,    prediction: 0.8492633104324341\n",
      "index 5000:       inaccuracy: 50.883%\n",
      "-----------------------------------------------------------------\n",
      "target 0.6812304542624245,    prediction: 0.6603755950927734\n",
      "index 5050:       inaccuracy: 3.061%\n",
      "-----------------------------------------------------------------\n",
      "target 0.20608535388918459,    prediction: 0.34850242733955383\n",
      "index 5100:       inaccuracy: 69.106%\n",
      "-----------------------------------------------------------------\n",
      "target 0.881231251785633,    prediction: 0.7256426811218262\n",
      "index 5150:       inaccuracy: 17.656%\n",
      "-----------------------------------------------------------------\n",
      "target 0.4245881421484604,    prediction: 0.4101349115371704\n",
      "index 5200:       inaccuracy: 3.404%\n",
      "-----------------------------------------------------------------\n",
      "target 0.23128654090516335,    prediction: 0.33495914936065674\n",
      "index 5250:       inaccuracy: 44.824%\n",
      "-----------------------------------------------------------------\n",
      "target 0.36066522078966573,    prediction: 0.3754672408103943\n",
      "index 5300:       inaccuracy: 4.104%\n",
      "-----------------------------------------------------------------\n",
      "target 1.1455395241389577,    prediction: 0.7621314525604248\n",
      "index 5350:       inaccuracy: 33.47%\n",
      "-----------------------------------------------------------------\n",
      "target 1.1118881612534364,    prediction: 0.39484965801239014\n",
      "index 5400:       inaccuracy: 64.488%\n",
      "-----------------------------------------------------------------\n",
      "target 0.43437608899886915,    prediction: 0.33357179164886475\n",
      "index 5450:       inaccuracy: 23.207%\n",
      "-----------------------------------------------------------------\n",
      "target 0.5533007524279194,    prediction: 0.6276716589927673\n",
      "index 5500:       inaccuracy: 13.441%\n",
      "-----------------------------------------------------------------\n"
     ]
    },
    {
     "name": "stdout",
     "output_type": "stream",
     "text": [
      "target 1.2487728477602384,    prediction: 1.2441984415054321\n",
      "index 5550:       inaccuracy: 0.366%\n",
      "-----------------------------------------------------------------\n",
      "target 0.21156520430167206,    prediction: 0.29762646555900574\n",
      "index 5600:       inaccuracy: 40.678%\n",
      "-----------------------------------------------------------------\n",
      "target 0.5380586812171619,    prediction: 0.36627721786499023\n",
      "index 5650:       inaccuracy: 31.926%\n",
      "-----------------------------------------------------------------\n",
      "target 0.8437575031968626,    prediction: 0.647930920124054\n",
      "index 5700:       inaccuracy: 23.209%\n",
      "-----------------------------------------------------------------\n",
      "target 0.30096102613751907,    prediction: 0.3620169162750244\n",
      "index 5750:       inaccuracy: 20.287%\n",
      "-----------------------------------------------------------------\n",
      "target 0.30659636712025634,    prediction: 0.37402787804603577\n",
      "index 5800:       inaccuracy: 21.994%\n",
      "-----------------------------------------------------------------\n",
      "target 0.4985547008241421,    prediction: 0.4977447986602783\n",
      "index 5850:       inaccuracy: 0.162%\n",
      "-----------------------------------------------------------------\n",
      "target 0.6136568072568882,    prediction: 0.6891236305236816\n",
      "index 5900:       inaccuracy: 12.298%\n",
      "-----------------------------------------------------------------\n",
      "target 0.39219510185597306,    prediction: 0.5846788287162781\n",
      "index 5950:       inaccuracy: 49.079%\n",
      "-----------------------------------------------------------------\n",
      "target 0.9799111268642822,    prediction: 0.7940539121627808\n",
      "index 6000:       inaccuracy: 18.967%\n",
      "-----------------------------------------------------------------\n",
      "target 0.9590114646538669,    prediction: 1.0153412818908691\n",
      "index 6050:       inaccuracy: 5.874%\n",
      "-----------------------------------------------------------------\n",
      "target 0.16987173342102907,    prediction: 0.2722153067588806\n",
      "index 6100:       inaccuracy: 60.248%\n",
      "-----------------------------------------------------------------\n",
      "target 0.24246888283600632,    prediction: 0.32747119665145874\n",
      "index 6150:       inaccuracy: 35.057%\n",
      "-----------------------------------------------------------------\n",
      "target 0.8016533168097194,    prediction: 0.7193946242332458\n",
      "index 6200:       inaccuracy: 10.261%\n",
      "-----------------------------------------------------------------\n",
      "target 0.5900549219168794,    prediction: 0.7734910249710083\n",
      "index 6250:       inaccuracy: 31.088%\n",
      "-----------------------------------------------------------------\n",
      "target 0.7135188803223752,    prediction: 0.547957181930542\n",
      "index 6300:       inaccuracy: 23.204%\n",
      "-----------------------------------------------------------------\n",
      "target 0.6726262011103856,    prediction: 0.799089789390564\n",
      "index 6350:       inaccuracy: 18.801%\n",
      "-----------------------------------------------------------------\n",
      "target 0.7391023563599775,    prediction: 0.6891641020774841\n",
      "index 6400:       inaccuracy: 6.757%\n",
      "-----------------------------------------------------------------\n",
      "target 0.40934272940921446,    prediction: 0.3772026598453522\n",
      "index 6450:       inaccuracy: 7.852%\n",
      "-----------------------------------------------------------------\n",
      "target 0.9001000845868965,    prediction: 1.108232021331787\n",
      "index 6500:       inaccuracy: 23.123%\n",
      "-----------------------------------------------------------------\n",
      "target 0.8730624074908081,    prediction: 0.8691723942756653\n",
      "index 6550:       inaccuracy: 0.446%\n",
      "-----------------------------------------------------------------\n",
      "target 6.585954662305192,    prediction: 8.623711585998535\n",
      "index 6600:       inaccuracy: 30.941%\n",
      "-----------------------------------------------------------------\n",
      "target 0.3218107921285459,    prediction: 0.33089348673820496\n",
      "index 6650:       inaccuracy: 2.822%\n",
      "-----------------------------------------------------------------\n",
      "target 0.657646708134717,    prediction: 0.5004302859306335\n",
      "index 6700:       inaccuracy: 23.906%\n",
      "-----------------------------------------------------------------\n",
      "target 0.9055285529460898,    prediction: 0.6816123723983765\n",
      "index 6750:       inaccuracy: 24.728%\n",
      "-----------------------------------------------------------------\n",
      "target 0.9919396697441774,    prediction: 1.1696858406066895\n",
      "index 6800:       inaccuracy: 17.919%\n",
      "-----------------------------------------------------------------\n",
      "target 0.5461334957810546,    prediction: 0.5095073580741882\n",
      "index 6850:       inaccuracy: 6.706%\n",
      "-----------------------------------------------------------------\n",
      "target 1.033180303237984,    prediction: 0.840415358543396\n",
      "index 6900:       inaccuracy: 18.657%\n",
      "-----------------------------------------------------------------\n",
      "target 0.6153669666120523,    prediction: 0.8200732469558716\n",
      "index 6950:       inaccuracy: 33.266%\n",
      "-----------------------------------------------------------------\n",
      "target 1.300626974088553,    prediction: 0.9665963649749756\n",
      "index 7000:       inaccuracy: 25.682%\n",
      "-----------------------------------------------------------------\n",
      "target 0.6384135974683426,    prediction: 0.6285803318023682\n",
      "index 7050:       inaccuracy: 1.54%\n",
      "-----------------------------------------------------------------\n",
      "target 0.7083224057393379,    prediction: 0.6638545393943787\n",
      "index 7100:       inaccuracy: 6.278%\n",
      "-----------------------------------------------------------------\n",
      "target 0.24494623920146727,    prediction: 0.3062095046043396\n",
      "index 7150:       inaccuracy: 25.011%\n",
      "-----------------------------------------------------------------\n",
      "target 0.3512355965338569,    prediction: 0.40570658445358276\n",
      "index 7200:       inaccuracy: 15.508%\n",
      "-----------------------------------------------------------------\n",
      "target 1.6470170149922532,    prediction: 1.821244239807129\n",
      "index 7250:       inaccuracy: 10.578%\n",
      "-----------------------------------------------------------------\n",
      "target 0.5220914123076261,    prediction: 0.48113223910331726\n",
      "index 7300:       inaccuracy: 7.845%\n",
      "-----------------------------------------------------------------\n",
      "target 0.2646874011448874,    prediction: 0.3215816020965576\n",
      "index 7350:       inaccuracy: 21.495%\n",
      "-----------------------------------------------------------------\n",
      "target 0.3253600002250354,    prediction: 0.35727283358573914\n",
      "index 7400:       inaccuracy: 9.808%\n",
      "-----------------------------------------------------------------\n",
      "target 4.8641934494828,    prediction: 6.450087070465088\n",
      "index 7450:       inaccuracy: 32.603%\n",
      "-----------------------------------------------------------------\n",
      "target 0.48486521734600024,    prediction: 0.5779066681861877\n",
      "index 7500:       inaccuracy: 19.189%\n",
      "-----------------------------------------------------------------\n",
      "target 0.3525036598427735,    prediction: 0.5483174324035645\n",
      "index 7550:       inaccuracy: 55.549%\n",
      "-----------------------------------------------------------------\n",
      "target 0.8864310537517555,    prediction: 0.7717434167861938\n",
      "index 7600:       inaccuracy: 12.938%\n",
      "-----------------------------------------------------------------\n",
      "target 1.777910560758391,    prediction: 1.9599823951721191\n",
      "index 7650:       inaccuracy: 10.241%\n",
      "-----------------------------------------------------------------\n",
      "target 0.2571742896356774,    prediction: 0.36922377347946167\n",
      "index 7700:       inaccuracy: 43.569%\n",
      "-----------------------------------------------------------------\n",
      "target 1.5305838816837758,    prediction: 1.0990854501724243\n",
      "index 7750:       inaccuracy: 28.192%\n",
      "-----------------------------------------------------------------\n",
      "target 0.17829601471313597,    prediction: 0.26557254791259766\n",
      "index 7800:       inaccuracy: 48.95%\n",
      "-----------------------------------------------------------------\n",
      "target 1.0186669613056762,    prediction: 1.084904670715332\n",
      "index 7850:       inaccuracy: 6.502%\n",
      "-----------------------------------------------------------------\n",
      "target 0.8858262391811169,    prediction: 0.9345136880874634\n",
      "index 7900:       inaccuracy: 5.496%\n",
      "-----------------------------------------------------------------\n"
     ]
    }
   ],
   "source": [
    "model.eval()\n",
    "errors = []\n",
    "for i in range(n_test):\n",
    "    targ = test_targets[i].item()\n",
    "    feat = test_features[i].float().view(1,1,138)\n",
    "    pred = model(feat).item()\n",
    "    inaccuracy = abs(1 - pred/targ) * 100\n",
    "    errors.append(inaccuracy)\n",
    "    if i%50 == 0:\n",
    "        print(f\"target {targ},    prediction: {pred}\\nindex {i}:       inaccuracy: {np.round(inaccuracy, 3)}%\")\n",
    "        print(\"-----------------------------------------------------------------\")"
   ]
  },
  {
   "cell_type": "code",
   "execution_count": 23,
   "id": "0a813b62",
   "metadata": {},
   "outputs": [
    {
     "name": "stdout",
     "output_type": "stream",
     "text": [
      "Average inaccuracy:  28.44\n"
     ]
    }
   ],
   "source": [
    "print(\"Average inaccuracy: \", np.round(sum(errors)/len(errors), 3))"
   ]
  },
  {
   "cell_type": "code",
   "execution_count": 24,
   "id": "4f7a0d3b",
   "metadata": {},
   "outputs": [],
   "source": [
    "torch.save(model, \"trained_FFNN_model_fb_media_pagerank_005_using_CDF.pt\")"
   ]
  },
  {
   "cell_type": "code",
   "execution_count": null,
   "id": "8762ce9a",
   "metadata": {},
   "outputs": [],
   "source": []
  },
  {
   "cell_type": "code",
   "execution_count": null,
   "id": "1d3225f1",
   "metadata": {},
   "outputs": [],
   "source": []
  }
 ],
 "metadata": {
  "kernelspec": {
   "display_name": "Python 3 (ipykernel)",
   "language": "python",
   "name": "python3"
  },
  "language_info": {
   "codemirror_mode": {
    "name": "ipython",
    "version": 3
   },
   "file_extension": ".py",
   "mimetype": "text/x-python",
   "name": "python",
   "nbconvert_exporter": "python",
   "pygments_lexer": "ipython3",
   "version": "3.8.3"
  }
 },
 "nbformat": 4,
 "nbformat_minor": 5
}
