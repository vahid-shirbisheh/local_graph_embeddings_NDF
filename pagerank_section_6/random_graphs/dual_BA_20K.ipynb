{
 "cells": [
  {
   "cell_type": "code",
   "execution_count": 1,
   "id": "aaa794c9",
   "metadata": {},
   "outputs": [],
   "source": [
    "from mygraph import MyGraph\n",
    "from helpers import *\n",
    "import pandas as pd"
   ]
  },
  {
   "cell_type": "code",
   "execution_count": 2,
   "id": "51322144",
   "metadata": {},
   "outputs": [
    {
     "name": "stdout",
     "output_type": "stream",
     "text": [
      "Wall time: 370 ms\n"
     ]
    }
   ],
   "source": [
    "%%time\n",
    "n= 20000\n",
    "m1 = 3\n",
    "m2 = 1\n",
    "p = 0.5\n",
    "nxg1 = nx.dual_barabasi_albert_graph(n, m1, m2, p, seed=1, initial_graph=None)\n",
    "nxg2 = nx.dual_barabasi_albert_graph(n, m1, m2, p, seed=2, initial_graph=None)"
   ]
  },
  {
   "cell_type": "code",
   "execution_count": 3,
   "id": "032c9986",
   "metadata": {},
   "outputs": [
    {
     "name": "stdout",
     "output_type": "stream",
     "text": [
      "Wall time: 216 ms\n"
     ]
    }
   ],
   "source": [
    "%%time\n",
    "myg1 = copy_nx_graph(nxg1)\n",
    "myg2 = copy_nx_graph(nxg2)"
   ]
  },
  {
   "cell_type": "code",
   "execution_count": 4,
   "id": "55979735",
   "metadata": {},
   "outputs": [],
   "source": [
    "df1 = pd.DataFrame(myg1.get_edge_list())\n",
    "df2 = pd.DataFrame(myg2.get_edge_list())"
   ]
  },
  {
   "cell_type": "code",
   "execution_count": 5,
   "id": "552fc717",
   "metadata": {},
   "outputs": [],
   "source": [
    "df1.to_csv(\"dual_BA_1.csv\", columns=None, index=False)\n",
    "df2.to_csv(\"dual_BA_2.csv\", columns=None, index=False)"
   ]
  },
  {
   "cell_type": "code",
   "execution_count": 6,
   "id": "36d91936",
   "metadata": {},
   "outputs": [
    {
     "name": "stdout",
     "output_type": "stream",
     "text": [
      "num_nodes            20000 \n",
      "num_edges            39959 \n",
      "nodes_degrees        [1, 2, 3, 4, 5, 6, 7, 8, 9, 10, 11, 12, 13, 14, 15, 16, 17, 18, 19, 20, 21, 22, 23, 24, 25, 26, 27, 28, 29, 30, 31, 32, 33, 34, 36, 37, 38, 39, 40, 41, 42, 43, 44, 45, 46, 47, 48, 49, 50, 51, 52, 53, 54, 55, 56, 58, 59, 60, 61, 62, 63, 64, 66, 67, 69, 71, 74, 76, 78, 80, 83, 86, 90, 92, 93, 94, 110, 120, 121, 122, 124, 150, 187, 208, 237, 256, 276, 280] \n",
      "average_degree       3.9959 \n",
      "Wall time: 7.08 s\n"
     ]
    }
   ],
   "source": [
    "%%time\n",
    "print_dict(myg1.graph_stats())"
   ]
  },
  {
   "cell_type": "code",
   "execution_count": 7,
   "id": "d25bd7c6",
   "metadata": {},
   "outputs": [
    {
     "name": "stdout",
     "output_type": "stream",
     "text": [
      "num_nodes            20000 \n",
      "num_edges            40133 \n",
      "nodes_degrees        [1, 2, 3, 4, 5, 6, 7, 8, 9, 10, 11, 12, 13, 14, 15, 16, 17, 18, 19, 20, 21, 22, 23, 24, 25, 26, 27, 28, 29, 30, 31, 32, 33, 34, 35, 36, 37, 38, 39, 40, 41, 42, 43, 45, 46, 47, 48, 49, 50, 51, 52, 53, 55, 57, 59, 63, 64, 66, 67, 68, 69, 70, 75, 76, 77, 86, 87, 88, 96, 103, 105, 107, 111, 129, 140, 143, 151, 170, 188, 250, 293, 314] \n",
      "average_degree       4.0133 \n",
      "Wall time: 7 s\n"
     ]
    }
   ],
   "source": [
    "%%time\n",
    "print_dict(myg2.graph_stats())"
   ]
  },
  {
   "cell_type": "code",
   "execution_count": 8,
   "id": "50d860e6",
   "metadata": {},
   "outputs": [
    {
     "name": "stdout",
     "output_type": "stream",
     "text": [
      "Wall time: 279 ms\n"
     ]
    },
    {
     "data": {
      "text/plain": [
       "array([[2.89652064e-03],\n",
       "       [2.94180472e-03],\n",
       "       [4.01947517e-04],\n",
       "       ...,\n",
       "       [3.37041609e-05],\n",
       "       [1.70165888e-05],\n",
       "       [3.78052821e-05]])"
      ]
     },
     "execution_count": 8,
     "metadata": {},
     "output_type": "execute_result"
    }
   ],
   "source": [
    "%%time\n",
    "# The array of pagerank of vertices of the graph\n",
    "np_target_page1 = np.array(list(nx.algorithms.link_analysis.pagerank_alg.pagerank(nxg1).values())).reshape(-1,1)\n",
    "np_target_page1"
   ]
  },
  {
   "cell_type": "code",
   "execution_count": 9,
   "id": "6f77993a",
   "metadata": {},
   "outputs": [],
   "source": [
    "# Saving the pagerank as a numpy array into a file\n",
    "np.save(\"dual_BA_20K_1_pageranks.npy\", np_target_page1, allow_pickle=False, fix_imports=True)"
   ]
  },
  {
   "cell_type": "code",
   "execution_count": 10,
   "id": "4a96ab87",
   "metadata": {},
   "outputs": [
    {
     "name": "stdout",
     "output_type": "stream",
     "text": [
      "Wall time: 132 ms\n"
     ]
    },
    {
     "data": {
      "text/plain": [
       "array([[3.30758022e-03],\n",
       "       [4.25968932e-04],\n",
       "       [6.75400628e-04],\n",
       "       ...,\n",
       "       [1.78871369e-05],\n",
       "       [3.60939441e-05],\n",
       "       [1.77961684e-05]])"
      ]
     },
     "execution_count": 10,
     "metadata": {},
     "output_type": "execute_result"
    }
   ],
   "source": [
    "%%time\n",
    "# The array of pagerank of vertices of the graph\n",
    "np_target_page2 = np.array(list(nx.algorithms.link_analysis.pagerank_alg.pagerank(nxg2).values())).reshape(-1,1)\n",
    "np_target_page2"
   ]
  },
  {
   "cell_type": "code",
   "execution_count": 11,
   "id": "c7f683dc",
   "metadata": {},
   "outputs": [],
   "source": [
    "# Saving the pagerank as a numpy array into a file\n",
    "np.save(\"dual_BA_20K_2_pageranks.npy\", np_target_page2, allow_pickle=False, fix_imports=True)"
   ]
  },
  {
   "cell_type": "markdown",
   "id": "85038f36",
   "metadata": {},
   "source": [
    "# The order 5 NDFC matrix rep's of random graphs"
   ]
  },
  {
   "cell_type": "code",
   "execution_count": 12,
   "id": "ef90b084",
   "metadata": {},
   "outputs": [
    {
     "data": {
      "text/plain": [
       "[1, 2, 3, 4, 5, 7, 9, 11, 14, 18, 23, 29, 36, 44]"
      ]
     },
     "execution_count": 12,
     "metadata": {},
     "output_type": "execute_result"
    }
   ],
   "source": [
    "sp = myg1.starting_points(ratio=1.2, starting_length=1, max_length=20, last_point=50)\n",
    "sp"
   ]
  },
  {
   "cell_type": "code",
   "execution_count": 13,
   "id": "e0f9ee68",
   "metadata": {},
   "outputs": [],
   "source": [
    "sp_c = [60, 80, 100, 127, 150, 165, 205]"
   ]
  },
  {
   "cell_type": "code",
   "execution_count": 14,
   "id": "34bc072d",
   "metadata": {},
   "outputs": [
    {
     "data": {
      "text/plain": [
       "[1,\n",
       " 2,\n",
       " 3,\n",
       " 4,\n",
       " 5,\n",
       " 7,\n",
       " 9,\n",
       " 11,\n",
       " 14,\n",
       " 18,\n",
       " 23,\n",
       " 29,\n",
       " 36,\n",
       " 44,\n",
       " 60,\n",
       " 80,\n",
       " 100,\n",
       " 127,\n",
       " 150,\n",
       " 165,\n",
       " 205]"
      ]
     },
     "execution_count": 14,
     "metadata": {},
     "output_type": "execute_result"
    }
   ],
   "source": [
    "sp_final = sp + sp_c\n",
    "sp_final"
   ]
  },
  {
   "cell_type": "code",
   "execution_count": 15,
   "id": "7bbbbb7e",
   "metadata": {},
   "outputs": [
    {
     "name": "stdout",
     "output_type": "stream",
     "text": [
      "Wall time: 10min 48s\n"
     ]
    }
   ],
   "source": [
    "%%time\n",
    "# producing the order 5 NDFC matrix rep. of nodes of the first random garph w.r.t. the following parameters:\n",
    "NDFC_dual_BA_20k_1 = NDFC_matrix_rep(myg1, starting_points=sp_final, raw=False, radius=5, decimals=6)"
   ]
  },
  {
   "cell_type": "code",
   "execution_count": 16,
   "id": "2dd3f3d8",
   "metadata": {},
   "outputs": [
    {
     "name": "stdout",
     "output_type": "stream",
     "text": [
      "Wall time: 11min 13s\n"
     ]
    }
   ],
   "source": [
    "%%time\n",
    "# producing the order 5 NDFC matrix rep. of nodes of the second random garph w.r.t. the following parameters:\n",
    "NDFC_dual_BA_20k_2 = NDFC_matrix_rep(myg2, starting_points=sp_final, raw=False, radius=5, decimals=6)"
   ]
  },
  {
   "cell_type": "code",
   "execution_count": 17,
   "id": "f5ec3a98",
   "metadata": {},
   "outputs": [
    {
     "data": {
      "text/plain": [
       "array([[[3.000000e+00, 0.000000e+00, 3.000000e+00, 1.000000e+00,\n",
       "         9.000000e+00, 2.000000e+00, 0.000000e+00, 2.000000e+00,\n",
       "         1.000000e+00, 0.000000e+00, 2.000000e+00, 0.000000e+00,\n",
       "         2.000000e+00, 0.000000e+00, 0.000000e+00, 0.000000e+00,\n",
       "         0.000000e+00, 0.000000e+00, 0.000000e+00, 0.000000e+00,\n",
       "         0.000000e+00],\n",
       "        [1.480000e+00, 2.000000e-01, 2.080000e+00, 1.160000e+00,\n",
       "         8.400000e-01, 8.800000e-01, 2.000000e-01, 2.800000e-01,\n",
       "         4.000000e-01, 3.200000e-01, 1.240000e+00, 1.200000e-01,\n",
       "         1.200000e-01, 1.200000e-01, 4.000000e-02, 0.000000e+00,\n",
       "         4.000000e-02, 0.000000e+00, 0.000000e+00, 4.000000e-02,\n",
       "         4.000000e-02],\n",
       "        [1.070093e+00, 3.878500e-01, 2.065421e+00, 1.144860e+00,\n",
       "         1.457944e+00, 8.084110e-01, 5.794390e-01, 5.140190e-01,\n",
       "         4.953270e-01, 2.616820e-01, 4.672900e-01, 1.308410e-01,\n",
       "         5.046730e-01, 1.121500e-01, 1.214950e-01, 3.738300e-02,\n",
       "         2.803700e-02, 5.607500e-02, 9.346000e-03, 2.803700e-02,\n",
       "         9.345800e-02],\n",
       "        [8.796700e-01, 3.076920e-01, 1.650000e+00, 1.024725e+00,\n",
       "         1.143956e+00, 6.780220e-01, 3.928570e-01, 4.153850e-01,\n",
       "         3.796700e-01, 2.879120e-01, 2.615380e-01, 1.686810e-01,\n",
       "         1.670330e-01, 1.890110e-01, 1.214290e-01, 3.351600e-02,\n",
       "         9.945100e-02, 2.857100e-02, 9.341000e-03, 1.109890e-01,\n",
       "         1.972530e-01],\n",
       "        [3.997830e-01, 1.708020e-01, 8.606360e-01, 5.159000e-01,\n",
       "         6.390030e-01, 3.985790e-01, 2.683690e-01, 2.682490e-01,\n",
       "         2.454830e-01, 1.786320e-01, 1.563480e-01, 1.164780e-01,\n",
       "         1.199710e-01, 1.146710e-01, 9.359200e-02, 3.999000e-02,\n",
       "         4.131500e-02, 4.191800e-02, 1.590000e-02, 1.794700e-02,\n",
       "         5.745600e-02],\n",
       "        [1.629020e-01, 1.207330e-01, 3.904370e-01, 3.138810e-01,\n",
       "         4.309740e-01, 2.832580e-01, 1.891320e-01, 2.059490e-01,\n",
       "         1.600150e-01, 1.090610e-01, 8.157600e-02, 4.593400e-02,\n",
       "         3.589400e-02, 4.053700e-02, 1.192300e-02, 5.397000e-03,\n",
       "         0.000000e+00, 0.000000e+00, 0.000000e+00, 0.000000e+00,\n",
       "         0.000000e+00]],\n",
       "\n",
       "       [[7.000000e+00, 2.000000e+00, 1.000000e+01, 2.000000e+00,\n",
       "         5.000000e+00, 3.000000e+00, 3.000000e+00, 2.000000e+00,\n",
       "         3.000000e+00, 0.000000e+00, 3.000000e+00, 0.000000e+00,\n",
       "         0.000000e+00, 0.000000e+00, 0.000000e+00, 0.000000e+00,\n",
       "         2.000000e+00, 0.000000e+00, 0.000000e+00, 0.000000e+00,\n",
       "         1.000000e+00],\n",
       "        [2.302326e+00, 8.604650e-01, 3.488372e+00, 1.767442e+00,\n",
       "         2.465116e+00, 1.627907e+00, 9.302330e-01, 7.906980e-01,\n",
       "         9.767440e-01, 5.116280e-01, 4.883720e-01, 1.627910e-01,\n",
       "         1.372093e+00, 2.093020e-01, 2.093020e-01, 1.162790e-01,\n",
       "         4.651200e-02, 9.302300e-02, 4.651200e-02, 4.651200e-02,\n",
       "         9.302300e-02],\n",
       "        [1.210884e+00, 3.591840e-01, 2.081633e+00, 1.220408e+00,\n",
       "         1.443537e+00, 8.585030e-01, 5.278910e-01, 4.884350e-01,\n",
       "         4.394560e-01, 2.462590e-01, 2.979590e-01, 1.578230e-01,\n",
       "         1.401360e-01, 1.428570e-01, 9.387800e-02, 3.945600e-02,\n",
       "         3.197280e-01, 3.401400e-02, 5.442000e-03, 2.040800e-02,\n",
       "         4.734690e-01],\n",
       "        [5.332960e-01, 2.072170e-01, 1.078311e+00, 6.529020e-01,\n",
       "         7.782740e-01, 4.616820e-01, 3.059900e-01, 3.002230e-01,\n",
       "         2.859000e-01, 2.066590e-01, 1.897320e-01, 1.162570e-01,\n",
       "         1.545760e-01, 1.329990e-01, 1.143970e-01, 5.580400e-02,\n",
       "         2.976200e-02, 7.124300e-02, 2.697200e-02, 6.343000e-02,\n",
       "         9.375000e-02],\n",
       "        [2.439590e-01, 1.379700e-01, 5.665990e-01, 3.888320e-01,\n",
       "         5.060910e-01, 3.319800e-01, 2.181730e-01, 2.433500e-01,\n",
       "         1.962440e-01, 1.526900e-01, 1.208120e-01, 8.954300e-02,\n",
       "         6.944200e-02, 8.162400e-02, 4.335000e-02, 1.116800e-02,\n",
       "         1.340100e-02, 0.000000e+00, 0.000000e+00, 0.000000e+00,\n",
       "         0.000000e+00],\n",
       "        [8.570600e-02, 1.106240e-01, 2.491790e-01, 2.560240e-01,\n",
       "         3.469330e-01, 2.100220e-01, 1.286970e-01, 1.166480e-01,\n",
       "         8.734900e-02, 3.532300e-02, 2.847800e-02, 1.122700e-02,\n",
       "         6.024000e-03, 3.560000e-03, 0.000000e+00, 0.000000e+00,\n",
       "         0.000000e+00, 0.000000e+00, 0.000000e+00, 0.000000e+00,\n",
       "         0.000000e+00]],\n",
       "\n",
       "       [[5.000000e+00, 0.000000e+00, 7.000000e+00, 1.000000e+00,\n",
       "         7.000000e+00, 2.000000e+00, 1.000000e+00, 2.000000e+00,\n",
       "         2.000000e+00, 0.000000e+00, 0.000000e+00, 0.000000e+00,\n",
       "         0.000000e+00, 1.000000e+00, 0.000000e+00, 1.000000e+00,\n",
       "         1.000000e+00, 0.000000e+00, 0.000000e+00, 0.000000e+00,\n",
       "         0.000000e+00],\n",
       "        [1.700000e+00, 4.000000e-01, 2.000000e+00, 1.600000e+00,\n",
       "         1.600000e+00, 1.300000e+00, 5.333330e-01, 5.000000e-01,\n",
       "         5.000000e-01, 4.333330e-01, 3.000000e-01, 1.233333e+00,\n",
       "         3.000000e-01, 1.000000e-01, 1.666670e-01, 1.000000e-01,\n",
       "         3.333300e-02, 1.333330e-01, 3.333300e-02, 6.666700e-02,\n",
       "         1.333330e-01],\n",
       "        [1.413408e+00, 4.748600e-01, 2.555866e+00, 1.488827e+00,\n",
       "         1.840782e+00, 1.086592e+00, 6.452510e-01, 6.731840e-01,\n",
       "         5.837990e-01, 3.407820e-01, 2.905030e-01, 1.815640e-01,\n",
       "         1.648040e-01, 3.156420e-01, 1.061450e-01, 2.653630e-01,\n",
       "         3.184360e-01, 2.793300e-02, 1.676000e-02, 3.072600e-02,\n",
       "         1.005590e-01],\n",
       "        [6.568790e-01, 2.519570e-01, 1.292506e+00, 7.589490e-01,\n",
       "         9.018460e-01, 5.329980e-01, 3.397650e-01, 3.283000e-01,\n",
       "         2.994970e-01, 2.211970e-01, 1.993850e-01, 1.465320e-01,\n",
       "         1.744970e-01, 1.236020e-01, 1.263980e-01, 6.012300e-02,\n",
       "         4.670000e-02, 1.112980e-01, 4.026800e-02, 5.536900e-02,\n",
       "         1.705820e-01],\n",
       "        [3.066210e-01, 1.461450e-01, 6.778360e-01, 4.420670e-01,\n",
       "         5.546020e-01, 3.579940e-01, 2.363750e-01, 2.598910e-01,\n",
       "         2.247680e-01, 1.665320e-01, 1.481630e-01, 9.366200e-02,\n",
       "         9.033100e-02, 1.040570e-01, 6.308000e-02, 1.312100e-02,\n",
       "         2.503000e-02, 0.000000e+00, 0.000000e+00, 1.483600e-02,\n",
       "         2.089200e-02],\n",
       "        [1.131620e-01, 1.087320e-01, 2.940740e-01, 2.713680e-01,\n",
       "         3.815770e-01, 2.377700e-01, 1.604210e-01, 1.526680e-01,\n",
       "         1.157470e-01, 6.848800e-02, 4.855100e-02, 2.159900e-02,\n",
       "         2.067600e-02, 1.033800e-02, 0.000000e+00, 0.000000e+00,\n",
       "         0.000000e+00, 0.000000e+00, 0.000000e+00, 0.000000e+00,\n",
       "         0.000000e+00]]])"
      ]
     },
     "execution_count": 17,
     "metadata": {},
     "output_type": "execute_result"
    }
   ],
   "source": [
    "NDFC_dual_BA_20k_2[111:114]"
   ]
  },
  {
   "cell_type": "markdown",
   "id": "01b2d6bd",
   "metadata": {},
   "source": [
    "# The shape of the NDFC matrices and saving them"
   ]
  },
  {
   "cell_type": "code",
   "execution_count": 18,
   "id": "48217fd7",
   "metadata": {},
   "outputs": [
    {
     "data": {
      "text/plain": [
       "((20000, 6, 21), (20000, 6, 21))"
      ]
     },
     "execution_count": 18,
     "metadata": {},
     "output_type": "execute_result"
    }
   ],
   "source": [
    "NDFC_dual_BA_20k_1.shape, NDFC_dual_BA_20k_2.shape"
   ]
  },
  {
   "cell_type": "code",
   "execution_count": 19,
   "id": "8004c101",
   "metadata": {},
   "outputs": [],
   "source": [
    "np.save(\"dual_BA_20K_1_NDFC_matrix.npy\", NDFC_dual_BA_20k_1, allow_pickle=False, fix_imports=True)\n",
    "np.save(\"dual_BA_20K_2_NDFC_matrix.npy\", NDFC_dual_BA_20k_2, allow_pickle=False, fix_imports=True)"
   ]
  }
 ],
 "metadata": {
  "kernelspec": {
   "display_name": "Python 3 (ipykernel)",
   "language": "python",
   "name": "python3"
  },
  "language_info": {
   "codemirror_mode": {
    "name": "ipython",
    "version": 3
   },
   "file_extension": ".py",
   "mimetype": "text/x-python",
   "name": "python",
   "nbconvert_exporter": "python",
   "pygments_lexer": "ipython3",
   "version": "3.8.3"
  }
 },
 "nbformat": 4,
 "nbformat_minor": 5
}
