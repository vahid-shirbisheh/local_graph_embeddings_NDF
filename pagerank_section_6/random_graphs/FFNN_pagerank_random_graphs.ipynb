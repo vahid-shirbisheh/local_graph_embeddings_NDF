{
 "cells": [
  {
   "cell_type": "markdown",
   "id": "31b500b5",
   "metadata": {},
   "source": [
    "# The feedforward neural network model for learning PageRank"
   ]
  },
  {
   "cell_type": "code",
   "execution_count": 1,
   "id": "a9854c00",
   "metadata": {},
   "outputs": [],
   "source": [
    "import time\n",
    "from mygraph import MyGraph\n",
    "from helpers import *"
   ]
  },
  {
   "cell_type": "code",
   "execution_count": 2,
   "id": "c8783184",
   "metadata": {},
   "outputs": [],
   "source": [
    "import torch\n",
    "import torch.nn as nn\n",
    "import torch.optim as optim\n",
    "import torch.nn.functional as F"
   ]
  },
  {
   "cell_type": "markdown",
   "id": "cfdc752f",
   "metadata": {},
   "source": [
    "## Loading the dataset from numpy files"
   ]
  },
  {
   "cell_type": "code",
   "execution_count": 3,
   "id": "0a2177fd",
   "metadata": {},
   "outputs": [
    {
     "data": {
      "text/plain": [
       "array([[2.89652064e-03],\n",
       "       [2.94180472e-03],\n",
       "       [4.01947517e-04],\n",
       "       [1.96730235e-03],\n",
       "       [1.24132127e-03],\n",
       "       [2.28856196e-04],\n",
       "       [1.15520877e-03],\n",
       "       [2.18498941e-04],\n",
       "       [6.27970487e-05],\n",
       "       [2.71853911e-05]])"
      ]
     },
     "execution_count": 3,
     "metadata": {},
     "output_type": "execute_result"
    }
   ],
   "source": [
    "# Pageank as the target or label data\n",
    "target_pagerank = np.load(\"dual_BA_20K_1_pageranks.npy\", mmap_mode=None, allow_pickle=False, fix_imports=True, encoding='ASCII')\n",
    "target_pagerank[0:10]"
   ]
  },
  {
   "cell_type": "code",
   "execution_count": 4,
   "id": "23f24350",
   "metadata": {},
   "outputs": [
    {
     "data": {
      "text/plain": [
       "array([[0.18798959],\n",
       "       [0.19541857],\n",
       "       [0.04532814],\n",
       "       [0.0283429 ],\n",
       "       [0.09522346],\n",
       "       [0.34642875],\n",
       "       [0.0834803 ],\n",
       "       [0.0835905 ],\n",
       "       [0.24565844],\n",
       "       [0.03588204]])"
      ]
     },
     "execution_count": 4,
     "metadata": {},
     "output_type": "execute_result"
    }
   ],
   "source": [
    "# scaling the PageRank data\n",
    "target_pagerank = target_pagerank * 1000\n",
    "target_pagerank[1000:1010]"
   ]
  },
  {
   "cell_type": "code",
   "execution_count": 5,
   "id": "cec6039f",
   "metadata": {},
   "outputs": [
    {
     "data": {
      "text/plain": [
       "(20000, 1)"
      ]
     },
     "execution_count": 5,
     "metadata": {},
     "output_type": "execute_result"
    }
   ],
   "source": [
    "target_pagerank.shape"
   ]
  },
  {
   "cell_type": "code",
   "execution_count": 6,
   "id": "613797d7",
   "metadata": {},
   "outputs": [],
   "source": [
    "# the order 5 NFDC matrix as the feature set\n",
    "matrix_1 = np.load(\"dual_BA_20K_1_NDFC_matrix.npy\", mmap_mode=None, allow_pickle=False, fix_imports=True, encoding='ASCII')"
   ]
  },
  {
   "cell_type": "code",
   "execution_count": 7,
   "id": "94c81831",
   "metadata": {},
   "outputs": [
    {
     "data": {
      "text/plain": [
       "(20000, 6, 21)"
      ]
     },
     "execution_count": 7,
     "metadata": {},
     "output_type": "execute_result"
    }
   ],
   "source": [
    "matrix_1.shape"
   ]
  },
  {
   "cell_type": "code",
   "execution_count": 8,
   "id": "ac052a5f",
   "metadata": {},
   "outputs": [
    {
     "data": {
      "text/plain": [
       "array([[1.000000e+00, 1.000000e+00, 3.000000e+00, 3.000000e+00,\n",
       "        6.000000e+00, 5.000000e+00, 3.000000e+00, 1.000000e+00,\n",
       "        0.000000e+00, 1.000000e+00, 1.000000e+00, 0.000000e+00,\n",
       "        0.000000e+00, 0.000000e+00, 0.000000e+00, 1.000000e+00,\n",
       "        1.000000e+00, 0.000000e+00, 0.000000e+00, 0.000000e+00,\n",
       "        1.000000e+00],\n",
       "       [2.785714e+00, 5.357140e-01, 4.428571e+00, 2.714286e+00,\n",
       "        2.857143e+00, 1.357143e+00, 8.571430e-01, 1.285714e+00,\n",
       "        7.142860e-01, 5.714290e-01, 1.285714e+00, 3.214290e-01,\n",
       "        2.857140e-01, 3.928570e-01, 1.785710e-01, 7.142900e-02,\n",
       "        2.142860e-01, 0.000000e+00, 3.571400e-02, 3.571400e-02,\n",
       "        3.571400e-02],\n",
       "       [9.779010e-01, 3.848990e-01, 1.786372e+00, 1.095764e+00,\n",
       "        1.283610e+00, 7.384900e-01, 5.101290e-01, 4.438310e-01,\n",
       "        2.762430e-01, 2.836100e-01, 2.154700e-01, 1.104970e-01,\n",
       "        1.160220e-01, 1.749540e-01, 8.103100e-02, 1.988950e-01,\n",
       "        2.891340e-01, 0.000000e+00, 1.289100e-02, 1.289100e-02,\n",
       "        4.825050e-01],\n",
       "       [6.655980e-01, 2.524040e-01, 1.339209e+00, 7.983440e-01,\n",
       "        8.974360e-01, 5.128210e-01, 3.285260e-01, 3.725960e-01,\n",
       "        2.956730e-01, 2.176820e-01, 1.720090e-01, 1.479700e-01,\n",
       "        1.578530e-01, 2.139420e-01, 1.359510e-01, 7.799100e-02,\n",
       "        1.097760e-01, 0.000000e+00, 3.792700e-02, 4.781000e-02,\n",
       "        6.223300e-02],\n",
       "       [2.949630e-01, 1.483920e-01, 6.264410e-01, 4.318230e-01,\n",
       "        5.379320e-01, 3.335020e-01, 2.217280e-01, 2.406430e-01,\n",
       "        2.047340e-01, 1.631600e-01, 1.336230e-01, 7.930400e-02,\n",
       "        8.304700e-02, 1.223950e-01, 4.905900e-02, 3.914600e-02,\n",
       "        2.549100e-02, 0.000000e+00, 0.000000e+00, 0.000000e+00,\n",
       "        7.687600e-02],\n",
       "       [1.124020e-01, 1.240160e-01, 2.933070e-01, 2.501970e-01,\n",
       "        3.901570e-01, 2.289370e-01, 1.464570e-01, 1.486220e-01,\n",
       "        1.200790e-01, 6.141700e-02, 5.433100e-02, 2.165400e-02,\n",
       "        7.087000e-03, 3.150000e-03, 7.677000e-03, 0.000000e+00,\n",
       "        0.000000e+00, 0.000000e+00, 0.000000e+00, 0.000000e+00,\n",
       "        0.000000e+00]])"
      ]
     },
     "execution_count": 8,
     "metadata": {},
     "output_type": "execute_result"
    }
   ],
   "source": [
    "matrix_1[111]"
   ]
  },
  {
   "cell_type": "code",
   "execution_count": 9,
   "id": "571e015b",
   "metadata": {},
   "outputs": [
    {
     "data": {
      "text/plain": [
       "(20000, 126)"
      ]
     },
     "execution_count": 9,
     "metadata": {},
     "output_type": "execute_result"
    }
   ],
   "source": [
    "matrix_1 = matrix_1.reshape(20000,-1)\n",
    "matrix_1.shape"
   ]
  },
  {
   "cell_type": "markdown",
   "id": "da03d5cb",
   "metadata": {},
   "source": [
    "# Converting the data into pytorch tenors"
   ]
  },
  {
   "cell_type": "code",
   "execution_count": 10,
   "id": "70a724b2",
   "metadata": {},
   "outputs": [
    {
     "data": {
      "text/plain": [
       "(torch.Size([20000, 126]), torch.Size([20000, 1]))"
      ]
     },
     "execution_count": 10,
     "metadata": {},
     "output_type": "execute_result"
    }
   ],
   "source": [
    "features = torch.from_numpy(matrix_1)\n",
    "targets = torch.from_numpy(target_pagerank)\n",
    "features.shape, targets.shape"
   ]
  },
  {
   "cell_type": "code",
   "execution_count": 11,
   "id": "b3cf09de",
   "metadata": {},
   "outputs": [
    {
     "data": {
      "text/plain": [
       "tensor([[2.8965],\n",
       "        [2.9418],\n",
       "        [0.4019],\n",
       "        ...,\n",
       "        [0.0337],\n",
       "        [0.0170],\n",
       "        [0.0378]], dtype=torch.float64, requires_grad=True)"
      ]
     },
     "execution_count": 11,
     "metadata": {},
     "output_type": "execute_result"
    }
   ],
   "source": [
    "# Activating the automatic gradient \n",
    "features.requires_grad_(True)\n",
    "targets.requires_grad_(True)"
   ]
  },
  {
   "cell_type": "code",
   "execution_count": 12,
   "id": "1ab8749e",
   "metadata": {},
   "outputs": [
    {
     "data": {
      "text/plain": [
       "(torch.Size([10000, 126]),\n",
       " torch.Size([10000, 126]),\n",
       " torch.Size([10000, 1]),\n",
       " torch.Size([10000, 1]))"
      ]
     },
     "execution_count": 12,
     "metadata": {},
     "output_type": "execute_result"
    }
   ],
   "source": [
    "# Shuffling and dividing the indecies\n",
    "n_samples = features.shape[0]\n",
    "n_test = 10000\n",
    "shuffled_ind = torch.randperm(n_samples)\n",
    "train_ind = shuffled_ind[:-n_test]\n",
    "test_ind = shuffled_ind[-n_test:]\n",
    "# Dividing features and targets into tain and test sets\n",
    "train_features = features[train_ind]\n",
    "test_features = features[test_ind]\n",
    "train_targets = targets[train_ind]\n",
    "test_targets = targets[test_ind]\n",
    "train_features.shape, test_features.shape, train_targets.shape, test_targets.shape"
   ]
  },
  {
   "cell_type": "markdown",
   "id": "4d960fdc",
   "metadata": {},
   "source": [
    "## A function for dividing train data into batches"
   ]
  },
  {
   "cell_type": "code",
   "execution_count": 13,
   "id": "a0515de8",
   "metadata": {},
   "outputs": [],
   "source": [
    "# dividing train_features and train_targets into batches\n",
    "def next_batch(train_features, train_targets, batch_size=100):\n",
    "    num_features = train_features.shape[0]\n",
    "    # Shuffling\n",
    "    shuffled_ind = torch.randperm(num_features)\n",
    "    shuffled_train_features = train_features[shuffled_ind]\n",
    "    shuffled_train_targets = train_targets[shuffled_ind]\n",
    "    # Dividing\n",
    "    i = 0\n",
    "    while i < num_features:\n",
    "        i += batch_size\n",
    "        yield (shuffled_train_features[i-batch_size:i], shuffled_train_targets[i-batch_size:i])\n",
    "    return"
   ]
  },
  {
   "cell_type": "markdown",
   "id": "d53422f6",
   "metadata": {},
   "source": [
    "## The feedforward neural network model"
   ]
  },
  {
   "cell_type": "code",
   "execution_count": 14,
   "id": "b8ef9f95",
   "metadata": {},
   "outputs": [],
   "source": [
    "# The Feedforward Neural Network \n",
    "class FFNN_model(nn.Module):\n",
    "    def __init__(self):\n",
    "        super().__init__()\n",
    "        num_features = features.shape[1]\n",
    "        self.fc1 = nn.Linear(num_features, 400)\n",
    "        self.fc2 = nn.Linear(400, 800)\n",
    "        self.fc3 = nn.Linear(800, 200)\n",
    "        self.fc4 = nn.Linear(200, 64)\n",
    "        self.fc5 = nn.Linear(64, 8)\n",
    "        self.fc6 = nn.Linear(8, 1)\n",
    "        self.dropout1 = nn.Dropout(0.4)\n",
    "        self.dropout2 = nn.Dropout(0.3)\n",
    "        self.dropout3 = nn.Dropout(0.5)\n",
    "    \n",
    "    def forward(self, X):\n",
    "        X = torch.tanh(self.fc1(X))\n",
    "        X = torch.relu(self.fc2(X))\n",
    "        X = self.dropout1(X)\n",
    "        X = torch.relu(self.fc3(X))\n",
    "        X = self.dropout3(X)\n",
    "        X = torch.relu(self.fc4(X))\n",
    "        X = self.dropout2(X)\n",
    "        X = torch.tanh(self.fc5(X))\n",
    "        return self.fc6(X)"
   ]
  },
  {
   "cell_type": "code",
   "execution_count": 15,
   "id": "dbd6afbe",
   "metadata": {},
   "outputs": [
    {
     "data": {
      "text/plain": [
       "FFNN_model(\n",
       "  (fc1): Linear(in_features=126, out_features=400, bias=True)\n",
       "  (fc2): Linear(in_features=400, out_features=800, bias=True)\n",
       "  (fc3): Linear(in_features=800, out_features=200, bias=True)\n",
       "  (fc4): Linear(in_features=200, out_features=64, bias=True)\n",
       "  (fc5): Linear(in_features=64, out_features=8, bias=True)\n",
       "  (fc6): Linear(in_features=8, out_features=1, bias=True)\n",
       "  (dropout1): Dropout(p=0.4, inplace=False)\n",
       "  (dropout2): Dropout(p=0.3, inplace=False)\n",
       "  (dropout3): Dropout(p=0.5, inplace=False)\n",
       ")"
      ]
     },
     "execution_count": 15,
     "metadata": {},
     "output_type": "execute_result"
    }
   ],
   "source": [
    "# Instantiation of the model\n",
    "torch.manual_seed(42)\n",
    "model = FFNN_model()\n",
    "model"
   ]
  },
  {
   "cell_type": "code",
   "execution_count": 16,
   "id": "9a867c25",
   "metadata": {},
   "outputs": [
    {
     "name": "stdout",
     "output_type": "stream",
     "text": [
      "50400\n",
      "400\n",
      "320000\n",
      "800\n",
      "160000\n",
      "200\n",
      "12800\n",
      "64\n",
      "512\n",
      "8\n",
      "8\n",
      "1\n",
      "----------------------\n",
      "Number of all parameters: \n",
      "545193\n"
     ]
    }
   ],
   "source": [
    "# Number of parameters\n",
    "num_para = 0\n",
    "for param in model.parameters():\n",
    "    print(param.numel())\n",
    "    num_para += param.numel()\n",
    "print(\"----------------------\")\n",
    "print(f'Number of all parameters: \\n{num_para}')"
   ]
  },
  {
   "cell_type": "code",
   "execution_count": 17,
   "id": "4f68fb57",
   "metadata": {},
   "outputs": [],
   "source": [
    "# Objective function and optimmizer\n",
    "criterion = nn.MSELoss()\n",
    "optimizer = optim.Adam(model.parameters(), lr=1e-3)\n",
    "# optimizer = optim.SGD(model.parameters(), lr=0.01, momentum=0.9)"
   ]
  },
  {
   "cell_type": "markdown",
   "id": "60d430bc",
   "metadata": {},
   "source": [
    "## Defining the Training Loop"
   ]
  },
  {
   "cell_type": "code",
   "execution_count": 18,
   "id": "3c9b4697",
   "metadata": {},
   "outputs": [],
   "source": [
    "def training_loop(n_epochs=1000,\n",
    "                  batch_size=100,\n",
    "                  optimizer=optimizer, \n",
    "                  model=model, \n",
    "                  loss_fn=criterion, \n",
    "                  train_features=train_features, \n",
    "                  test_features=test_features, \n",
    "                  train_targets=train_targets, \n",
    "                  test_targets=test_targets):\n",
    "    num_features = train_features.shape[0]\n",
    "    start_time = time.time()\n",
    "    all_train_loss, all_test_loss = np.zeros(n_epochs), np.zeros(n_epochs)\n",
    "    for epoch in range(1, n_epochs +1):\n",
    "        # Training: \n",
    "        epoch_losses = []\n",
    "        # looping through batches\n",
    "        for train_features, train_targets in next_batch(train_features=train_features, \n",
    "                                                        train_targets=train_targets, batch_size=batch_size): \n",
    "            train_preds = model(train_features.float())\n",
    "            train_loss = loss_fn(train_targets.float(), train_preds.float())\n",
    "            optimizer.zero_grad()\n",
    "            train_loss.backward(retain_graph=True)\n",
    "            optimizer.step()\n",
    "            \n",
    "            epoch_losses.append(train_loss.item())\n",
    "        average_epoch_loss = sum(epoch_losses)/len(epoch_losses)\n",
    "        \n",
    "        # Test:\n",
    "        with torch.no_grad():\n",
    "            test_preds = model(test_features.float())\n",
    "            test_loss = loss_fn(test_targets.float(), test_preds.float())\n",
    "        \n",
    "        all_train_loss[epoch - 1] = average_epoch_loss\n",
    "        all_test_loss[epoch - 1] = test_loss.item()\n",
    "        # Printing the result: \n",
    "        if epoch == 1 or epoch % 100 == 0:\n",
    "            print(f\"EPOCH: {epoch:{7}}\")\n",
    "            print(f\"MEAN TRAIN LOSS:   {average_epoch_loss:.11f},    TEST LOSS:   {test_loss.item():.11f}\")\n",
    "            print(\"-----------------------------------------\")\n",
    "    print(\"The total time = \", np.round(time.time() - start_time, 3), \" seconds!\")\n",
    "    return all_train_loss, all_test_loss"
   ]
  },
  {
   "cell_type": "markdown",
   "id": "02ab2601",
   "metadata": {},
   "source": [
    "# Training the model"
   ]
  },
  {
   "cell_type": "code",
   "execution_count": 19,
   "id": "0a9afbe6",
   "metadata": {
    "scrolled": false
   },
   "outputs": [
    {
     "name": "stdout",
     "output_type": "stream",
     "text": [
      "EPOCH:       1\n",
      "MEAN TRAIN LOSS:   0.02658024602,    TEST LOSS:   0.00493069831\n",
      "-----------------------------------------\n",
      "EPOCH:     100\n",
      "MEAN TRAIN LOSS:   0.00082701893,    TEST LOSS:   0.00114639197\n",
      "-----------------------------------------\n",
      "EPOCH:     200\n",
      "MEAN TRAIN LOSS:   0.00043993985,    TEST LOSS:   0.00091089145\n",
      "-----------------------------------------\n",
      "EPOCH:     300\n",
      "MEAN TRAIN LOSS:   0.00027551095,    TEST LOSS:   0.00077658764\n",
      "-----------------------------------------\n",
      "EPOCH:     400\n",
      "MEAN TRAIN LOSS:   0.00023600804,    TEST LOSS:   0.00066516822\n",
      "-----------------------------------------\n",
      "EPOCH:     500\n",
      "MEAN TRAIN LOSS:   0.00018081708,    TEST LOSS:   0.00063394918\n",
      "-----------------------------------------\n",
      "EPOCH:     600\n",
      "MEAN TRAIN LOSS:   0.00018207848,    TEST LOSS:   0.00057946070\n",
      "-----------------------------------------\n",
      "EPOCH:     700\n",
      "MEAN TRAIN LOSS:   0.00012774325,    TEST LOSS:   0.00057457626\n",
      "-----------------------------------------\n",
      "EPOCH:     800\n",
      "MEAN TRAIN LOSS:   0.00013492610,    TEST LOSS:   0.00057456858\n",
      "-----------------------------------------\n",
      "EPOCH:     900\n",
      "MEAN TRAIN LOSS:   0.00019314018,    TEST LOSS:   0.00058272196\n",
      "-----------------------------------------\n",
      "EPOCH:    1000\n",
      "MEAN TRAIN LOSS:   0.00008656783,    TEST LOSS:   0.00055256701\n",
      "-----------------------------------------\n",
      "EPOCH:    1100\n",
      "MEAN TRAIN LOSS:   0.00009403438,    TEST LOSS:   0.00054479006\n",
      "-----------------------------------------\n",
      "EPOCH:    1200\n",
      "MEAN TRAIN LOSS:   0.00008036943,    TEST LOSS:   0.00053509336\n",
      "-----------------------------------------\n",
      "EPOCH:    1300\n",
      "MEAN TRAIN LOSS:   0.00008562642,    TEST LOSS:   0.00051632244\n",
      "-----------------------------------------\n",
      "EPOCH:    1400\n",
      "MEAN TRAIN LOSS:   0.00008143485,    TEST LOSS:   0.00051196577\n",
      "-----------------------------------------\n",
      "EPOCH:    1500\n",
      "MEAN TRAIN LOSS:   0.00012959119,    TEST LOSS:   0.00051289279\n",
      "-----------------------------------------\n",
      "EPOCH:    1600\n",
      "MEAN TRAIN LOSS:   0.00008681248,    TEST LOSS:   0.00053496996\n",
      "-----------------------------------------\n",
      "EPOCH:    1700\n",
      "MEAN TRAIN LOSS:   0.00007955547,    TEST LOSS:   0.00049114216\n",
      "-----------------------------------------\n",
      "EPOCH:    1800\n",
      "MEAN TRAIN LOSS:   0.00005589689,    TEST LOSS:   0.00047235365\n",
      "-----------------------------------------\n",
      "EPOCH:    1900\n",
      "MEAN TRAIN LOSS:   0.00006398631,    TEST LOSS:   0.00050475192\n",
      "-----------------------------------------\n",
      "EPOCH:    2000\n",
      "MEAN TRAIN LOSS:   0.00005063138,    TEST LOSS:   0.00049258972\n",
      "-----------------------------------------\n",
      "The total time =  873.209  seconds!\n"
     ]
    }
   ],
   "source": [
    "losses = training_loop(n_epochs=2000,\n",
    "                  batch_size=400,\n",
    "                  optimizer=optimizer, \n",
    "                  model=model, \n",
    "                  loss_fn=criterion, \n",
    "                  train_features=train_features, \n",
    "                  test_features=test_features, \n",
    "                  train_targets=train_targets, \n",
    "                  test_targets=test_targets)"
   ]
  },
  {
   "cell_type": "code",
   "execution_count": 20,
   "id": "8b432604",
   "metadata": {},
   "outputs": [],
   "source": [
    "# Saving the train losses of pagerank as a numpy array into a file\n",
    "np.save(\"ffnn_pagerank_train_losses_random_1.npy\", losses[0], allow_pickle=False, fix_imports=True)"
   ]
  },
  {
   "cell_type": "code",
   "execution_count": 21,
   "id": "f29b9dce",
   "metadata": {},
   "outputs": [],
   "source": [
    "# Saving the test losses of pagerank as a numpy array into a file\n",
    "np.save(\"ffnn_pagerank_test_losses_random_1.npy\", losses[1], allow_pickle=False, fix_imports=True)"
   ]
  },
  {
   "cell_type": "code",
   "execution_count": 22,
   "id": "236809d9",
   "metadata": {},
   "outputs": [
    {
     "name": "stdout",
     "output_type": "stream",
     "text": [
      "target 0.01840680925145153,    prediction: 0.019018977880477905\n",
      "index 0:       inaccuracy: 3.326%\n",
      "-----------------------------------------------------------------\n",
      "target 0.01835879549224586,    prediction: 0.01902949810028076\n",
      "index 100:       inaccuracy: 3.653%\n",
      "-----------------------------------------------------------------\n",
      "target 0.01743346615496248,    prediction: 0.019047439098358154\n",
      "index 200:       inaccuracy: 9.258%\n",
      "-----------------------------------------------------------------\n",
      "target 0.018607265079228635,    prediction: 0.0190163254737854\n",
      "index 300:       inaccuracy: 2.198%\n",
      "-----------------------------------------------------------------\n",
      "target 0.01911591260040829,    prediction: 0.019030600786209106\n",
      "index 400:       inaccuracy: 0.446%\n",
      "-----------------------------------------------------------------\n",
      "target 0.023483676059293225,    prediction: 0.019006997346878052\n",
      "index 500:       inaccuracy: 19.063%\n",
      "-----------------------------------------------------------------\n",
      "target 0.01668697512232721,    prediction: 0.020060062408447266\n",
      "index 600:       inaccuracy: 20.214%\n",
      "-----------------------------------------------------------------\n",
      "target 0.028084182670263552,    prediction: 0.020400166511535645\n",
      "index 700:       inaccuracy: 27.361%\n",
      "-----------------------------------------------------------------\n",
      "target 0.017197032125957187,    prediction: 0.019033849239349365\n",
      "index 800:       inaccuracy: 10.681%\n",
      "-----------------------------------------------------------------\n",
      "target 0.06358939448162172,    prediction: 0.059406399726867676\n",
      "index 900:       inaccuracy: 6.578%\n",
      "-----------------------------------------------------------------\n",
      "target 0.01809892178828252,    prediction: 0.019010096788406372\n",
      "index 1000:       inaccuracy: 5.034%\n",
      "-----------------------------------------------------------------\n",
      "target 0.01704357560613439,    prediction: 0.019028782844543457\n",
      "index 1100:       inaccuracy: 11.648%\n",
      "-----------------------------------------------------------------\n",
      "target 0.055560607298592815,    prediction: 0.0534341037273407\n",
      "index 1200:       inaccuracy: 3.827%\n",
      "-----------------------------------------------------------------\n",
      "target 0.0358554497045993,    prediction: 0.03869017958641052\n",
      "index 1300:       inaccuracy: 7.906%\n",
      "-----------------------------------------------------------------\n",
      "target 0.03708851607452087,    prediction: 0.041795551776885986\n",
      "index 1400:       inaccuracy: 12.691%\n",
      "-----------------------------------------------------------------\n",
      "target 0.036517998801284736,    prediction: 0.04142370820045471\n",
      "index 1500:       inaccuracy: 13.434%\n",
      "-----------------------------------------------------------------\n",
      "target 0.0750771862216501,    prediction: 0.07214832305908203\n",
      "index 1600:       inaccuracy: 3.901%\n",
      "-----------------------------------------------------------------\n",
      "target 0.041977053538739866,    prediction: 0.044636934995651245\n",
      "index 1700:       inaccuracy: 6.337%\n",
      "-----------------------------------------------------------------\n",
      "target 0.017493667416029746,    prediction: 0.019021928310394287\n",
      "index 1800:       inaccuracy: 8.736%\n",
      "-----------------------------------------------------------------\n",
      "target 0.018125998602761952,    prediction: 0.019023984670639038\n",
      "index 1900:       inaccuracy: 4.954%\n",
      "-----------------------------------------------------------------\n",
      "target 0.07570957879200432,    prediction: 0.0711536705493927\n",
      "index 2000:       inaccuracy: 6.018%\n",
      "-----------------------------------------------------------------\n",
      "target 0.016802861945480283,    prediction: 0.019198298454284668\n",
      "index 2100:       inaccuracy: 14.256%\n",
      "-----------------------------------------------------------------\n",
      "target 0.05245982970067643,    prediction: 0.05310565233230591\n",
      "index 2200:       inaccuracy: 1.231%\n",
      "-----------------------------------------------------------------\n",
      "target 0.01737745745230015,    prediction: 0.019074678421020508\n",
      "index 2300:       inaccuracy: 9.767%\n",
      "-----------------------------------------------------------------\n",
      "target 0.08885902875960128,    prediction: 0.08349740505218506\n",
      "index 2400:       inaccuracy: 6.034%\n",
      "-----------------------------------------------------------------\n",
      "target 0.03960058351109598,    prediction: 0.04330289363861084\n",
      "index 2500:       inaccuracy: 9.349%\n",
      "-----------------------------------------------------------------\n",
      "target 0.12697219996608805,    prediction: 0.12282133102416992\n",
      "index 2600:       inaccuracy: 3.269%\n",
      "-----------------------------------------------------------------\n",
      "target 0.03914694960428103,    prediction: 0.04124414920806885\n",
      "index 2700:       inaccuracy: 5.357%\n",
      "-----------------------------------------------------------------\n",
      "target 0.059087597096668734,    prediction: 0.05914837121963501\n",
      "index 2800:       inaccuracy: 0.103%\n",
      "-----------------------------------------------------------------\n",
      "target 0.03630996816090666,    prediction: 0.04080408811569214\n",
      "index 2900:       inaccuracy: 12.377%\n",
      "-----------------------------------------------------------------\n",
      "target 0.016442458551044443,    prediction: 0.01900571584701538\n",
      "index 3000:       inaccuracy: 15.589%\n",
      "-----------------------------------------------------------------\n",
      "target 0.046296122037353685,    prediction: 0.04755675792694092\n",
      "index 3100:       inaccuracy: 2.723%\n",
      "-----------------------------------------------------------------\n",
      "target 0.10019618479356084,    prediction: 0.10285332798957825\n",
      "index 3200:       inaccuracy: 2.652%\n",
      "-----------------------------------------------------------------\n",
      "target 0.017546381698919103,    prediction: 0.019029736518859863\n",
      "index 3300:       inaccuracy: 8.454%\n",
      "-----------------------------------------------------------------\n",
      "target 0.07257608607249416,    prediction: 0.07030466198921204\n",
      "index 3400:       inaccuracy: 3.13%\n",
      "-----------------------------------------------------------------\n",
      "target 0.01719959648297903,    prediction: 0.0190545916557312\n",
      "index 3500:       inaccuracy: 10.785%\n",
      "-----------------------------------------------------------------\n",
      "target 0.028718921547314286,    prediction: 0.02623400092124939\n",
      "index 3600:       inaccuracy: 8.653%\n",
      "-----------------------------------------------------------------\n",
      "target 0.018913890803043083,    prediction: 0.01916387677192688\n",
      "index 3700:       inaccuracy: 1.322%\n",
      "-----------------------------------------------------------------\n",
      "target 0.0176230036973219,    prediction: 0.019120872020721436\n",
      "index 3800:       inaccuracy: 8.5%\n",
      "-----------------------------------------------------------------\n",
      "target 0.045696680474477176,    prediction: 0.0481259822845459\n",
      "index 3900:       inaccuracy: 5.316%\n",
      "-----------------------------------------------------------------\n",
      "target 0.016490698239457147,    prediction: 0.019036710262298584\n",
      "index 4000:       inaccuracy: 15.439%\n",
      "-----------------------------------------------------------------\n",
      "target 0.04517120290160388,    prediction: 0.05097848176956177\n",
      "index 4100:       inaccuracy: 12.856%\n",
      "-----------------------------------------------------------------\n",
      "target 0.03850192848117237,    prediction: 0.04035267233848572\n",
      "index 4200:       inaccuracy: 4.807%\n",
      "-----------------------------------------------------------------\n",
      "target 0.033884665793296236,    prediction: 0.023046672344207764\n",
      "index 4300:       inaccuracy: 31.985%\n",
      "-----------------------------------------------------------------\n",
      "target 0.01747251591075576,    prediction: 0.019032388925552368\n",
      "index 4400:       inaccuracy: 8.928%\n",
      "-----------------------------------------------------------------\n",
      "target 0.018709799019560863,    prediction: 0.019289672374725342\n",
      "index 4500:       inaccuracy: 3.099%\n",
      "-----------------------------------------------------------------\n",
      "target 0.08181528330795601,    prediction: 0.08245265483856201\n",
      "index 4600:       inaccuracy: 0.779%\n",
      "-----------------------------------------------------------------\n",
      "target 0.036191179401843694,    prediction: 0.04036453366279602\n",
      "index 4700:       inaccuracy: 11.531%\n",
      "-----------------------------------------------------------------\n",
      "target 0.1430544589901146,    prediction: 0.14603540301322937\n",
      "index 4800:       inaccuracy: 2.084%\n",
      "-----------------------------------------------------------------\n",
      "target 0.03470160567051551,    prediction: 0.03634822368621826\n",
      "index 4900:       inaccuracy: 4.745%\n",
      "-----------------------------------------------------------------\n"
     ]
    },
    {
     "name": "stdout",
     "output_type": "stream",
     "text": [
      "target 0.01660095830072369,    prediction: 0.019013136625289917\n",
      "index 5000:       inaccuracy: 14.53%\n",
      "-----------------------------------------------------------------\n",
      "target 0.08245329825166986,    prediction: 0.07340478897094727\n",
      "index 5100:       inaccuracy: 10.974%\n",
      "-----------------------------------------------------------------\n",
      "target 0.01690278994810026,    prediction: 0.01900780200958252\n",
      "index 5200:       inaccuracy: 12.454%\n",
      "-----------------------------------------------------------------\n",
      "target 0.01749730654301005,    prediction: 0.01904892921447754\n",
      "index 5300:       inaccuracy: 8.868%\n",
      "-----------------------------------------------------------------\n",
      "target 0.02018013027125665,    prediction: 0.019020676612854004\n",
      "index 5400:       inaccuracy: 5.746%\n",
      "-----------------------------------------------------------------\n",
      "target 0.020111292363987288,    prediction: 0.019011855125427246\n",
      "index 5500:       inaccuracy: 5.467%\n",
      "-----------------------------------------------------------------\n",
      "target 0.13091394539929876,    prediction: 0.131242036819458\n",
      "index 5600:       inaccuracy: 0.251%\n",
      "-----------------------------------------------------------------\n",
      "target 0.1199839427304443,    prediction: 0.1168716549873352\n",
      "index 5700:       inaccuracy: 2.594%\n",
      "-----------------------------------------------------------------\n",
      "target 0.018658776110151976,    prediction: 0.01900741457939148\n",
      "index 5800:       inaccuracy: 1.868%\n",
      "-----------------------------------------------------------------\n",
      "target 0.06271313668473319,    prediction: 0.05924999713897705\n",
      "index 5900:       inaccuracy: 5.522%\n",
      "-----------------------------------------------------------------\n",
      "target 0.03719141324608267,    prediction: 0.039856910705566406\n",
      "index 6000:       inaccuracy: 7.167%\n",
      "-----------------------------------------------------------------\n",
      "target 0.08810241570212475,    prediction: 0.08235889673233032\n",
      "index 6100:       inaccuracy: 6.519%\n",
      "-----------------------------------------------------------------\n",
      "target 0.03527086848554323,    prediction: 0.02575206756591797\n",
      "index 6200:       inaccuracy: 26.988%\n",
      "-----------------------------------------------------------------\n",
      "target 0.2375875471057717,    prediction: 0.2317771315574646\n",
      "index 6300:       inaccuracy: 2.446%\n",
      "-----------------------------------------------------------------\n",
      "target 0.0587707180872095,    prediction: 0.056644290685653687\n",
      "index 6400:       inaccuracy: 3.618%\n",
      "-----------------------------------------------------------------\n",
      "target 0.04540757596581915,    prediction: 0.04581540822982788\n",
      "index 6500:       inaccuracy: 0.898%\n",
      "-----------------------------------------------------------------\n",
      "target 0.040826327717020126,    prediction: 0.04267174005508423\n",
      "index 6600:       inaccuracy: 4.52%\n",
      "-----------------------------------------------------------------\n",
      "target 0.04071744698959129,    prediction: 0.040351808071136475\n",
      "index 6700:       inaccuracy: 0.898%\n",
      "-----------------------------------------------------------------\n",
      "target 0.0595854506898751,    prediction: 0.05885499715805054\n",
      "index 6800:       inaccuracy: 1.226%\n",
      "-----------------------------------------------------------------\n",
      "target 0.05644280994722819,    prediction: 0.05721402168273926\n",
      "index 6900:       inaccuracy: 1.366%\n",
      "-----------------------------------------------------------------\n",
      "target 0.07620691624879032,    prediction: 0.06543105840682983\n",
      "index 7000:       inaccuracy: 14.14%\n",
      "-----------------------------------------------------------------\n",
      "target 0.03835964625303471,    prediction: 0.04168891906738281\n",
      "index 7100:       inaccuracy: 8.679%\n",
      "-----------------------------------------------------------------\n",
      "target 0.10131702899882562,    prediction: 0.09574821591377258\n",
      "index 7200:       inaccuracy: 5.496%\n",
      "-----------------------------------------------------------------\n",
      "target 0.04620581629981227,    prediction: 0.050766706466674805\n",
      "index 7300:       inaccuracy: 9.871%\n",
      "-----------------------------------------------------------------\n",
      "target 0.1101396819375534,    prediction: 0.11013948917388916\n",
      "index 7400:       inaccuracy: 0.0%\n",
      "-----------------------------------------------------------------\n",
      "target 0.06630787772686618,    prediction: 0.06209990382194519\n",
      "index 7500:       inaccuracy: 6.346%\n",
      "-----------------------------------------------------------------\n",
      "target 0.01813730547898945,    prediction: 0.019011259078979492\n",
      "index 7600:       inaccuracy: 4.819%\n",
      "-----------------------------------------------------------------\n",
      "target 0.037378516211931084,    prediction: 0.04312199354171753\n",
      "index 7700:       inaccuracy: 15.366%\n",
      "-----------------------------------------------------------------\n",
      "target 0.051290726996628955,    prediction: 0.04534831643104553\n",
      "index 7800:       inaccuracy: 11.586%\n",
      "-----------------------------------------------------------------\n",
      "target 0.03887589176391531,    prediction: 0.04234597086906433\n",
      "index 7900:       inaccuracy: 8.926%\n",
      "-----------------------------------------------------------------\n",
      "target 0.01690169605255033,    prediction: 0.019212543964385986\n",
      "index 8000:       inaccuracy: 13.672%\n",
      "-----------------------------------------------------------------\n",
      "target 0.07674755562917407,    prediction: 0.07307496666908264\n",
      "index 8100:       inaccuracy: 4.785%\n",
      "-----------------------------------------------------------------\n",
      "target 0.01774646221276987,    prediction: 0.02124398946762085\n",
      "index 8200:       inaccuracy: 19.708%\n",
      "-----------------------------------------------------------------\n",
      "target 0.034729868737237754,    prediction: 0.03945717215538025\n",
      "index 8300:       inaccuracy: 13.612%\n",
      "-----------------------------------------------------------------\n",
      "target 0.10651917720296684,    prediction: 0.10701915621757507\n",
      "index 8400:       inaccuracy: 0.469%\n",
      "-----------------------------------------------------------------\n",
      "target 0.049948492699350845,    prediction: 0.04879343509674072\n",
      "index 8500:       inaccuracy: 2.312%\n",
      "-----------------------------------------------------------------\n",
      "target 0.017596376494990372,    prediction: 0.019021213054656982\n",
      "index 8600:       inaccuracy: 8.097%\n",
      "-----------------------------------------------------------------\n",
      "target 0.016825673163541287,    prediction: 0.019032180309295654\n",
      "index 8700:       inaccuracy: 13.114%\n",
      "-----------------------------------------------------------------\n",
      "target 0.13341001765394075,    prediction: 0.12400007247924805\n",
      "index 8800:       inaccuracy: 7.053%\n",
      "-----------------------------------------------------------------\n",
      "target 0.01873269673757084,    prediction: 0.01901903748512268\n",
      "index 8900:       inaccuracy: 1.529%\n",
      "-----------------------------------------------------------------\n",
      "target 0.020354233598950458,    prediction: 0.019064784049987793\n",
      "index 9000:       inaccuracy: 6.335%\n",
      "-----------------------------------------------------------------\n",
      "target 0.03583960671281906,    prediction: 0.03122362494468689\n",
      "index 9100:       inaccuracy: 12.88%\n",
      "-----------------------------------------------------------------\n",
      "target 0.016479483148234924,    prediction: 0.019006848335266113\n",
      "index 9200:       inaccuracy: 15.336%\n",
      "-----------------------------------------------------------------\n",
      "target 0.018755057626928133,    prediction: 0.019013047218322754\n",
      "index 9300:       inaccuracy: 1.376%\n",
      "-----------------------------------------------------------------\n",
      "target 0.028570640018351523,    prediction: 0.03392660617828369\n",
      "index 9400:       inaccuracy: 18.746%\n",
      "-----------------------------------------------------------------\n",
      "target 0.037790211318370924,    prediction: 0.04009902477264404\n",
      "index 9500:       inaccuracy: 6.11%\n",
      "-----------------------------------------------------------------\n",
      "target 0.017142901008604855,    prediction: 0.019055426120758057\n",
      "index 9600:       inaccuracy: 11.156%\n",
      "-----------------------------------------------------------------\n",
      "target 0.05147339156634758,    prediction: 0.05309182405471802\n",
      "index 9700:       inaccuracy: 3.144%\n",
      "-----------------------------------------------------------------\n",
      "target 0.06478769912559615,    prediction: 0.05857276916503906\n",
      "index 9800:       inaccuracy: 9.593%\n",
      "-----------------------------------------------------------------\n",
      "target 0.03522856347212993,    prediction: 0.02551683783531189\n",
      "index 9900:       inaccuracy: 27.568%\n",
      "-----------------------------------------------------------------\n"
     ]
    }
   ],
   "source": [
    "model.eval()\n",
    "errors = []\n",
    "for i in range(n_test):\n",
    "    targ = test_targets[i].item()\n",
    "    feat = test_features[i].float().view(1,1,126)\n",
    "    pred = model(feat).item()\n",
    "    inaccuracy = abs(1 - pred/targ) * 100\n",
    "    errors.append(inaccuracy)\n",
    "    if i%100 == 0:\n",
    "        print(f\"target {targ},    prediction: {pred}\\nindex {i}:       inaccuracy: {np.round(inaccuracy, 3)}%\")\n",
    "        print(\"-----------------------------------------------------------------\")"
   ]
  },
  {
   "cell_type": "code",
   "execution_count": 23,
   "id": "0a813b62",
   "metadata": {},
   "outputs": [
    {
     "name": "stdout",
     "output_type": "stream",
     "text": [
      "Average inaccuracy:  8.296\n"
     ]
    }
   ],
   "source": [
    "print(\"Average inaccuracy: \", np.round(sum(errors)/len(errors), 3))"
   ]
  },
  {
   "cell_type": "code",
   "execution_count": 24,
   "id": "4f7a0d3b",
   "metadata": {},
   "outputs": [],
   "source": [
    "torch.save(model, \"trained_FFNN_model_pagerank_random_1.pt\")"
   ]
  },
  {
   "cell_type": "markdown",
   "id": "30fef65f",
   "metadata": {},
   "source": [
    "# Testing the model on the second random graph"
   ]
  },
  {
   "cell_type": "code",
   "execution_count": 25,
   "id": "57be7c89",
   "metadata": {},
   "outputs": [
    {
     "data": {
      "text/plain": [
       "(20000, 6, 21)"
      ]
     },
     "execution_count": 25,
     "metadata": {},
     "output_type": "execute_result"
    }
   ],
   "source": [
    "matrix2 = np.load(\"dual_BA_20K_2_NDFC_matrix.npy\", mmap_mode=None, allow_pickle=False, fix_imports=True, encoding='ASCII')\n",
    "matrix2.shape"
   ]
  },
  {
   "cell_type": "code",
   "execution_count": 26,
   "id": "e1ec5df2",
   "metadata": {},
   "outputs": [],
   "source": [
    "matrix2 = matrix2.reshape(20000,-1)"
   ]
  },
  {
   "cell_type": "code",
   "execution_count": 27,
   "id": "17c65e8c",
   "metadata": {},
   "outputs": [
    {
     "data": {
      "text/plain": [
       "array([[3.30758022],\n",
       "       [0.42596893],\n",
       "       [0.67540063],\n",
       "       [1.41235202],\n",
       "       [0.22481765],\n",
       "       [3.11042673],\n",
       "       [1.49045843],\n",
       "       [0.14881602],\n",
       "       [0.90917785],\n",
       "       [1.1157608 ]])"
      ]
     },
     "execution_count": 27,
     "metadata": {},
     "output_type": "execute_result"
    }
   ],
   "source": [
    "# Loading and rescaling the pageank of the second graph as the target or label data\n",
    "target_pagerank2 = np.load(\"dual_BA_20K_2_pageranks.npy\", mmap_mode=None, allow_pickle=False, fix_imports=True, encoding='ASCII')\n",
    "target_pagerank2 = target_pagerank2 * 1000\n",
    "target_pagerank2[0:10]"
   ]
  },
  {
   "cell_type": "code",
   "execution_count": 28,
   "id": "b6e4a475",
   "metadata": {},
   "outputs": [
    {
     "data": {
      "text/plain": [
       "(torch.Size([20000, 126]), torch.Size([20000, 1]))"
      ]
     },
     "execution_count": 28,
     "metadata": {},
     "output_type": "execute_result"
    }
   ],
   "source": [
    "features2 = torch.from_numpy(matrix2)\n",
    "targets2 = torch.from_numpy(target_pagerank2)\n",
    "features2.shape, targets2.shape"
   ]
  },
  {
   "cell_type": "code",
   "execution_count": 29,
   "id": "ddd49d7a",
   "metadata": {},
   "outputs": [
    {
     "name": "stdout",
     "output_type": "stream",
     "text": [
      "Average inaccuracy:  8.926\n"
     ]
    }
   ],
   "source": [
    "errors2 = []\n",
    "for i in range(20000):\n",
    "    t = targets2[i].item()\n",
    "    featu = features2[i].float().view(1,1,126)\n",
    "    p = model(featu).item()\n",
    "    errors2.append(100*abs(t-p)/t)\n",
    "\n",
    "print(\"Average inaccuracy: \", np.round(sum(errors2)/len(errors2), 3))"
   ]
  },
  {
   "cell_type": "code",
   "execution_count": null,
   "id": "69741a70",
   "metadata": {},
   "outputs": [],
   "source": []
  }
 ],
 "metadata": {
  "kernelspec": {
   "display_name": "Python 3 (ipykernel)",
   "language": "python",
   "name": "python3"
  },
  "language_info": {
   "codemirror_mode": {
    "name": "ipython",
    "version": 3
   },
   "file_extension": ".py",
   "mimetype": "text/x-python",
   "name": "python",
   "nbconvert_exporter": "python",
   "pygments_lexer": "ipython3",
   "version": "3.8.3"
  }
 },
 "nbformat": 4,
 "nbformat_minor": 5
}
