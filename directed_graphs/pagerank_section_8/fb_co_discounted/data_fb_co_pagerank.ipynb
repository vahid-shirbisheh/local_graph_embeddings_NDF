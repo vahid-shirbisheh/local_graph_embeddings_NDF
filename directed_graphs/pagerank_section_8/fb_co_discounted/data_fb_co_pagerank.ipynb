{
 "cells": [
  {
   "cell_type": "code",
   "execution_count": 1,
   "id": "5c84b949",
   "metadata": {},
   "outputs": [],
   "source": [
    "from mygraph import MyGraph\n",
    "from helpers import *\n",
    "import pandas as pd"
   ]
  },
  {
   "cell_type": "markdown",
   "id": "5914cd27",
   "metadata": {},
   "source": [
    "# Importing Graph Data from CSV File"
   ]
  },
  {
   "cell_type": "code",
   "execution_count": 2,
   "id": "3ce28bb7",
   "metadata": {},
   "outputs": [
    {
     "data": {
      "text/html": [
       "<div>\n",
       "<style scoped>\n",
       "    .dataframe tbody tr th:only-of-type {\n",
       "        vertical-align: middle;\n",
       "    }\n",
       "\n",
       "    .dataframe tbody tr th {\n",
       "        vertical-align: top;\n",
       "    }\n",
       "\n",
       "    .dataframe thead th {\n",
       "        text-align: right;\n",
       "    }\n",
       "</style>\n",
       "<table border=\"1\" class=\"dataframe\">\n",
       "  <thead>\n",
       "    <tr style=\"text-align: right;\">\n",
       "      <th></th>\n",
       "      <th>node_1</th>\n",
       "      <th>node_2</th>\n",
       "    </tr>\n",
       "  </thead>\n",
       "  <tbody>\n",
       "    <tr>\n",
       "      <th>0</th>\n",
       "      <td>0</td>\n",
       "      <td>2243</td>\n",
       "    </tr>\n",
       "    <tr>\n",
       "      <th>1</th>\n",
       "      <td>0</td>\n",
       "      <td>12084</td>\n",
       "    </tr>\n",
       "    <tr>\n",
       "      <th>2</th>\n",
       "      <td>0</td>\n",
       "      <td>6169</td>\n",
       "    </tr>\n",
       "  </tbody>\n",
       "</table>\n",
       "</div>"
      ],
      "text/plain": [
       "   node_1  node_2\n",
       "0       0    2243\n",
       "1       0   12084\n",
       "2       0    6169"
      ]
     },
     "execution_count": 2,
     "metadata": {},
     "output_type": "execute_result"
    }
   ],
   "source": [
    "d = pd.read_csv(\"fb-pages-company-edges.csv\")\n",
    "d.head(3)"
   ]
  },
  {
   "cell_type": "code",
   "execution_count": 3,
   "id": "82d5f76d",
   "metadata": {},
   "outputs": [],
   "source": [
    "edge_list = [(x,y) for [x,y] in d.values]\n",
    "myg = MyGraph()\n",
    "for i in range(14113): # Creating 14113 nodes in the ordinary order\n",
    "    myg.add_vertex(i)\n",
    "myg.from_edge_list(edge_list) # Constructing the graph using the list of its edges"
   ]
  },
  {
   "cell_type": "code",
   "execution_count": 4,
   "id": "f4ae97f9",
   "metadata": {},
   "outputs": [],
   "source": [
    "nxg = copy_my_graph(myg)"
   ]
  },
  {
   "cell_type": "markdown",
   "id": "0c2e26f5",
   "metadata": {},
   "source": [
    "# PageRank\n",
    "\n",
    "Producing the PageRanks of the nodes of the graph using the library NetworkX"
   ]
  },
  {
   "cell_type": "code",
   "execution_count": 5,
   "id": "0467c680",
   "metadata": {},
   "outputs": [
    {
     "name": "stdout",
     "output_type": "stream",
     "text": [
      "Wall time: 2.29 s\n"
     ]
    },
    {
     "data": {
      "text/plain": [
       "array([[9.98507331e-05],\n",
       "       [8.87476036e-05],\n",
       "       [5.46260680e-05],\n",
       "       ...,\n",
       "       [2.81135441e-05],\n",
       "       [4.24470580e-05],\n",
       "       [3.88639532e-05]])"
      ]
     },
     "execution_count": 5,
     "metadata": {},
     "output_type": "execute_result"
    }
   ],
   "source": [
    "%%time\n",
    "# The array of pagerank of vertices of the graph\n",
    "np_target_page = np.array(list(nx.algorithms.link_analysis.pagerank_alg.pagerank(nxg).values())).reshape(-1,1)\n",
    "np_target_page"
   ]
  },
  {
   "cell_type": "code",
   "execution_count": 6,
   "id": "46bdf885",
   "metadata": {},
   "outputs": [],
   "source": [
    "# Saving the pagerank as a numpy array into a file\n",
    "np.save(\"fb_co_pages_pageranks.npy\", np_target_page, allow_pickle=False, fix_imports=True)"
   ]
  },
  {
   "cell_type": "code",
   "execution_count": null,
   "id": "5c3b86ed",
   "metadata": {},
   "outputs": [],
   "source": []
  }
 ],
 "metadata": {
  "kernelspec": {
   "display_name": "Python 3 (ipykernel)",
   "language": "python",
   "name": "python3"
  },
  "language_info": {
   "codemirror_mode": {
    "name": "ipython",
    "version": 3
   },
   "file_extension": ".py",
   "mimetype": "text/x-python",
   "name": "python",
   "nbconvert_exporter": "python",
   "pygments_lexer": "ipython3",
   "version": "3.8.3"
  }
 },
 "nbformat": 4,
 "nbformat_minor": 5
}
