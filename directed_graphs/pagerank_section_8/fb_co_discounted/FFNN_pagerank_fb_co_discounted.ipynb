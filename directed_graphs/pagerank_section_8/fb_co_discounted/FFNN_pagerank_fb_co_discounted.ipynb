{
 "cells": [
  {
   "cell_type": "markdown",
   "id": "31b500b5",
   "metadata": {},
   "source": [
    "# The feedforward neural network model for learning PageRank"
   ]
  },
  {
   "cell_type": "code",
   "execution_count": 1,
   "id": "a9854c00",
   "metadata": {},
   "outputs": [],
   "source": [
    "import time\n",
    "from helpers import *"
   ]
  },
  {
   "cell_type": "code",
   "execution_count": 2,
   "id": "c8783184",
   "metadata": {},
   "outputs": [],
   "source": [
    "import torch\n",
    "import torch.nn as nn\n",
    "import torch.optim as optim\n",
    "import torch.nn.functional as F"
   ]
  },
  {
   "cell_type": "markdown",
   "id": "cfdc752f",
   "metadata": {},
   "source": [
    "## Loading the dataset from numpy files"
   ]
  },
  {
   "cell_type": "code",
   "execution_count": 3,
   "id": "0a2177fd",
   "metadata": {},
   "outputs": [
    {
     "data": {
      "text/plain": [
       "array([9.98507331e-05])"
      ]
     },
     "execution_count": 3,
     "metadata": {},
     "output_type": "execute_result"
    }
   ],
   "source": [
    "# Pageank as the target or label data\n",
    "target_pagerank = np.load(\"fb_co_pages_pageranks.npy\", mmap_mode=None, allow_pickle=False, fix_imports=True, encoding='ASCII')\n",
    "target_pagerank[0]"
   ]
  },
  {
   "cell_type": "code",
   "execution_count": 4,
   "id": "23f24350",
   "metadata": {},
   "outputs": [
    {
     "data": {
      "text/plain": [
       "array([0.99850733])"
      ]
     },
     "execution_count": 4,
     "metadata": {},
     "output_type": "execute_result"
    }
   ],
   "source": [
    "# scaling the PageRank data\n",
    "target_pagerank = target_pagerank * 10000\n",
    "target_pagerank[0]"
   ]
  },
  {
   "cell_type": "code",
   "execution_count": 5,
   "id": "cec6039f",
   "metadata": {},
   "outputs": [
    {
     "data": {
      "text/plain": [
       "(14113, 1)"
      ]
     },
     "execution_count": 5,
     "metadata": {},
     "output_type": "execute_result"
    }
   ],
   "source": [
    "target_pagerank.shape"
   ]
  },
  {
   "cell_type": "code",
   "execution_count": 6,
   "id": "613797d7",
   "metadata": {},
   "outputs": [],
   "source": [
    "# the order 5 NFDC matrix as the feature set\n",
    "matrix_1 = np.load(\"fb_co_pages_discounted_NDFC_matrix_r1-30_sta1_max50_rad5.npy\", mmap_mode=None, allow_pickle=False, fix_imports=True, encoding='ASCII')"
   ]
  },
  {
   "cell_type": "code",
   "execution_count": 7,
   "id": "94c81831",
   "metadata": {},
   "outputs": [
    {
     "data": {
      "text/plain": [
       "(14113, 6, 17)"
      ]
     },
     "execution_count": 7,
     "metadata": {},
     "output_type": "execute_result"
    }
   ],
   "source": [
    "matrix_1.shape"
   ]
  },
  {
   "cell_type": "code",
   "execution_count": 8,
   "id": "ac052a5f",
   "metadata": {},
   "outputs": [
    {
     "data": {
      "text/plain": [
       "array([[0.00000e+00, 0.00000e+00, 0.00000e+00, 2.00000e+00, 1.00000e+00,\n",
       "        0.00000e+00, 0.00000e+00, 0.00000e+00, 0.00000e+00, 0.00000e+00,\n",
       "        0.00000e+00, 0.00000e+00, 0.00000e+00, 0.00000e+00, 0.00000e+00,\n",
       "        0.00000e+00, 0.00000e+00],\n",
       "       [0.00000e+00, 0.00000e+00, 2.05556e-01, 3.27778e-01, 8.33330e-02,\n",
       "        0.00000e+00, 2.05556e-01, 5.55560e-02, 0.00000e+00, 0.00000e+00,\n",
       "        0.00000e+00, 0.00000e+00, 0.00000e+00, 0.00000e+00, 1.22222e-01,\n",
       "        0.00000e+00, 0.00000e+00],\n",
       "       [1.91670e-02, 1.25000e-03, 5.37500e-02, 1.47197e-01, 1.47917e-01,\n",
       "        9.60980e-02, 6.51140e-02, 1.86780e-01, 3.08330e-02, 5.54170e-02,\n",
       "        2.45830e-02, 8.75000e-03, 2.04170e-02, 6.15150e-02, 3.15150e-02,\n",
       "        1.81820e-02, 3.15150e-02],\n",
       "       [1.14010e-02, 2.27700e-02, 2.77640e-02, 6.91750e-02, 5.25770e-02,\n",
       "        6.92940e-02, 9.92490e-02, 9.42720e-02, 9.63990e-02, 1.23248e-01,\n",
       "        6.29110e-02, 4.95400e-02, 3.59460e-02, 2.51710e-02, 1.24235e-01,\n",
       "        1.33000e-02, 2.27470e-02],\n",
       "       [2.04820e-02, 2.95600e-02, 3.35690e-02, 7.83390e-02, 7.92010e-02,\n",
       "        1.06807e-01, 1.05189e-01, 1.22196e-01, 1.05440e-01, 8.15370e-02,\n",
       "        5.98130e-02, 5.01510e-02, 3.71050e-02, 2.75140e-02, 1.69290e-02,\n",
       "        3.03910e-02, 1.57780e-02],\n",
       "       [2.26750e-02, 4.20080e-02, 4.34380e-02, 9.74700e-02, 9.75770e-02,\n",
       "        1.17864e-01, 1.17196e-01, 1.13002e-01, 1.00660e-01, 7.45840e-02,\n",
       "        5.60970e-02, 4.09080e-02, 3.33590e-02, 1.52080e-02, 9.05500e-03,\n",
       "        1.45030e-02, 4.39500e-03]])"
      ]
     },
     "execution_count": 8,
     "metadata": {},
     "output_type": "execute_result"
    }
   ],
   "source": [
    "matrix_1[111]"
   ]
  },
  {
   "cell_type": "code",
   "execution_count": 9,
   "id": "571e015b",
   "metadata": {},
   "outputs": [
    {
     "data": {
      "text/plain": [
       "(14113, 102)"
      ]
     },
     "execution_count": 9,
     "metadata": {},
     "output_type": "execute_result"
    }
   ],
   "source": [
    "matrix_1 = matrix_1.reshape(14113,-1)\n",
    "matrix_1.shape"
   ]
  },
  {
   "cell_type": "markdown",
   "id": "da03d5cb",
   "metadata": {},
   "source": [
    "# Converting the data into pytorch tenors"
   ]
  },
  {
   "cell_type": "code",
   "execution_count": 10,
   "id": "70a724b2",
   "metadata": {},
   "outputs": [
    {
     "data": {
      "text/plain": [
       "(torch.Size([14113, 102]), torch.Size([14113, 1]))"
      ]
     },
     "execution_count": 10,
     "metadata": {},
     "output_type": "execute_result"
    }
   ],
   "source": [
    "features = torch.from_numpy(matrix_1)\n",
    "targets = torch.from_numpy(target_pagerank)\n",
    "features.shape, targets.shape"
   ]
  },
  {
   "cell_type": "code",
   "execution_count": 11,
   "id": "b3cf09de",
   "metadata": {},
   "outputs": [
    {
     "data": {
      "text/plain": [
       "tensor([[0.9985],\n",
       "        [0.8875],\n",
       "        [0.5463],\n",
       "        ...,\n",
       "        [0.2811],\n",
       "        [0.4245],\n",
       "        [0.3886]], dtype=torch.float64, requires_grad=True)"
      ]
     },
     "execution_count": 11,
     "metadata": {},
     "output_type": "execute_result"
    }
   ],
   "source": [
    "# Activating the automatic gradient \n",
    "features.requires_grad_(True)\n",
    "targets.requires_grad_(True)"
   ]
  },
  {
   "cell_type": "code",
   "execution_count": 12,
   "id": "1ab8749e",
   "metadata": {},
   "outputs": [
    {
     "data": {
      "text/plain": [
       "(torch.Size([10000, 102]),\n",
       " torch.Size([4113, 102]),\n",
       " torch.Size([10000, 1]),\n",
       " torch.Size([4113, 1]))"
      ]
     },
     "execution_count": 12,
     "metadata": {},
     "output_type": "execute_result"
    }
   ],
   "source": [
    "# Shuffling and dividing the indecies\n",
    "n_samples = features.shape[0]\n",
    "n_test = 4113\n",
    "shuffled_ind = torch.randperm(n_samples)\n",
    "train_ind = shuffled_ind[:-n_test]\n",
    "test_ind = shuffled_ind[-n_test:]\n",
    "# Dividing features and targets into tain and test sets\n",
    "train_features = features[train_ind]\n",
    "test_features = features[test_ind]\n",
    "train_targets = targets[train_ind]\n",
    "test_targets = targets[test_ind]\n",
    "train_features.shape, test_features.shape, train_targets.shape, test_targets.shape"
   ]
  },
  {
   "cell_type": "markdown",
   "id": "4d960fdc",
   "metadata": {},
   "source": [
    "## A function for dividing train data into batches"
   ]
  },
  {
   "cell_type": "code",
   "execution_count": 13,
   "id": "a0515de8",
   "metadata": {},
   "outputs": [],
   "source": [
    "# dividing train_features and train_targets into batches\n",
    "def next_batch(train_features, train_targets, batch_size=100):\n",
    "    num_features = train_features.shape[0]\n",
    "    # Shuffling\n",
    "    shuffled_ind = torch.randperm(num_features)\n",
    "    shuffled_train_features = train_features[shuffled_ind]\n",
    "    shuffled_train_targets = train_targets[shuffled_ind]\n",
    "    # Dividing\n",
    "    i = 0\n",
    "    while i < num_features:\n",
    "        i += batch_size\n",
    "        yield (shuffled_train_features[i-batch_size:i], shuffled_train_targets[i-batch_size:i])\n",
    "    return"
   ]
  },
  {
   "cell_type": "markdown",
   "id": "d53422f6",
   "metadata": {},
   "source": [
    "## The feedforward neural network model"
   ]
  },
  {
   "cell_type": "code",
   "execution_count": 14,
   "id": "b8ef9f95",
   "metadata": {},
   "outputs": [],
   "source": [
    "# The Feedforward Neural Network \n",
    "class FFNN_model(nn.Module):\n",
    "    def __init__(self):\n",
    "        super().__init__()\n",
    "        num_features = features.shape[1]\n",
    "        self.fc1 = nn.Linear(num_features, 400)\n",
    "        self.fc2 = nn.Linear(400, 800)\n",
    "        self.fc3 = nn.Linear(800, 200)\n",
    "        self.fc4 = nn.Linear(200, 64)\n",
    "        self.fc5 = nn.Linear(64, 8)\n",
    "        self.fc6 = nn.Linear(8, 1)\n",
    "        self.dropout1 = nn.Dropout(0.4)\n",
    "        self.dropout2 = nn.Dropout(0.3)\n",
    "        self.dropout3 = nn.Dropout(0.5)\n",
    "    \n",
    "    def forward(self, X):\n",
    "        X = torch.tanh(self.fc1(X))\n",
    "        X = torch.relu(self.fc2(X))\n",
    "        X = self.dropout1(X)\n",
    "        X = torch.relu(self.fc3(X))\n",
    "        X = self.dropout3(X)\n",
    "        X = torch.relu(self.fc4(X))\n",
    "        X = self.dropout2(X)\n",
    "        X = torch.tanh(self.fc5(X))\n",
    "        return self.fc6(X)"
   ]
  },
  {
   "cell_type": "code",
   "execution_count": 15,
   "id": "dbd6afbe",
   "metadata": {},
   "outputs": [
    {
     "data": {
      "text/plain": [
       "FFNN_model(\n",
       "  (fc1): Linear(in_features=102, out_features=400, bias=True)\n",
       "  (fc2): Linear(in_features=400, out_features=800, bias=True)\n",
       "  (fc3): Linear(in_features=800, out_features=200, bias=True)\n",
       "  (fc4): Linear(in_features=200, out_features=64, bias=True)\n",
       "  (fc5): Linear(in_features=64, out_features=8, bias=True)\n",
       "  (fc6): Linear(in_features=8, out_features=1, bias=True)\n",
       "  (dropout1): Dropout(p=0.4, inplace=False)\n",
       "  (dropout2): Dropout(p=0.3, inplace=False)\n",
       "  (dropout3): Dropout(p=0.5, inplace=False)\n",
       ")"
      ]
     },
     "execution_count": 15,
     "metadata": {},
     "output_type": "execute_result"
    }
   ],
   "source": [
    "# Instantiation of the model\n",
    "torch.manual_seed(42)\n",
    "model = FFNN_model()\n",
    "model"
   ]
  },
  {
   "cell_type": "code",
   "execution_count": 16,
   "id": "9a867c25",
   "metadata": {},
   "outputs": [
    {
     "name": "stdout",
     "output_type": "stream",
     "text": [
      "40800\n",
      "400\n",
      "320000\n",
      "800\n",
      "160000\n",
      "200\n",
      "12800\n",
      "64\n",
      "512\n",
      "8\n",
      "8\n",
      "1\n",
      "----------------------\n",
      "Number of all parameters: \n",
      "535593\n"
     ]
    }
   ],
   "source": [
    "# Number of parameters\n",
    "num_para = 0\n",
    "for param in model.parameters():\n",
    "    print(param.numel())\n",
    "    num_para += param.numel()\n",
    "print(\"----------------------\")\n",
    "print(f'Number of all parameters: \\n{num_para}')"
   ]
  },
  {
   "cell_type": "code",
   "execution_count": 17,
   "id": "4f68fb57",
   "metadata": {},
   "outputs": [],
   "source": [
    "# Objective function and optimmizer\n",
    "criterion = nn.MSELoss()\n",
    "optimizer = optim.Adam(model.parameters(), lr=1e-3)\n",
    "# optimizer = optim.SGD(model.parameters(), lr=0.01, momentum=0.9)"
   ]
  },
  {
   "cell_type": "markdown",
   "id": "60d430bc",
   "metadata": {},
   "source": [
    "## Defining the Training Loop"
   ]
  },
  {
   "cell_type": "code",
   "execution_count": 18,
   "id": "3c9b4697",
   "metadata": {},
   "outputs": [],
   "source": [
    "def training_loop(n_epochs=1000,\n",
    "                  batch_size=100,\n",
    "                  optimizer=optimizer, \n",
    "                  model=model, \n",
    "                  loss_fn=criterion, \n",
    "                  train_features=train_features, \n",
    "                  test_features=test_features, \n",
    "                  train_targets=train_targets, \n",
    "                  test_targets=test_targets):\n",
    "    num_features = train_features.shape[0]\n",
    "    start_time = time.time()\n",
    "    all_train_loss, all_test_loss = np.zeros(n_epochs), np.zeros(n_epochs)\n",
    "    for epoch in range(1, n_epochs +1):\n",
    "        # Training: \n",
    "        epoch_losses = []\n",
    "        # looping through batches\n",
    "        for train_features, train_targets in next_batch(train_features=train_features, \n",
    "                                                        train_targets=train_targets, batch_size=batch_size): \n",
    "            train_preds = model(train_features.float())\n",
    "            train_loss = loss_fn(train_targets.float(), train_preds.float())\n",
    "            optimizer.zero_grad()\n",
    "            train_loss.backward(retain_graph=True)\n",
    "            optimizer.step()\n",
    "            \n",
    "            epoch_losses.append(train_loss.item())\n",
    "        average_epoch_loss = sum(epoch_losses)/len(epoch_losses)\n",
    "        \n",
    "        # Test:\n",
    "        with torch.no_grad():\n",
    "            test_preds = model(test_features.float())\n",
    "            test_loss = loss_fn(test_targets.float(), test_preds.float())\n",
    "        \n",
    "        all_train_loss[epoch - 1] = average_epoch_loss\n",
    "        all_test_loss[epoch - 1] = test_loss.item()\n",
    "        # Printing the result: \n",
    "        if epoch == 1 or epoch % 100 == 0:\n",
    "            print(f\"EPOCH: {epoch:{7}}\")\n",
    "            print(f\"MEAN TRAIN LOSS:   {average_epoch_loss:.11f},    TEST LOSS:   {test_loss.item():.11f}\")\n",
    "            print(\"-----------------------------------------\")\n",
    "    print(\"The total time = \", np.round(time.time() - start_time, 3), \" seconds!\")\n",
    "    return all_train_loss, all_test_loss"
   ]
  },
  {
   "cell_type": "markdown",
   "id": "02ab2601",
   "metadata": {},
   "source": [
    "# Training the model"
   ]
  },
  {
   "cell_type": "code",
   "execution_count": 19,
   "id": "0a9afbe6",
   "metadata": {
    "scrolled": false
   },
   "outputs": [
    {
     "name": "stdout",
     "output_type": "stream",
     "text": [
      "EPOCH:       1\n",
      "MEAN TRAIN LOSS:   0.57362449408,    TEST LOSS:   0.39788141847\n",
      "-----------------------------------------\n",
      "EPOCH:     100\n",
      "MEAN TRAIN LOSS:   0.14499205351,    TEST LOSS:   0.25034418702\n",
      "-----------------------------------------\n",
      "EPOCH:     200\n",
      "MEAN TRAIN LOSS:   0.09449286759,    TEST LOSS:   0.19527198374\n",
      "-----------------------------------------\n",
      "EPOCH:     300\n",
      "MEAN TRAIN LOSS:   0.06507074833,    TEST LOSS:   0.16484817863\n",
      "-----------------------------------------\n",
      "EPOCH:     400\n",
      "MEAN TRAIN LOSS:   0.04731440544,    TEST LOSS:   0.14349725842\n",
      "-----------------------------------------\n",
      "EPOCH:     500\n",
      "MEAN TRAIN LOSS:   0.03464121744,    TEST LOSS:   0.13228189945\n",
      "-----------------------------------------\n",
      "EPOCH:     600\n",
      "MEAN TRAIN LOSS:   0.02549823560,    TEST LOSS:   0.12769885361\n",
      "-----------------------------------------\n",
      "EPOCH:     700\n",
      "MEAN TRAIN LOSS:   0.02140236832,    TEST LOSS:   0.11747862399\n",
      "-----------------------------------------\n",
      "EPOCH:     800\n",
      "MEAN TRAIN LOSS:   0.01743256859,    TEST LOSS:   0.11277287453\n",
      "-----------------------------------------\n",
      "EPOCH:     900\n",
      "MEAN TRAIN LOSS:   0.01585211046,    TEST LOSS:   0.10299818218\n",
      "-----------------------------------------\n",
      "EPOCH:    1000\n",
      "MEAN TRAIN LOSS:   0.01222529914,    TEST LOSS:   0.10338435322\n",
      "-----------------------------------------\n",
      "EPOCH:    1100\n",
      "MEAN TRAIN LOSS:   0.01057213545,    TEST LOSS:   0.10657537729\n",
      "-----------------------------------------\n",
      "EPOCH:    1200\n",
      "MEAN TRAIN LOSS:   0.00926079135,    TEST LOSS:   0.09777801484\n",
      "-----------------------------------------\n",
      "EPOCH:    1300\n",
      "MEAN TRAIN LOSS:   0.00780522684,    TEST LOSS:   0.09673281759\n",
      "-----------------------------------------\n",
      "EPOCH:    1400\n",
      "MEAN TRAIN LOSS:   0.00603348901,    TEST LOSS:   0.10313514620\n",
      "-----------------------------------------\n",
      "EPOCH:    1500\n",
      "MEAN TRAIN LOSS:   0.00452686148,    TEST LOSS:   0.10125747323\n",
      "-----------------------------------------\n",
      "EPOCH:    1600\n",
      "MEAN TRAIN LOSS:   0.00440034503,    TEST LOSS:   0.10416834056\n",
      "-----------------------------------------\n",
      "EPOCH:    1700\n",
      "MEAN TRAIN LOSS:   0.00355607364,    TEST LOSS:   0.10886251926\n",
      "-----------------------------------------\n",
      "EPOCH:    1800\n",
      "MEAN TRAIN LOSS:   0.00367766502,    TEST LOSS:   0.10873738676\n",
      "-----------------------------------------\n",
      "EPOCH:    1900\n",
      "MEAN TRAIN LOSS:   0.00373241398,    TEST LOSS:   0.10358096659\n",
      "-----------------------------------------\n",
      "EPOCH:    2000\n",
      "MEAN TRAIN LOSS:   0.00368068088,    TEST LOSS:   0.11497138441\n",
      "-----------------------------------------\n",
      "The total time =  578.444  seconds!\n"
     ]
    }
   ],
   "source": [
    "losses = training_loop(n_epochs=2000,\n",
    "                  batch_size=400,\n",
    "                  optimizer=optimizer, \n",
    "                  model=model, \n",
    "                  loss_fn=criterion, \n",
    "                  train_features=train_features, \n",
    "                  test_features=test_features, \n",
    "                  train_targets=train_targets, \n",
    "                  test_targets=test_targets)"
   ]
  },
  {
   "cell_type": "code",
   "execution_count": 20,
   "id": "236809d9",
   "metadata": {},
   "outputs": [
    {
     "name": "stdout",
     "output_type": "stream",
     "text": [
      "target 0.4980338141461339,    prediction: 0.5440704226493835\n",
      "index 0:       inaccuracy: 9.244%\n",
      "-----------------------------------------------------------------\n",
      "target 0.5008044540971669,    prediction: 0.5267464518547058\n",
      "index 100:       inaccuracy: 5.18%\n",
      "-----------------------------------------------------------------\n",
      "target 1.191392550177932,    prediction: 1.3120272159576416\n",
      "index 200:       inaccuracy: 10.126%\n",
      "-----------------------------------------------------------------\n",
      "target 0.49278578777108006,    prediction: 0.5346738696098328\n",
      "index 300:       inaccuracy: 8.5%\n",
      "-----------------------------------------------------------------\n",
      "target 0.3929430916496587,    prediction: 0.38885530829429626\n",
      "index 400:       inaccuracy: 1.04%\n",
      "-----------------------------------------------------------------\n",
      "target 1.353300532844947,    prediction: 1.270524263381958\n",
      "index 500:       inaccuracy: 6.117%\n",
      "-----------------------------------------------------------------\n",
      "target 0.7172099031383945,    prediction: 0.7476527690887451\n",
      "index 600:       inaccuracy: 4.245%\n",
      "-----------------------------------------------------------------\n",
      "target 0.20965018706634397,    prediction: 0.2376396358013153\n",
      "index 700:       inaccuracy: 13.351%\n",
      "-----------------------------------------------------------------\n",
      "target 0.5020961634724626,    prediction: 0.48782339692115784\n",
      "index 800:       inaccuracy: 2.843%\n",
      "-----------------------------------------------------------------\n",
      "target 0.4114091423023218,    prediction: 0.4206477701663971\n",
      "index 900:       inaccuracy: 2.246%\n",
      "-----------------------------------------------------------------\n",
      "target 0.6185388070142142,    prediction: 0.6853281259536743\n",
      "index 1000:       inaccuracy: 10.798%\n",
      "-----------------------------------------------------------------\n",
      "target 0.7085817486539038,    prediction: 0.8196421265602112\n",
      "index 1100:       inaccuracy: 15.674%\n",
      "-----------------------------------------------------------------\n",
      "target 1.180590006162948,    prediction: 1.114612102508545\n",
      "index 1200:       inaccuracy: 5.589%\n",
      "-----------------------------------------------------------------\n",
      "target 0.4885756969410749,    prediction: 0.5672124624252319\n",
      "index 1300:       inaccuracy: 16.095%\n",
      "-----------------------------------------------------------------\n",
      "target 0.5555182241360559,    prediction: 0.5726226568222046\n",
      "index 1400:       inaccuracy: 3.079%\n",
      "-----------------------------------------------------------------\n",
      "target 0.37900862790157824,    prediction: 0.3909354507923126\n",
      "index 1500:       inaccuracy: 3.147%\n",
      "-----------------------------------------------------------------\n",
      "target 0.5694259277558337,    prediction: 0.5664910674095154\n",
      "index 1600:       inaccuracy: 0.515%\n",
      "-----------------------------------------------------------------\n",
      "target 0.6218477246069628,    prediction: 0.6603315472602844\n",
      "index 1700:       inaccuracy: 6.189%\n",
      "-----------------------------------------------------------------\n",
      "target 0.5589797813492894,    prediction: 0.6192528605461121\n",
      "index 1800:       inaccuracy: 10.783%\n",
      "-----------------------------------------------------------------\n",
      "target 0.2996214845538629,    prediction: 0.3052275776863098\n",
      "index 1900:       inaccuracy: 1.871%\n",
      "-----------------------------------------------------------------\n",
      "target 0.33169746329254834,    prediction: 0.3442411720752716\n",
      "index 2000:       inaccuracy: 3.782%\n",
      "-----------------------------------------------------------------\n",
      "target 0.4372490976576157,    prediction: 0.4893895089626312\n",
      "index 2100:       inaccuracy: 11.925%\n",
      "-----------------------------------------------------------------\n",
      "target 0.9726289214125824,    prediction: 0.9879887104034424\n",
      "index 2200:       inaccuracy: 1.579%\n",
      "-----------------------------------------------------------------\n",
      "target 0.2829742684945505,    prediction: 0.31200313568115234\n",
      "index 2300:       inaccuracy: 10.258%\n",
      "-----------------------------------------------------------------\n",
      "target 0.39770311271276876,    prediction: 0.45188847184181213\n",
      "index 2400:       inaccuracy: 13.625%\n",
      "-----------------------------------------------------------------\n",
      "target 1.134503827068205,    prediction: 1.1864904165267944\n",
      "index 2500:       inaccuracy: 4.582%\n",
      "-----------------------------------------------------------------\n",
      "target 0.19948372429351002,    prediction: 0.2306244969367981\n",
      "index 2600:       inaccuracy: 15.611%\n",
      "-----------------------------------------------------------------\n",
      "target 1.2729549091753771,    prediction: 1.4592859745025635\n",
      "index 2700:       inaccuracy: 14.638%\n",
      "-----------------------------------------------------------------\n",
      "target 0.35258293773562066,    prediction: 0.35733601450920105\n",
      "index 2800:       inaccuracy: 1.348%\n",
      "-----------------------------------------------------------------\n",
      "target 4.8940001594527125,    prediction: 4.497316360473633\n",
      "index 2900:       inaccuracy: 8.106%\n",
      "-----------------------------------------------------------------\n",
      "target 0.5680568700173101,    prediction: 0.6031114459037781\n",
      "index 3000:       inaccuracy: 6.171%\n",
      "-----------------------------------------------------------------\n",
      "target 0.3578788970978929,    prediction: 0.3355712890625\n",
      "index 3100:       inaccuracy: 6.233%\n",
      "-----------------------------------------------------------------\n",
      "target 0.5630452134970287,    prediction: 0.461112916469574\n",
      "index 3200:       inaccuracy: 18.104%\n",
      "-----------------------------------------------------------------\n",
      "target 1.1938476271768823,    prediction: 1.098132848739624\n",
      "index 3300:       inaccuracy: 8.017%\n",
      "-----------------------------------------------------------------\n",
      "target 0.4493482013313808,    prediction: 0.4693669378757477\n",
      "index 3400:       inaccuracy: 4.455%\n",
      "-----------------------------------------------------------------\n",
      "target 0.5063803609926933,    prediction: 0.5750284194946289\n",
      "index 3500:       inaccuracy: 13.557%\n",
      "-----------------------------------------------------------------\n",
      "target 0.25628332596148834,    prediction: 0.26044079661369324\n",
      "index 3600:       inaccuracy: 1.622%\n",
      "-----------------------------------------------------------------\n",
      "target 0.42251360116052333,    prediction: 0.43685707449913025\n",
      "index 3700:       inaccuracy: 3.395%\n",
      "-----------------------------------------------------------------\n",
      "target 0.20052577286876408,    prediction: 0.2245652973651886\n",
      "index 3800:       inaccuracy: 11.988%\n",
      "-----------------------------------------------------------------\n",
      "target 2.4825238263889746,    prediction: 2.3280324935913086\n",
      "index 3900:       inaccuracy: 6.223%\n",
      "-----------------------------------------------------------------\n",
      "target 0.7568777921855184,    prediction: 0.730959951877594\n",
      "index 4000:       inaccuracy: 3.424%\n",
      "-----------------------------------------------------------------\n",
      "target 0.19657433997232465,    prediction: 0.22112756967544556\n",
      "index 4100:       inaccuracy: 12.491%\n",
      "-----------------------------------------------------------------\n"
     ]
    }
   ],
   "source": [
    "model.eval()\n",
    "errors = []\n",
    "for i in range(n_test):\n",
    "    targ = test_targets[i].item()\n",
    "    feat = test_features[i].float().view(1,1,102)\n",
    "    pred = model(feat).item()\n",
    "    inaccuracy = abs(1 - pred/targ) * 100\n",
    "    errors.append(inaccuracy)\n",
    "    if i%100 == 0:\n",
    "        print(f\"target {targ},    prediction: {pred}\\nindex {i}:       inaccuracy: {np.round(inaccuracy, 3)}%\")\n",
    "        print(\"-----------------------------------------------------------------\")"
   ]
  },
  {
   "cell_type": "code",
   "execution_count": 21,
   "id": "0a813b62",
   "metadata": {},
   "outputs": [
    {
     "name": "stdout",
     "output_type": "stream",
     "text": [
      "Average inaccuracy:  9.09\n"
     ]
    }
   ],
   "source": [
    "print(\"Average inaccuracy: \", np.round(sum(errors)/len(errors), 3))"
   ]
  },
  {
   "cell_type": "code",
   "execution_count": 22,
   "id": "4f7a0d3b",
   "metadata": {},
   "outputs": [],
   "source": [
    "torch.save(model, \"trained_FFNN_model_pagerank_discounted.pt\")"
   ]
  },
  {
   "cell_type": "code",
   "execution_count": null,
   "id": "1d3225f1",
   "metadata": {},
   "outputs": [],
   "source": []
  }
 ],
 "metadata": {
  "kernelspec": {
   "display_name": "Python 3 (ipykernel)",
   "language": "python",
   "name": "python3"
  },
  "language_info": {
   "codemirror_mode": {
    "name": "ipython",
    "version": 3
   },
   "file_extension": ".py",
   "mimetype": "text/x-python",
   "name": "python",
   "nbconvert_exporter": "python",
   "pygments_lexer": "ipython3",
   "version": "3.8.3"
  }
 },
 "nbformat": 4,
 "nbformat_minor": 5
}
