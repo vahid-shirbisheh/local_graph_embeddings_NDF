{
 "cells": [
  {
   "cell_type": "code",
   "execution_count": 1,
   "id": "5c84b949",
   "metadata": {},
   "outputs": [],
   "source": [
    "from helpers import *\n",
    "import pandas as pd"
   ]
  },
  {
   "cell_type": "markdown",
   "id": "5914cd27",
   "metadata": {},
   "source": [
    "# Importing Graph Data from CSV File"
   ]
  },
  {
   "cell_type": "code",
   "execution_count": 2,
   "id": "3ce28bb7",
   "metadata": {},
   "outputs": [
    {
     "data": {
      "text/html": [
       "<div>\n",
       "<style scoped>\n",
       "    .dataframe tbody tr th:only-of-type {\n",
       "        vertical-align: middle;\n",
       "    }\n",
       "\n",
       "    .dataframe tbody tr th {\n",
       "        vertical-align: top;\n",
       "    }\n",
       "\n",
       "    .dataframe thead th {\n",
       "        text-align: right;\n",
       "    }\n",
       "</style>\n",
       "<table border=\"1\" class=\"dataframe\">\n",
       "  <thead>\n",
       "    <tr style=\"text-align: right;\">\n",
       "      <th></th>\n",
       "      <th>node_1</th>\n",
       "      <th>node_2</th>\n",
       "    </tr>\n",
       "  </thead>\n",
       "  <tbody>\n",
       "    <tr>\n",
       "      <th>0</th>\n",
       "      <td>0</td>\n",
       "      <td>2243</td>\n",
       "    </tr>\n",
       "    <tr>\n",
       "      <th>1</th>\n",
       "      <td>0</td>\n",
       "      <td>12084</td>\n",
       "    </tr>\n",
       "    <tr>\n",
       "      <th>2</th>\n",
       "      <td>0</td>\n",
       "      <td>6169</td>\n",
       "    </tr>\n",
       "  </tbody>\n",
       "</table>\n",
       "</div>"
      ],
      "text/plain": [
       "   node_1  node_2\n",
       "0       0    2243\n",
       "1       0   12084\n",
       "2       0    6169"
      ]
     },
     "execution_count": 2,
     "metadata": {},
     "output_type": "execute_result"
    }
   ],
   "source": [
    "d = pd.read_csv(\"fb-pages-company-edges.csv\")\n",
    "d.head(3)"
   ]
  },
  {
   "cell_type": "code",
   "execution_count": 3,
   "id": "82d5f76d",
   "metadata": {},
   "outputs": [],
   "source": [
    "edge_list = [(x,y) for [x,y] in d.values]\n",
    "myg = MyGraph()\n",
    "for i in range(14113): # Creating 14113 nodes in the ordinary order\n",
    "    myg.add_vertex(i)\n",
    "myg.from_edge_list(edge_list) # Constructing the graph using the list of its edges"
   ]
  },
  {
   "cell_type": "markdown",
   "id": "28546bd5",
   "metadata": {},
   "source": [
    "# The NDFC matrix representation"
   ]
  },
  {
   "cell_type": "code",
   "execution_count": 4,
   "id": "57dd76a5",
   "metadata": {},
   "outputs": [
    {
     "data": {
      "text/plain": [
       "[1, 2, 3, 4, 6, 8, 11, 15, 21, 29, 39, 52, 69, 92, 122, 161, 211]"
      ]
     },
     "execution_count": 4,
     "metadata": {},
     "output_type": "execute_result"
    }
   ],
   "source": [
    "sp_1 = myg.starting_points(ratio=1.3, max_length=50, starting_length=1)\n",
    "sp_1"
   ]
  },
  {
   "cell_type": "code",
   "execution_count": 5,
   "id": "a7b2f92a",
   "metadata": {},
   "outputs": [
    {
     "name": "stdout",
     "output_type": "stream",
     "text": [
      "Wall time: 12min 35s\n"
     ]
    },
    {
     "data": {
      "text/plain": [
       "array([[1.00000e+00, 0.00000e+00, 0.00000e+00, 4.00000e+00, 0.00000e+00,\n",
       "        0.00000e+00, 2.00000e+00, 2.00000e+00, 0.00000e+00, 1.00000e+00,\n",
       "        0.00000e+00, 0.00000e+00, 0.00000e+00, 0.00000e+00, 0.00000e+00,\n",
       "        0.00000e+00, 0.00000e+00],\n",
       "       [2.63200e-03, 2.63200e-03, 8.38860e-02, 1.25639e-01, 3.48850e-02,\n",
       "        2.36286e-01, 1.72166e-01, 2.25762e-01, 1.05260e-02, 4.07600e-02,\n",
       "        2.52630e-02, 1.57890e-02, 7.69200e-03, 5.26300e-03, 0.00000e+00,\n",
       "        1.08190e-02, 0.00000e+00],\n",
       "       [4.08950e-02, 3.15150e-02, 2.90340e-02, 9.55680e-02, 5.73010e-02,\n",
       "        7.94960e-02, 9.68440e-02, 1.29004e-01, 8.88500e-02, 1.79025e-01,\n",
       "        3.72000e-02, 4.53190e-02, 2.20610e-02, 1.84260e-02, 2.01980e-02,\n",
       "        1.78040e-02, 1.14630e-02],\n",
       "       [1.94030e-02, 3.14630e-02, 3.53450e-02, 7.97650e-02, 7.51990e-02,\n",
       "        9.13680e-02, 1.02164e-01, 1.12463e-01, 1.00033e-01, 1.00654e-01,\n",
       "        5.77540e-02, 6.63630e-02, 2.97160e-02, 2.36610e-02, 9.69200e-03,\n",
       "        5.85350e-02, 6.42300e-03],\n",
       "       [2.26010e-02, 3.69070e-02, 3.83200e-02, 8.83530e-02, 8.93680e-02,\n",
       "        1.06866e-01, 1.07722e-01, 1.10722e-01, 1.00474e-01, 7.59060e-02,\n",
       "        5.96610e-02, 4.92660e-02, 3.90780e-02, 2.52210e-02, 2.00020e-02,\n",
       "        1.86740e-02, 1.08580e-02],\n",
       "       [2.60880e-02, 5.13520e-02, 6.04490e-02, 1.28921e-01, 1.16177e-01,\n",
       "        1.47969e-01, 1.40622e-01, 1.24389e-01, 8.29160e-02, 5.59400e-02,\n",
       "        3.97250e-02, 1.34200e-02, 1.20330e-02, 0.00000e+00, 0.00000e+00,\n",
       "        0.00000e+00, 0.00000e+00]])"
      ]
     },
     "execution_count": 5,
     "metadata": {},
     "output_type": "execute_result"
    }
   ],
   "source": [
    "%%time\n",
    "# producing the order 5 discounted NDFC matrix rep. of nodes of the garph w.r.t. the starting points sp_1:\n",
    "mats_1 = discounted_NDFC_matrix_rep(myg, starting_points=sp_1, radius=5, decimals=6)\n",
    "mats_1[0]"
   ]
  },
  {
   "cell_type": "code",
   "execution_count": 6,
   "id": "81e14941",
   "metadata": {},
   "outputs": [
    {
     "data": {
      "text/plain": [
       "(14113, 6, 17)"
      ]
     },
     "execution_count": 6,
     "metadata": {},
     "output_type": "execute_result"
    }
   ],
   "source": [
    "mats_1.shape"
   ]
  },
  {
   "cell_type": "code",
   "execution_count": 7,
   "id": "1cbe01aa",
   "metadata": {},
   "outputs": [],
   "source": [
    "np.save(\"fb_co_pages_discounted_NDFC_matrix_r1-30_sta1_max50_rad5.npy\", mats_1, allow_pickle=False, fix_imports=True)"
   ]
  },
  {
   "cell_type": "code",
   "execution_count": null,
   "id": "32e4a1e6",
   "metadata": {},
   "outputs": [],
   "source": []
  }
 ],
 "metadata": {
  "kernelspec": {
   "display_name": "Python 3 (ipykernel)",
   "language": "python",
   "name": "python3"
  },
  "language_info": {
   "codemirror_mode": {
    "name": "ipython",
    "version": 3
   },
   "file_extension": ".py",
   "mimetype": "text/x-python",
   "name": "python",
   "nbconvert_exporter": "python",
   "pygments_lexer": "ipython3",
   "version": "3.8.3"
  }
 },
 "nbformat": 4,
 "nbformat_minor": 5
}
