{
 "cells": [
  {
   "cell_type": "markdown",
   "id": "31b500b5",
   "metadata": {},
   "source": [
    "# The feedforward neural network model for learning PageRank"
   ]
  },
  {
   "cell_type": "code",
   "execution_count": 1,
   "id": "a9854c00",
   "metadata": {},
   "outputs": [],
   "source": [
    "import time\n",
    "from helpers import *"
   ]
  },
  {
   "cell_type": "code",
   "execution_count": 2,
   "id": "c8783184",
   "metadata": {},
   "outputs": [],
   "source": [
    "import torch\n",
    "import torch.nn as nn\n",
    "import torch.optim as optim\n",
    "import torch.nn.functional as F"
   ]
  },
  {
   "cell_type": "markdown",
   "id": "cfdc752f",
   "metadata": {},
   "source": [
    "## Loading the dataset from numpy files"
   ]
  },
  {
   "cell_type": "code",
   "execution_count": 3,
   "id": "0a2177fd",
   "metadata": {},
   "outputs": [
    {
     "data": {
      "text/plain": [
       "array([4.26055693e-05])"
      ]
     },
     "execution_count": 3,
     "metadata": {},
     "output_type": "execute_result"
    }
   ],
   "source": [
    "# Pageank as the target or label data\n",
    "target_pagerank = np.load(\"fb_media_pages_pageranks.npy\", mmap_mode=None, allow_pickle=False, fix_imports=True, encoding='ASCII')\n",
    "target_pagerank[0]"
   ]
  },
  {
   "cell_type": "code",
   "execution_count": 4,
   "id": "23f24350",
   "metadata": {},
   "outputs": [
    {
     "data": {
      "text/plain": [
       "array([1.02253366])"
      ]
     },
     "execution_count": 4,
     "metadata": {},
     "output_type": "execute_result"
    }
   ],
   "source": [
    "# scaling the PageRank data\n",
    "target_pagerank = target_pagerank * 24000\n",
    "target_pagerank[0]"
   ]
  },
  {
   "cell_type": "code",
   "execution_count": 5,
   "id": "cec6039f",
   "metadata": {},
   "outputs": [
    {
     "data": {
      "text/plain": [
       "(27917, 1)"
      ]
     },
     "execution_count": 5,
     "metadata": {},
     "output_type": "execute_result"
    }
   ],
   "source": [
    "target_pagerank.shape"
   ]
  },
  {
   "cell_type": "code",
   "execution_count": 6,
   "id": "613797d7",
   "metadata": {},
   "outputs": [],
   "source": [
    "# the order 5 NFDC matrix as the feature set\n",
    "matrix_1 = np.load(\"fb_media_pages_discounted_NDFC_matrix_r1_3_sta1_max70_rad5.npy\", mmap_mode=None, allow_pickle=False, fix_imports=True, encoding='ASCII')"
   ]
  },
  {
   "cell_type": "code",
   "execution_count": 7,
   "id": "94c81831",
   "metadata": {},
   "outputs": [
    {
     "data": {
      "text/plain": [
       "(27917, 6, 23)"
      ]
     },
     "execution_count": 7,
     "metadata": {},
     "output_type": "execute_result"
    }
   ],
   "source": [
    "matrix_1.shape"
   ]
  },
  {
   "cell_type": "code",
   "execution_count": 8,
   "id": "ac052a5f",
   "metadata": {},
   "outputs": [
    {
     "data": {
      "text/plain": [
       "array([[0.00000e+00, 0.00000e+00, 0.00000e+00, 2.00000e+00, 2.00000e+00,\n",
       "        0.00000e+00, 1.00000e+00, 0.00000e+00, 0.00000e+00, 0.00000e+00,\n",
       "        0.00000e+00, 0.00000e+00, 0.00000e+00, 0.00000e+00, 0.00000e+00,\n",
       "        0.00000e+00, 0.00000e+00, 0.00000e+00, 0.00000e+00, 0.00000e+00,\n",
       "        0.00000e+00, 0.00000e+00, 0.00000e+00],\n",
       "       [6.19050e-02, 0.00000e+00, 1.42860e-02, 4.17143e-01, 2.50476e-01,\n",
       "        0.00000e+00, 1.56190e-01, 2.85710e-02, 2.85710e-02, 0.00000e+00,\n",
       "        1.42860e-02, 0.00000e+00, 0.00000e+00, 0.00000e+00, 0.00000e+00,\n",
       "        0.00000e+00, 2.85710e-02, 0.00000e+00, 0.00000e+00, 0.00000e+00,\n",
       "        0.00000e+00, 0.00000e+00, 0.00000e+00],\n",
       "       [2.04390e-02, 1.12820e-02, 5.03200e-03, 4.17350e-02, 1.49669e-01,\n",
       "        8.11320e-02, 2.63234e-01, 1.14913e-01, 1.24092e-01, 6.48310e-02,\n",
       "        3.62280e-02, 2.18130e-02, 1.89210e-02, 1.55690e-02, 5.23000e-03,\n",
       "        1.06400e-03, 1.82120e-02, 2.08300e-03, 0.00000e+00, 2.43800e-03,\n",
       "        0.00000e+00, 2.08300e-03, 0.00000e+00],\n",
       "       [8.89300e-03, 1.73160e-02, 2.33170e-02, 4.75190e-02, 5.11360e-02,\n",
       "        8.76960e-02, 8.27760e-02, 9.80560e-02, 1.27509e-01, 9.15470e-02,\n",
       "        7.18370e-02, 4.65900e-02, 4.18590e-02, 3.56430e-02, 2.90560e-02,\n",
       "        1.25150e-02, 9.14380e-02, 7.70700e-03, 3.73700e-03, 8.69800e-03,\n",
       "        6.90000e-04, 1.22580e-02, 2.20600e-03],\n",
       "       [6.56900e-03, 1.20930e-02, 1.77800e-02, 4.17680e-02, 5.07050e-02,\n",
       "        7.57390e-02, 8.76070e-02, 1.08952e-01, 1.17181e-01, 1.04884e-01,\n",
       "        9.16880e-02, 6.22990e-02, 6.31870e-02, 4.78690e-02, 3.28460e-02,\n",
       "        1.75360e-02, 1.96980e-02, 7.30700e-03, 3.73200e-03, 1.42960e-02,\n",
       "        1.51500e-03, 9.44700e-03, 5.30200e-03],\n",
       "       [7.26400e-03, 1.36600e-02, 2.05840e-02, 4.92580e-02, 5.96040e-02,\n",
       "        8.37770e-02, 9.47990e-02, 1.16045e-01, 1.22592e-01, 1.10668e-01,\n",
       "        9.62970e-02, 6.82110e-02, 5.27380e-02, 3.64610e-02, 2.45110e-02,\n",
       "        1.19390e-02, 9.67300e-03, 4.30500e-03, 3.74600e-03, 5.41700e-03,\n",
       "        1.06500e-03, 5.16500e-03, 2.22000e-03]])"
      ]
     },
     "execution_count": 8,
     "metadata": {},
     "output_type": "execute_result"
    }
   ],
   "source": [
    "matrix_1[111]"
   ]
  },
  {
   "cell_type": "code",
   "execution_count": 9,
   "id": "571e015b",
   "metadata": {},
   "outputs": [
    {
     "data": {
      "text/plain": [
       "(27917, 138)"
      ]
     },
     "execution_count": 9,
     "metadata": {},
     "output_type": "execute_result"
    }
   ],
   "source": [
    "matrix_1 = matrix_1.reshape(27917,-1)\n",
    "matrix_1.shape"
   ]
  },
  {
   "cell_type": "markdown",
   "id": "da03d5cb",
   "metadata": {},
   "source": [
    "# Converting the data into pytorch tenors"
   ]
  },
  {
   "cell_type": "code",
   "execution_count": 10,
   "id": "70a724b2",
   "metadata": {},
   "outputs": [
    {
     "data": {
      "text/plain": [
       "(torch.Size([27917, 138]), torch.Size([27917, 1]))"
      ]
     },
     "execution_count": 10,
     "metadata": {},
     "output_type": "execute_result"
    }
   ],
   "source": [
    "features = torch.from_numpy(matrix_1)\n",
    "targets = torch.from_numpy(target_pagerank)\n",
    "features.shape, targets.shape"
   ]
  },
  {
   "cell_type": "code",
   "execution_count": 11,
   "id": "b3cf09de",
   "metadata": {},
   "outputs": [
    {
     "data": {
      "text/plain": [
       "tensor([[1.0225],\n",
       "        [0.9398],\n",
       "        [0.8766],\n",
       "        ...,\n",
       "        [0.4565],\n",
       "        [0.9406],\n",
       "        [0.9156]], dtype=torch.float64, requires_grad=True)"
      ]
     },
     "execution_count": 11,
     "metadata": {},
     "output_type": "execute_result"
    }
   ],
   "source": [
    "# Activating the automatic gradient \n",
    "features.requires_grad_(True)\n",
    "targets.requires_grad_(True)"
   ]
  },
  {
   "cell_type": "code",
   "execution_count": 12,
   "id": "1ab8749e",
   "metadata": {},
   "outputs": [
    {
     "data": {
      "text/plain": [
       "(torch.Size([20000, 138]),\n",
       " torch.Size([7917, 138]),\n",
       " torch.Size([20000, 1]),\n",
       " torch.Size([7917, 1]))"
      ]
     },
     "execution_count": 12,
     "metadata": {},
     "output_type": "execute_result"
    }
   ],
   "source": [
    "# Shuffling and dividing the indecies\n",
    "n_samples = features.shape[0]\n",
    "n_test = 7917\n",
    "shuffled_ind = torch.randperm(n_samples)\n",
    "train_ind = shuffled_ind[:-n_test]\n",
    "test_ind = shuffled_ind[-n_test:]\n",
    "# Dividing features and targets into tain and test sets\n",
    "train_features = features[train_ind]\n",
    "test_features = features[test_ind]\n",
    "train_targets = targets[train_ind]\n",
    "test_targets = targets[test_ind]\n",
    "train_features.shape, test_features.shape, train_targets.shape, test_targets.shape"
   ]
  },
  {
   "cell_type": "markdown",
   "id": "4d960fdc",
   "metadata": {},
   "source": [
    "## A function for dividing train data into batches"
   ]
  },
  {
   "cell_type": "code",
   "execution_count": 13,
   "id": "a0515de8",
   "metadata": {},
   "outputs": [],
   "source": [
    "# dividing train_features and train_targets into batches\n",
    "def next_batch(train_features, train_targets, batch_size=100):\n",
    "    num_features = train_features.shape[0]\n",
    "    # Shuffling\n",
    "    shuffled_ind = torch.randperm(num_features)\n",
    "    shuffled_train_features = train_features[shuffled_ind]\n",
    "    shuffled_train_targets = train_targets[shuffled_ind]\n",
    "    # Dividing\n",
    "    i = 0\n",
    "    while i < num_features:\n",
    "        i += batch_size\n",
    "        yield (shuffled_train_features[i-batch_size:i], shuffled_train_targets[i-batch_size:i])\n",
    "    return"
   ]
  },
  {
   "cell_type": "markdown",
   "id": "d53422f6",
   "metadata": {},
   "source": [
    "## The feedforward neural network model"
   ]
  },
  {
   "cell_type": "code",
   "execution_count": 14,
   "id": "b8ef9f95",
   "metadata": {},
   "outputs": [],
   "source": [
    "# The Feedforward Neural Network \n",
    "class FFNN_model(nn.Module):\n",
    "    def __init__(self):\n",
    "        super().__init__()\n",
    "        num_features = features.shape[1]\n",
    "        self.fc1 = nn.Linear(num_features, 400)\n",
    "        self.fc2 = nn.Linear(400, 800)\n",
    "        self.fc3 = nn.Linear(800, 200)\n",
    "        self.fc4 = nn.Linear(200, 64)\n",
    "        self.fc5 = nn.Linear(64, 8)\n",
    "        self.fc6 = nn.Linear(8, 1)\n",
    "        self.dropout1 = nn.Dropout(0.4)\n",
    "        self.dropout2 = nn.Dropout(0.3)\n",
    "        self.dropout3 = nn.Dropout(0.5)\n",
    "    \n",
    "    def forward(self, X):\n",
    "        X = torch.tanh(self.fc1(X))\n",
    "        X = torch.relu(self.fc2(X))\n",
    "        X = self.dropout1(X)\n",
    "        X = torch.relu(self.fc3(X))\n",
    "        X = self.dropout3(X)\n",
    "        X = torch.relu(self.fc4(X))\n",
    "        X = self.dropout2(X)\n",
    "        X = torch.tanh(self.fc5(X))\n",
    "        return self.fc6(X)"
   ]
  },
  {
   "cell_type": "code",
   "execution_count": 15,
   "id": "dbd6afbe",
   "metadata": {},
   "outputs": [
    {
     "data": {
      "text/plain": [
       "FFNN_model(\n",
       "  (fc1): Linear(in_features=138, out_features=400, bias=True)\n",
       "  (fc2): Linear(in_features=400, out_features=800, bias=True)\n",
       "  (fc3): Linear(in_features=800, out_features=200, bias=True)\n",
       "  (fc4): Linear(in_features=200, out_features=64, bias=True)\n",
       "  (fc5): Linear(in_features=64, out_features=8, bias=True)\n",
       "  (fc6): Linear(in_features=8, out_features=1, bias=True)\n",
       "  (dropout1): Dropout(p=0.4, inplace=False)\n",
       "  (dropout2): Dropout(p=0.3, inplace=False)\n",
       "  (dropout3): Dropout(p=0.5, inplace=False)\n",
       ")"
      ]
     },
     "execution_count": 15,
     "metadata": {},
     "output_type": "execute_result"
    }
   ],
   "source": [
    "# Instantiation of the model\n",
    "torch.manual_seed(42)\n",
    "model = FFNN_model()\n",
    "model"
   ]
  },
  {
   "cell_type": "code",
   "execution_count": 16,
   "id": "9a867c25",
   "metadata": {},
   "outputs": [
    {
     "name": "stdout",
     "output_type": "stream",
     "text": [
      "55200\n",
      "400\n",
      "320000\n",
      "800\n",
      "160000\n",
      "200\n",
      "12800\n",
      "64\n",
      "512\n",
      "8\n",
      "8\n",
      "1\n",
      "----------------------\n",
      "Number of all parameters: \n",
      "549993\n"
     ]
    }
   ],
   "source": [
    "# Number of parameters\n",
    "num_para = 0\n",
    "for param in model.parameters():\n",
    "    print(param.numel())\n",
    "    num_para += param.numel()\n",
    "print(\"----------------------\")\n",
    "print(f'Number of all parameters: \\n{num_para}')"
   ]
  },
  {
   "cell_type": "code",
   "execution_count": 17,
   "id": "4f68fb57",
   "metadata": {},
   "outputs": [],
   "source": [
    "# Objective function and optimmizer\n",
    "criterion = nn.MSELoss()\n",
    "optimizer = optim.Adam(model.parameters(), lr=1e-3)\n",
    "# optimizer = optim.SGD(model.parameters(), lr=0.01, momentum=0.9)"
   ]
  },
  {
   "cell_type": "markdown",
   "id": "60d430bc",
   "metadata": {},
   "source": [
    "## Defining the Training Loop"
   ]
  },
  {
   "cell_type": "code",
   "execution_count": 18,
   "id": "3c9b4697",
   "metadata": {},
   "outputs": [],
   "source": [
    "def training_loop(n_epochs=1000,\n",
    "                  batch_size=100,\n",
    "                  optimizer=optimizer, \n",
    "                  model=model, \n",
    "                  loss_fn=criterion, \n",
    "                  train_features=train_features, \n",
    "                  test_features=test_features, \n",
    "                  train_targets=train_targets, \n",
    "                  test_targets=test_targets):\n",
    "    num_features = train_features.shape[0]\n",
    "    start_time = time.time()\n",
    "    all_train_loss, all_test_loss = np.zeros(n_epochs), np.zeros(n_epochs)\n",
    "    for epoch in range(1, n_epochs +1):\n",
    "        # Training: \n",
    "        epoch_losses = []\n",
    "        # looping through batches\n",
    "        for train_features, train_targets in next_batch(train_features=train_features, \n",
    "                                                        train_targets=train_targets, batch_size=batch_size): \n",
    "            train_preds = model(train_features.float())\n",
    "            train_loss = loss_fn(train_targets.float(), train_preds.float())\n",
    "            optimizer.zero_grad()\n",
    "            train_loss.backward(retain_graph=True)\n",
    "            optimizer.step()\n",
    "            \n",
    "            epoch_losses.append(train_loss.item())\n",
    "        average_epoch_loss = sum(epoch_losses)/len(epoch_losses)\n",
    "        \n",
    "        # Test:\n",
    "        with torch.no_grad():\n",
    "            test_preds = model(test_features.float())\n",
    "            test_loss = loss_fn(test_targets.float(), test_preds.float())\n",
    "        \n",
    "        all_train_loss[epoch - 1] = average_epoch_loss\n",
    "        all_test_loss[epoch - 1] = test_loss.item()\n",
    "        # Printing the result: \n",
    "        if epoch == 1 or epoch % 100 == 0:\n",
    "            print(f\"EPOCH: {epoch:{7}}\")\n",
    "            print(f\"MEAN TRAIN LOSS:   {average_epoch_loss:.11f},    TEST LOSS:   {test_loss.item():.11f}\")\n",
    "            print(\"-----------------------------------------\")\n",
    "    print(\"The total time = \", np.round(time.time() - start_time, 3), \" seconds!\")\n",
    "    return all_train_loss, all_test_loss"
   ]
  },
  {
   "cell_type": "markdown",
   "id": "02ab2601",
   "metadata": {},
   "source": [
    "# Training the model"
   ]
  },
  {
   "cell_type": "code",
   "execution_count": 19,
   "id": "0a9afbe6",
   "metadata": {
    "scrolled": false
   },
   "outputs": [
    {
     "name": "stdout",
     "output_type": "stream",
     "text": [
      "EPOCH:       1\n",
      "MEAN TRAIN LOSS:   0.71976703405,    TEST LOSS:   0.65250766277\n",
      "-----------------------------------------\n",
      "EPOCH:     100\n",
      "MEAN TRAIN LOSS:   0.16982179880,    TEST LOSS:   0.53423196077\n",
      "-----------------------------------------\n",
      "EPOCH:     200\n",
      "MEAN TRAIN LOSS:   0.11732210964,    TEST LOSS:   0.47369492054\n",
      "-----------------------------------------\n",
      "EPOCH:     300\n",
      "MEAN TRAIN LOSS:   0.08380837739,    TEST LOSS:   0.43664672971\n",
      "-----------------------------------------\n",
      "EPOCH:     400\n",
      "MEAN TRAIN LOSS:   0.06691044569,    TEST LOSS:   0.40498298407\n",
      "-----------------------------------------\n",
      "EPOCH:     500\n",
      "MEAN TRAIN LOSS:   0.04758772999,    TEST LOSS:   0.38414224982\n",
      "-----------------------------------------\n",
      "EPOCH:     600\n",
      "MEAN TRAIN LOSS:   0.03564901650,    TEST LOSS:   0.36788755655\n",
      "-----------------------------------------\n",
      "EPOCH:     700\n",
      "MEAN TRAIN LOSS:   0.02899507247,    TEST LOSS:   0.35632988811\n",
      "-----------------------------------------\n",
      "EPOCH:     800\n",
      "MEAN TRAIN LOSS:   0.02264325321,    TEST LOSS:   0.35277104378\n",
      "-----------------------------------------\n",
      "EPOCH:     900\n",
      "MEAN TRAIN LOSS:   0.02057963051,    TEST LOSS:   0.34872898459\n",
      "-----------------------------------------\n",
      "EPOCH:    1000\n",
      "MEAN TRAIN LOSS:   0.01822440140,    TEST LOSS:   0.34997835755\n",
      "-----------------------------------------\n",
      "EPOCH:    1100\n",
      "MEAN TRAIN LOSS:   0.01514138654,    TEST LOSS:   0.33036002517\n",
      "-----------------------------------------\n",
      "EPOCH:    1200\n",
      "MEAN TRAIN LOSS:   0.01275720727,    TEST LOSS:   0.33408305049\n",
      "-----------------------------------------\n",
      "EPOCH:    1300\n",
      "MEAN TRAIN LOSS:   0.01030806452,    TEST LOSS:   0.33212161064\n",
      "-----------------------------------------\n",
      "EPOCH:    1400\n",
      "MEAN TRAIN LOSS:   0.00998404715,    TEST LOSS:   0.32711589336\n",
      "-----------------------------------------\n",
      "EPOCH:    1500\n",
      "MEAN TRAIN LOSS:   0.00903353654,    TEST LOSS:   0.32285657525\n",
      "-----------------------------------------\n",
      "EPOCH:    1600\n",
      "MEAN TRAIN LOSS:   0.00855436828,    TEST LOSS:   0.32507038116\n",
      "-----------------------------------------\n",
      "EPOCH:    1700\n",
      "MEAN TRAIN LOSS:   0.00661938777,    TEST LOSS:   0.31819552183\n",
      "-----------------------------------------\n",
      "EPOCH:    1800\n",
      "MEAN TRAIN LOSS:   0.00683564320,    TEST LOSS:   0.32071033120\n",
      "-----------------------------------------\n",
      "EPOCH:    1900\n",
      "MEAN TRAIN LOSS:   0.00512188906,    TEST LOSS:   0.31977978349\n",
      "-----------------------------------------\n",
      "EPOCH:    2000\n",
      "MEAN TRAIN LOSS:   0.00563216582,    TEST LOSS:   0.32467663288\n",
      "-----------------------------------------\n",
      "The total time =  835.267  seconds!\n"
     ]
    }
   ],
   "source": [
    "losses = training_loop(n_epochs=2000,\n",
    "                  batch_size=400,\n",
    "                  optimizer=optimizer, \n",
    "                  model=model, \n",
    "                  loss_fn=criterion, \n",
    "                  train_features=train_features, \n",
    "                  test_features=test_features, \n",
    "                  train_targets=train_targets, \n",
    "                  test_targets=test_targets)"
   ]
  },
  {
   "cell_type": "code",
   "execution_count": 20,
   "id": "236809d9",
   "metadata": {},
   "outputs": [
    {
     "name": "stdout",
     "output_type": "stream",
     "text": [
      "target 0.27503449374617245,    prediction: 0.29820671677589417\n",
      "index 0:       inaccuracy: 8.425%\n",
      "-----------------------------------------------------------------\n",
      "target 1.5128024376814098,    prediction: 1.1485130786895752\n",
      "index 50:       inaccuracy: 24.08%\n",
      "-----------------------------------------------------------------\n",
      "target 1.3425328665875027,    prediction: 1.362220287322998\n",
      "index 100:       inaccuracy: 1.466%\n",
      "-----------------------------------------------------------------\n",
      "target 0.8115875830747279,    prediction: 0.6854863166809082\n",
      "index 150:       inaccuracy: 15.538%\n",
      "-----------------------------------------------------------------\n",
      "target 0.5169964031324928,    prediction: 0.5144546031951904\n",
      "index 200:       inaccuracy: 0.492%\n",
      "-----------------------------------------------------------------\n",
      "target 0.7102283365242272,    prediction: 0.6734765768051147\n",
      "index 250:       inaccuracy: 5.175%\n",
      "-----------------------------------------------------------------\n",
      "target 1.8324478225746128,    prediction: 2.4059183597564697\n",
      "index 300:       inaccuracy: 31.295%\n",
      "-----------------------------------------------------------------\n",
      "target 0.9662465233613844,    prediction: 1.2141247987747192\n",
      "index 350:       inaccuracy: 25.654%\n",
      "-----------------------------------------------------------------\n",
      "target 0.7333699937706911,    prediction: 0.7140312194824219\n",
      "index 400:       inaccuracy: 2.637%\n",
      "-----------------------------------------------------------------\n",
      "target 0.41409454222327463,    prediction: 0.4208676218986511\n",
      "index 450:       inaccuracy: 1.636%\n",
      "-----------------------------------------------------------------\n",
      "target 0.4352951718568698,    prediction: 0.4426528215408325\n",
      "index 500:       inaccuracy: 1.69%\n",
      "-----------------------------------------------------------------\n",
      "target 1.0099374478977716,    prediction: 1.0654256343841553\n",
      "index 550:       inaccuracy: 5.494%\n",
      "-----------------------------------------------------------------\n",
      "target 1.4980305399649139,    prediction: 2.1141176223754883\n",
      "index 600:       inaccuracy: 41.126%\n",
      "-----------------------------------------------------------------\n",
      "target 0.4405899598837861,    prediction: 0.5301791429519653\n",
      "index 650:       inaccuracy: 20.334%\n",
      "-----------------------------------------------------------------\n",
      "target 0.33429313917020215,    prediction: 0.38170135021209717\n",
      "index 700:       inaccuracy: 14.182%\n",
      "-----------------------------------------------------------------\n",
      "target 0.22046753938846939,    prediction: 0.29703566431999207\n",
      "index 750:       inaccuracy: 34.73%\n",
      "-----------------------------------------------------------------\n",
      "target 0.9306103268319815,    prediction: 0.9906598329544067\n",
      "index 800:       inaccuracy: 6.453%\n",
      "-----------------------------------------------------------------\n",
      "target 6.391107100709345,    prediction: 5.816364288330078\n",
      "index 850:       inaccuracy: 8.993%\n",
      "-----------------------------------------------------------------\n",
      "target 0.6459559876230938,    prediction: 0.6060256361961365\n",
      "index 900:       inaccuracy: 6.182%\n",
      "-----------------------------------------------------------------\n",
      "target 0.19501397932396047,    prediction: 0.27581682801246643\n",
      "index 950:       inaccuracy: 41.434%\n",
      "-----------------------------------------------------------------\n",
      "target 0.39254538296706487,    prediction: 0.4546201825141907\n",
      "index 1000:       inaccuracy: 15.813%\n",
      "-----------------------------------------------------------------\n",
      "target 0.7411365319035514,    prediction: 0.7046247720718384\n",
      "index 1050:       inaccuracy: 4.926%\n",
      "-----------------------------------------------------------------\n",
      "target 0.19542038320719837,    prediction: 0.2904900014400482\n",
      "index 1100:       inaccuracy: 48.649%\n",
      "-----------------------------------------------------------------\n",
      "target 1.3371907968306318,    prediction: 1.0678958892822266\n",
      "index 1150:       inaccuracy: 20.139%\n",
      "-----------------------------------------------------------------\n",
      "target 0.6479682346436697,    prediction: 0.6179953813552856\n",
      "index 1200:       inaccuracy: 4.626%\n",
      "-----------------------------------------------------------------\n",
      "target 0.7708462337438816,    prediction: 0.8027733564376831\n",
      "index 1250:       inaccuracy: 4.142%\n",
      "-----------------------------------------------------------------\n",
      "target 1.2236874678186764,    prediction: 1.1062135696411133\n",
      "index 1300:       inaccuracy: 9.6%\n",
      "-----------------------------------------------------------------\n",
      "target 0.6148493813551366,    prediction: 0.6124826669692993\n",
      "index 1350:       inaccuracy: 0.385%\n",
      "-----------------------------------------------------------------\n",
      "target 0.6281602945344356,    prediction: 0.5632146596908569\n",
      "index 1400:       inaccuracy: 10.339%\n",
      "-----------------------------------------------------------------\n",
      "target 0.8035380325953727,    prediction: 0.8648444414138794\n",
      "index 1450:       inaccuracy: 7.63%\n",
      "-----------------------------------------------------------------\n",
      "target 1.257624941493581,    prediction: 0.915897786617279\n",
      "index 1500:       inaccuracy: 27.172%\n",
      "-----------------------------------------------------------------\n",
      "target 0.9962057311663934,    prediction: 1.5210802555084229\n",
      "index 1550:       inaccuracy: 52.687%\n",
      "-----------------------------------------------------------------\n",
      "target 0.8013145849787109,    prediction: 0.7151553630828857\n",
      "index 1600:       inaccuracy: 10.752%\n",
      "-----------------------------------------------------------------\n",
      "target 0.5104688739738471,    prediction: 0.5354921221733093\n",
      "index 1650:       inaccuracy: 4.902%\n",
      "-----------------------------------------------------------------\n",
      "target 0.45256073766412874,    prediction: 0.45840224623680115\n",
      "index 1700:       inaccuracy: 1.291%\n",
      "-----------------------------------------------------------------\n",
      "target 0.28917113873904166,    prediction: 0.33424726128578186\n",
      "index 1750:       inaccuracy: 15.588%\n",
      "-----------------------------------------------------------------\n",
      "target 0.19278254566887892,    prediction: 0.2642694413661957\n",
      "index 1800:       inaccuracy: 37.082%\n",
      "-----------------------------------------------------------------\n",
      "target 0.3109381458069553,    prediction: 0.376536101102829\n",
      "index 1850:       inaccuracy: 21.097%\n",
      "-----------------------------------------------------------------\n",
      "target 0.4210007335368076,    prediction: 0.41512253880500793\n",
      "index 1900:       inaccuracy: 1.396%\n",
      "-----------------------------------------------------------------\n",
      "target 0.6464058919947054,    prediction: 0.6628558039665222\n",
      "index 1950:       inaccuracy: 2.545%\n",
      "-----------------------------------------------------------------\n",
      "target 0.8081297268905013,    prediction: 0.8168576955795288\n",
      "index 2000:       inaccuracy: 1.08%\n",
      "-----------------------------------------------------------------\n",
      "target 0.7074367708856978,    prediction: 0.7658425569534302\n",
      "index 2050:       inaccuracy: 8.256%\n",
      "-----------------------------------------------------------------\n",
      "target 0.5950774134361938,    prediction: 0.5757840871810913\n",
      "index 2100:       inaccuracy: 3.242%\n",
      "-----------------------------------------------------------------\n",
      "target 1.0108930217184011,    prediction: 0.9370633363723755\n",
      "index 2150:       inaccuracy: 7.303%\n",
      "-----------------------------------------------------------------\n",
      "target 1.0467765217052654,    prediction: 1.1056939363479614\n",
      "index 2200:       inaccuracy: 5.628%\n",
      "-----------------------------------------------------------------\n",
      "target 0.7412957344722807,    prediction: 0.6968921422958374\n",
      "index 2250:       inaccuracy: 5.99%\n",
      "-----------------------------------------------------------------\n",
      "target 0.22178971451245483,    prediction: 0.3044995367527008\n",
      "index 2300:       inaccuracy: 37.292%\n",
      "-----------------------------------------------------------------\n",
      "target 0.5968411706991228,    prediction: 0.6158477067947388\n",
      "index 2350:       inaccuracy: 3.185%\n",
      "-----------------------------------------------------------------\n",
      "target 0.8406224057929725,    prediction: 0.7863380908966064\n",
      "index 2400:       inaccuracy: 6.458%\n",
      "-----------------------------------------------------------------\n",
      "target 2.519088943328208,    prediction: 4.531542778015137\n",
      "index 2450:       inaccuracy: 79.888%\n",
      "-----------------------------------------------------------------\n",
      "target 0.6335478965856339,    prediction: 0.5620958805084229\n",
      "index 2500:       inaccuracy: 11.278%\n",
      "-----------------------------------------------------------------\n"
     ]
    },
    {
     "name": "stdout",
     "output_type": "stream",
     "text": [
      "target 2.1778671079396403,    prediction: 2.067462205886841\n",
      "index 2550:       inaccuracy: 5.069%\n",
      "-----------------------------------------------------------------\n",
      "target 1.296581726686667,    prediction: 1.299121379852295\n",
      "index 2600:       inaccuracy: 0.196%\n",
      "-----------------------------------------------------------------\n",
      "target 0.42147220243767586,    prediction: 0.4567713141441345\n",
      "index 2650:       inaccuracy: 8.375%\n",
      "-----------------------------------------------------------------\n",
      "target 0.576293145575791,    prediction: 0.5671300292015076\n",
      "index 2700:       inaccuracy: 1.59%\n",
      "-----------------------------------------------------------------\n",
      "target 1.6463739970014888,    prediction: 1.762951135635376\n",
      "index 2750:       inaccuracy: 7.081%\n",
      "-----------------------------------------------------------------\n",
      "target 0.4704349001123442,    prediction: 0.5390045046806335\n",
      "index 2800:       inaccuracy: 14.576%\n",
      "-----------------------------------------------------------------\n",
      "target 0.5918939760858292,    prediction: 0.632599949836731\n",
      "index 2850:       inaccuracy: 6.877%\n",
      "-----------------------------------------------------------------\n",
      "target 0.42420580342777364,    prediction: 0.41656118631362915\n",
      "index 2900:       inaccuracy: 1.802%\n",
      "-----------------------------------------------------------------\n",
      "target 0.8767946387333847,    prediction: 0.8401925563812256\n",
      "index 2950:       inaccuracy: 4.175%\n",
      "-----------------------------------------------------------------\n",
      "target 0.3534804785042698,    prediction: 0.40775564312934875\n",
      "index 3000:       inaccuracy: 15.355%\n",
      "-----------------------------------------------------------------\n",
      "target 0.31055374293678895,    prediction: 0.37005430459976196\n",
      "index 3050:       inaccuracy: 19.16%\n",
      "-----------------------------------------------------------------\n",
      "target 0.49089355269128543,    prediction: 0.6014539003372192\n",
      "index 3100:       inaccuracy: 22.522%\n",
      "-----------------------------------------------------------------\n",
      "target 0.20901448978099824,    prediction: 0.2779707610607147\n",
      "index 3150:       inaccuracy: 32.991%\n",
      "-----------------------------------------------------------------\n",
      "target 0.4486056995037968,    prediction: 0.43780145049095154\n",
      "index 3200:       inaccuracy: 2.408%\n",
      "-----------------------------------------------------------------\n",
      "target 0.2644829860408392,    prediction: 0.30860379338264465\n",
      "index 3250:       inaccuracy: 16.682%\n",
      "-----------------------------------------------------------------\n",
      "target 3.0672706687950546,    prediction: 3.5626816749572754\n",
      "index 3300:       inaccuracy: 16.152%\n",
      "-----------------------------------------------------------------\n",
      "target 1.300441596775945,    prediction: 1.3792577981948853\n",
      "index 3350:       inaccuracy: 6.061%\n",
      "-----------------------------------------------------------------\n",
      "target 0.5390954825640865,    prediction: 0.42705145478248596\n",
      "index 3400:       inaccuracy: 20.784%\n",
      "-----------------------------------------------------------------\n",
      "target 0.5209417986797087,    prediction: 0.5891798734664917\n",
      "index 3450:       inaccuracy: 13.099%\n",
      "-----------------------------------------------------------------\n",
      "target 0.24351129446760542,    prediction: 0.3067110478878021\n",
      "index 3500:       inaccuracy: 25.954%\n",
      "-----------------------------------------------------------------\n",
      "target 0.2773927028416788,    prediction: 0.3372087776660919\n",
      "index 3550:       inaccuracy: 21.564%\n",
      "-----------------------------------------------------------------\n",
      "target 0.36570659217254686,    prediction: 0.38090863823890686\n",
      "index 3600:       inaccuracy: 4.157%\n",
      "-----------------------------------------------------------------\n",
      "target 0.6148549480778169,    prediction: 0.6309568881988525\n",
      "index 3650:       inaccuracy: 2.619%\n",
      "-----------------------------------------------------------------\n",
      "target 1.1935604962305069,    prediction: 1.0976276397705078\n",
      "index 3700:       inaccuracy: 8.038%\n",
      "-----------------------------------------------------------------\n",
      "target 0.2165169514036241,    prediction: 0.27732589840888977\n",
      "index 3750:       inaccuracy: 28.085%\n",
      "-----------------------------------------------------------------\n",
      "target 0.9436880055560137,    prediction: 0.9426431655883789\n",
      "index 3800:       inaccuracy: 0.111%\n",
      "-----------------------------------------------------------------\n",
      "target 0.4895180840653513,    prediction: 0.56679368019104\n",
      "index 3850:       inaccuracy: 15.786%\n",
      "-----------------------------------------------------------------\n",
      "target 3.266998680742037,    prediction: 2.761996269226074\n",
      "index 3900:       inaccuracy: 15.458%\n",
      "-----------------------------------------------------------------\n",
      "target 0.5435522997942832,    prediction: 0.6092468500137329\n",
      "index 3950:       inaccuracy: 12.086%\n",
      "-----------------------------------------------------------------\n",
      "target 0.3068946518612733,    prediction: 0.3583880364894867\n",
      "index 4000:       inaccuracy: 16.779%\n",
      "-----------------------------------------------------------------\n",
      "target 0.5680156545354801,    prediction: 0.6423112154006958\n",
      "index 4050:       inaccuracy: 13.08%\n",
      "-----------------------------------------------------------------\n",
      "target 1.3514604742543002,    prediction: 1.2455779314041138\n",
      "index 4100:       inaccuracy: 7.835%\n",
      "-----------------------------------------------------------------\n",
      "target 1.5497002017972932,    prediction: 1.279516339302063\n",
      "index 4150:       inaccuracy: 17.435%\n",
      "-----------------------------------------------------------------\n",
      "target 1.207816378904236,    prediction: 1.2136613130569458\n",
      "index 4200:       inaccuracy: 0.484%\n",
      "-----------------------------------------------------------------\n",
      "target 0.5997725805417977,    prediction: 0.6796510815620422\n",
      "index 4250:       inaccuracy: 13.318%\n",
      "-----------------------------------------------------------------\n",
      "target 0.27975313879312724,    prediction: 0.3166506588459015\n",
      "index 4300:       inaccuracy: 13.189%\n",
      "-----------------------------------------------------------------\n",
      "target 1.0522738586193106,    prediction: 1.0653860569000244\n",
      "index 4350:       inaccuracy: 1.246%\n",
      "-----------------------------------------------------------------\n",
      "target 0.7483361015627049,    prediction: 0.6441729664802551\n",
      "index 4400:       inaccuracy: 13.919%\n",
      "-----------------------------------------------------------------\n",
      "target 0.4883294728306664,    prediction: 0.6001392602920532\n",
      "index 4450:       inaccuracy: 22.896%\n",
      "-----------------------------------------------------------------\n",
      "target 0.1644752203961091,    prediction: 0.2394292652606964\n",
      "index 4500:       inaccuracy: 45.572%\n",
      "-----------------------------------------------------------------\n",
      "target 3.2449620506753996,    prediction: 3.10225248336792\n",
      "index 4550:       inaccuracy: 4.398%\n",
      "-----------------------------------------------------------------\n",
      "target 0.20488473325641685,    prediction: 0.26639243960380554\n",
      "index 4600:       inaccuracy: 30.021%\n",
      "-----------------------------------------------------------------\n",
      "target 0.5843597531550753,    prediction: 0.6110950708389282\n",
      "index 4650:       inaccuracy: 4.575%\n",
      "-----------------------------------------------------------------\n",
      "target 0.26344695193784906,    prediction: 0.33457937836647034\n",
      "index 4700:       inaccuracy: 27.001%\n",
      "-----------------------------------------------------------------\n",
      "target 1.0332832610369995,    prediction: 1.0217077732086182\n",
      "index 4750:       inaccuracy: 1.12%\n",
      "-----------------------------------------------------------------\n",
      "target 0.23003211753914835,    prediction: 0.2954542338848114\n",
      "index 4800:       inaccuracy: 28.44%\n",
      "-----------------------------------------------------------------\n",
      "target 0.36300265704778434,    prediction: 0.4098219573497772\n",
      "index 4850:       inaccuracy: 12.898%\n",
      "-----------------------------------------------------------------\n",
      "target 0.16367134347400067,    prediction: 0.24248239398002625\n",
      "index 4900:       inaccuracy: 48.152%\n",
      "-----------------------------------------------------------------\n",
      "target 1.0537482023703564,    prediction: 0.8762384653091431\n",
      "index 4950:       inaccuracy: 16.846%\n",
      "-----------------------------------------------------------------\n",
      "target 0.5213004608821152,    prediction: 0.5837094783782959\n",
      "index 5000:       inaccuracy: 11.972%\n",
      "-----------------------------------------------------------------\n",
      "target 0.49246441933568885,    prediction: 0.5582942962646484\n",
      "index 5050:       inaccuracy: 13.367%\n",
      "-----------------------------------------------------------------\n",
      "target 1.375886761677087,    prediction: 1.303543210029602\n",
      "index 5100:       inaccuracy: 5.258%\n",
      "-----------------------------------------------------------------\n",
      "target 0.3225640475969386,    prediction: 0.3658827245235443\n",
      "index 5150:       inaccuracy: 13.429%\n",
      "-----------------------------------------------------------------\n"
     ]
    },
    {
     "name": "stdout",
     "output_type": "stream",
     "text": [
      "target 0.2748986200768778,    prediction: 0.31466081738471985\n",
      "index 5200:       inaccuracy: 14.464%\n",
      "-----------------------------------------------------------------\n",
      "target 0.38752940756884907,    prediction: 0.415834903717041\n",
      "index 5250:       inaccuracy: 7.304%\n",
      "-----------------------------------------------------------------\n",
      "target 0.22421401900955504,    prediction: 0.28590598702430725\n",
      "index 5300:       inaccuracy: 27.515%\n",
      "-----------------------------------------------------------------\n",
      "target 1.067787149602846,    prediction: 1.0941102504730225\n",
      "index 5350:       inaccuracy: 2.465%\n",
      "-----------------------------------------------------------------\n",
      "target 0.29290119075511145,    prediction: 0.3252904713153839\n",
      "index 5400:       inaccuracy: 11.058%\n",
      "-----------------------------------------------------------------\n",
      "target 0.49095924038446004,    prediction: 0.4295433759689331\n",
      "index 5450:       inaccuracy: 12.509%\n",
      "-----------------------------------------------------------------\n",
      "target 0.2629425617402523,    prediction: 0.3425476849079132\n",
      "index 5500:       inaccuracy: 30.275%\n",
      "-----------------------------------------------------------------\n",
      "target 0.48639739242289654,    prediction: 0.5350830554962158\n",
      "index 5550:       inaccuracy: 10.009%\n",
      "-----------------------------------------------------------------\n",
      "target 0.2593403259944053,    prediction: 0.3583754599094391\n",
      "index 5600:       inaccuracy: 38.187%\n",
      "-----------------------------------------------------------------\n",
      "target 2.383574038315886,    prediction: 2.6787774562835693\n",
      "index 5650:       inaccuracy: 12.385%\n",
      "-----------------------------------------------------------------\n",
      "target 0.89635042226505,    prediction: 0.93003249168396\n",
      "index 5700:       inaccuracy: 3.758%\n",
      "-----------------------------------------------------------------\n",
      "target 0.6021135494284938,    prediction: 0.6889129877090454\n",
      "index 5750:       inaccuracy: 14.416%\n",
      "-----------------------------------------------------------------\n",
      "target 0.31580973314695193,    prediction: 0.40225857496261597\n",
      "index 5800:       inaccuracy: 27.374%\n",
      "-----------------------------------------------------------------\n",
      "target 1.4892636553911704,    prediction: 1.2683913707733154\n",
      "index 5850:       inaccuracy: 14.831%\n",
      "-----------------------------------------------------------------\n",
      "target 1.0845737446420716,    prediction: 0.9958779811859131\n",
      "index 5900:       inaccuracy: 8.178%\n",
      "-----------------------------------------------------------------\n",
      "target 1.0666082625362119,    prediction: 0.9941675662994385\n",
      "index 5950:       inaccuracy: 6.792%\n",
      "-----------------------------------------------------------------\n",
      "target 0.26344695193784906,    prediction: 0.33457937836647034\n",
      "index 6000:       inaccuracy: 27.001%\n",
      "-----------------------------------------------------------------\n",
      "target 0.3699490062138972,    prediction: 0.3839122951030731\n",
      "index 6050:       inaccuracy: 3.774%\n",
      "-----------------------------------------------------------------\n",
      "target 2.635947937677028,    prediction: 2.7865471839904785\n",
      "index 6100:       inaccuracy: 5.713%\n",
      "-----------------------------------------------------------------\n",
      "target 0.4330593791117168,    prediction: 0.43245548009872437\n",
      "index 6150:       inaccuracy: 0.139%\n",
      "-----------------------------------------------------------------\n",
      "target 0.8824887142848512,    prediction: 0.9403960108757019\n",
      "index 6200:       inaccuracy: 6.562%\n",
      "-----------------------------------------------------------------\n",
      "target 1.0833395908619645,    prediction: 1.2074300050735474\n",
      "index 6250:       inaccuracy: 11.454%\n",
      "-----------------------------------------------------------------\n",
      "target 0.16115869873516234,    prediction: 0.2402442991733551\n",
      "index 6300:       inaccuracy: 49.073%\n",
      "-----------------------------------------------------------------\n",
      "target 0.7981286298163642,    prediction: 0.8234361410140991\n",
      "index 6350:       inaccuracy: 3.171%\n",
      "-----------------------------------------------------------------\n",
      "target 1.5085010168694228,    prediction: 1.202014684677124\n",
      "index 6400:       inaccuracy: 20.317%\n",
      "-----------------------------------------------------------------\n",
      "target 0.4599281907603055,    prediction: 0.48383721709251404\n",
      "index 6450:       inaccuracy: 5.198%\n",
      "-----------------------------------------------------------------\n",
      "target 1.044275275557876,    prediction: 0.9905556440353394\n",
      "index 6500:       inaccuracy: 5.144%\n",
      "-----------------------------------------------------------------\n",
      "target 0.402284039725215,    prediction: 0.5204324722290039\n",
      "index 6550:       inaccuracy: 29.369%\n",
      "-----------------------------------------------------------------\n",
      "target 0.7680499121288722,    prediction: 0.7740114331245422\n",
      "index 6600:       inaccuracy: 0.776%\n",
      "-----------------------------------------------------------------\n",
      "target 0.5631592872125225,    prediction: 0.6042938828468323\n",
      "index 6650:       inaccuracy: 7.304%\n",
      "-----------------------------------------------------------------\n",
      "target 1.615636566075811,    prediction: 1.9643546342849731\n",
      "index 6700:       inaccuracy: 21.584%\n",
      "-----------------------------------------------------------------\n",
      "target 0.28573151545761266,    prediction: 0.36441749334335327\n",
      "index 6750:       inaccuracy: 27.538%\n",
      "-----------------------------------------------------------------\n",
      "target 1.273615431013296,    prediction: 1.2776191234588623\n",
      "index 6800:       inaccuracy: 0.314%\n",
      "-----------------------------------------------------------------\n",
      "target 1.0980474714784654,    prediction: 1.0047582387924194\n",
      "index 6850:       inaccuracy: 8.496%\n",
      "-----------------------------------------------------------------\n",
      "target 0.4773212067074951,    prediction: 0.5085935592651367\n",
      "index 6900:       inaccuracy: 6.552%\n",
      "-----------------------------------------------------------------\n",
      "target 2.2588939919667124,    prediction: 1.9982919692993164\n",
      "index 6950:       inaccuracy: 11.537%\n",
      "-----------------------------------------------------------------\n",
      "target 0.5503337532800571,    prediction: 0.5088202357292175\n",
      "index 7000:       inaccuracy: 7.543%\n",
      "-----------------------------------------------------------------\n",
      "target 0.2923721886490502,    prediction: 0.31071510910987854\n",
      "index 7050:       inaccuracy: 6.274%\n",
      "-----------------------------------------------------------------\n",
      "target 0.28534560447629237,    prediction: 0.3352881371974945\n",
      "index 7100:       inaccuracy: 17.502%\n",
      "-----------------------------------------------------------------\n",
      "target 1.2765107037990475,    prediction: 1.116134524345398\n",
      "index 7150:       inaccuracy: 12.564%\n",
      "-----------------------------------------------------------------\n",
      "target 0.41531938845560906,    prediction: 0.43680304288864136\n",
      "index 7200:       inaccuracy: 5.173%\n",
      "-----------------------------------------------------------------\n",
      "target 1.3915128791445306,    prediction: 1.6641649007797241\n",
      "index 7250:       inaccuracy: 19.594%\n",
      "-----------------------------------------------------------------\n",
      "target 1.0275830840812545,    prediction: 1.8289852142333984\n",
      "index 7300:       inaccuracy: 77.989%\n",
      "-----------------------------------------------------------------\n",
      "target 0.7945912712902491,    prediction: 0.7053041458129883\n",
      "index 7350:       inaccuracy: 11.237%\n",
      "-----------------------------------------------------------------\n",
      "target 0.7018540861996647,    prediction: 0.7128218412399292\n",
      "index 7400:       inaccuracy: 1.563%\n",
      "-----------------------------------------------------------------\n",
      "target 0.21728366093326304,    prediction: 0.28972306847572327\n",
      "index 7450:       inaccuracy: 33.339%\n",
      "-----------------------------------------------------------------\n",
      "target 0.7404926196811937,    prediction: 0.7670542001724243\n",
      "index 7500:       inaccuracy: 3.587%\n",
      "-----------------------------------------------------------------\n",
      "target 1.3818945182507745,    prediction: 1.1544970273971558\n",
      "index 7550:       inaccuracy: 16.455%\n",
      "-----------------------------------------------------------------\n",
      "target 0.45805897360325515,    prediction: 0.5134422779083252\n",
      "index 7600:       inaccuracy: 12.091%\n",
      "-----------------------------------------------------------------\n",
      "target 0.5179460125623242,    prediction: 0.5798262357711792\n",
      "index 7650:       inaccuracy: 11.947%\n",
      "-----------------------------------------------------------------\n",
      "target 1.3021623859955764,    prediction: 1.2192784547805786\n",
      "index 7700:       inaccuracy: 6.365%\n",
      "-----------------------------------------------------------------\n"
     ]
    },
    {
     "name": "stdout",
     "output_type": "stream",
     "text": [
      "target 0.6183388672832796,    prediction: 0.6610074639320374\n",
      "index 7750:       inaccuracy: 6.901%\n",
      "-----------------------------------------------------------------\n",
      "target 0.2997575884002859,    prediction: 0.35303613543510437\n",
      "index 7800:       inaccuracy: 17.774%\n",
      "-----------------------------------------------------------------\n",
      "target 0.18546377392151883,    prediction: 0.2689989507198334\n",
      "index 7850:       inaccuracy: 45.041%\n",
      "-----------------------------------------------------------------\n",
      "target 0.8980913284581304,    prediction: 0.7655067443847656\n",
      "index 7900:       inaccuracy: 14.763%\n",
      "-----------------------------------------------------------------\n"
     ]
    }
   ],
   "source": [
    "model.eval()\n",
    "errors = []\n",
    "for i in range(n_test):\n",
    "    targ = test_targets[i].item()\n",
    "    feat = test_features[i].float().view(1,1,138)\n",
    "    pred = model(feat).item()\n",
    "    inaccuracy = abs(1 - pred/targ) * 100\n",
    "    errors.append(inaccuracy)\n",
    "    if i%50 == 0:\n",
    "        print(f\"target {targ},    prediction: {pred}\\nindex {i}:       inaccuracy: {np.round(inaccuracy, 3)}%\")\n",
    "        print(\"-----------------------------------------------------------------\")"
   ]
  },
  {
   "cell_type": "code",
   "execution_count": 21,
   "id": "0a813b62",
   "metadata": {},
   "outputs": [
    {
     "name": "stdout",
     "output_type": "stream",
     "text": [
      "Average inaccuracy:  13.143\n"
     ]
    }
   ],
   "source": [
    "print(\"Average inaccuracy: \", np.round(sum(errors)/len(errors), 3))"
   ]
  },
  {
   "cell_type": "code",
   "execution_count": 22,
   "id": "4f7a0d3b",
   "metadata": {},
   "outputs": [],
   "source": [
    "torch.save(model, \"trained_FFNN_model_fb_media_pagerank_discounted.pt\")"
   ]
  },
  {
   "cell_type": "code",
   "execution_count": null,
   "id": "8762ce9a",
   "metadata": {},
   "outputs": [],
   "source": []
  },
  {
   "cell_type": "code",
   "execution_count": null,
   "id": "1d3225f1",
   "metadata": {},
   "outputs": [],
   "source": []
  }
 ],
 "metadata": {
  "kernelspec": {
   "display_name": "Python 3 (ipykernel)",
   "language": "python",
   "name": "python3"
  },
  "language_info": {
   "codemirror_mode": {
    "name": "ipython",
    "version": 3
   },
   "file_extension": ".py",
   "mimetype": "text/x-python",
   "name": "python",
   "nbconvert_exporter": "python",
   "pygments_lexer": "ipython3",
   "version": "3.8.3"
  }
 },
 "nbformat": 4,
 "nbformat_minor": 5
}
