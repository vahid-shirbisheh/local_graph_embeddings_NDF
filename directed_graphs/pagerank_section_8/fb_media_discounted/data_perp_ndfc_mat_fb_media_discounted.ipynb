{
 "cells": [
  {
   "cell_type": "code",
   "execution_count": 1,
   "id": "5c84b949",
   "metadata": {},
   "outputs": [],
   "source": [
    "from helpers import *\n",
    "import pandas as pd"
   ]
  },
  {
   "cell_type": "markdown",
   "id": "5914cd27",
   "metadata": {},
   "source": [
    "# Importing Graph Data from CSV File"
   ]
  },
  {
   "cell_type": "code",
   "execution_count": 2,
   "id": "3ce28bb7",
   "metadata": {},
   "outputs": [
    {
     "data": {
      "text/html": [
       "<div>\n",
       "<style scoped>\n",
       "    .dataframe tbody tr th:only-of-type {\n",
       "        vertical-align: middle;\n",
       "    }\n",
       "\n",
       "    .dataframe tbody tr th {\n",
       "        vertical-align: top;\n",
       "    }\n",
       "\n",
       "    .dataframe thead th {\n",
       "        text-align: right;\n",
       "    }\n",
       "</style>\n",
       "<table border=\"1\" class=\"dataframe\">\n",
       "  <thead>\n",
       "    <tr style=\"text-align: right;\">\n",
       "      <th></th>\n",
       "      <th>0</th>\n",
       "      <th>9461</th>\n",
       "    </tr>\n",
       "  </thead>\n",
       "  <tbody>\n",
       "    <tr>\n",
       "      <th>0</th>\n",
       "      <td>0</td>\n",
       "      <td>13035</td>\n",
       "    </tr>\n",
       "    <tr>\n",
       "      <th>1</th>\n",
       "      <td>0</td>\n",
       "      <td>12979</td>\n",
       "    </tr>\n",
       "    <tr>\n",
       "      <th>2</th>\n",
       "      <td>0</td>\n",
       "      <td>24089</td>\n",
       "    </tr>\n",
       "  </tbody>\n",
       "</table>\n",
       "</div>"
      ],
      "text/plain": [
       "   0   9461\n",
       "0  0  13035\n",
       "1  0  12979\n",
       "2  0  24089"
      ]
     },
     "execution_count": 2,
     "metadata": {},
     "output_type": "execute_result"
    }
   ],
   "source": [
    "d = pd.read_csv(\"fb-pages-media.csv\")\n",
    "d.head(3)"
   ]
  },
  {
   "cell_type": "code",
   "execution_count": 3,
   "id": "82d5f76d",
   "metadata": {},
   "outputs": [],
   "source": [
    "edge_list = [(x,y) for [x,y] in d.values]\n",
    "myg = MyGraph()\n",
    "for i in range(27917): # Creating 27917 nodes in the ordinary order\n",
    "    myg.add_vertex(i)\n",
    "myg.from_edge_list(edge_list) # Constructing the graph using the list of its edges"
   ]
  },
  {
   "cell_type": "markdown",
   "id": "28546bd5",
   "metadata": {},
   "source": [
    "# The order 5 NDFC matrix representation"
   ]
  },
  {
   "cell_type": "code",
   "execution_count": 4,
   "id": "57dd76a5",
   "metadata": {},
   "outputs": [
    {
     "data": {
      "text/plain": [
       "[1,\n",
       " 2,\n",
       " 3,\n",
       " 4,\n",
       " 6,\n",
       " 8,\n",
       " 11,\n",
       " 15,\n",
       " 21,\n",
       " 29,\n",
       " 39,\n",
       " 52,\n",
       " 69,\n",
       " 92,\n",
       " 122,\n",
       " 161,\n",
       " 212,\n",
       " 278,\n",
       " 348,\n",
       " 418,\n",
       " 488,\n",
       " 558,\n",
       " 628]"
      ]
     },
     "execution_count": 4,
     "metadata": {},
     "output_type": "execute_result"
    }
   ],
   "source": [
    "sp_1 = myg.starting_points(ratio=1.3, max_length=70, starting_length=1)\n",
    "sp_1"
   ]
  },
  {
   "cell_type": "code",
   "execution_count": 5,
   "id": "a7b2f92a",
   "metadata": {},
   "outputs": [
    {
     "name": "stdout",
     "output_type": "stream",
     "text": [
      "Wall time: 1h 51min 38s\n"
     ]
    },
    {
     "data": {
      "text/plain": [
       "array([[0.00000e+00, 0.00000e+00, 2.00000e+00, 1.00000e+00, 3.00000e+00,\n",
       "        0.00000e+00, 0.00000e+00, 0.00000e+00, 0.00000e+00, 0.00000e+00,\n",
       "        0.00000e+00, 0.00000e+00, 0.00000e+00, 1.00000e+00, 0.00000e+00,\n",
       "        0.00000e+00, 0.00000e+00, 0.00000e+00, 0.00000e+00, 0.00000e+00,\n",
       "        0.00000e+00, 0.00000e+00, 0.00000e+00],\n",
       "       [7.14290e-02, 5.32770e-02, 1.44272e-01, 1.69730e-02, 3.99340e-01,\n",
       "        3.37110e-02, 1.27300e-02, 3.65390e-02, 8.13300e-02, 5.65800e-03,\n",
       "        4.21970e-02, 3.37110e-02, 5.65800e-03, 2.82900e-03, 2.80530e-02,\n",
       "        4.24300e-03, 2.82900e-03, 0.00000e+00, 2.38100e-02, 0.00000e+00,\n",
       "        0.00000e+00, 1.41400e-03, 0.00000e+00],\n",
       "       [6.76400e-03, 2.56540e-02, 1.68520e-02, 9.55360e-02, 6.27480e-02,\n",
       "        6.78130e-02, 7.54710e-02, 8.38400e-02, 6.76650e-02, 7.19900e-02,\n",
       "        7.51970e-02, 6.41630e-02, 5.31660e-02, 1.17102e-01, 4.39620e-02,\n",
       "        1.20780e-02, 2.65240e-02, 1.18050e-02, 4.36700e-03, 5.70000e-03,\n",
       "        1.34300e-03, 7.22600e-03, 3.03500e-03],\n",
       "       [4.40600e-03, 9.98300e-03, 1.34390e-02, 3.12940e-02, 3.96680e-02,\n",
       "        5.84710e-02, 7.40500e-02, 9.59100e-02, 1.15353e-01, 1.09793e-01,\n",
       "        1.16819e-01, 8.83100e-02, 6.40880e-02, 4.59750e-02, 3.74850e-02,\n",
       "        2.41240e-02, 2.51660e-02, 7.44800e-03, 9.48800e-03, 9.98500e-03,\n",
       "        1.72300e-03, 1.26090e-02, 4.41300e-03],\n",
       "       [5.91100e-03, 1.19070e-02, 1.78130e-02, 4.31020e-02, 5.12220e-02,\n",
       "        7.79560e-02, 9.12830e-02, 1.13639e-01, 1.23028e-01, 1.12062e-01,\n",
       "        9.60400e-02, 6.93400e-02, 5.96900e-02, 4.21130e-02, 2.85860e-02,\n",
       "        1.40950e-02, 1.37920e-02, 5.55900e-03, 3.32600e-03, 8.67200e-03,\n",
       "        1.28300e-03, 6.31400e-03, 3.26600e-03],\n",
       "       [1.58230e-02, 2.89310e-02, 4.27730e-02, 9.58230e-02, 1.06474e-01,\n",
       "        1.33292e-01, 1.23725e-01, 1.34857e-01, 1.14604e-01, 8.36870e-02,\n",
       "        5.85700e-02, 2.98630e-02, 1.62620e-02, 9.14700e-03, 5.97800e-03,\n",
       "        1.78000e-04, 1.40000e-05, 0.00000e+00, 0.00000e+00, 0.00000e+00,\n",
       "        0.00000e+00, 0.00000e+00, 0.00000e+00]])"
      ]
     },
     "execution_count": 5,
     "metadata": {},
     "output_type": "execute_result"
    }
   ],
   "source": [
    "%%time\n",
    "# producing the order 5 discounted NDFC matrix rep. of nodes of the garph w.r.t. the starting points sp_1:\n",
    "mats_1 = discounted_NDFC_matrix_rep(myg, starting_points=sp_1, radius=5, decimals=6)\n",
    "mats_1[0]"
   ]
  },
  {
   "cell_type": "code",
   "execution_count": 6,
   "id": "81e14941",
   "metadata": {},
   "outputs": [
    {
     "data": {
      "text/plain": [
       "(27917, 6, 23)"
      ]
     },
     "execution_count": 6,
     "metadata": {},
     "output_type": "execute_result"
    }
   ],
   "source": [
    "mats_1.shape"
   ]
  },
  {
   "cell_type": "code",
   "execution_count": 7,
   "id": "1cbe01aa",
   "metadata": {},
   "outputs": [],
   "source": [
    "np.save(\"fb_media_pages_discounted_NDFC_matrix_r1_3_sta1_max70_rad5.npy\", mats_1, allow_pickle=False, fix_imports=True)"
   ]
  },
  {
   "cell_type": "code",
   "execution_count": null,
   "id": "81ae01e8",
   "metadata": {},
   "outputs": [],
   "source": []
  }
 ],
 "metadata": {
  "kernelspec": {
   "display_name": "Python 3 (ipykernel)",
   "language": "python",
   "name": "python3"
  },
  "language_info": {
   "codemirror_mode": {
    "name": "ipython",
    "version": 3
   },
   "file_extension": ".py",
   "mimetype": "text/x-python",
   "name": "python",
   "nbconvert_exporter": "python",
   "pygments_lexer": "ipython3",
   "version": "3.8.3"
  }
 },
 "nbformat": 4,
 "nbformat_minor": 5
}
