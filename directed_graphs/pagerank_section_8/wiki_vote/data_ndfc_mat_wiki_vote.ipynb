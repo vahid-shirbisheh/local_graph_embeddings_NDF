{
 "cells": [
  {
   "cell_type": "code",
   "execution_count": 1,
   "id": "5c84b949",
   "metadata": {},
   "outputs": [],
   "source": [
    "from dihelpers import *\n",
    "import pandas as pd"
   ]
  },
  {
   "cell_type": "markdown",
   "id": "5914cd27",
   "metadata": {},
   "source": [
    "# Importing Graph Data from CSV File"
   ]
  },
  {
   "cell_type": "code",
   "execution_count": 2,
   "id": "3ce28bb7",
   "metadata": {},
   "outputs": [
    {
     "data": {
      "text/plain": [
       "[3, 4, 5, 6, 7, 8, 9, 10, 11, 12]"
      ]
     },
     "execution_count": 2,
     "metadata": {},
     "output_type": "execute_result"
    }
   ],
   "source": [
    "d = pd.read_csv(\"wiki_vote_edges.csv\", delimiter='\\t')\n",
    "edge_list = [(x,y) for [x,y] in d.values]\n",
    "mydg0 = MyDiGraph()\n",
    "mydg0.from_edge_list(edge_list) # Constructing the graph using the list of its edges\n",
    "nodes = mydg0.get_vertex_list()\n",
    "nodes.sort()\n",
    "nodes[0:10]"
   ]
  },
  {
   "cell_type": "code",
   "execution_count": 3,
   "id": "e260f059",
   "metadata": {},
   "outputs": [],
   "source": [
    "mydg = MyDiGraph()\n",
    "for node in nodes: # Creating nodes in the ordinary order\n",
    "    mydg.add_vertex(node)\n",
    "mydg.from_edge_list(edge_list) # Constructing the graph using the list of its edges"
   ]
  },
  {
   "cell_type": "code",
   "execution_count": 4,
   "id": "303060bb",
   "metadata": {},
   "outputs": [
    {
     "data": {
      "text/plain": [
       "[0,\n",
       " 1,\n",
       " 2,\n",
       " 3,\n",
       " 4,\n",
       " 5,\n",
       " 6,\n",
       " 7,\n",
       " 8,\n",
       " 9,\n",
       " 10,\n",
       " 11,\n",
       " 12,\n",
       " 13,\n",
       " 14,\n",
       " 15,\n",
       " 16,\n",
       " 17,\n",
       " 18,\n",
       " 19,\n",
       " 20,\n",
       " 21,\n",
       " 22,\n",
       " 23,\n",
       " 24,\n",
       " 25,\n",
       " 26,\n",
       " 27,\n",
       " 28,\n",
       " 29,\n",
       " 30,\n",
       " 31,\n",
       " 32,\n",
       " 33,\n",
       " 34,\n",
       " 35,\n",
       " 36,\n",
       " 37,\n",
       " 38,\n",
       " 39,\n",
       " 40,\n",
       " 41,\n",
       " 42,\n",
       " 43,\n",
       " 44,\n",
       " 45,\n",
       " 46,\n",
       " 47,\n",
       " 48,\n",
       " 49,\n",
       " 50,\n",
       " 51,\n",
       " 52,\n",
       " 53,\n",
       " 54,\n",
       " 55,\n",
       " 56,\n",
       " 57,\n",
       " 58,\n",
       " 59,\n",
       " 60,\n",
       " 61,\n",
       " 62,\n",
       " 63,\n",
       " 64,\n",
       " 65,\n",
       " 66,\n",
       " 67,\n",
       " 68,\n",
       " 69,\n",
       " 70,\n",
       " 71,\n",
       " 72,\n",
       " 73,\n",
       " 74,\n",
       " 75,\n",
       " 76,\n",
       " 77,\n",
       " 78,\n",
       " 79,\n",
       " 80,\n",
       " 81,\n",
       " 82,\n",
       " 83,\n",
       " 84,\n",
       " 85,\n",
       " 86,\n",
       " 87,\n",
       " 88,\n",
       " 89,\n",
       " 90,\n",
       " 91,\n",
       " 92,\n",
       " 93,\n",
       " 94,\n",
       " 95,\n",
       " 96,\n",
       " 97,\n",
       " 99,\n",
       " 100,\n",
       " 101,\n",
       " 102,\n",
       " 103,\n",
       " 104,\n",
       " 105,\n",
       " 106,\n",
       " 107,\n",
       " 108,\n",
       " 109,\n",
       " 110,\n",
       " 111,\n",
       " 112,\n",
       " 113,\n",
       " 114,\n",
       " 115,\n",
       " 116,\n",
       " 117,\n",
       " 118,\n",
       " 121,\n",
       " 122,\n",
       " 123,\n",
       " 124,\n",
       " 126,\n",
       " 127,\n",
       " 128,\n",
       " 129,\n",
       " 130,\n",
       " 131,\n",
       " 132,\n",
       " 133,\n",
       " 134,\n",
       " 135,\n",
       " 136,\n",
       " 137,\n",
       " 139,\n",
       " 140,\n",
       " 141,\n",
       " 144,\n",
       " 145,\n",
       " 146,\n",
       " 147,\n",
       " 148,\n",
       " 149,\n",
       " 151,\n",
       " 153,\n",
       " 154,\n",
       " 155,\n",
       " 158,\n",
       " 160,\n",
       " 162,\n",
       " 164,\n",
       " 165,\n",
       " 167,\n",
       " 170,\n",
       " 173,\n",
       " 175,\n",
       " 178,\n",
       " 181,\n",
       " 186,\n",
       " 188,\n",
       " 189,\n",
       " 190,\n",
       " 191,\n",
       " 192,\n",
       " 193,\n",
       " 195,\n",
       " 197,\n",
       " 203,\n",
       " 208,\n",
       " 213,\n",
       " 217,\n",
       " 219,\n",
       " 223,\n",
       " 228,\n",
       " 231,\n",
       " 232,\n",
       " 244,\n",
       " 245,\n",
       " 254,\n",
       " 259,\n",
       " 264,\n",
       " 265,\n",
       " 266,\n",
       " 272,\n",
       " 274,\n",
       " 309,\n",
       " 331,\n",
       " 340,\n",
       " 361,\n",
       " 457]"
      ]
     },
     "execution_count": 4,
     "metadata": {},
     "output_type": "execute_result"
    }
   ],
   "source": [
    "mydg.in_degrees_list()"
   ]
  },
  {
   "cell_type": "markdown",
   "id": "28546bd5",
   "metadata": {},
   "source": [
    "# The NDFC matrix representation"
   ]
  },
  {
   "cell_type": "code",
   "execution_count": 5,
   "id": "57dd76a5",
   "metadata": {
    "scrolled": true
   },
   "outputs": [
    {
     "data": {
      "text/plain": [
       "[0, 1, 2, 4, 7, 12, 19, 30, 47, 72, 110, 167, 237, 307]"
      ]
     },
     "execution_count": 5,
     "metadata": {},
     "output_type": "execute_result"
    }
   ],
   "source": [
    "sp_1 = mydg.starting_points(ratio=1.5, max_length=70, starting_length=1, inward=True, last_point=350)\n",
    "sp_1"
   ]
  },
  {
   "cell_type": "code",
   "execution_count": 6,
   "id": "d505d4c3",
   "metadata": {},
   "outputs": [
    {
     "data": {
      "text/plain": [
       "[0, 1, 2, 4, 7, 12, 19, 30, 47, 72, 110, 167, 237, 307, 450]"
      ]
     },
     "execution_count": 6,
     "metadata": {},
     "output_type": "execute_result"
    }
   ],
   "source": [
    "sp_1 = sp_1 + [450]\n",
    "sp_1"
   ]
  },
  {
   "cell_type": "code",
   "execution_count": 7,
   "id": "a7b2f92a",
   "metadata": {},
   "outputs": [
    {
     "name": "stdout",
     "output_type": "stream",
     "text": [
      "Wall time: 53.7 s\n"
     ]
    },
    {
     "data": {
      "text/plain": [
       "array([[2.0000000e+01, 0.0000000e+00, 0.0000000e+00, 0.0000000e+00,\n",
       "        0.0000000e+00, 1.0000000e+00, 5.0000000e+00, 3.0000000e+00,\n",
       "        0.0000000e+00, 0.0000000e+00, 2.0000000e+00, 0.0000000e+00,\n",
       "        0.0000000e+00, 0.0000000e+00, 0.0000000e+00],\n",
       "       [8.4193550e+00, 0.0000000e+00, 0.0000000e+00, 0.0000000e+00,\n",
       "        1.6129000e-01, 5.8064500e-01, 2.2903230e+00, 1.7096770e+00,\n",
       "        9.6774200e-01, 4.5161300e-01, 4.8387100e-01, 3.2258000e-02,\n",
       "        0.0000000e+00, 9.6774000e-02, 0.0000000e+00],\n",
       "       [1.0812749e+01, 5.9761000e-02, 3.9841000e-02, 1.1952000e-02,\n",
       "        2.0717100e-01, 8.2470100e-01, 2.6055780e+00, 2.7490040e+00,\n",
       "        2.6613550e+00, 1.4741040e+00, 8.4860600e-01, 1.8725100e-01,\n",
       "        1.2350600e-01, 8.7649000e-02, 3.9840000e-03],\n",
       "       [1.1010664e+01, 1.0500400e-01, 6.8089000e-02, 8.6957000e-02,\n",
       "        1.4356000e-01, 3.8638200e-01, 1.4421660e+00, 2.2190320e+00,\n",
       "        3.7932730e+00, 3.4257590e+00, 1.8031170e+00, 4.5118900e-01,\n",
       "        5.4388800e-01, 6.3167000e-02, 8.2000000e-04],\n",
       "       [5.2813290e+00, 4.3314000e-02, 3.9108000e-02, 5.3406000e-02,\n",
       "        1.3078200e-01, 1.3793100e-01, 3.8099200e-01, 1.0079900e+00,\n",
       "        1.7876370e+00, 1.6063920e+00, 9.8906600e-01, 2.2329700e-01,\n",
       "        2.6324600e-01, 1.2616000e-02, 2.9440000e-03],\n",
       "       [1.8420110e+00, 1.6158000e-02, 2.0646000e-02, 2.0646000e-02,\n",
       "        5.6553000e-02, 5.4758000e-02, 1.3375200e-01, 3.7432700e-01,\n",
       "        6.4721700e-01, 5.0000000e-01, 3.1597800e-01, 6.6427000e-02,\n",
       "        9.2460000e-02, 0.0000000e+00, 0.0000000e+00]])"
      ]
     },
     "execution_count": 7,
     "metadata": {},
     "output_type": "execute_result"
    }
   ],
   "source": [
    "%%time\n",
    "# producing the order 5 NDFC matrix rep. of nodes of the garph w.r.t. the starting points sp_1:\n",
    "mats_1 = NDFC_matrix_rep(mydg, starting_points=sp_1, inward=True, radius=5, decimals=6)\n",
    "mats_1[0]"
   ]
  },
  {
   "cell_type": "code",
   "execution_count": 8,
   "id": "81e14941",
   "metadata": {},
   "outputs": [
    {
     "data": {
      "text/plain": [
       "(7115, 6, 15)"
      ]
     },
     "execution_count": 8,
     "metadata": {},
     "output_type": "execute_result"
    }
   ],
   "source": [
    "mats_1.shape"
   ]
  },
  {
   "cell_type": "code",
   "execution_count": 9,
   "id": "1cbe01aa",
   "metadata": {},
   "outputs": [],
   "source": [
    "np.save(\"wiki_vote_NDFC_matrix_sp1_rad5_inward.npy\", mats_1, allow_pickle=False, fix_imports=True)"
   ]
  },
  {
   "cell_type": "markdown",
   "id": "d8d4a5ea",
   "metadata": {},
   "source": [
    "# The order 5 discounted inward NDFC matrix representation"
   ]
  },
  {
   "cell_type": "code",
   "execution_count": 10,
   "id": "32e4a1e6",
   "metadata": {},
   "outputs": [
    {
     "name": "stdout",
     "output_type": "stream",
     "text": [
      "Wall time: 1min 59s\n"
     ]
    },
    {
     "data": {
      "text/plain": [
       "array([[2.00000e+01, 0.00000e+00, 0.00000e+00, 0.00000e+00, 0.00000e+00,\n",
       "        1.00000e+00, 5.00000e+00, 3.00000e+00, 0.00000e+00, 0.00000e+00,\n",
       "        2.00000e+00, 0.00000e+00, 0.00000e+00, 0.00000e+00, 0.00000e+00],\n",
       "       [2.67983e-01, 0.00000e+00, 0.00000e+00, 0.00000e+00, 1.27600e-03,\n",
       "        2.72370e-02, 6.69090e-02, 5.15750e-02, 1.27390e-02, 1.21370e-02,\n",
       "        2.00730e-02, 4.96000e-04, 0.00000e+00, 5.34700e-03, 0.00000e+00],\n",
       "       [5.82373e-01, 2.96800e-03, 2.75300e-03, 2.26000e-04, 1.32310e-02,\n",
       "        3.89730e-02, 1.32116e-01, 1.12223e-01, 1.10844e-01, 6.81780e-02,\n",
       "        4.25610e-02, 9.51000e-03, 6.58200e-03, 5.50700e-03, 8.00000e-05],\n",
       "       [5.57648e-01, 3.51800e-03, 2.29500e-03, 3.48600e-03, 6.90100e-03,\n",
       "        2.78480e-02, 9.70080e-02, 1.20056e-01, 1.65161e-01, 1.34287e-01,\n",
       "        6.68520e-02, 1.79850e-02, 2.27400e-02, 2.33800e-03, 5.00000e-06],\n",
       "       [6.66229e-01, 4.78900e-03, 5.08600e-03, 7.92800e-03, 1.65080e-02,\n",
       "        2.28100e-02, 6.56220e-02, 1.27683e-01, 2.12787e-01, 1.99760e-01,\n",
       "        1.10081e-01, 2.75600e-02, 3.73000e-02, 1.98700e-03, 5.19000e-04],\n",
       "       [8.47637e-01, 7.55000e-03, 8.29800e-03, 5.75700e-03, 2.35710e-02,\n",
       "        2.39540e-02, 6.23380e-02, 1.70761e-01, 2.94312e-01, 2.30542e-01,\n",
       "        1.47552e-01, 3.02120e-02, 4.18370e-02, 0.00000e+00, 0.00000e+00]])"
      ]
     },
     "execution_count": 10,
     "metadata": {},
     "output_type": "execute_result"
    }
   ],
   "source": [
    "%%time\n",
    "# producing the order 5 discounted inward NDFC matrix rep. of nodes of the garph w.r.t. the starting points sp_1:\n",
    "mats_2 = discounted_NDFC_matrix_rep(mydg, starting_points=sp_1, radius=5, decimals=6)\n",
    "mats_2[0]"
   ]
  },
  {
   "cell_type": "code",
   "execution_count": 11,
   "id": "39bc541b",
   "metadata": {},
   "outputs": [
    {
     "data": {
      "text/plain": [
       "(7115, 6, 15)"
      ]
     },
     "execution_count": 11,
     "metadata": {},
     "output_type": "execute_result"
    }
   ],
   "source": [
    "mats_2.shape"
   ]
  },
  {
   "cell_type": "code",
   "execution_count": 12,
   "id": "d693514a",
   "metadata": {},
   "outputs": [],
   "source": [
    "np.save(\"wiki_vote_NDFC_matrix_sp1_rad5_inward_discounted.npy\", mats_2, allow_pickle=False, fix_imports=True)"
   ]
  }
 ],
 "metadata": {
  "kernelspec": {
   "display_name": "Python 3 (ipykernel)",
   "language": "python",
   "name": "python3"
  },
  "language_info": {
   "codemirror_mode": {
    "name": "ipython",
    "version": 3
   },
   "file_extension": ".py",
   "mimetype": "text/x-python",
   "name": "python",
   "nbconvert_exporter": "python",
   "pygments_lexer": "ipython3",
   "version": "3.8.3"
  }
 },
 "nbformat": 4,
 "nbformat_minor": 5
}
