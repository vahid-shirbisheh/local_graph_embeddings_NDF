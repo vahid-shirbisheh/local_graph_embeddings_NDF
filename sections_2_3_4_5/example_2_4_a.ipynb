{
 "cells": [
  {
   "cell_type": "markdown",
   "id": "f25ba1cd",
   "metadata": {},
   "source": [
    "# Comparing the sorted dictionary of the $p$-centrality function with sorted dictionaries of other centrality measures\n",
    "Table 1 in the article is based on this notebook"
   ]
  },
  {
   "cell_type": "code",
   "execution_count": 1,
   "id": "8662033b",
   "metadata": {},
   "outputs": [],
   "source": [
    "from mygraph import MyGraph\n",
    "from helpers import *"
   ]
  },
  {
   "cell_type": "code",
   "execution_count": 2,
   "id": "55e05538",
   "metadata": {},
   "outputs": [],
   "source": [
    "# Building the graph \n",
    "myg = MyGraph()\n",
    "edge_list = [(\"A\", \"B\"), (\"A\", \"C\"), (\"A\", \"J\"), (\"A\", \"Y\"), (\"A\", \"H\"), (\"Y\", \"I\"), (\"Y\", \"L\"), (\"Y\", \"H\"),  \n",
    "             (\"I\", \"K\"), (\"B\", \"E\"), (\"B\", \"D\"), (\"D\", \"R\"), (\"D\", \"Q\"), (\"C\", \"F\"), (\"F\", \"E\"), (\"E\", \"D\"), \n",
    "             (\"L\", \"K\"), (\"K\", \"P\"), (\"H\", \"I\"), (\"H\", \"M\"), (\"M\", \"N\"), (\"N\", \"K\") ]\n",
    "myg.from_edge_list(edge_list)"
   ]
  },
  {
   "cell_type": "code",
   "execution_count": 3,
   "id": "3921a970",
   "metadata": {},
   "outputs": [
    {
     "data": {
      "image/png": "[encoded data removed]",
      "text/plain": [
       "<Figure size 640x480 with 1 Axes>"
      ]
     },
     "metadata": {},
     "output_type": "display_data"
    }
   ],
   "source": [
    "# drawing the graph\n",
    "dg(myg)"
   ]
  },
  {
   "cell_type": "code",
   "execution_count": 4,
   "id": "49cbbcde",
   "metadata": {},
   "outputs": [],
   "source": [
    "# making a copy of the graph myg as an object of the class Graph in NetworkX\n",
    "nxg = copy_my_graph(myg)"
   ]
  },
  {
   "cell_type": "code",
   "execution_count": 5,
   "id": "61739ee3",
   "metadata": {},
   "outputs": [
    {
     "data": {
      "text/plain": [
       "{'A': 0.48484848484848486,\n",
       " 'B': 0.41025641025641024,\n",
       " 'C': 0.35555555555555557,\n",
       " 'J': 0.3333333333333333,\n",
       " 'Y': 0.43243243243243246,\n",
       " 'H': 0.4444444444444444,\n",
       " 'I': 0.36363636363636365,\n",
       " 'L': 0.34782608695652173,\n",
       " 'K': 0.3076923076923077,\n",
       " 'E': 0.3333333333333333,\n",
       " 'D': 0.3333333333333333,\n",
       " 'R': 0.25396825396825395,\n",
       " 'Q': 0.25396825396825395,\n",
       " 'F': 0.3137254901960784,\n",
       " 'P': 0.23880597014925373,\n",
       " 'M': 0.3404255319148936,\n",
       " 'N': 0.2909090909090909}"
      ]
     },
     "execution_count": 5,
     "metadata": {},
     "output_type": "execute_result"
    }
   ],
   "source": [
    "closeness = nx.closeness_centrality(nxg)\n",
    "closeness"
   ]
  },
  {
   "cell_type": "code",
   "execution_count": 6,
   "id": "b5e83653",
   "metadata": {},
   "outputs": [
    {
     "data": {
      "text/plain": [
       "{'A': 0.6125,\n",
       " 'B': 0.3458333333333333,\n",
       " 'C': 0.08333333333333333,\n",
       " 'J': 0.0,\n",
       " 'Y': 0.22916666666666669,\n",
       " 'H': 0.26111111111111107,\n",
       " 'I': 0.12777777777777774,\n",
       " 'L': 0.0611111111111111,\n",
       " 'K': 0.15555555555555553,\n",
       " 'E': 0.04583333333333333,\n",
       " 'D': 0.24166666666666667,\n",
       " 'R': 0.0,\n",
       " 'Q': 0.0,\n",
       " 'F': 0.020833333333333332,\n",
       " 'P': 0.0,\n",
       " 'M': 0.0861111111111111,\n",
       " 'N': 0.020833333333333332}"
      ]
     },
     "execution_count": 6,
     "metadata": {},
     "output_type": "execute_result"
    }
   ],
   "source": [
    "betweenness = nx.betweenness_centrality(nxg)\n",
    "betweenness"
   ]
  },
  {
   "cell_type": "code",
   "execution_count": 7,
   "id": "87ceb60f",
   "metadata": {},
   "outputs": [
    {
     "data": {
      "text/plain": [
       "{'A': 0.43653941329712925,\n",
       " 'B': 0.2241305910015961,\n",
       " 'C': 0.16542765728436498,\n",
       " 'J': 0.1356201478801634,\n",
       " 'Y': 0.4442827799392666,\n",
       " 'H': 0.43568933650953623,\n",
       " 'I': 0.34660304865150937,\n",
       " 'L': 0.2112474695862857,\n",
       " 'K': 0.23569216749780525,\n",
       " 'E': 0.14339886309964028,\n",
       " 'D': 0.14149690636097173,\n",
       " 'R': 0.043959821479559805,\n",
       " 'Q': 0.043959821479559805,\n",
       " 'F': 0.09594436979585431,\n",
       " 'P': 0.07322218344166917,\n",
       " 'M': 0.1749928878079135,\n",
       " 'N': 0.12758711598884365}"
      ]
     },
     "execution_count": 7,
     "metadata": {},
     "output_type": "execute_result"
    }
   ],
   "source": [
    "eigenvector = nx.eigenvector_centrality(nxg)\n",
    "eigenvector"
   ]
  },
  {
   "cell_type": "code",
   "execution_count": 8,
   "id": "84855499",
   "metadata": {},
   "outputs": [],
   "source": [
    "def p_centrality(myg, p, radius, normalizing_factor):\n",
    "    \"\"\"\n",
    "    myg: a MyGraph object \n",
    "    p: a real number 0 < p < 1\n",
    "    radius: the maxinum radius of circles around a node that are used to compute the p-centrality function\n",
    "    normalizing_factor: the normalizing factor to make the p-centrality function comparable with closeness centrality\n",
    "    returns: a dictionary whose keys are the nodes of the graph and the values are the p-centrality function of the corresponding node\n",
    "    \"\"\"\n",
    "    ppc = {}\n",
    "    for node in myg.get_vertex_list():\n",
    "        circles = myg.circles(node, radius=radius)\n",
    "        val = 0\n",
    "        for i in range(radius):\n",
    "            if i + 1 <= len(circles) - 1:\n",
    "                val += len(circles[i+1])* p**i\n",
    "        ppc[node] = val/normalizing_factor\n",
    "    return ppc"
   ]
  },
  {
   "cell_type": "code",
   "execution_count": 9,
   "id": "1185375b",
   "metadata": {},
   "outputs": [],
   "source": [
    "def sort_dict(d):\n",
    "    sorted_d = dict(sorted(d.items(), key=lambda kv: round(kv[1], 3), reverse=True))\n",
    "    sorted_d = {x:round(sorted_d[x], 3) for x in sorted_d }\n",
    "    return sorted_d"
   ]
  },
  {
   "cell_type": "code",
   "execution_count": 10,
   "id": "abba7458",
   "metadata": {},
   "outputs": [
    {
     "data": {
      "text/plain": [
       "{'A': 0.4849172576832151,\n",
       " 'B': 0.4180425531914895,\n",
       " 'C': 0.3514704491725768,\n",
       " 'J': 0.3098628841607565,\n",
       " 'Y': 0.436501182033097,\n",
       " 'H': 0.44784869976359337,\n",
       " 'I': 0.377645390070922,\n",
       " 'L': 0.3473853427895981,\n",
       " 'K': 0.3476274231678487,\n",
       " 'E': 0.3529531914893617,\n",
       " 'D': 0.3605182033096927,\n",
       " 'R': 0.23522345153664298,\n",
       " 'Q': 0.23522345153664298,\n",
       " 'F': 0.3113456264775413,\n",
       " 'P': 0.22748898345153665,\n",
       " 'M': 0.3360378250591017,\n",
       " 'N': 0.2984548463356974}"
      ]
     },
     "execution_count": 10,
     "metadata": {},
     "output_type": "execute_result"
    }
   ],
   "source": [
    "ppc = p_centrality(myg, 0.6, 7, 21.15)\n",
    "ppc"
   ]
  },
  {
   "cell_type": "code",
   "execution_count": 11,
   "id": "01d73b8f",
   "metadata": {},
   "outputs": [
    {
     "name": "stdout",
     "output_type": "stream",
     "text": [
      "Closeness Centrality:\n",
      "A     0.485 \n",
      "H     0.444 \n",
      "Y     0.432 \n",
      "B     0.41 \n",
      "I     0.364 \n",
      "C     0.356 \n",
      "L     0.348 \n",
      "M     0.34 \n",
      "J     0.333 \n",
      "E     0.333 \n",
      "D     0.333 \n",
      "F     0.314 \n",
      "K     0.308 \n",
      "N     0.291 \n",
      "R     0.254 \n",
      "Q     0.254 \n",
      "P     0.239 \n"
     ]
    }
   ],
   "source": [
    "print(\"Closeness Centrality:\")\n",
    "print_dict(sort_dict(closeness), keys_len=5)"
   ]
  },
  {
   "cell_type": "code",
   "execution_count": 12,
   "id": "6abb533f",
   "metadata": {},
   "outputs": [
    {
     "name": "stdout",
     "output_type": "stream",
     "text": [
      "p-Centrality Function:\n",
      "A     0.485 \n",
      "H     0.448 \n",
      "Y     0.437 \n",
      "B     0.418 \n",
      "I     0.378 \n",
      "D     0.361 \n",
      "E     0.353 \n",
      "C     0.351 \n",
      "K     0.348 \n",
      "L     0.347 \n",
      "M     0.336 \n",
      "F     0.311 \n",
      "J     0.31 \n",
      "N     0.298 \n",
      "R     0.235 \n",
      "Q     0.235 \n",
      "P     0.227 \n"
     ]
    }
   ],
   "source": [
    "print(\"p-Centrality Function:\")\n",
    "print_dict(sort_dict(ppc), keys_len=5)"
   ]
  },
  {
   "cell_type": "code",
   "execution_count": 13,
   "id": "213bde8f",
   "metadata": {},
   "outputs": [
    {
     "name": "stdout",
     "output_type": "stream",
     "text": [
      "Eigenvector Centrality:\n",
      "Y     0.444 \n",
      "A     0.437 \n",
      "H     0.436 \n",
      "I     0.347 \n",
      "K     0.236 \n",
      "B     0.224 \n",
      "L     0.211 \n",
      "M     0.175 \n",
      "C     0.165 \n",
      "E     0.143 \n",
      "D     0.141 \n",
      "J     0.136 \n",
      "N     0.128 \n",
      "F     0.096 \n",
      "P     0.073 \n",
      "R     0.044 \n",
      "Q     0.044 \n"
     ]
    }
   ],
   "source": [
    "print(\"Eigenvector Centrality:\")\n",
    "print_dict(sort_dict(eigenvector), keys_len=5)"
   ]
  },
  {
   "cell_type": "code",
   "execution_count": 14,
   "id": "be0371d0",
   "metadata": {},
   "outputs": [
    {
     "name": "stdout",
     "output_type": "stream",
     "text": [
      "Betwnness Centrality:\n",
      "A     0.613 \n",
      "B     0.346 \n",
      "H     0.261 \n",
      "D     0.242 \n",
      "Y     0.229 \n",
      "K     0.156 \n",
      "I     0.128 \n",
      "M     0.086 \n",
      "C     0.083 \n",
      "L     0.061 \n",
      "E     0.046 \n",
      "F     0.021 \n",
      "N     0.021 \n",
      "J     0.0 \n",
      "R     0.0 \n",
      "Q     0.0 \n",
      "P     0.0 \n"
     ]
    }
   ],
   "source": [
    "print(\"Betwnness Centrality:\")\n",
    "print_dict(sort_dict(betweenness), keys_len=5)"
   ]
  },
  {
   "cell_type": "code",
   "execution_count": null,
   "id": "b072a6fa",
   "metadata": {},
   "outputs": [],
   "source": []
  }
 ],
 "metadata": {
  "kernelspec": {
   "display_name": "Python 3 (ipykernel)",
   "language": "python",
   "name": "python3"
  },
  "language_info": {
   "codemirror_mode": {
    "name": "ipython",
    "version": 3
   },
   "file_extension": ".py",
   "mimetype": "text/x-python",
   "name": "python",
   "nbconvert_exporter": "python",
   "pygments_lexer": "ipython3",
   "version": "3.8.3"
  }
 },
 "nbformat": 4,
 "nbformat_minor": 5
}
