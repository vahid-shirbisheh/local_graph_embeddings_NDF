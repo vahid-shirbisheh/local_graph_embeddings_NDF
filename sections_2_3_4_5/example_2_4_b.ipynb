{
 "cells": [
  {
   "cell_type": "markdown",
   "id": "b5da9e20",
   "metadata": {},
   "source": [
    "# Comparing  valuess of the 𝑝-centrality function with values of other centrality measures and the percentage of the differences\n",
    "\n",
    "Table 2 in the article is based on this notebook"
   ]
  },
  {
   "cell_type": "code",
   "execution_count": 1,
   "id": "8662033b",
   "metadata": {},
   "outputs": [],
   "source": [
    "from mygraph import MyGraph\n",
    "from helpers import *"
   ]
  },
  {
   "cell_type": "code",
   "execution_count": 2,
   "id": "55e05538",
   "metadata": {},
   "outputs": [],
   "source": [
    "# Building the graph \n",
    "myg = MyGraph()\n",
    "edge_list = [(\"A\", \"B\"), (\"A\", \"C\"), (\"A\", \"J\"), (\"A\", \"Y\"), (\"A\", \"H\"), (\"Y\", \"I\"), (\"Y\", \"L\"), (\"Y\", \"H\"),  \n",
    "             (\"I\", \"K\"), (\"B\", \"E\"), (\"B\", \"D\"), (\"D\", \"R\"), (\"D\", \"Q\"), (\"C\", \"F\"), (\"F\", \"E\"), (\"E\", \"D\"), \n",
    "             (\"L\", \"K\"), (\"K\", \"P\"), (\"H\", \"I\"), (\"H\", \"M\"), (\"M\", \"N\"), (\"N\", \"K\") ]\n",
    "myg.from_edge_list(edge_list)"
   ]
  },
  {
   "cell_type": "code",
   "execution_count": 3,
   "id": "3921a970",
   "metadata": {},
   "outputs": [
    {
     "data": {
      "image/png": "[encoded data removed]",
      "text/plain": [
       "<Figure size 640x480 with 1 Axes>"
      ]
     },
     "metadata": {},
     "output_type": "display_data"
    }
   ],
   "source": [
    "# drawing the graph\n",
    "dg(myg)"
   ]
  },
  {
   "cell_type": "code",
   "execution_count": 4,
   "id": "545e3a18",
   "metadata": {},
   "outputs": [],
   "source": [
    "# copying the graph into a NetworkX Graph object\n",
    "nxg = copy_my_graph(myg)"
   ]
  },
  {
   "cell_type": "code",
   "execution_count": 5,
   "id": "61739ee3",
   "metadata": {},
   "outputs": [
    {
     "data": {
      "text/plain": [
       "{'A': 0.48484848484848486,\n",
       " 'B': 0.41025641025641024,\n",
       " 'C': 0.35555555555555557,\n",
       " 'J': 0.3333333333333333,\n",
       " 'Y': 0.43243243243243246,\n",
       " 'H': 0.4444444444444444,\n",
       " 'I': 0.36363636363636365,\n",
       " 'L': 0.34782608695652173,\n",
       " 'K': 0.3076923076923077,\n",
       " 'E': 0.3333333333333333,\n",
       " 'D': 0.3333333333333333,\n",
       " 'R': 0.25396825396825395,\n",
       " 'Q': 0.25396825396825395,\n",
       " 'F': 0.3137254901960784,\n",
       " 'P': 0.23880597014925373,\n",
       " 'M': 0.3404255319148936,\n",
       " 'N': 0.2909090909090909}"
      ]
     },
     "execution_count": 5,
     "metadata": {},
     "output_type": "execute_result"
    }
   ],
   "source": [
    "closeness = nx.closeness_centrality(nxg)\n",
    "closeness"
   ]
  },
  {
   "cell_type": "code",
   "execution_count": 6,
   "id": "abd5cd04",
   "metadata": {},
   "outputs": [],
   "source": [
    "def p_centrality(myg, p, radius, scaling_factor):\n",
    "    \"\"\"\n",
    "    myg: a MyGraph object \n",
    "    p: a real number 0 < p < 1\n",
    "    radius: the maxinum radius of circles around a node that are used to compute the p-centrality function\n",
    "    scaling_factor: the scaling factor to make the p-centrality function comparable with closeness centrality\n",
    "    returns: a dictionary whose keys are the nodes of the graph and the values are the p-centrality function of the corresponding node\n",
    "    \"\"\"\n",
    "    ppc = {}\n",
    "    for node in myg.get_vertex_list():\n",
    "        circles = myg.circles(node, radius=radius)\n",
    "        val = 0\n",
    "        for i in range(radius):\n",
    "            if i + 1 <= len(circles) - 1:\n",
    "                val += len(circles[i+1])* p**i\n",
    "        ppc[node] = val/scaling_factor\n",
    "    return ppc"
   ]
  },
  {
   "cell_type": "code",
   "execution_count": 7,
   "id": "6a2e4fc6",
   "metadata": {
    "scrolled": false
   },
   "outputs": [
    {
     "name": "stdout",
     "output_type": "stream",
     "text": [
      "A -->   c: 0.485    p: 0.485   error: 0.014 % \n",
      "--------------------------------------------\n",
      "B -->   c: 0.41     p: 0.418   error: 1.898 % \n",
      "--------------------------------------------\n",
      "C -->   c: 0.356    p: 0.351   error: 1.149 % \n",
      "--------------------------------------------\n",
      "J -->   c: 0.333    p: 0.31    error: 7.041 % \n",
      "--------------------------------------------\n",
      "Y -->   c: 0.432    p: 0.437   error: 0.941 % \n",
      "--------------------------------------------\n",
      "H -->   c: 0.444    p: 0.448   error: 0.766 % \n",
      "--------------------------------------------\n",
      "I -->   c: 0.364    p: 0.378   error: 3.852 % \n",
      "--------------------------------------------\n",
      "L -->   c: 0.348    p: 0.347   error: 0.127 % \n",
      "--------------------------------------------\n",
      "K -->   c: 0.308    p: 0.348   error: 12.979% \n",
      "--------------------------------------------\n",
      "E -->   c: 0.333    p: 0.353   error: 5.886 % \n",
      "--------------------------------------------\n",
      "D -->   c: 0.333    p: 0.361   error: 8.155 % \n",
      "--------------------------------------------\n",
      "R -->   c: 0.254    p: 0.235   error: 7.381 % \n",
      "--------------------------------------------\n",
      "Q -->   c: 0.254    p: 0.235   error: 7.381 % \n",
      "--------------------------------------------\n",
      "F -->   c: 0.314    p: 0.311   error: 0.759 % \n",
      "--------------------------------------------\n",
      "P -->   c: 0.239    p: 0.227   error: 4.739 % \n",
      "--------------------------------------------\n",
      "M -->   c: 0.34     p: 0.336   error: 1.289 % \n",
      "--------------------------------------------\n",
      "N -->   c: 0.291    p: 0.298   error: 2.594 % \n",
      "--------------------------------------------\n",
      "average error:  3.938 %\n"
     ]
    }
   ],
   "source": [
    "ppc = p_centrality(myg, 0.6, 7, 21.15)\n",
    "errors = []\n",
    "for x in ppc.keys():\n",
    "    diff_percecntage = abs(ppc[x]-closeness[x])/closeness[x]\n",
    "    errors.append(diff_percecntage)\n",
    "    print(f\"{x} -->   c: {round(closeness[x], 3):<{7}}  p: {round(ppc[x], 3):<{7}} error: {round(100 * diff_percecntage, 3):<{6}}% \")\n",
    "    print(\"--------------------------------------------\")\n",
    "print(\"average error: \", round((100 * sum(errors))/len(errors), 3), \"%\")"
   ]
  },
  {
   "cell_type": "code",
   "execution_count": null,
   "id": "9e8fd98e",
   "metadata": {},
   "outputs": [],
   "source": []
  }
 ],
 "metadata": {
  "kernelspec": {
   "display_name": "Python 3 (ipykernel)",
   "language": "python",
   "name": "python3"
  },
  "language_info": {
   "codemirror_mode": {
    "name": "ipython",
    "version": 3
   },
   "file_extension": ".py",
   "mimetype": "text/x-python",
   "name": "python",
   "nbconvert_exporter": "python",
   "pygments_lexer": "ipython3",
   "version": "3.8.3"
  }
 },
 "nbformat": 4,
 "nbformat_minor": 5
}
