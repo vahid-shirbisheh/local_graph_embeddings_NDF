{
 "cells": [
  {
   "cell_type": "markdown",
   "id": "0314d0f3",
   "metadata": {},
   "source": [
    "# Two Algorithms for Generating sequenes of Starting Points \n",
    "\n",
    "### Starting Points ==> Intervals List ==> Dynamic NDF Embedding\n",
    "\n",
    "This piece of code is related to the content of section 4. Here we implement two methods to generate starting points and then intervals lists. Later, these intervals can be applied to produce the corresponding dynamic NDF embeddings of nodes of the graph.\n",
    "\n",
    "The following methods have been implemented in class MyGraph with similar names and minor adjustments. "
   ]
  },
  {
   "cell_type": "code",
   "execution_count": 1,
   "id": "ff7abe13",
   "metadata": {},
   "outputs": [],
   "source": [
    "def uniform_points(max_degree, max_length=10) -> list:\n",
    "    next_point = max_degree\n",
    "    starting_points = []\n",
    "    while next_point > 0:\n",
    "        starting_points.append(next_point)\n",
    "        next_point -= max_length\n",
    "        if next_point <= 1:\n",
    "            starting_points.append(1)\n",
    "            break\n",
    "    starting_points.reverse()\n",
    "    return starting_points"
   ]
  },
  {
   "cell_type": "code",
   "execution_count": 10,
   "id": "fbfbbd7b",
   "metadata": {},
   "outputs": [],
   "source": [
    "def increasing_points(max_degree, length_ratio, max_length=10, starting_length=1) -> list:\n",
    "    starting_points = [1, starting_length + 1]\n",
    "    next_length = starting_length\n",
    "    while starting_points[-1] < max_degree:\n",
    "        next_length = min(next_length * length_ratio, max_length)\n",
    "        next_point = int(starting_points[-1] + next_length)\n",
    "        starting_points.append(next_point)\n",
    "        #print(next_length, points[-1])\n",
    "    if starting_points[-1] > max_degree:\n",
    "        starting_points.pop(-1)\n",
    "    return starting_points"
   ]
  },
  {
   "cell_type": "code",
   "execution_count": 3,
   "id": "efc7cdf3",
   "metadata": {},
   "outputs": [],
   "source": [
    "def intervals(starting_points):\n",
    "    int_list = []\n",
    "    if len(starting_points) == 1:\n",
    "        return int_list\n",
    "    for i in range(len(starting_points) - 1):\n",
    "        int_list.append(list(range(starting_points[i], starting_points[i + 1])))\n",
    "    return int_list"
   ]
  },
  {
   "cell_type": "code",
   "execution_count": 33,
   "id": "2bc03e5f",
   "metadata": {
    "scrolled": false
   },
   "outputs": [],
   "source": [
    "# The common parameter in both algorithms\n",
    "d = 101 # The maximum degree of nodes in the graph\n",
    "\n",
    "# The parameters of the algorithm for increasing (length) intervals \n",
    "m = 15 # The maximum length of intervals \n",
    "s = 1 # The starting length of intervals\n",
    "r = 1.25 # The rate (ratio) of inreasing the length of intervals "
   ]
  },
  {
   "cell_type": "code",
   "execution_count": 38,
   "id": "283e80f6",
   "metadata": {},
   "outputs": [
    {
     "name": "stdout",
     "output_type": "stream",
     "text": [
      "[1, 11, 26, 41, 56, 71, 86, 101]\n",
      "Intervals obtained from the sequence of uniorm starting points \n",
      "(execpt the last interval!)\n",
      "[1, 2, 3, 4, 5, 6, 7, 8, 9, 10]\n",
      "[11, 12, 13, 14, 15, 16, 17, 18, 19, 20, 21, 22, 23, 24, 25]\n",
      "[26, 27, 28, 29, 30, 31, 32, 33, 34, 35, 36, 37, 38, 39, 40]\n",
      "[41, 42, 43, 44, 45, 46, 47, 48, 49, 50, 51, 52, 53, 54, 55]\n",
      "[56, 57, 58, 59, 60, 61, 62, 63, 64, 65, 66, 67, 68, 69, 70]\n",
      "[71, 72, 73, 74, 75, 76, 77, 78, 79, 80, 81, 82, 83, 84, 85]\n",
      "[86, 87, 88, 89, 90, 91, 92, 93, 94, 95, 96, 97, 98, 99, 100]\n",
      "The last interval starts at  101\n"
     ]
    }
   ],
   "source": [
    "starting_points = uniform_points(max_degree = d, max_length = m)\n",
    "print(starting_points)\n",
    "print(\"Intervals obtained from the sequence of uniorm starting points \\n(execpt the last interval!)\")\n",
    "for interval in intervals(starting_points):\n",
    "    print(interval)\n",
    "print(\"The last interval starts at\", starting_points[-1])"
   ]
  },
  {
   "cell_type": "code",
   "execution_count": 37,
   "id": "388dd81b",
   "metadata": {},
   "outputs": [
    {
     "name": "stdout",
     "output_type": "stream",
     "text": [
      "[1, 2, 3, 4, 5, 7, 10, 13, 17, 22, 29, 38, 49, 63, 78, 93]\n",
      "Intervals obtained from the sequence of increasing starting points \n",
      "(execpt the last interval!)\n",
      "[1]\n",
      "[2]\n",
      "[3]\n",
      "[4]\n",
      "[5, 6]\n",
      "[7, 8, 9]\n",
      "[10, 11, 12]\n",
      "[13, 14, 15, 16]\n",
      "[17, 18, 19, 20, 21]\n",
      "[22, 23, 24, 25, 26, 27, 28]\n",
      "[29, 30, 31, 32, 33, 34, 35, 36, 37]\n",
      "[38, 39, 40, 41, 42, 43, 44, 45, 46, 47, 48]\n",
      "[49, 50, 51, 52, 53, 54, 55, 56, 57, 58, 59, 60, 61, 62]\n",
      "[63, 64, 65, 66, 67, 68, 69, 70, 71, 72, 73, 74, 75, 76, 77]\n",
      "[78, 79, 80, 81, 82, 83, 84, 85, 86, 87, 88, 89, 90, 91, 92]\n",
      "The last interval starts at  93\n"
     ]
    }
   ],
   "source": [
    "starting_points = increasing_points(max_degree = d, length_ratio = r, max_length = m, starting_length=s)\n",
    "print(starting_points)\n",
    "print(\"Intervals obtained from the sequence of increasing starting points \\n(execpt the last interval!)\")\n",
    "for interval in intervals(starting_points):\n",
    "    print(interval)\n",
    "print(\"The last interval starts at\", starting_points[-1])"
   ]
  },
  {
   "cell_type": "code",
   "execution_count": null,
   "id": "ea9430fc",
   "metadata": {},
   "outputs": [],
   "source": []
  }
 ],
 "metadata": {
  "kernelspec": {
   "display_name": "Python 3 (ipykernel)",
   "language": "python",
   "name": "python3"
  },
  "language_info": {
   "codemirror_mode": {
    "name": "ipython",
    "version": 3
   },
   "file_extension": ".py",
   "mimetype": "text/x-python",
   "name": "python",
   "nbconvert_exporter": "python",
   "pygments_lexer": "ipython3",
   "version": "3.8.3"
  }
 },
 "nbformat": 4,
 "nbformat_minor": 5
}
