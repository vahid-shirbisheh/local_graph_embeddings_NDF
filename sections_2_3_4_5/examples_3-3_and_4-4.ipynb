{
 "cells": [
  {
   "cell_type": "markdown",
   "id": "d6985c55",
   "metadata": {},
   "source": [
    "# The vanilla, minimal and dynamic NDF embeddings of nodes of a graph\n",
    "\n",
    "In the following code, we otline how to generate the vanilla, minimal and dynamic NDF vetor representations of nodes of a graph."
   ]
  },
  {
   "cell_type": "markdown",
   "id": "0b35ead5",
   "metadata": {},
   "source": [
    "### Tables 3 and 5 in the article is based on this notebook.\n",
    "\n",
    "Examples 3.3 and 4.4"
   ]
  },
  {
   "cell_type": "code",
   "execution_count": 1,
   "id": "b07840dc",
   "metadata": {},
   "outputs": [],
   "source": [
    "from mygraph import MyGraph\n",
    "from helpers import *"
   ]
  },
  {
   "cell_type": "code",
   "execution_count": 2,
   "id": "d1c79bb2",
   "metadata": {},
   "outputs": [],
   "source": [
    "# Building the graph \n",
    "myg = MyGraph()\n",
    "edge_list = [(\"A\", \"B\"), (\"A\", \"C\"), (\"A\", \"J\"), (\"A\", \"Y\"), (\"A\", \"H\"), (\"Y\", \"I\"), (\"Y\", \"L\"), (\"Y\", \"H\"),  \n",
    "             (\"I\", \"K\"), (\"B\", \"E\"), (\"B\", \"D\"), (\"D\", \"R\"), (\"D\", \"Q\"), (\"C\", \"F\"), (\"F\", \"E\"), (\"E\", \"D\"), \n",
    "             (\"L\", \"K\"), (\"K\", \"P\"), (\"H\", \"I\"), (\"H\", \"M\"), (\"M\", \"N\"), (\"N\", \"K\") ]\n",
    "myg.from_edge_list(edge_list)"
   ]
  },
  {
   "cell_type": "code",
   "execution_count": 3,
   "id": "781c4f76",
   "metadata": {},
   "outputs": [
    {
     "name": "stdout",
     "output_type": "stream",
     "text": [
      "A     {'B', 'H', 'J', 'C', 'Y'} \n",
      "B     {'A', 'E', 'D'} \n",
      "C     {'A', 'F'} \n",
      "J     {'A'} \n",
      "Y     {'I', 'L', 'A', 'H'} \n",
      "H     {'I', 'A', 'M', 'Y'} \n",
      "I     {'H', 'Y', 'K'} \n",
      "L     {'Y', 'K'} \n",
      "K     {'I', 'L', 'N', 'P'} \n",
      "E     {'B', 'D', 'F'} \n",
      "D     {'R', 'B', 'E', 'Q'} \n",
      "R     {'D'} \n",
      "Q     {'D'} \n",
      "F     {'E', 'C'} \n",
      "P     {'K'} \n",
      "M     {'N', 'H'} \n",
      "N     {'M', 'K'} \n"
     ]
    }
   ],
   "source": [
    "# printing the adjacency list of the graph \n",
    "print_dict(myg.adj_list, keys_len=5)"
   ]
  },
  {
   "cell_type": "code",
   "execution_count": 4,
   "id": "06dfbd55",
   "metadata": {},
   "outputs": [
    {
     "data": {
      "image/png": "[encoded data removed]",
      "text/plain": [
       "<Figure size 640x480 with 1 Axes>"
      ]
     },
     "metadata": {},
     "output_type": "display_data"
    }
   ],
   "source": [
    "# drawing the graph\n",
    "dg(myg)"
   ]
  },
  {
   "cell_type": "code",
   "execution_count": 5,
   "id": "ab1d7ef0",
   "metadata": {},
   "outputs": [
    {
     "data": {
      "text/plain": [
       "[1, 2, 3, 4, 5]"
      ]
     },
     "execution_count": 5,
     "metadata": {},
     "output_type": "execute_result"
    }
   ],
   "source": [
    "# producing the degrees list of the graph\n",
    "deg_list = myg.degrees_list()\n",
    "deg_list"
   ]
  },
  {
   "cell_type": "code",
   "execution_count": 6,
   "id": "3007fb4d",
   "metadata": {
    "scrolled": true
   },
   "outputs": [
    {
     "name": "stdout",
     "output_type": "stream",
     "text": [
      "A:  minimal (vanilla) ndf vector =  [1, 1, 1, 2, 0]\n",
      "B:  minimal (vanilla) ndf vector =  [0, 0, 1, 1, 1]\n",
      "C:  minimal (vanilla) ndf vector =  [0, 1, 0, 0, 1]\n",
      "J:  minimal (vanilla) ndf vector =  [0, 0, 0, 0, 1]\n",
      "Y:  minimal (vanilla) ndf vector =  [0, 1, 1, 1, 1]\n",
      "H:  minimal (vanilla) ndf vector =  [0, 1, 1, 1, 1]\n",
      "I:  minimal (vanilla) ndf vector =  [0, 0, 0, 3, 0]\n",
      "L:  minimal (vanilla) ndf vector =  [0, 0, 0, 2, 0]\n",
      "K:  minimal (vanilla) ndf vector =  [1, 2, 1, 0, 0]\n",
      "E:  minimal (vanilla) ndf vector =  [0, 1, 1, 1, 0]\n",
      "D:  minimal (vanilla) ndf vector =  [2, 0, 2, 0, 0]\n",
      "R:  minimal (vanilla) ndf vector =  [0, 0, 0, 1, 0]\n",
      "Q:  minimal (vanilla) ndf vector =  [0, 0, 0, 1, 0]\n",
      "F:  minimal (vanilla) ndf vector =  [0, 1, 1, 0, 0]\n",
      "P:  minimal (vanilla) ndf vector =  [0, 0, 0, 1, 0]\n",
      "M:  minimal (vanilla) ndf vector =  [0, 1, 0, 1, 0]\n",
      "N:  minimal (vanilla) ndf vector =  [0, 1, 0, 1, 0]\n"
     ]
    }
   ],
   "source": [
    "# producing the minimal NDF vectors as Example 3.3\n",
    "sp_minimal = myg.starting_points(ratio = 0)  # the list of starting points for the miinimal intervals list\n",
    "for node in myg.adj_list:\n",
    "    print(f\"{node}:  minimal (vanilla) ndf vector =  {myg.ndf(node, sp_minimal)}\" )"
   ]
  },
  {
   "cell_type": "code",
   "execution_count": 7,
   "id": "da733ff7",
   "metadata": {},
   "outputs": [
    {
     "name": "stdout",
     "output_type": "stream",
     "text": [
      "A [2, 3]\n",
      "B [0, 3]\n",
      "C [1, 1]\n",
      "J [0, 1]\n",
      "Y [1, 3]\n",
      "H [1, 3]\n",
      "I [0, 3]\n",
      "L [0, 2]\n",
      "K [3, 1]\n",
      "E [1, 2]\n",
      "D [2, 2]\n",
      "R [0, 1]\n",
      "Q [0, 1]\n",
      "F [1, 1]\n",
      "P [0, 1]\n",
      "M [1, 1]\n",
      "N [1, 1]\n"
     ]
    }
   ],
   "source": [
    "# The dynamic NDF vectors for parameters $s=2$, $m=3$ and $r=1.5$ as discribed in Example 4.4\n",
    "sp_r1_5s2m3 = myg.starting_points(ratio = 1.5, max_length=3, starting_length=2)  # the list of starting points\n",
    "for node in myg.adj_list:\n",
    "    print(node, myg.ndf(node, sp_r1_5s2m3) )"
   ]
  },
  {
   "cell_type": "code",
   "execution_count": 8,
   "id": "f38082bd",
   "metadata": {
    "scrolled": false
   },
   "outputs": [
    {
     "name": "stdout",
     "output_type": "stream",
     "text": [
      "A [1, 2, 2]\n",
      "B [0, 1, 2]\n",
      "C [0, 1, 1]\n",
      "J [0, 0, 1]\n",
      "Y [0, 2, 2]\n",
      "H [0, 2, 2]\n",
      "I [0, 0, 3]\n",
      "L [0, 0, 2]\n",
      "K [1, 3, 0]\n",
      "E [0, 2, 1]\n",
      "D [2, 2, 0]\n",
      "R [0, 0, 1]\n",
      "Q [0, 0, 1]\n",
      "F [0, 2, 0]\n",
      "P [0, 0, 1]\n",
      "M [0, 1, 1]\n",
      "N [0, 1, 1]\n"
     ]
    }
   ],
   "source": [
    "# The dynamic NDF vectors for parameters $s=1$, $m=2$ and $r=2$ as discribed in Example 4.4\n",
    "sp_r2s1m2 = myg.starting_points(ratio = 2, max_length=2, starting_length=1)  # the list of starting points\n",
    "for node in myg.adj_list:\n",
    "    print(node, myg.ndf(node, sp_r2s1m2) )"
   ]
  },
  {
   "cell_type": "markdown",
   "id": "a2291c9c",
   "metadata": {},
   "source": [
    "# Generating all types of NDF vectors as numpy arrays\n",
    "\n",
    "First produce the list of strating point, which determines the intervals list, using the following method:\n",
    "\n",
    "starting_points(self, ratio=1, max_length=10, starting_length=1, last_point=0) -> list:\n",
    "\n",
    "        \"\"\"\n",
    "        :param ratio:\n",
    "                ratio = 0 corresponds to minimal intervals list,\n",
    "                ratio < 1 and ratio != 0 corresponds to vanilla intervals list\n",
    "                ratio = 1 corresponds to uniform length intervals list\n",
    "                ratio > 1 corresponds to increasing length intervals list\n",
    "        :param max_length: the maximum length of intervals\n",
    "        :param starting_length: the starting length of intervals. It is used only when ratio is greater than 1\n",
    "        :param last_point: when it is positive, sets the last point in the list of starting points\n",
    "        :return: a list of starting points of the intervals list\n",
    "        \"\"\"\n",
    "        \n",
    "Afterwards, use the following function which is defined in helpers.py:\n",
    "\n",
    "ndf_dict(myg, starting_points)\n",
    "\n",
    "\n",
    "    \"\"\"\n",
    "    :param myg: the name of the graph (a MyGraph object)\n",
    "    :param starting_points: a list of starting points \n",
    "    :return: a dictionary whose keys are nodes of the graph and whose values are numpy arrays of\n",
    "    NDF vectors\n",
    "    \"\"\"\n"
   ]
  },
  {
   "cell_type": "code",
   "execution_count": 9,
   "id": "af378d72",
   "metadata": {},
   "outputs": [
    {
     "name": "stdout",
     "output_type": "stream",
     "text": [
      "A [1, 2, 2]\n",
      "B [0, 1, 2]\n",
      "C [0, 1, 1]\n",
      "J [0, 0, 1]\n",
      "Y [0, 2, 2]\n",
      "H [0, 2, 2]\n",
      "I [0, 0, 3]\n",
      "L [0, 0, 2]\n",
      "K [1, 3, 0]\n",
      "E [0, 2, 1]\n",
      "D [2, 2, 0]\n",
      "R [0, 0, 1]\n",
      "Q [0, 0, 1]\n",
      "F [0, 2, 0]\n",
      "P [0, 0, 1]\n",
      "M [0, 1, 1]\n",
      "N [0, 1, 1]\n"
     ]
    }
   ],
   "source": [
    "# The dynamic NDF vectors for parameters $s=1$, $m=2$ and $r=2$ as discribed in Example 4.4\n",
    "sp_r2s1m2 = myg.starting_points(ratio = 2, max_length=2, starting_length=1)  # the list of starting points\n",
    "for node in myg.adj_list:\n",
    "    print(node, myg.ndf(node, sp_r2s1m2) )"
   ]
  },
  {
   "cell_type": "code",
   "execution_count": 10,
   "id": "433fa178",
   "metadata": {},
   "outputs": [
    {
     "name": "stdout",
     "output_type": "stream",
     "text": [
      "A                    [1 1 1 2 0] \n",
      "B                    [0 0 1 1 1] \n",
      "C                    [0 1 0 0 1] \n",
      "J                    [0 0 0 0 1] \n",
      "Y                    [0 1 1 1 1] \n",
      "H                    [0 1 1 1 1] \n",
      "I                    [0 0 0 3 0] \n",
      "L                    [0 0 0 2 0] \n",
      "K                    [1 2 1 0 0] \n",
      "E                    [0 1 1 1 0] \n",
      "D                    [2 0 2 0 0] \n",
      "R                    [0 0 0 1 0] \n",
      "Q                    [0 0 0 1 0] \n",
      "F                    [0 1 1 0 0] \n",
      "P                    [0 0 0 1 0] \n",
      "M                    [0 1 0 1 0] \n",
      "N                    [0 1 0 1 0] \n"
     ]
    },
    {
     "data": {
      "text/plain": [
       "numpy.ndarray"
      ]
     },
     "execution_count": 10,
     "metadata": {},
     "output_type": "execute_result"
    }
   ],
   "source": [
    "# numpy arrays of vanilla NDF\n",
    "# for vanilla NDF ratio should be any number less than 1 and different than 0 \n",
    "# the list of starting points for the vanilla intervals list\n",
    "sp_vanilla = myg.starting_points(ratio = 0.5)  \n",
    "print_dict(ndf_dict(myg, sp_vanilla))\n",
    "type(ndf_dict(myg, sp_vanilla)[\"A\"]) "
   ]
  },
  {
   "cell_type": "code",
   "execution_count": null,
   "id": "f843343c",
   "metadata": {},
   "outputs": [],
   "source": []
  }
 ],
 "metadata": {
  "kernelspec": {
   "display_name": "Python 3 (ipykernel)",
   "language": "python",
   "name": "python3"
  },
  "language_info": {
   "codemirror_mode": {
    "name": "ipython",
    "version": 3
   },
   "file_extension": ".py",
   "mimetype": "text/x-python",
   "name": "python",
   "nbconvert_exporter": "python",
   "pygments_lexer": "ipython3",
   "version": "3.8.3"
  }
 },
 "nbformat": 4,
 "nbformat_minor": 5
}
